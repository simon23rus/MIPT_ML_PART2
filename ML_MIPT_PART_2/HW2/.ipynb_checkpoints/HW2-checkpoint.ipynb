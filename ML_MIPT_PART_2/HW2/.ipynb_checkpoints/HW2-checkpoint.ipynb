{
 "cells": [
  {
   "cell_type": "markdown",
   "metadata": {},
   "source": [
    "<span style=\"font-size: 14pt\">MIPT, Advanced ML, Autumn 2017</span>\n",
    "\n",
    "<span style=\"font-size: 16pt\"> HW #2: ARMA, ARIMA\n",
    "\n",
    "<span style=\"color:blue; font-size: 12pt\">Alexey Romanenko </span>,\n",
    "<span style=\"color:blue; font-size: 12pt; font-family: 'Verdana'\">alexromsput@gmail.com</span>"
   ]
  },
  {
   "cell_type": "markdown",
   "metadata": {},
   "source": [
    "<h1 align=\"center\">Organization Info</h1> "
   ]
  },
  {
   "cell_type": "markdown",
   "metadata": {},
   "source": [
    "**Дополнительный материал для выполнения дз**:\n",
    "- Магнус Я.Р., Катышев П.К., Пересецкий А.А. Эконометрика. Начальный курс., глава 11\n",
    "- Лукишн Ю.П. Адаптивные методы краткосрочного прогнозирования временных рядов. Финансы и статистика. 2003, главы 1,4,5,7.\n",
    "\n",
    "**Оформление дз**: \n",
    "- Присылайте выполненное задание на почту ``ml.course.mipt@gmail.com``\n",
    "- Укажите тему письма в следующем формате ``ML2017_Aut_fall <номер_группы> <фамилия>``, к примеру -- ``ML2017_Aut_fall 401 ivanov``\n",
    "- Выполненное дз сохраните в файл ``<фамилия>_<группа>_task<номер>.ipnb``, к примеру -- ``ivanov_401_task1.ipnb``\n",
    "\n",
    "**Вопросы**:\n",
    "- Присылайте вопросы на почту ``ml.course.mipt@gmail.com``\n",
    "- Укажите тему письма в следующем формате ``ML2017_Aut_fall Question <Содержание вопроса>``\n",
    "\n",
    "--------\n",
    "- **PS1**: Мы используем автоматические фильтры, и просто не найдем ваше дз, если вы не аккуратно его подпишите.\n",
    "- **PS2**: Напоминаем, что дедлайны жесткие, письма пришедшие после автоматически удаляются =( чтобы соблазна не было "
   ]
  },
  {
   "cell_type": "markdown",
   "metadata": {},
   "source": [
    "<h1 align=\"center\">Check Questions (20%)</h1> "
   ]
  },
  {
   "cell_type": "markdown",
   "metadata": {},
   "source": [
    "Ответе на вопросы своими словами (загугленный материал надо пересказать), ответ обоснуйте (напишите и ОБЪЯСНИТЕ формулки если потребуется), если не выходит, то вернитесь к лекции дополнительным материалам:\n",
    "\n",
    "**Вопрос 1** Напишите уравнение временного ряда (в виде $y_t=f\\left(y_{t-1}, \\dots, y_1,~\\varepsilon_{t},\\dots, \\varepsilon_{1}\\right)$) которая соответствует модели:\n",
    "   * 1) ARIMA $(p=0,d=k,q=1)$,\n",
    "     - <Ответ>\n",
    "   * 2) ARIMA $(p=0,d=k+1,d=1)(P=1, D=1, Q=0)_s$,\n",
    "     - <Ответ>"
   ]
  },
  {
   "cell_type": "markdown",
   "metadata": {},
   "source": [
    "**Вопрос 2**  Write canonic form of ARIMA model for the time series\n",
    " - 1) $$y_t = a_1 y_{t-1} + a_2 y_{t-4} - a_1 a_2 y_{t-5} + \\varepsilon_t$$ (Hint: seasnality period is equal to 4).\n",
    " - 2) $$y_t = y_{t-d} + \\varepsilon_t +b_2 + \\varepsilon_{t-2} + B_1 \\varepsilon_{t-s} + b_2 B_1 \\varepsilon_{t-s-2} $$"
   ]
  },
  {
   "cell_type": "markdown",
   "metadata": {},
   "source": [
    "**Вопрос 3** Покажите, что ARIMA$(p=0,d=2, q=2)$ эквивалентна модели Хольта (linear trend) при условиях:\n",
    "\t\t$$(1-В)^2Y_t = (1-\\phi_1 В-\\phi_2 В^2)\\varepsilon_t$$\n",
    "\t\t$$\\phi_1 = 2-\\alpha-\\alpha\\beta, \\text{ }\\phi_2 = \\alpha-1$$"
   ]
  },
  {
   "cell_type": "markdown",
   "metadata": {},
   "source": [
    "**Вопрос 4**: Покажите, что для модели  \n",
    "    $$AR(p)\\colon \\;\\;\\; y_t = \\phi_1 y_{t-1} + \\phi_2 y_{t-2} + \\dots + \\phi_p y_{t-p} + \\varepsilon_t,$$**  \n",
    "    где $y_t$ стационарный процесс с нулевым средним,$~~$\n",
    "    $\\phi_1,\\dots,\\phi_p$ - константы ($\\phi_p \\neq 0$), $~~$\n",
    "    $\\varepsilon_t$ несмещённый гауссовский шум с дисперсией $\\sigma_\\varepsilon^2 $\n",
    "выолнено:\n",
    "\n",
    "   * a) частный коэффициент автокорреляции\n",
    "   $$\\phi_{\\tau\\tau} = \\mathsf{E}[y_t-\\hat y_t, y_{t+\\tau} - \\hat y_{t+\\tau}]= \\begin{cases}0 &, \\tau>p; \\\\ f(\\tau,p)>0 &, 0\\leq\\tau\\leq p. \\end{cases}$$\n",
    "\t\n",
    "  где $\\hat y_t$ - прогноз $y_t$ согласно следующей регрессионной модели $$y_t = \\sum_{j=1}^{\\tau-1}\\beta_j y_{t+j}$$\n",
    "    $\\hat y_{t+\\tau}$ - forecast of $y_{t\\tau}$ with following regression model $$y_{t+\\tau} = \\sum_{j=1}^{\\tau-1}\\gamma_j y_{t+j}.$$\n",
    "\n",
    "<Ответ>"
   ]
  },
  {
   "cell_type": "markdown",
   "metadata": {},
   "source": [
    "**Вопрос 5**: Покажите, что для модели \n",
    "$$MA(q)\\colon \\;\\;\\; y_t = \\varepsilon_t + \\theta_1\\varepsilon_{t-1} + \\theta_2\\varepsilon_{t-2} + \\dots + \\theta_q \\varepsilon_{t-q},$$ \n",
    "   где $y_t$ стационарный процесс с нулевым средним,$~~$\n",
    "     $\\theta_1,\\dots,\\theta_q$ - константы ($\\theta_q \\neq 0$), $~~$\n",
    "    $\\varepsilon_t$ несмещённый гауссовский шум с дисперсией $\\sigma_\\varepsilon^2 $\n",
    "выолнено:\n",
    "\n",
    "* a) коэффициент корреляции\n",
    "   $$r_\\tau=\\begin{cases}0 &, \\tau>q; \\\\ f(\\tau,q)>0 &, \\tau\\leq q. \\end{cases}$$\n",
    "   \n",
    "<Answer>"
   ]
  },
  {
   "cell_type": "markdown",
   "metadata": {},
   "source": [
    "**Вопрос 6** . Conclude in accordance with results above how to choose $p$ and $q$ parameters for ARMA model by looking at ACF and PACF.\n",
    "\n",
    "Для того чтобы найти приблизительное щнаечние для p мы смортрим на график функции автокорреляции и смотрим на несильно большой лаг, который является статистически значимо отличим от нуля(выходит за границы доверительной области) и берем перебираем от 0 до этого лага. Для q аналогично но с P.ACF\n",
    "\n",
    "\n",
    "PS: Если проверяющий не понял ответ на большинство вопросов, то будет пичалька. Пишите так, чтобы можно было разобраться. "
   ]
  },
  {
   "cell_type": "markdown",
   "metadata": {},
   "source": [
    "<h1 align=\"center\"> Practice</h1>\n",
    "\n",
    "<h2 align=\"center\">  1. Download data for following data sets (10%)</h2>\n",
    "* 1) <span style=\"color:blue; font-family:'New Times Roman'; font-size:14pt\">TS_dep36.csv</span> (105 TS of goods sales in the shop #36 of one real Retail Net, each TS correspond to an item in this shop )\n",
    "* 2) <span style=\"color:blue; font-family:'New Times Roman'; font-size:14pt\">TS_dep42.csv</span> (105 TS of goods sales in shop #42 of one real Retail Net, each TS correspond to an item in this shop)\n",
    "* 3) <span style=\"color:blue; font-family:'New Times Roman'; font-size:14pt\">TS_dep6.csv </span>(110 TS of goods sales in shop #6 of one real Retail Net, each TS correspond to an item in this shop)\n",
    "\n",
    "All data you can find by <a href='https://1drv.ms/f/s!AqGgzb5T4tvShb8iJuzFHOeXR11wOg'>link</a> \n",
    "\n",
    "* For each data set: \n",
    "      - 1) learn it's structure in csv-file and read it into Pandas data frame (be careful with parsing data)\n",
    "      - 2) plot each time series\n",
    "      - 3) answer the questions: is there seasonlaity, trend, changes in level in TS? If there is seasonality then define period of seasonality. "
   ]
  },
  {
   "cell_type": "code",
   "execution_count": 1,
   "metadata": {
    "collapsed": true
   },
   "outputs": [],
   "source": [
    "import pandas as pd"
   ]
  },
  {
   "cell_type": "code",
   "execution_count": 40,
   "metadata": {},
   "outputs": [
    {
     "ename": "ValueError",
     "evalue": "could not convert string to float: '0,664'",
     "output_type": "error",
     "traceback": [
      "\u001b[0;31m---------------------------------------------------------------------------\u001b[0m",
      "\u001b[0;31mValueError\u001b[0m                                Traceback (most recent call last)",
      "\u001b[0;32m<ipython-input-40-90bef19cee11>\u001b[0m in \u001b[0;36m<module>\u001b[0;34m()\u001b[0m\n\u001b[0;32m----> 1\u001b[0;31m \u001b[0mfloat\u001b[0m\u001b[0;34m(\u001b[0m\u001b[0;34m'0,664'\u001b[0m\u001b[0;34m)\u001b[0m\u001b[0;34m\u001b[0m\u001b[0m\n\u001b[0m",
      "\u001b[0;31mValueError\u001b[0m: could not convert string to float: '0,664'"
     ]
    }
   ],
   "source": [
    "float('0,664')"
   ]
  },
  {
   "cell_type": "code",
   "execution_count": 6,
   "metadata": {
    "collapsed": true
   },
   "outputs": [],
   "source": [
    "dep6 = pd.read_csv('data/TS_dep6.csv', sep=';', parse_dates=[0], index_col=0, decimal=',')\n",
    "# dep36 = pd.read_csv('data/TS_dep36.csv', sep=';', parse_dates=[0], index_col=0, decimal=',')\n",
    "# dep42 = pd.read_csv('data/TS_dep42.csv', sep=';', parse_dates=[0], index_col=0, decimal=',')"
   ]
  },
  {
   "cell_type": "code",
   "execution_count": 7,
   "metadata": {},
   "outputs": [
    {
     "data": {
      "text/html": [
       "<div>\n",
       "<table border=\"1\" class=\"dataframe\">\n",
       "  <thead>\n",
       "    <tr style=\"text-align: right;\">\n",
       "      <th></th>\n",
       "      <th>item 1089</th>\n",
       "      <th>item 10960</th>\n",
       "      <th>item 1178</th>\n",
       "      <th>item 11827</th>\n",
       "      <th>item 1511</th>\n",
       "      <th>item 15934</th>\n",
       "      <th>item 16368</th>\n",
       "      <th>item 17248</th>\n",
       "      <th>item 18232</th>\n",
       "      <th>item 18291</th>\n",
       "      <th>...</th>\n",
       "      <th>item 89787</th>\n",
       "      <th>item 91285</th>\n",
       "      <th>item 91845</th>\n",
       "      <th>item 93627</th>\n",
       "      <th>item 93634</th>\n",
       "      <th>item 96260</th>\n",
       "      <th>item 96880</th>\n",
       "      <th>item 97952</th>\n",
       "      <th>item 99146</th>\n",
       "      <th>item 99147</th>\n",
       "    </tr>\n",
       "    <tr>\n",
       "      <th>Timestamp</th>\n",
       "      <th></th>\n",
       "      <th></th>\n",
       "      <th></th>\n",
       "      <th></th>\n",
       "      <th></th>\n",
       "      <th></th>\n",
       "      <th></th>\n",
       "      <th></th>\n",
       "      <th></th>\n",
       "      <th></th>\n",
       "      <th></th>\n",
       "      <th></th>\n",
       "      <th></th>\n",
       "      <th></th>\n",
       "      <th></th>\n",
       "      <th></th>\n",
       "      <th></th>\n",
       "      <th></th>\n",
       "      <th></th>\n",
       "      <th></th>\n",
       "      <th></th>\n",
       "    </tr>\n",
       "  </thead>\n",
       "  <tbody>\n",
       "    <tr>\n",
       "      <th>2006-11-01</th>\n",
       "      <td>1.0</td>\n",
       "      <td>2.0</td>\n",
       "      <td>0.0</td>\n",
       "      <td>3.0</td>\n",
       "      <td>3.0</td>\n",
       "      <td>0.0</td>\n",
       "      <td>0.0</td>\n",
       "      <td>2.0</td>\n",
       "      <td>3.0</td>\n",
       "      <td>4.0</td>\n",
       "      <td>...</td>\n",
       "      <td>3.0</td>\n",
       "      <td>NaN</td>\n",
       "      <td>NaN</td>\n",
       "      <td>NaN</td>\n",
       "      <td>NaN</td>\n",
       "      <td>NaN</td>\n",
       "      <td>NaN</td>\n",
       "      <td>NaN</td>\n",
       "      <td>NaN</td>\n",
       "      <td>NaN</td>\n",
       "    </tr>\n",
       "    <tr>\n",
       "      <th>2006-11-02</th>\n",
       "      <td>2.0</td>\n",
       "      <td>2.0</td>\n",
       "      <td>4.0</td>\n",
       "      <td>0.0</td>\n",
       "      <td>0.0</td>\n",
       "      <td>1.0</td>\n",
       "      <td>0.0</td>\n",
       "      <td>5.0</td>\n",
       "      <td>1.0</td>\n",
       "      <td>6.0</td>\n",
       "      <td>...</td>\n",
       "      <td>4.0</td>\n",
       "      <td>NaN</td>\n",
       "      <td>NaN</td>\n",
       "      <td>NaN</td>\n",
       "      <td>NaN</td>\n",
       "      <td>NaN</td>\n",
       "      <td>NaN</td>\n",
       "      <td>NaN</td>\n",
       "      <td>NaN</td>\n",
       "      <td>NaN</td>\n",
       "    </tr>\n",
       "    <tr>\n",
       "      <th>2006-11-03</th>\n",
       "      <td>4.0</td>\n",
       "      <td>4.0</td>\n",
       "      <td>1.0</td>\n",
       "      <td>3.0</td>\n",
       "      <td>3.0</td>\n",
       "      <td>1.0</td>\n",
       "      <td>0.0</td>\n",
       "      <td>5.0</td>\n",
       "      <td>6.0</td>\n",
       "      <td>7.0</td>\n",
       "      <td>...</td>\n",
       "      <td>0.0</td>\n",
       "      <td>NaN</td>\n",
       "      <td>NaN</td>\n",
       "      <td>NaN</td>\n",
       "      <td>NaN</td>\n",
       "      <td>NaN</td>\n",
       "      <td>NaN</td>\n",
       "      <td>NaN</td>\n",
       "      <td>NaN</td>\n",
       "      <td>NaN</td>\n",
       "    </tr>\n",
       "    <tr>\n",
       "      <th>2006-11-04</th>\n",
       "      <td>0.0</td>\n",
       "      <td>3.0</td>\n",
       "      <td>2.0</td>\n",
       "      <td>1.0</td>\n",
       "      <td>1.0</td>\n",
       "      <td>0.0</td>\n",
       "      <td>2.0</td>\n",
       "      <td>1.0</td>\n",
       "      <td>1.0</td>\n",
       "      <td>7.0</td>\n",
       "      <td>...</td>\n",
       "      <td>3.0</td>\n",
       "      <td>NaN</td>\n",
       "      <td>NaN</td>\n",
       "      <td>NaN</td>\n",
       "      <td>NaN</td>\n",
       "      <td>NaN</td>\n",
       "      <td>NaN</td>\n",
       "      <td>NaN</td>\n",
       "      <td>NaN</td>\n",
       "      <td>NaN</td>\n",
       "    </tr>\n",
       "    <tr>\n",
       "      <th>2006-11-05</th>\n",
       "      <td>4.0</td>\n",
       "      <td>8.0</td>\n",
       "      <td>1.0</td>\n",
       "      <td>2.0</td>\n",
       "      <td>1.0</td>\n",
       "      <td>1.0</td>\n",
       "      <td>2.0</td>\n",
       "      <td>6.0</td>\n",
       "      <td>5.0</td>\n",
       "      <td>6.0</td>\n",
       "      <td>...</td>\n",
       "      <td>6.0</td>\n",
       "      <td>NaN</td>\n",
       "      <td>NaN</td>\n",
       "      <td>NaN</td>\n",
       "      <td>NaN</td>\n",
       "      <td>NaN</td>\n",
       "      <td>NaN</td>\n",
       "      <td>NaN</td>\n",
       "      <td>NaN</td>\n",
       "      <td>NaN</td>\n",
       "    </tr>\n",
       "  </tbody>\n",
       "</table>\n",
       "<p>5 rows × 110 columns</p>\n",
       "</div>"
      ],
      "text/plain": [
       "           item 1089 item 10960 item 1178 item 11827 item 1511 item 15934  \\\n",
       "Timestamp                                                                   \n",
       "2006-11-01       1.0        2.0       0.0        3.0       3.0        0.0   \n",
       "2006-11-02       2.0        2.0       4.0        0.0       0.0        1.0   \n",
       "2006-11-03       4.0        4.0       1.0        3.0       3.0        1.0   \n",
       "2006-11-04       0.0        3.0       2.0        1.0       1.0        0.0   \n",
       "2006-11-05       4.0        8.0       1.0        2.0       1.0        1.0   \n",
       "\n",
       "           item 16368 item 17248 item 18232 item 18291    ...     item 89787  \\\n",
       "Timestamp                                                 ...                  \n",
       "2006-11-01        0.0        2.0        3.0        4.0    ...            3.0   \n",
       "2006-11-02        0.0        5.0        1.0        6.0    ...            4.0   \n",
       "2006-11-03        0.0        5.0        6.0        7.0    ...            0.0   \n",
       "2006-11-04        2.0        1.0        1.0        7.0    ...            3.0   \n",
       "2006-11-05        2.0        6.0        5.0        6.0    ...            6.0   \n",
       "\n",
       "           item 91285 item 91845 item 93627 item 93634 item 96260 item 96880  \\\n",
       "Timestamp                                                                      \n",
       "2006-11-01        NaN        NaN        NaN        NaN        NaN        NaN   \n",
       "2006-11-02        NaN        NaN        NaN        NaN        NaN        NaN   \n",
       "2006-11-03        NaN        NaN        NaN        NaN        NaN        NaN   \n",
       "2006-11-04        NaN        NaN        NaN        NaN        NaN        NaN   \n",
       "2006-11-05        NaN        NaN        NaN        NaN        NaN        NaN   \n",
       "\n",
       "           item 97952 item 99146 item 99147  \n",
       "Timestamp                                    \n",
       "2006-11-01        NaN        NaN        NaN  \n",
       "2006-11-02        NaN        NaN        NaN  \n",
       "2006-11-03        NaN        NaN        NaN  \n",
       "2006-11-04        NaN        NaN        NaN  \n",
       "2006-11-05        NaN        NaN        NaN  \n",
       "\n",
       "[5 rows x 110 columns]"
      ]
     },
     "execution_count": 7,
     "metadata": {},
     "output_type": "execute_result"
    }
   ],
   "source": [
    "dep6.head()"
   ]
  },
  {
   "cell_type": "code",
   "execution_count": 8,
   "metadata": {
    "collapsed": true
   },
   "outputs": [],
   "source": [
    "# dep42 = dep42.applymap(lambda elem: elem if elem != 'N' else 'NaN')"
   ]
  },
  {
   "cell_type": "code",
   "execution_count": 9,
   "metadata": {
    "collapsed": true
   },
   "outputs": [],
   "source": [
    "import re"
   ]
  },
  {
   "cell_type": "code",
   "execution_count": 10,
   "metadata": {
    "collapsed": true
   },
   "outputs": [],
   "source": [
    "# dep42.ix[558].values"
   ]
  },
  {
   "cell_type": "code",
   "execution_count": 11,
   "metadata": {
    "collapsed": true
   },
   "outputs": [],
   "source": [
    "# dep42 = dep42.applymap(lambda elem: re.sub(r'\\.\\.', r'.', elem) if (isinstance(elem, str) and elem.find('..') != -1) else elem)"
   ]
  },
  {
   "cell_type": "code",
   "execution_count": 12,
   "metadata": {
    "collapsed": true
   },
   "outputs": [],
   "source": [
    "dep6 = dep6.astype(float)\n",
    "# dep36 = dep36.astype(float)\n",
    "# dep42 = dep42.astype(float)"
   ]
  },
  {
   "cell_type": "code",
   "execution_count": 13,
   "metadata": {},
   "outputs": [
    {
     "data": {
      "text/html": [
       "<div>\n",
       "<table border=\"1\" class=\"dataframe\">\n",
       "  <thead>\n",
       "    <tr style=\"text-align: right;\">\n",
       "      <th></th>\n",
       "      <th>item 1089</th>\n",
       "      <th>item 10960</th>\n",
       "      <th>item 1178</th>\n",
       "      <th>item 11827</th>\n",
       "      <th>item 1511</th>\n",
       "      <th>item 15934</th>\n",
       "      <th>item 16368</th>\n",
       "      <th>item 17248</th>\n",
       "      <th>item 18232</th>\n",
       "      <th>item 18291</th>\n",
       "      <th>...</th>\n",
       "      <th>item 89787</th>\n",
       "      <th>item 91285</th>\n",
       "      <th>item 91845</th>\n",
       "      <th>item 93627</th>\n",
       "      <th>item 93634</th>\n",
       "      <th>item 96260</th>\n",
       "      <th>item 96880</th>\n",
       "      <th>item 97952</th>\n",
       "      <th>item 99146</th>\n",
       "      <th>item 99147</th>\n",
       "    </tr>\n",
       "    <tr>\n",
       "      <th>Timestamp</th>\n",
       "      <th></th>\n",
       "      <th></th>\n",
       "      <th></th>\n",
       "      <th></th>\n",
       "      <th></th>\n",
       "      <th></th>\n",
       "      <th></th>\n",
       "      <th></th>\n",
       "      <th></th>\n",
       "      <th></th>\n",
       "      <th></th>\n",
       "      <th></th>\n",
       "      <th></th>\n",
       "      <th></th>\n",
       "      <th></th>\n",
       "      <th></th>\n",
       "      <th></th>\n",
       "      <th></th>\n",
       "      <th></th>\n",
       "      <th></th>\n",
       "      <th></th>\n",
       "    </tr>\n",
       "  </thead>\n",
       "  <tbody>\n",
       "    <tr>\n",
       "      <th>2006-11-01</th>\n",
       "      <td>1.0</td>\n",
       "      <td>2.0</td>\n",
       "      <td>0.0</td>\n",
       "      <td>3.0</td>\n",
       "      <td>3.0</td>\n",
       "      <td>0.0</td>\n",
       "      <td>0.0</td>\n",
       "      <td>2.0</td>\n",
       "      <td>3.0</td>\n",
       "      <td>4.0</td>\n",
       "      <td>...</td>\n",
       "      <td>3.0</td>\n",
       "      <td>NaN</td>\n",
       "      <td>NaN</td>\n",
       "      <td>NaN</td>\n",
       "      <td>NaN</td>\n",
       "      <td>NaN</td>\n",
       "      <td>NaN</td>\n",
       "      <td>NaN</td>\n",
       "      <td>NaN</td>\n",
       "      <td>NaN</td>\n",
       "    </tr>\n",
       "    <tr>\n",
       "      <th>2006-11-02</th>\n",
       "      <td>2.0</td>\n",
       "      <td>2.0</td>\n",
       "      <td>4.0</td>\n",
       "      <td>0.0</td>\n",
       "      <td>0.0</td>\n",
       "      <td>1.0</td>\n",
       "      <td>0.0</td>\n",
       "      <td>5.0</td>\n",
       "      <td>1.0</td>\n",
       "      <td>6.0</td>\n",
       "      <td>...</td>\n",
       "      <td>4.0</td>\n",
       "      <td>NaN</td>\n",
       "      <td>NaN</td>\n",
       "      <td>NaN</td>\n",
       "      <td>NaN</td>\n",
       "      <td>NaN</td>\n",
       "      <td>NaN</td>\n",
       "      <td>NaN</td>\n",
       "      <td>NaN</td>\n",
       "      <td>NaN</td>\n",
       "    </tr>\n",
       "    <tr>\n",
       "      <th>2006-11-03</th>\n",
       "      <td>4.0</td>\n",
       "      <td>4.0</td>\n",
       "      <td>1.0</td>\n",
       "      <td>3.0</td>\n",
       "      <td>3.0</td>\n",
       "      <td>1.0</td>\n",
       "      <td>0.0</td>\n",
       "      <td>5.0</td>\n",
       "      <td>6.0</td>\n",
       "      <td>7.0</td>\n",
       "      <td>...</td>\n",
       "      <td>0.0</td>\n",
       "      <td>NaN</td>\n",
       "      <td>NaN</td>\n",
       "      <td>NaN</td>\n",
       "      <td>NaN</td>\n",
       "      <td>NaN</td>\n",
       "      <td>NaN</td>\n",
       "      <td>NaN</td>\n",
       "      <td>NaN</td>\n",
       "      <td>NaN</td>\n",
       "    </tr>\n",
       "    <tr>\n",
       "      <th>2006-11-04</th>\n",
       "      <td>0.0</td>\n",
       "      <td>3.0</td>\n",
       "      <td>2.0</td>\n",
       "      <td>1.0</td>\n",
       "      <td>1.0</td>\n",
       "      <td>0.0</td>\n",
       "      <td>2.0</td>\n",
       "      <td>1.0</td>\n",
       "      <td>1.0</td>\n",
       "      <td>7.0</td>\n",
       "      <td>...</td>\n",
       "      <td>3.0</td>\n",
       "      <td>NaN</td>\n",
       "      <td>NaN</td>\n",
       "      <td>NaN</td>\n",
       "      <td>NaN</td>\n",
       "      <td>NaN</td>\n",
       "      <td>NaN</td>\n",
       "      <td>NaN</td>\n",
       "      <td>NaN</td>\n",
       "      <td>NaN</td>\n",
       "    </tr>\n",
       "    <tr>\n",
       "      <th>2006-11-05</th>\n",
       "      <td>4.0</td>\n",
       "      <td>8.0</td>\n",
       "      <td>1.0</td>\n",
       "      <td>2.0</td>\n",
       "      <td>1.0</td>\n",
       "      <td>1.0</td>\n",
       "      <td>2.0</td>\n",
       "      <td>6.0</td>\n",
       "      <td>5.0</td>\n",
       "      <td>6.0</td>\n",
       "      <td>...</td>\n",
       "      <td>6.0</td>\n",
       "      <td>NaN</td>\n",
       "      <td>NaN</td>\n",
       "      <td>NaN</td>\n",
       "      <td>NaN</td>\n",
       "      <td>NaN</td>\n",
       "      <td>NaN</td>\n",
       "      <td>NaN</td>\n",
       "      <td>NaN</td>\n",
       "      <td>NaN</td>\n",
       "    </tr>\n",
       "  </tbody>\n",
       "</table>\n",
       "<p>5 rows × 110 columns</p>\n",
       "</div>"
      ],
      "text/plain": [
       "            item 1089  item 10960  item 1178  item 11827  item 1511  \\\n",
       "Timestamp                                                             \n",
       "2006-11-01        1.0         2.0        0.0         3.0        3.0   \n",
       "2006-11-02        2.0         2.0        4.0         0.0        0.0   \n",
       "2006-11-03        4.0         4.0        1.0         3.0        3.0   \n",
       "2006-11-04        0.0         3.0        2.0         1.0        1.0   \n",
       "2006-11-05        4.0         8.0        1.0         2.0        1.0   \n",
       "\n",
       "            item 15934  item 16368  item 17248  item 18232  item 18291  \\\n",
       "Timestamp                                                                \n",
       "2006-11-01         0.0         0.0         2.0         3.0         4.0   \n",
       "2006-11-02         1.0         0.0         5.0         1.0         6.0   \n",
       "2006-11-03         1.0         0.0         5.0         6.0         7.0   \n",
       "2006-11-04         0.0         2.0         1.0         1.0         7.0   \n",
       "2006-11-05         1.0         2.0         6.0         5.0         6.0   \n",
       "\n",
       "               ...      item 89787  item 91285  item 91845  item 93627  \\\n",
       "Timestamp      ...                                                       \n",
       "2006-11-01     ...             3.0         NaN         NaN         NaN   \n",
       "2006-11-02     ...             4.0         NaN         NaN         NaN   \n",
       "2006-11-03     ...             0.0         NaN         NaN         NaN   \n",
       "2006-11-04     ...             3.0         NaN         NaN         NaN   \n",
       "2006-11-05     ...             6.0         NaN         NaN         NaN   \n",
       "\n",
       "            item 93634  item 96260  item 96880  item 97952  item 99146  \\\n",
       "Timestamp                                                                \n",
       "2006-11-01         NaN         NaN         NaN         NaN         NaN   \n",
       "2006-11-02         NaN         NaN         NaN         NaN         NaN   \n",
       "2006-11-03         NaN         NaN         NaN         NaN         NaN   \n",
       "2006-11-04         NaN         NaN         NaN         NaN         NaN   \n",
       "2006-11-05         NaN         NaN         NaN         NaN         NaN   \n",
       "\n",
       "            item 99147  \n",
       "Timestamp               \n",
       "2006-11-01         NaN  \n",
       "2006-11-02         NaN  \n",
       "2006-11-03         NaN  \n",
       "2006-11-04         NaN  \n",
       "2006-11-05         NaN  \n",
       "\n",
       "[5 rows x 110 columns]"
      ]
     },
     "execution_count": 13,
     "metadata": {},
     "output_type": "execute_result"
    }
   ],
   "source": [
    "dep6.head()"
   ]
  },
  {
   "cell_type": "code",
   "execution_count": 14,
   "metadata": {
    "collapsed": true
   },
   "outputs": [],
   "source": [
    "sadsad = dep6['item 46766']"
   ]
  },
  {
   "cell_type": "code",
   "execution_count": 15,
   "metadata": {},
   "outputs": [
    {
     "data": {
      "text/html": [
       "<div>\n",
       "<table border=\"1\" class=\"dataframe\">\n",
       "  <thead>\n",
       "    <tr style=\"text-align: right;\">\n",
       "      <th></th>\n",
       "      <th>item 46766</th>\n",
       "    </tr>\n",
       "    <tr>\n",
       "      <th>Timestamp</th>\n",
       "      <th></th>\n",
       "    </tr>\n",
       "  </thead>\n",
       "  <tbody>\n",
       "    <tr>\n",
       "      <th>2006-11-01</th>\n",
       "      <td>4.804</td>\n",
       "    </tr>\n",
       "    <tr>\n",
       "      <th>2006-11-02</th>\n",
       "      <td>0.732</td>\n",
       "    </tr>\n",
       "    <tr>\n",
       "      <th>2006-11-03</th>\n",
       "      <td>2.936</td>\n",
       "    </tr>\n",
       "    <tr>\n",
       "      <th>2006-11-04</th>\n",
       "      <td>4.420</td>\n",
       "    </tr>\n",
       "    <tr>\n",
       "      <th>2006-11-05</th>\n",
       "      <td>2.968</td>\n",
       "    </tr>\n",
       "    <tr>\n",
       "      <th>2006-11-06</th>\n",
       "      <td>3.822</td>\n",
       "    </tr>\n",
       "    <tr>\n",
       "      <th>2006-11-07</th>\n",
       "      <td>2.640</td>\n",
       "    </tr>\n",
       "    <tr>\n",
       "      <th>2006-11-08</th>\n",
       "      <td>0.464</td>\n",
       "    </tr>\n",
       "    <tr>\n",
       "      <th>2006-11-09</th>\n",
       "      <td>1.616</td>\n",
       "    </tr>\n",
       "    <tr>\n",
       "      <th>2006-11-10</th>\n",
       "      <td>4.050</td>\n",
       "    </tr>\n",
       "    <tr>\n",
       "      <th>2006-11-11</th>\n",
       "      <td>3.502</td>\n",
       "    </tr>\n",
       "    <tr>\n",
       "      <th>2006-11-12</th>\n",
       "      <td>2.476</td>\n",
       "    </tr>\n",
       "    <tr>\n",
       "      <th>2006-11-13</th>\n",
       "      <td>2.566</td>\n",
       "    </tr>\n",
       "    <tr>\n",
       "      <th>2006-11-14</th>\n",
       "      <td>2.938</td>\n",
       "    </tr>\n",
       "    <tr>\n",
       "      <th>2006-11-15</th>\n",
       "      <td>0.578</td>\n",
       "    </tr>\n",
       "    <tr>\n",
       "      <th>2006-11-16</th>\n",
       "      <td>3.574</td>\n",
       "    </tr>\n",
       "    <tr>\n",
       "      <th>2006-11-17</th>\n",
       "      <td>4.450</td>\n",
       "    </tr>\n",
       "    <tr>\n",
       "      <th>2006-11-18</th>\n",
       "      <td>3.022</td>\n",
       "    </tr>\n",
       "    <tr>\n",
       "      <th>2006-11-19</th>\n",
       "      <td>5.390</td>\n",
       "    </tr>\n",
       "    <tr>\n",
       "      <th>2006-11-20</th>\n",
       "      <td>3.942</td>\n",
       "    </tr>\n",
       "    <tr>\n",
       "      <th>2006-11-21</th>\n",
       "      <td>6.102</td>\n",
       "    </tr>\n",
       "    <tr>\n",
       "      <th>2006-11-22</th>\n",
       "      <td>6.750</td>\n",
       "    </tr>\n",
       "    <tr>\n",
       "      <th>2006-11-23</th>\n",
       "      <td>5.040</td>\n",
       "    </tr>\n",
       "    <tr>\n",
       "      <th>2006-11-24</th>\n",
       "      <td>3.846</td>\n",
       "    </tr>\n",
       "    <tr>\n",
       "      <th>2006-11-25</th>\n",
       "      <td>3.668</td>\n",
       "    </tr>\n",
       "    <tr>\n",
       "      <th>2006-11-26</th>\n",
       "      <td>3.026</td>\n",
       "    </tr>\n",
       "    <tr>\n",
       "      <th>2006-11-27</th>\n",
       "      <td>5.782</td>\n",
       "    </tr>\n",
       "    <tr>\n",
       "      <th>2006-11-28</th>\n",
       "      <td>3.072</td>\n",
       "    </tr>\n",
       "    <tr>\n",
       "      <th>2006-11-29</th>\n",
       "      <td>6.064</td>\n",
       "    </tr>\n",
       "    <tr>\n",
       "      <th>2006-11-30</th>\n",
       "      <td>4.410</td>\n",
       "    </tr>\n",
       "    <tr>\n",
       "      <th>...</th>\n",
       "      <td>...</td>\n",
       "    </tr>\n",
       "    <tr>\n",
       "      <th>2007-09-01</th>\n",
       "      <td>0.000</td>\n",
       "    </tr>\n",
       "    <tr>\n",
       "      <th>2007-09-02</th>\n",
       "      <td>0.000</td>\n",
       "    </tr>\n",
       "    <tr>\n",
       "      <th>2007-09-03</th>\n",
       "      <td>0.000</td>\n",
       "    </tr>\n",
       "    <tr>\n",
       "      <th>2007-09-04</th>\n",
       "      <td>0.000</td>\n",
       "    </tr>\n",
       "    <tr>\n",
       "      <th>2007-09-05</th>\n",
       "      <td>0.000</td>\n",
       "    </tr>\n",
       "    <tr>\n",
       "      <th>2007-09-06</th>\n",
       "      <td>0.000</td>\n",
       "    </tr>\n",
       "    <tr>\n",
       "      <th>2007-09-07</th>\n",
       "      <td>0.000</td>\n",
       "    </tr>\n",
       "    <tr>\n",
       "      <th>2007-09-08</th>\n",
       "      <td>0.000</td>\n",
       "    </tr>\n",
       "    <tr>\n",
       "      <th>2007-09-09</th>\n",
       "      <td>0.000</td>\n",
       "    </tr>\n",
       "    <tr>\n",
       "      <th>2007-09-10</th>\n",
       "      <td>0.000</td>\n",
       "    </tr>\n",
       "    <tr>\n",
       "      <th>2007-09-11</th>\n",
       "      <td>3.082</td>\n",
       "    </tr>\n",
       "    <tr>\n",
       "      <th>2007-09-12</th>\n",
       "      <td>1.614</td>\n",
       "    </tr>\n",
       "    <tr>\n",
       "      <th>2007-09-13</th>\n",
       "      <td>0.352</td>\n",
       "    </tr>\n",
       "    <tr>\n",
       "      <th>2007-09-14</th>\n",
       "      <td>0.000</td>\n",
       "    </tr>\n",
       "    <tr>\n",
       "      <th>2007-09-15</th>\n",
       "      <td>2.196</td>\n",
       "    </tr>\n",
       "    <tr>\n",
       "      <th>2007-09-16</th>\n",
       "      <td>1.642</td>\n",
       "    </tr>\n",
       "    <tr>\n",
       "      <th>2007-09-17</th>\n",
       "      <td>6.444</td>\n",
       "    </tr>\n",
       "    <tr>\n",
       "      <th>2007-09-18</th>\n",
       "      <td>0.000</td>\n",
       "    </tr>\n",
       "    <tr>\n",
       "      <th>2007-09-19</th>\n",
       "      <td>1.196</td>\n",
       "    </tr>\n",
       "    <tr>\n",
       "      <th>2007-09-20</th>\n",
       "      <td>2.318</td>\n",
       "    </tr>\n",
       "    <tr>\n",
       "      <th>2007-09-21</th>\n",
       "      <td>1.500</td>\n",
       "    </tr>\n",
       "    <tr>\n",
       "      <th>2007-09-22</th>\n",
       "      <td>4.082</td>\n",
       "    </tr>\n",
       "    <tr>\n",
       "      <th>2007-09-23</th>\n",
       "      <td>0.658</td>\n",
       "    </tr>\n",
       "    <tr>\n",
       "      <th>2007-09-24</th>\n",
       "      <td>1.346</td>\n",
       "    </tr>\n",
       "    <tr>\n",
       "      <th>2007-09-25</th>\n",
       "      <td>3.720</td>\n",
       "    </tr>\n",
       "    <tr>\n",
       "      <th>2007-09-26</th>\n",
       "      <td>0.000</td>\n",
       "    </tr>\n",
       "    <tr>\n",
       "      <th>2007-09-27</th>\n",
       "      <td>4.140</td>\n",
       "    </tr>\n",
       "    <tr>\n",
       "      <th>2007-09-28</th>\n",
       "      <td>2.056</td>\n",
       "    </tr>\n",
       "    <tr>\n",
       "      <th>2007-09-29</th>\n",
       "      <td>2.430</td>\n",
       "    </tr>\n",
       "    <tr>\n",
       "      <th>2007-09-30</th>\n",
       "      <td>0.000</td>\n",
       "    </tr>\n",
       "  </tbody>\n",
       "</table>\n",
       "<p>334 rows × 1 columns</p>\n",
       "</div>"
      ],
      "text/plain": [
       "            item 46766\n",
       "Timestamp             \n",
       "2006-11-01       4.804\n",
       "2006-11-02       0.732\n",
       "2006-11-03       2.936\n",
       "2006-11-04       4.420\n",
       "2006-11-05       2.968\n",
       "2006-11-06       3.822\n",
       "2006-11-07       2.640\n",
       "2006-11-08       0.464\n",
       "2006-11-09       1.616\n",
       "2006-11-10       4.050\n",
       "2006-11-11       3.502\n",
       "2006-11-12       2.476\n",
       "2006-11-13       2.566\n",
       "2006-11-14       2.938\n",
       "2006-11-15       0.578\n",
       "2006-11-16       3.574\n",
       "2006-11-17       4.450\n",
       "2006-11-18       3.022\n",
       "2006-11-19       5.390\n",
       "2006-11-20       3.942\n",
       "2006-11-21       6.102\n",
       "2006-11-22       6.750\n",
       "2006-11-23       5.040\n",
       "2006-11-24       3.846\n",
       "2006-11-25       3.668\n",
       "2006-11-26       3.026\n",
       "2006-11-27       5.782\n",
       "2006-11-28       3.072\n",
       "2006-11-29       6.064\n",
       "2006-11-30       4.410\n",
       "...                ...\n",
       "2007-09-01       0.000\n",
       "2007-09-02       0.000\n",
       "2007-09-03       0.000\n",
       "2007-09-04       0.000\n",
       "2007-09-05       0.000\n",
       "2007-09-06       0.000\n",
       "2007-09-07       0.000\n",
       "2007-09-08       0.000\n",
       "2007-09-09       0.000\n",
       "2007-09-10       0.000\n",
       "2007-09-11       3.082\n",
       "2007-09-12       1.614\n",
       "2007-09-13       0.352\n",
       "2007-09-14       0.000\n",
       "2007-09-15       2.196\n",
       "2007-09-16       1.642\n",
       "2007-09-17       6.444\n",
       "2007-09-18       0.000\n",
       "2007-09-19       1.196\n",
       "2007-09-20       2.318\n",
       "2007-09-21       1.500\n",
       "2007-09-22       4.082\n",
       "2007-09-23       0.658\n",
       "2007-09-24       1.346\n",
       "2007-09-25       3.720\n",
       "2007-09-26       0.000\n",
       "2007-09-27       4.140\n",
       "2007-09-28       2.056\n",
       "2007-09-29       2.430\n",
       "2007-09-30       0.000\n",
       "\n",
       "[334 rows x 1 columns]"
      ]
     },
     "execution_count": 15,
     "metadata": {},
     "output_type": "execute_result"
    }
   ],
   "source": [
    "sadsad.to_frame()"
   ]
  },
  {
   "cell_type": "code",
   "execution_count": 16,
   "metadata": {
    "collapsed": true
   },
   "outputs": [],
   "source": [
    "dep6 = dep6['item 46766'].to_frame()"
   ]
  },
  {
   "cell_type": "code",
   "execution_count": 17,
   "metadata": {
    "collapsed": true
   },
   "outputs": [],
   "source": [
    "dep6.columns = ['values']"
   ]
  },
  {
   "cell_type": "code",
   "execution_count": 18,
   "metadata": {},
   "outputs": [
    {
     "data": {
      "text/html": [
       "<div>\n",
       "<table border=\"1\" class=\"dataframe\">\n",
       "  <thead>\n",
       "    <tr style=\"text-align: right;\">\n",
       "      <th></th>\n",
       "      <th>values</th>\n",
       "    </tr>\n",
       "    <tr>\n",
       "      <th>Timestamp</th>\n",
       "      <th></th>\n",
       "    </tr>\n",
       "  </thead>\n",
       "  <tbody>\n",
       "    <tr>\n",
       "      <th>2006-11-01</th>\n",
       "      <td>4.804</td>\n",
       "    </tr>\n",
       "    <tr>\n",
       "      <th>2006-11-02</th>\n",
       "      <td>0.732</td>\n",
       "    </tr>\n",
       "    <tr>\n",
       "      <th>2006-11-03</th>\n",
       "      <td>2.936</td>\n",
       "    </tr>\n",
       "    <tr>\n",
       "      <th>2006-11-04</th>\n",
       "      <td>4.420</td>\n",
       "    </tr>\n",
       "    <tr>\n",
       "      <th>2006-11-05</th>\n",
       "      <td>2.968</td>\n",
       "    </tr>\n",
       "  </tbody>\n",
       "</table>\n",
       "</div>"
      ],
      "text/plain": [
       "            values\n",
       "Timestamp         \n",
       "2006-11-01   4.804\n",
       "2006-11-02   0.732\n",
       "2006-11-03   2.936\n",
       "2006-11-04   4.420\n",
       "2006-11-05   2.968"
      ]
     },
     "execution_count": 18,
     "metadata": {},
     "output_type": "execute_result"
    }
   ],
   "source": [
    "dep6.head()"
   ]
  },
  {
   "cell_type": "code",
   "execution_count": 19,
   "metadata": {},
   "outputs": [
    {
     "data": {
      "text/plain": [
       "<matplotlib.axes._subplots.AxesSubplot at 0x10ee0ca20>"
      ]
     },
     "execution_count": 19,
     "metadata": {},
     "output_type": "execute_result"
    },
    {
     "data": {
      "image/png": "[encoded data removed]",
      "text/plain": [
       "<matplotlib.figure.Figure at 0x10ee0c940>"
      ]
     },
     "metadata": {},
     "output_type": "display_data"
    }
   ],
   "source": [
    "dep6.plot()"
   ]
  },
  {
   "cell_type": "code",
   "execution_count": 20,
   "metadata": {},
   "outputs": [
    {
     "data": {
      "text/html": [
       "<div>\n",
       "<table border=\"1\" class=\"dataframe\">\n",
       "  <thead>\n",
       "    <tr style=\"text-align: right;\">\n",
       "      <th></th>\n",
       "      <th>values</th>\n",
       "    </tr>\n",
       "    <tr>\n",
       "      <th>Timestamp</th>\n",
       "      <th></th>\n",
       "    </tr>\n",
       "  </thead>\n",
       "  <tbody>\n",
       "    <tr>\n",
       "      <th>2006-11-01</th>\n",
       "      <td>4.804</td>\n",
       "    </tr>\n",
       "    <tr>\n",
       "      <th>2006-11-02</th>\n",
       "      <td>0.732</td>\n",
       "    </tr>\n",
       "    <tr>\n",
       "      <th>2006-11-03</th>\n",
       "      <td>2.936</td>\n",
       "    </tr>\n",
       "    <tr>\n",
       "      <th>2006-11-04</th>\n",
       "      <td>4.420</td>\n",
       "    </tr>\n",
       "    <tr>\n",
       "      <th>2006-11-05</th>\n",
       "      <td>2.968</td>\n",
       "    </tr>\n",
       "  </tbody>\n",
       "</table>\n",
       "</div>"
      ],
      "text/plain": [
       "            values\n",
       "Timestamp         \n",
       "2006-11-01   4.804\n",
       "2006-11-02   0.732\n",
       "2006-11-03   2.936\n",
       "2006-11-04   4.420\n",
       "2006-11-05   2.968"
      ]
     },
     "execution_count": 20,
     "metadata": {},
     "output_type": "execute_result"
    }
   ],
   "source": [
    "dep6.head()"
   ]
  },
  {
   "cell_type": "code",
   "execution_count": 21,
   "metadata": {
    "collapsed": true
   },
   "outputs": [],
   "source": [
    "import matplotlib.pyplot as plt\n",
    "%matplotlib inline"
   ]
  },
  {
   "cell_type": "code",
   "execution_count": 22,
   "metadata": {},
   "outputs": [
    {
     "name": "stdout",
     "output_type": "stream",
     "text": [
      "Populating the interactive namespace from numpy and matplotlib\n"
     ]
    },
    {
     "name": "stderr",
     "output_type": "stream",
     "text": [
      "/usr/local/lib/python3.6/site-packages/IPython/core/magics/pylab.py:161: UserWarning: pylab import has clobbered these variables: ['product']\n",
      "`%matplotlib` prevents importing * from pylab and numpy\n",
      "  \"\\n`%matplotlib` prevents importing * from pylab and numpy\"\n"
     ]
    }
   ],
   "source": [
    "import pandas as pd\n",
    "import numpy as np\n",
    "import scipy.stats as sps\n",
    "import matplotlib.pyplot as plt\n",
    "%matplotlib inline\n",
    "%pylab inline\n",
    "\n",
    "import statsmodels.api as sm\n",
    "import warnings\n",
    "from itertools import product\n",
    "\n",
    "def boxcox(y, lmbda):\n",
    "    if lmbda == 0:\n",
    "        return np.log(y)\n",
    "    else:\n",
    "        return (y ** lmbda - 1) / lmbda\n",
    "\n",
    "def invboxcox(y,lmbda):\n",
    "    if lmbda == 0:\n",
    "        return(np.exp(y))\n",
    "    else:\n",
    "        return(np.exp(np.log(lmbda*y+1)/lmbda))\n",
    "    "
   ]
  },
  {
   "cell_type": "markdown",
   "metadata": {},
   "source": [
    "<h2 align=\"center\">2. ARIMA Model real TS (70%) </h2>\n",
    "You need to analyse a TS and build forecast with ARIMA model for it. \n",
    "Each student has its own TS: you can find id of yout TS that you need to forecast <a href=\"https://drive.google.com/open?id=1y5xgpgErIiJFYmXWB-eFYmQ6OUMocqP-VGpTIXLuzCw\">here</a>. "
   ]
  },
  {
   "cell_type": "markdown",
   "metadata": {},
   "source": [
    "**I. Build ARIMA forecast yourself ** \n",
    "\n",
    "Also you can follow the next scheme:\n",
    "\n",
    " * 0) read data for TS under consideration and use the first 80% of all length of the TS as train TS.  \n",
    " * 1) plot the graph of the train TS, preprocess data (delete tail, make calendar transformation if needed)\n",
    " * 2) stabilize dispersion of the train TS through box-cox transformation if needed.\n",
    " * 3) if the transformed train TS is non-stationary make it stationary (remember the power of differencing $d$).\n",
    " * 4) plot ACF/PACF for  the transformed train TS in order to understand whether $AR(p)/MA(q)$ may be used.\n",
    " * 5) select set of candidate parameters for ARMA (for the train TS)\n",
    " * 6) train candidate ARIMA models (use $d$ from step 3), $p$, $q$ from step 5)), compare their AIC, choose the best model.\n",
    " * 7) check test for unbiasedness, stationarity and non-autocorrelation of the residuals of the best ARIMA model; if the tests fail you need to review your choice.\n",
    " * 8) build forecast for the initial TS (you need to transform it like in step 2)\n",
    " * 9) build forecast interval for the last 20% of the transformed initial TS. Calculate loss MACAPE of your forecast. Does the forecast look appropriate?"
   ]
  },
  {
   "cell_type": "code",
   "execution_count": 23,
   "metadata": {},
   "outputs": [
    {
     "data": {
      "text/plain": [
       "(334, 1)"
      ]
     },
     "execution_count": 23,
     "metadata": {},
     "output_type": "execute_result"
    }
   ],
   "source": [
    "dep6.shape"
   ]
  },
  {
   "cell_type": "code",
   "execution_count": 24,
   "metadata": {
    "collapsed": true
   },
   "outputs": [],
   "source": [
    "bound6 = int(dep6.shape[0] * 0.8)"
   ]
  },
  {
   "cell_type": "code",
   "execution_count": 25,
   "metadata": {
    "collapsed": true
   },
   "outputs": [],
   "source": [
    "dep6 = dep6 + 1"
   ]
  },
  {
   "cell_type": "code",
   "execution_count": 26,
   "metadata": {},
   "outputs": [
    {
     "name": "stderr",
     "output_type": "stream",
     "text": [
      "/usr/local/lib/python3.6/site-packages/scipy/stats/morestats.py:1033: RuntimeWarning: invalid value encountered in less_equal\n",
      "  if any(x <= 0):\n",
      "/usr/local/lib/python3.6/site-packages/scipy/optimize/optimize.py:1792: RuntimeWarning: invalid value encountered in absolute\n",
      "  tmp2 = numpy.abs(tmp2)\n"
     ]
    }
   ],
   "source": [
    "dep6['boxed_coxed'], best_lambda = sps.boxcox(dep6['values'])"
   ]
  },
  {
   "cell_type": "code",
   "execution_count": 27,
   "metadata": {
    "collapsed": true
   },
   "outputs": [],
   "source": [
    "train6, test6 = dep6.head(bound6), dep6.tail(dep6.shape[0] - bound6)"
   ]
  },
  {
   "cell_type": "code",
   "execution_count": 28,
   "metadata": {
    "collapsed": true
   },
   "outputs": [],
   "source": [
    "import scipy.stats as sps"
   ]
  },
  {
   "cell_type": "code",
   "execution_count": 29,
   "metadata": {},
   "outputs": [
    {
     "data": {
      "text/plain": [
       "<matplotlib.axes._subplots.AxesSubplot at 0x1142779b0>"
      ]
     },
     "execution_count": 29,
     "metadata": {},
     "output_type": "execute_result"
    },
    {
     "data": {
      "image/png": "[encoded data removed]",
      "text/plain": [
       "<matplotlib.figure.Figure at 0x1142d5ef0>"
      ]
     },
     "metadata": {},
     "output_type": "display_data"
    }
   ],
   "source": [
    "dep6['boxed_coxed'].plot(figsize=(15,7))"
   ]
  },
  {
   "cell_type": "code",
   "execution_count": 30,
   "metadata": {
    "collapsed": true
   },
   "outputs": [],
   "source": [
    "# Не будем использовать преобразование Бокса-Кокса, оно вообще нам не помогает. "
   ]
  },
  {
   "cell_type": "markdown",
   "metadata": {},
   "source": [
    "## Проверим с помощью Augmented Dickey-Fuller test на наличие нестационарности "
   ]
  },
  {
   "cell_type": "code",
   "execution_count": 31,
   "metadata": {},
   "outputs": [
    {
     "data": {
      "text/plain": [
       "<matplotlib.axes._subplots.AxesSubplot at 0x114217ba8>"
      ]
     },
     "execution_count": 31,
     "metadata": {},
     "output_type": "execute_result"
    },
    {
     "data": {
      "image/png": "[encoded data removed]",
      "text/plain": [
       "<matplotlib.figure.Figure at 0x1142c8f60>"
      ]
     },
     "metadata": {},
     "output_type": "display_data"
    }
   ],
   "source": [
    "train6['values'].dropna().plot()"
   ]
  },
  {
   "cell_type": "code",
   "execution_count": 32,
   "metadata": {
    "collapsed": true
   },
   "outputs": [],
   "source": [
    "clear_values = train6['values'].dropna().values"
   ]
  },
  {
   "cell_type": "code",
   "execution_count": null,
   "metadata": {
    "collapsed": true
   },
   "outputs": [],
   "source": []
  },
  {
   "cell_type": "code",
   "execution_count": 33,
   "metadata": {
    "scrolled": true
   },
   "outputs": [
    {
     "data": {
      "text/plain": [
       "(-6.7601698931724696,\n",
       " 2.8053252011165193e-09,\n",
       " 2,\n",
       " 259,\n",
       " {'1%': -3.4558530692911504,\n",
       "  '10%': -2.5727516430882069,\n",
       "  '5%': -2.8727648817786648},\n",
       " 1019.7198183877525)"
      ]
     },
     "execution_count": 33,
     "metadata": {},
     "output_type": "execute_result"
    }
   ],
   "source": [
    "sm.tsa.stattools.adfuller(clear_values)"
   ]
  },
  {
   "cell_type": "markdown",
   "metadata": {},
   "source": [
    "# Мы отвергаем гипотезу о нестационарности $\\Rightarrow$ наш ряд стационарен"
   ]
  },
  {
   "cell_type": "code",
   "execution_count": 34,
   "metadata": {
    "collapsed": true
   },
   "outputs": [],
   "source": [
    "clear_train = train6['values'].dropna().to_frame()"
   ]
  },
  {
   "cell_type": "code",
   "execution_count": 35,
   "metadata": {},
   "outputs": [
    {
     "data": {
      "image/png": "[encoded data removed]",
      "text/plain": [
       "<matplotlib.figure.Figure at 0x114a252b0>"
      ]
     },
     "metadata": {},
     "output_type": "display_data"
    },
    {
     "data": {
      "image/png": "[encoded data removed]",
      "text/plain": [
       "<matplotlib.figure.Figure at 0x114b54b38>"
      ]
     },
     "metadata": {},
     "output_type": "display_data"
    }
   ],
   "source": [
    "plt.figure(figsize(15,7))\n",
    "ax = plt.subplot(211)\n",
    "sm.graphics.tsa.plot_acf(clear_train.values.squeeze(), lags=50, ax=ax)\n",
    "pylab.show()\n",
    "ax = plt.subplot(212)\n",
    "sm.graphics.tsa.plot_pacf(clear_train.values.squeeze(), lags=50, ax=ax)\n",
    "pylab.show()"
   ]
  },
  {
   "cell_type": "markdown",
   "metadata": {},
   "source": [
    "## Теперь на основе графиков  АКФ и Частичной АКФ найдем множество параметров p x q, которые мы будем перебирать"
   ]
  },
  {
   "cell_type": "code",
   "execution_count": 83,
   "metadata": {},
   "outputs": [
    {
     "name": "stderr",
     "output_type": "stream",
     "text": [
      "/usr/local/lib/python3.6/site-packages/jupyter_client/jsonutil.py:67: DeprecationWarning: Interpreting naive datetime as local 2017-10-01 23:43:24.633887. Please add timezone info to timestamps.\n",
      "  new_obj[k] = extract_dates(v)\n",
      "/usr/local/Cellar/python3/3.6.2/Frameworks/Python.framework/Versions/3.6/lib/python3.6/json/encoder.py:199: DeprecationWarning: Interpreting naive datetime as local 2017-10-01 23:43:24.635694. Please add timezone info to timestamps.\n",
      "  chunks = self.iterencode(o, _one_shot=True)\n"
     ]
    }
   ],
   "source": [
    "p = range(1, 7)   # 6 является статистически значимо отличен от нуля(эта дов интервал строится тестом Стбюдента)\n",
    "q = range(1, 4)"
   ]
  },
  {
   "cell_type": "code",
   "execution_count": 84,
   "metadata": {},
   "outputs": [
    {
     "name": "stderr",
     "output_type": "stream",
     "text": [
      "/usr/local/lib/python3.6/site-packages/jupyter_client/jsonutil.py:67: DeprecationWarning: Interpreting naive datetime as local 2017-10-01 23:43:24.913090. Please add timezone info to timestamps.\n",
      "  new_obj[k] = extract_dates(v)\n",
      "/usr/local/Cellar/python3/3.6.2/Frameworks/Python.framework/Versions/3.6/lib/python3.6/json/encoder.py:199: DeprecationWarning: Interpreting naive datetime as local 2017-10-01 23:43:24.915942. Please add timezone info to timestamps.\n",
      "  chunks = self.iterencode(o, _one_shot=True)\n"
     ]
    }
   ],
   "source": [
    "from itertools import product"
   ]
  },
  {
   "cell_type": "code",
   "execution_count": 85,
   "metadata": {},
   "outputs": [
    {
     "name": "stderr",
     "output_type": "stream",
     "text": [
      "/usr/local/lib/python3.6/site-packages/jupyter_client/jsonutil.py:67: DeprecationWarning: Interpreting naive datetime as local 2017-10-01 23:43:25.233438. Please add timezone info to timestamps.\n",
      "  new_obj[k] = extract_dates(v)\n",
      "/usr/local/Cellar/python3/3.6.2/Frameworks/Python.framework/Versions/3.6/lib/python3.6/json/encoder.py:199: DeprecationWarning: Interpreting naive datetime as local 2017-10-01 23:43:25.234971. Please add timezone info to timestamps.\n",
      "  chunks = self.iterencode(o, _one_shot=True)\n"
     ]
    }
   ],
   "source": [
    "params = product(p, q)"
   ]
  },
  {
   "cell_type": "code",
   "execution_count": 86,
   "metadata": {},
   "outputs": [
    {
     "name": "stderr",
     "output_type": "stream",
     "text": [
      "/usr/local/lib/python3.6/site-packages/jupyter_client/jsonutil.py:67: DeprecationWarning: Interpreting naive datetime as local 2017-10-01 23:43:25.440520. Please add timezone info to timestamps.\n",
      "  new_obj[k] = extract_dates(v)\n",
      "/usr/local/Cellar/python3/3.6.2/Frameworks/Python.framework/Versions/3.6/lib/python3.6/json/encoder.py:199: DeprecationWarning: Interpreting naive datetime as local 2017-10-01 23:43:25.442053. Please add timezone info to timestamps.\n",
      "  chunks = self.iterencode(o, _one_shot=True)\n"
     ]
    }
   ],
   "source": [
    "import statsmodels"
   ]
  },
  {
   "cell_type": "code",
   "execution_count": 87,
   "metadata": {},
   "outputs": [
    {
     "name": "stderr",
     "output_type": "stream",
     "text": [
      "/usr/local/lib/python3.6/site-packages/jupyter_client/jsonutil.py:67: DeprecationWarning: Interpreting naive datetime as local 2017-10-01 23:43:25.946211. Please add timezone info to timestamps.\n",
      "  new_obj[k] = extract_dates(v)\n",
      "/usr/local/Cellar/python3/3.6.2/Frameworks/Python.framework/Versions/3.6/lib/python3.6/json/encoder.py:199: DeprecationWarning: Interpreting naive datetime as local 2017-10-01 23:43:25.947797. Please add timezone info to timestamps.\n",
      "  chunks = self.iterencode(o, _one_shot=True)\n"
     ]
    }
   ],
   "source": [
    "from tqdm import tqdm"
   ]
  },
  {
   "cell_type": "code",
   "execution_count": 88,
   "metadata": {},
   "outputs": [
    {
     "name": "stderr",
     "output_type": "stream",
     "text": [
      "/usr/local/lib/python3.6/site-packages/jupyter_client/jsonutil.py:67: DeprecationWarning: Interpreting naive datetime as local 2017-10-01 23:43:26.426478. Please add timezone info to timestamps.\n",
      "  new_obj[k] = extract_dates(v)\n"
     ]
    },
    {
     "data": {
      "text/plain": [
       "array([ 5.804,  1.732,  3.936,  5.42 ,  3.968,  4.822,  3.64 ,  1.464,\n",
       "        2.616,  5.05 ,  4.502,  3.476,  3.566,  3.938,  1.578,  4.574,\n",
       "        5.45 ,  4.022,  6.39 ,  4.942,  7.102,  7.75 ,  6.04 ,  4.846,\n",
       "        4.668,  4.026,  6.782,  4.072,  7.064,  5.41 ,  6.206,  7.402,\n",
       "        8.144,  1.46 ,  2.644,  3.796,  5.068,  7.   ,  1.   ,  4.888,\n",
       "        6.292,  1.454,  1.488,  5.098,  5.408,  3.596,  5.132,  3.226,\n",
       "        7.428,  2.314,  6.442,  8.644,  3.45 ,  5.558,  6.056,  4.048,\n",
       "        5.124,  8.066,  2.   ,  6.718,  1.   ,  1.   ,  1.   ,  1.   ,\n",
       "        1.884,  2.154,  1.89 ,  2.844,  1.494,  5.998,  2.048,  6.69 ,\n",
       "        6.07 ,  1.   ,  1.568,  6.538,  1.556,  6.64 ,  2.098,  4.69 ,\n",
       "        2.32 ,  6.576,  1.   ,  5.342,  1.96 ,  1.   ,  6.05 ,  1.964,\n",
       "        1.406,  1.   ,  1.   ,  6.062,  1.   ,  9.102,  1.   ,  5.154,\n",
       "        1.9  ,  1.   ,  1.62 ,  5.644,  1.934,  6.05 ,  1.   ,  1.   ,\n",
       "        1.   ,  4.158,  3.314,  1.792,  1.   ,  3.776,  3.018,  3.82 ,\n",
       "        3.214,  1.   ,  1.   ,  6.052,  1.   ,  5.28 ,  1.772,  4.028,\n",
       "        5.876,  6.324,  2.086,  1.532,  1.   ,  1.   ,  1.   ,  5.642,\n",
       "        3.102,  4.18 ,  6.664,  5.836,  2.946,  4.722,  2.84 ,  4.01 ,\n",
       "        3.546,  1.   ,  3.814,  3.492,  2.308,  1.   ,  5.44 ,  1.374,\n",
       "        4.026,  5.02 ,  1.78 ,  3.93 ,  5.864,  5.976,  4.138,  3.778,\n",
       "        6.31 ,  2.188,  3.176,  4.136,  3.322,  4.05 ,  2.654,  4.866,\n",
       "        2.306,  7.972,  3.494,  3.304,  6.1  ,  4.56 ,  2.802,  6.1  ,\n",
       "        6.364,  3.916,  1.294,  4.248,  2.576,  5.476,  5.546,  3.394,\n",
       "        4.428,  2.962,  5.186,  3.738,  6.3  ,  1.966,  5.5  ,  5.49 ,\n",
       "        2.358,  8.3  ,  4.746,  3.15 ,  2.9  ,  3.232,  3.182,  1.   ,\n",
       "        6.026,  4.35 ,  4.04 ,  4.074,  5.466,  2.204,  1.   ,  6.02 ,\n",
       "        3.082,  4.568,  1.504,  3.934,  5.026,  3.158,  3.804,  4.278,\n",
       "        2.072,  5.45 ,  4.42 ,  3.044,  3.446,  3.68 ,  5.25 ,  5.98 ,\n",
       "        2.762,  1.786,  2.12 ,  6.606,  1.   ,  3.264,  3.69 ,  2.702,\n",
       "        4.588,  1.464,  3.054,  3.834,  4.154,  2.43 ,  2.08 ,  4.542,\n",
       "        3.626,  2.12 ,  2.826,  2.698,  3.22 ,  2.514,  1.314,  1.   ,\n",
       "        2.174,  2.55 ,  1.69 ,  1.668,  1.722,  1.408,  2.064,  2.   ,\n",
       "        7.234,  2.148,  3.052,  1.   ,  1.212,  4.336,  1.996,  2.048,\n",
       "        1.454,  2.892,  5.216,  1.378,  2.234,  2.116])"
      ]
     },
     "execution_count": 88,
     "metadata": {},
     "output_type": "execute_result"
    },
    {
     "name": "stderr",
     "output_type": "stream",
     "text": [
      "/usr/local/Cellar/python3/3.6.2/Frameworks/Python.framework/Versions/3.6/lib/python3.6/json/encoder.py:199: DeprecationWarning: Interpreting naive datetime as local 2017-10-01 23:43:26.428787. Please add timezone info to timestamps.\n",
      "  chunks = self.iterencode(o, _one_shot=True)\n"
     ]
    }
   ],
   "source": [
    "clear_train.values[:,0]"
   ]
  },
  {
   "cell_type": "code",
   "execution_count": 89,
   "metadata": {},
   "outputs": [
    {
     "name": "stderr",
     "output_type": "stream",
     "text": [
      "/usr/local/lib/python3.6/site-packages/jupyter_client/jsonutil.py:67: DeprecationWarning: Interpreting naive datetime as local 2017-10-01 23:43:26.961122. Please add timezone info to timestamps.\n",
      "  new_obj[k] = extract_dates(v)\n",
      "18it [00:07,  1.12it/s]"
     ]
    },
    {
     "name": "stdout",
     "output_type": "stream",
     "text": [
      "CPU times: user 7.58 s, sys: 101 ms, total: 7.68 s\n",
      "Wall time: 7.68 s\n"
     ]
    },
    {
     "name": "stderr",
     "output_type": "stream",
     "text": [
      "\n",
      "/usr/local/Cellar/python3/3.6.2/Frameworks/Python.framework/Versions/3.6/lib/python3.6/json/encoder.py:199: DeprecationWarning: Interpreting naive datetime as local 2017-10-01 23:43:26.963626. Please add timezone info to timestamps.\n",
      "  chunks = self.iterencode(o, _one_shot=True)\n"
     ]
    }
   ],
   "source": [
    "%%time\n",
    "results = []\n",
    "best_aic = np.inf\n",
    "warnings.filterwarnings('ignore')\n",
    "\n",
    "for param in tqdm(params):\n",
    "    #try except нужен, потому что на некоторых наборах параметров модель не обучается\n",
    "    try:\n",
    "        model=statsmodels.tsa.arima_model.ARMA(clear_train.values[:,0], order=param).fit(disp=-1)\n",
    "    #выводим параметры, на которых модель не обучается и переходим к следующему набору\n",
    "    except ValueError:\n",
    "        continue\n",
    "    aic = model.aic\n",
    "    #сохраняем лучшую модель, aic, параметры\n",
    "    if aic < best_aic:\n",
    "        best_model = model\n",
    "        best_aic = aic\n",
    "        best_param = param\n",
    "    results.append([param, model.aic])\n",
    "    \n",
    "warnings.filterwarnings('default')"
   ]
  },
  {
   "cell_type": "code",
   "execution_count": 93,
   "metadata": {},
   "outputs": [
    {
     "name": "stdout",
     "output_type": "stream",
     "text": [
      "                              ARMA Model Results                              \n",
      "==============================================================================\n",
      "Dep. Variable:                      y   No. Observations:                  262\n",
      "Model:                     ARMA(3, 2)   Log Likelihood                -532.405\n",
      "Method:                       css-mle   S.D. of innovations              1.844\n",
      "Date:                Sun, 01 Oct 2017   AIC                           1078.811\n",
      "Time:                        23:44:00   BIC                           1103.789\n",
      "Sample:                             0   HQIC                          1088.850\n",
      "                                                                              \n",
      "==============================================================================\n",
      "                 coef    std err          z      P>|z|      [0.025      0.975]\n",
      "------------------------------------------------------------------------------\n",
      "const          3.6191      0.314     11.540      0.000       3.004       4.234\n",
      "ar.L1.y       -0.1235      0.113     -1.098      0.273      -0.344       0.097\n",
      "ar.L2.y        0.9319      0.052     17.837      0.000       0.830       1.034\n",
      "ar.L3.y        0.0932      0.075      1.235      0.218      -0.055       0.241\n",
      "ma.L1.y        0.0965      0.098      0.989      0.324      -0.095       0.288\n",
      "ma.L2.y       -0.8124      0.088     -9.233      0.000      -0.985      -0.640\n",
      "                                    Roots                                    \n",
      "=============================================================================\n",
      "                 Real           Imaginary           Modulus         Frequency\n",
      "-----------------------------------------------------------------------------\n",
      "AR.1            1.0474           +0.0000j            1.0474            0.0000\n",
      "AR.2           -1.0219           +0.0000j            1.0219            0.5000\n",
      "AR.3          -10.0228           +0.0000j           10.0228            0.5000\n",
      "MA.1           -1.0517           +0.0000j            1.0517            0.5000\n",
      "MA.2            1.1704           +0.0000j            1.1704            0.0000\n",
      "-----------------------------------------------------------------------------\n"
     ]
    },
    {
     "name": "stderr",
     "output_type": "stream",
     "text": [
      "/usr/local/lib/python3.6/site-packages/jupyter_client/jsonutil.py:67: DeprecationWarning: Interpreting naive datetime as local 2017-10-01 23:44:00.477797. Please add timezone info to timestamps.\n",
      "  new_obj[k] = extract_dates(v)\n",
      "/usr/local/Cellar/python3/3.6.2/Frameworks/Python.framework/Versions/3.6/lib/python3.6/json/encoder.py:199: DeprecationWarning: Interpreting naive datetime as local 2017-10-01 23:44:00.479462. Please add timezone info to timestamps.\n",
      "  chunks = self.iterencode(o, _one_shot=True)\n"
     ]
    }
   ],
   "source": [
    "print(best_model.summary())"
   ]
  },
  {
   "cell_type": "code",
   "execution_count": 94,
   "metadata": {},
   "outputs": [
    {
     "name": "stderr",
     "output_type": "stream",
     "text": [
      "/usr/local/lib/python3.6/site-packages/jupyter_client/jsonutil.py:67: DeprecationWarning: Interpreting naive datetime as local 2017-10-01 23:44:03.152527. Please add timezone info to timestamps.\n",
      "  new_obj[k] = extract_dates(v)\n",
      "/usr/local/Cellar/python3/3.6.2/Frameworks/Python.framework/Versions/3.6/lib/python3.6/json/encoder.py:199: DeprecationWarning: Interpreting naive datetime as local 2017-10-01 23:44:03.154165. Please add timezone info to timestamps.\n",
      "  chunks = self.iterencode(o, _one_shot=True)\n"
     ]
    }
   ],
   "source": [
    "residuals = best_model.resid"
   ]
  },
  {
   "cell_type": "code",
   "execution_count": 95,
   "metadata": {},
   "outputs": [
    {
     "name": "stderr",
     "output_type": "stream",
     "text": [
      "/usr/local/lib/python3.6/site-packages/jupyter_client/jsonutil.py:67: DeprecationWarning: Interpreting naive datetime as local 2017-10-01 23:44:03.568655. Please add timezone info to timestamps.\n",
      "  new_obj[k] = extract_dates(v)\n"
     ]
    },
    {
     "data": {
      "text/plain": [
       "[<matplotlib.lines.Line2D at 0x1163b4cf8>]"
      ]
     },
     "execution_count": 95,
     "metadata": {},
     "output_type": "execute_result"
    },
    {
     "data": {
      "image/png": "[encoded data removed]",
      "text/plain": [
       "<matplotlib.figure.Figure at 0x114b5bb38>"
      ]
     },
     "metadata": {},
     "output_type": "display_data"
    },
    {
     "name": "stderr",
     "output_type": "stream",
     "text": [
      "/usr/local/Cellar/python3/3.6.2/Frameworks/Python.framework/Versions/3.6/lib/python3.6/json/encoder.py:199: DeprecationWarning: Interpreting naive datetime as local 2017-10-01 23:44:03.570301. Please add timezone info to timestamps.\n",
      "  chunks = self.iterencode(o, _one_shot=True)\n"
     ]
    }
   ],
   "source": [
    "plt.plot(residuals)"
   ]
  },
  {
   "cell_type": "markdown",
   "metadata": {},
   "source": [
    "# Осталось проверить наличия сдвига, стационарности и автокоррелируемости у остатков()"
   ]
  },
  {
   "cell_type": "code",
   "execution_count": 96,
   "metadata": {},
   "outputs": [
    {
     "name": "stderr",
     "output_type": "stream",
     "text": [
      "/usr/local/lib/python3.6/site-packages/jupyter_client/jsonutil.py:67: DeprecationWarning: Interpreting naive datetime as local 2017-10-01 23:44:12.190275. Please add timezone info to timestamps.\n",
      "  new_obj[k] = extract_dates(v)\n",
      "/usr/local/Cellar/python3/3.6.2/Frameworks/Python.framework/Versions/3.6/lib/python3.6/json/encoder.py:199: DeprecationWarning: Interpreting naive datetime as local 2017-10-01 23:44:12.191853. Please add timezone info to timestamps.\n",
      "  chunks = self.iterencode(o, _one_shot=True)\n"
     ]
    }
   ],
   "source": [
    "resid_df = pd.DataFrame(residuals, index=clear_train.index)"
   ]
  },
  {
   "cell_type": "code",
   "execution_count": 97,
   "metadata": {},
   "outputs": [
    {
     "name": "stderr",
     "output_type": "stream",
     "text": [
      "/usr/local/lib/python3.6/site-packages/jupyter_client/jsonutil.py:67: DeprecationWarning: Interpreting naive datetime as local 2017-10-01 23:44:12.633702. Please add timezone info to timestamps.\n",
      "  new_obj[k] = extract_dates(v)\n"
     ]
    },
    {
     "data": {
      "text/html": [
       "<div>\n",
       "<table border=\"1\" class=\"dataframe\">\n",
       "  <thead>\n",
       "    <tr style=\"text-align: right;\">\n",
       "      <th></th>\n",
       "      <th>0</th>\n",
       "    </tr>\n",
       "    <tr>\n",
       "      <th>Timestamp</th>\n",
       "      <th></th>\n",
       "    </tr>\n",
       "  </thead>\n",
       "  <tbody>\n",
       "    <tr>\n",
       "      <th>2006-11-01</th>\n",
       "      <td>2.184918</td>\n",
       "    </tr>\n",
       "    <tr>\n",
       "      <th>2006-11-02</th>\n",
       "      <td>-1.946265</td>\n",
       "    </tr>\n",
       "    <tr>\n",
       "      <th>2006-11-03</th>\n",
       "      <td>-0.071960</td>\n",
       "    </tr>\n",
       "    <tr>\n",
       "      <th>2006-11-04</th>\n",
       "      <td>1.975132</td>\n",
       "    </tr>\n",
       "    <tr>\n",
       "      <th>2006-11-05</th>\n",
       "      <td>0.168524</td>\n",
       "    </tr>\n",
       "    <tr>\n",
       "      <th>2006-11-06</th>\n",
       "      <td>1.040373</td>\n",
       "    </tr>\n",
       "    <tr>\n",
       "      <th>2006-11-07</th>\n",
       "      <td>-0.298160</td>\n",
       "    </tr>\n",
       "    <tr>\n",
       "      <th>2006-11-08</th>\n",
       "      <td>-2.457169</td>\n",
       "    </tr>\n",
       "    <tr>\n",
       "      <th>2006-11-09</th>\n",
       "      <td>-1.399695</td>\n",
       "    </tr>\n",
       "    <tr>\n",
       "      <th>2006-11-10</th>\n",
       "      <td>1.489395</td>\n",
       "    </tr>\n",
       "    <tr>\n",
       "      <th>2006-11-11</th>\n",
       "      <td>0.931740</td>\n",
       "    </tr>\n",
       "    <tr>\n",
       "      <th>2006-11-12</th>\n",
       "      <td>-0.166880</td>\n",
       "    </tr>\n",
       "    <tr>\n",
       "      <th>2006-11-13</th>\n",
       "      <td>-0.260828</td>\n",
       "    </tr>\n",
       "    <tr>\n",
       "      <th>2006-11-14</th>\n",
       "      <td>0.253431</td>\n",
       "    </tr>\n",
       "    <tr>\n",
       "      <th>2006-11-15</th>\n",
       "      <td>-2.173238</td>\n",
       "    </tr>\n",
       "    <tr>\n",
       "      <th>2006-11-16</th>\n",
       "      <td>0.818972</td>\n",
       "    </tr>\n",
       "    <tr>\n",
       "      <th>2006-11-17</th>\n",
       "      <td>1.986685</td>\n",
       "    </tr>\n",
       "    <tr>\n",
       "      <th>2006-11-18</th>\n",
       "      <td>0.405034</td>\n",
       "    </tr>\n",
       "    <tr>\n",
       "      <th>2006-11-19</th>\n",
       "      <td>2.595837</td>\n",
       "    </tr>\n",
       "    <tr>\n",
       "      <th>2006-11-20</th>\n",
       "      <td>1.202104</td>\n",
       "    </tr>\n",
       "    <tr>\n",
       "      <th>2006-11-21</th>\n",
       "      <td>3.016284</td>\n",
       "    </tr>\n",
       "    <tr>\n",
       "      <th>2006-11-22</th>\n",
       "      <td>3.758575</td>\n",
       "    </tr>\n",
       "    <tr>\n",
       "      <th>2006-11-23</th>\n",
       "      <td>1.651149</td>\n",
       "    </tr>\n",
       "    <tr>\n",
       "      <th>2006-11-24</th>\n",
       "      <td>0.242217</td>\n",
       "    </tr>\n",
       "    <tr>\n",
       "      <th>2006-11-25</th>\n",
       "      <td>-0.124508</td>\n",
       "    </tr>\n",
       "    <tr>\n",
       "      <th>2006-11-26</th>\n",
       "      <td>-0.624222</td>\n",
       "    </tr>\n",
       "    <tr>\n",
       "      <th>2006-11-27</th>\n",
       "      <td>2.079817</td>\n",
       "    </tr>\n",
       "    <tr>\n",
       "      <th>2006-11-28</th>\n",
       "      <td>-0.338300</td>\n",
       "    </tr>\n",
       "    <tr>\n",
       "      <th>2006-11-29</th>\n",
       "      <td>2.235530</td>\n",
       "    </tr>\n",
       "    <tr>\n",
       "      <th>2006-11-30</th>\n",
       "      <td>1.011265</td>\n",
       "    </tr>\n",
       "    <tr>\n",
       "      <th>...</th>\n",
       "      <td>...</td>\n",
       "    </tr>\n",
       "    <tr>\n",
       "      <th>2007-06-26</th>\n",
       "      <td>0.438130</td>\n",
       "    </tr>\n",
       "    <tr>\n",
       "      <th>2007-06-27</th>\n",
       "      <td>-1.388074</td>\n",
       "    </tr>\n",
       "    <tr>\n",
       "      <th>2007-06-28</th>\n",
       "      <td>-0.580909</td>\n",
       "    </tr>\n",
       "    <tr>\n",
       "      <th>2007-06-29</th>\n",
       "      <td>-0.694350</td>\n",
       "    </tr>\n",
       "    <tr>\n",
       "      <th>2007-06-30</th>\n",
       "      <td>-0.039011</td>\n",
       "    </tr>\n",
       "    <tr>\n",
       "      <th>2007-07-01</th>\n",
       "      <td>-0.782429</td>\n",
       "    </tr>\n",
       "    <tr>\n",
       "      <th>2007-07-02</th>\n",
       "      <td>-1.940052</td>\n",
       "    </tr>\n",
       "    <tr>\n",
       "      <th>2007-07-03</th>\n",
       "      <td>-2.285323</td>\n",
       "    </tr>\n",
       "    <tr>\n",
       "      <th>2007-07-04</th>\n",
       "      <td>-0.873175</td>\n",
       "    </tr>\n",
       "    <tr>\n",
       "      <th>2007-07-05</th>\n",
       "      <td>-0.364390</td>\n",
       "    </tr>\n",
       "    <tr>\n",
       "      <th>2007-07-06</th>\n",
       "      <td>-1.144560</td>\n",
       "    </tr>\n",
       "    <tr>\n",
       "      <th>2007-07-07</th>\n",
       "      <td>-1.244034</td>\n",
       "    </tr>\n",
       "    <tr>\n",
       "      <th>2007-07-08</th>\n",
       "      <td>-1.050584</td>\n",
       "    </tr>\n",
       "    <tr>\n",
       "      <th>2007-07-09</th>\n",
       "      <td>-1.356721</td>\n",
       "    </tr>\n",
       "    <tr>\n",
       "      <th>2007-07-10</th>\n",
       "      <td>-0.601091</td>\n",
       "    </tr>\n",
       "    <tr>\n",
       "      <th>2007-07-11</th>\n",
       "      <td>-0.618067</td>\n",
       "    </tr>\n",
       "    <tr>\n",
       "      <th>2007-07-12</th>\n",
       "      <td>4.641488</td>\n",
       "    </tr>\n",
       "    <tr>\n",
       "      <th>2007-07-13</th>\n",
       "      <td>-0.320570</td>\n",
       "    </tr>\n",
       "    <tr>\n",
       "      <th>2007-07-14</th>\n",
       "      <td>-0.164936</td>\n",
       "    </tr>\n",
       "    <tr>\n",
       "      <th>2007-07-15</th>\n",
       "      <td>-1.899712</td>\n",
       "    </tr>\n",
       "    <tr>\n",
       "      <th>2007-07-16</th>\n",
       "      <td>-2.015787</td>\n",
       "    </tr>\n",
       "    <tr>\n",
       "      <th>2007-07-17</th>\n",
       "      <td>1.564259</td>\n",
       "    </tr>\n",
       "    <tr>\n",
       "      <th>2007-07-18</th>\n",
       "      <td>-0.835747</td>\n",
       "    </tr>\n",
       "    <tr>\n",
       "      <th>2007-07-19</th>\n",
       "      <td>-0.863873</td>\n",
       "    </tr>\n",
       "    <tr>\n",
       "      <th>2007-07-20</th>\n",
       "      <td>-1.509075</td>\n",
       "    </tr>\n",
       "    <tr>\n",
       "      <th>2007-07-21</th>\n",
       "      <td>0.064598</td>\n",
       "    </tr>\n",
       "    <tr>\n",
       "      <th>2007-07-22</th>\n",
       "      <td>2.438978</td>\n",
       "    </tr>\n",
       "    <tr>\n",
       "      <th>2007-07-23</th>\n",
       "      <td>-1.347202</td>\n",
       "    </tr>\n",
       "    <tr>\n",
       "      <th>2007-07-24</th>\n",
       "      <td>-0.970933</td>\n",
       "    </tr>\n",
       "    <tr>\n",
       "      <th>2007-07-25</th>\n",
       "      <td>-0.735389</td>\n",
       "    </tr>\n",
       "  </tbody>\n",
       "</table>\n",
       "<p>262 rows × 1 columns</p>\n",
       "</div>"
      ],
      "text/plain": [
       "                   0\n",
       "Timestamp           \n",
       "2006-11-01  2.184918\n",
       "2006-11-02 -1.946265\n",
       "2006-11-03 -0.071960\n",
       "2006-11-04  1.975132\n",
       "2006-11-05  0.168524\n",
       "2006-11-06  1.040373\n",
       "2006-11-07 -0.298160\n",
       "2006-11-08 -2.457169\n",
       "2006-11-09 -1.399695\n",
       "2006-11-10  1.489395\n",
       "2006-11-11  0.931740\n",
       "2006-11-12 -0.166880\n",
       "2006-11-13 -0.260828\n",
       "2006-11-14  0.253431\n",
       "2006-11-15 -2.173238\n",
       "2006-11-16  0.818972\n",
       "2006-11-17  1.986685\n",
       "2006-11-18  0.405034\n",
       "2006-11-19  2.595837\n",
       "2006-11-20  1.202104\n",
       "2006-11-21  3.016284\n",
       "2006-11-22  3.758575\n",
       "2006-11-23  1.651149\n",
       "2006-11-24  0.242217\n",
       "2006-11-25 -0.124508\n",
       "2006-11-26 -0.624222\n",
       "2006-11-27  2.079817\n",
       "2006-11-28 -0.338300\n",
       "2006-11-29  2.235530\n",
       "2006-11-30  1.011265\n",
       "...              ...\n",
       "2007-06-26  0.438130\n",
       "2007-06-27 -1.388074\n",
       "2007-06-28 -0.580909\n",
       "2007-06-29 -0.694350\n",
       "2007-06-30 -0.039011\n",
       "2007-07-01 -0.782429\n",
       "2007-07-02 -1.940052\n",
       "2007-07-03 -2.285323\n",
       "2007-07-04 -0.873175\n",
       "2007-07-05 -0.364390\n",
       "2007-07-06 -1.144560\n",
       "2007-07-07 -1.244034\n",
       "2007-07-08 -1.050584\n",
       "2007-07-09 -1.356721\n",
       "2007-07-10 -0.601091\n",
       "2007-07-11 -0.618067\n",
       "2007-07-12  4.641488\n",
       "2007-07-13 -0.320570\n",
       "2007-07-14 -0.164936\n",
       "2007-07-15 -1.899712\n",
       "2007-07-16 -2.015787\n",
       "2007-07-17  1.564259\n",
       "2007-07-18 -0.835747\n",
       "2007-07-19 -0.863873\n",
       "2007-07-20 -1.509075\n",
       "2007-07-21  0.064598\n",
       "2007-07-22  2.438978\n",
       "2007-07-23 -1.347202\n",
       "2007-07-24 -0.970933\n",
       "2007-07-25 -0.735389\n",
       "\n",
       "[262 rows x 1 columns]"
      ]
     },
     "execution_count": 97,
     "metadata": {},
     "output_type": "execute_result"
    },
    {
     "name": "stderr",
     "output_type": "stream",
     "text": [
      "/usr/local/Cellar/python3/3.6.2/Frameworks/Python.framework/Versions/3.6/lib/python3.6/json/encoder.py:199: DeprecationWarning: Interpreting naive datetime as local 2017-10-01 23:44:12.635197. Please add timezone info to timestamps.\n",
      "  chunks = self.iterencode(o, _one_shot=True)\n"
     ]
    }
   ],
   "source": [
    "resid_df"
   ]
  },
  {
   "cell_type": "code",
   "execution_count": 98,
   "metadata": {},
   "outputs": [
    {
     "name": "stderr",
     "output_type": "stream",
     "text": [
      "/usr/local/lib/python3.6/site-packages/jupyter_client/jsonutil.py:67: DeprecationWarning: Interpreting naive datetime as local 2017-10-01 23:44:13.956429. Please add timezone info to timestamps.\n",
      "  new_obj[k] = extract_dates(v)\n"
     ]
    },
    {
     "data": {
      "text/plain": [
       "(-16.121352847266898,\n",
       " 4.8938572437699148e-29,\n",
       " 0,\n",
       " 261,\n",
       " {'1%': -3.4556556713934934,\n",
       "  '10%': -2.5727054883222502,\n",
       "  '5%': -2.8726783524898591},\n",
       " 1006.4430860165695)"
      ]
     },
     "execution_count": 98,
     "metadata": {},
     "output_type": "execute_result"
    },
    {
     "name": "stderr",
     "output_type": "stream",
     "text": [
      "/usr/local/Cellar/python3/3.6.2/Frameworks/Python.framework/Versions/3.6/lib/python3.6/json/encoder.py:199: DeprecationWarning: Interpreting naive datetime as local 2017-10-01 23:44:13.958777. Please add timezone info to timestamps.\n",
      "  chunks = self.iterencode(o, _one_shot=True)\n"
     ]
    }
   ],
   "source": [
    "sm.tsa.stattools.adfuller(resid_df[0].values)"
   ]
  },
  {
   "cell_type": "markdown",
   "metadata": {},
   "source": [
    "## Видно, что наши останки модели являются стационарными(на уровне значимости 0.05 мы можем отвергнуть гипотезу о нестационарности нашего ряда т.к. p-value < 0.05)"
   ]
  },
  {
   "cell_type": "code",
   "execution_count": 99,
   "metadata": {},
   "outputs": [
    {
     "name": "stderr",
     "output_type": "stream",
     "text": [
      "/usr/local/lib/python3.6/site-packages/jupyter_client/jsonutil.py:67: DeprecationWarning: Interpreting naive datetime as local 2017-10-01 23:44:15.816935. Please add timezone info to timestamps.\n",
      "  new_obj[k] = extract_dates(v)\n"
     ]
    },
    {
     "name": "stdout",
     "output_type": "stream",
     "text": [
      "Критерий Стьюдента: p=0.928050\n",
      "Критерий Дики-Фуллера: p=0.000000\n"
     ]
    },
    {
     "data": {
      "image/png": "[encoded data removed]",
      "text/plain": [
       "<matplotlib.figure.Figure at 0x116197550>"
      ]
     },
     "metadata": {},
     "output_type": "display_data"
    },
    {
     "data": {
      "image/png": "[encoded data removed]",
      "text/plain": [
       "<matplotlib.figure.Figure at 0x116627eb8>"
      ]
     },
     "metadata": {},
     "output_type": "display_data"
    },
    {
     "name": "stderr",
     "output_type": "stream",
     "text": [
      "/usr/local/Cellar/python3/3.6.2/Frameworks/Python.framework/Versions/3.6/lib/python3.6/json/encoder.py:199: DeprecationWarning: Interpreting naive datetime as local 2017-10-01 23:44:15.818574. Please add timezone info to timestamps.\n",
      "  chunks = self.iterencode(o, _one_shot=True)\n"
     ]
    }
   ],
   "source": [
    "plt.figure(figsize(15,8))\n",
    "plt.subplot(211)\n",
    "resid_df.plot()\n",
    "plt.ylabel(u'Residuals')\n",
    "\n",
    "ax = plt.subplot(212)\n",
    "sm.graphics.tsa.plot_acf(resid_df.values.squeeze(), lags=50, ax=ax)\n",
    "\n",
    "print(\"Критерий Стьюдента: p=%f\" % sps.ttest_1samp(resid_df, 0)[1])\n",
    "print(\"Критерий Дики-Фуллера: p=%f\" % sm.tsa.stattools.adfuller(resid_df[0].values)[1])"
   ]
  },
  {
   "cell_type": "markdown",
   "metadata": {},
   "source": [
    "##  А также не отвергается гипотеза о сдвиге  от нуля(т.к p-value >= 0.05)\n",
    "### И по графику автокорреляции нет ни одного значимого отличия от нуля"
   ]
  },
  {
   "cell_type": "markdown",
   "metadata": {},
   "source": [
    "И построим QQ-plot"
   ]
  },
  {
   "cell_type": "code",
   "execution_count": 100,
   "metadata": {},
   "outputs": [
    {
     "name": "stderr",
     "output_type": "stream",
     "text": [
      "/usr/local/lib/python3.6/site-packages/jupyter_client/jsonutil.py:67: DeprecationWarning: Interpreting naive datetime as local 2017-10-01 23:44:20.760962. Please add timezone info to timestamps.\n",
      "  new_obj[k] = extract_dates(v)\n"
     ]
    },
    {
     "data": {
      "image/png": "[encoded data removed]",
      "text/plain": [
       "<matplotlib.figure.Figure at 0x11619d630>"
      ]
     },
     "metadata": {},
     "output_type": "display_data"
    },
    {
     "name": "stderr",
     "output_type": "stream",
     "text": [
      "/usr/local/Cellar/python3/3.6.2/Frameworks/Python.framework/Versions/3.6/lib/python3.6/json/encoder.py:199: DeprecationWarning: Interpreting naive datetime as local 2017-10-01 23:44:20.762505. Please add timezone info to timestamps.\n",
      "  chunks = self.iterencode(o, _one_shot=True)\n"
     ]
    }
   ],
   "source": [
    "sps.probplot(resid_df[0].values, plot=plt)\n",
    "plt.show()"
   ]
  },
  {
   "cell_type": "markdown",
   "metadata": {},
   "source": [
    "Что-то в начале есть странный сдвиг"
   ]
  },
  {
   "cell_type": "markdown",
   "metadata": {},
   "source": [
    "На всякий случай, проверим,что остатки $\\sim \\mathcal{N}(\\mu, \\sigma)$"
   ]
  },
  {
   "cell_type": "code",
   "execution_count": 101,
   "metadata": {},
   "outputs": [
    {
     "name": "stderr",
     "output_type": "stream",
     "text": [
      "/usr/local/lib/python3.6/site-packages/jupyter_client/jsonutil.py:67: DeprecationWarning: Interpreting naive datetime as local 2017-10-01 23:44:24.161949. Please add timezone info to timestamps.\n",
      "  new_obj[k] = extract_dates(v)\n",
      "/usr/local/Cellar/python3/3.6.2/Frameworks/Python.framework/Versions/3.6/lib/python3.6/json/encoder.py:199: DeprecationWarning: Interpreting naive datetime as local 2017-10-01 23:44:24.163501. Please add timezone info to timestamps.\n",
      "  chunks = self.iterencode(o, _one_shot=True)\n"
     ]
    }
   ],
   "source": [
    "from scipy.stats import shapiro"
   ]
  },
  {
   "cell_type": "code",
   "execution_count": 102,
   "metadata": {},
   "outputs": [
    {
     "name": "stderr",
     "output_type": "stream",
     "text": [
      "/usr/local/lib/python3.6/site-packages/jupyter_client/jsonutil.py:67: DeprecationWarning: Interpreting naive datetime as local 2017-10-01 23:44:24.529433. Please add timezone info to timestamps.\n",
      "  new_obj[k] = extract_dates(v)\n"
     ]
    },
    {
     "data": {
      "text/plain": [
       "(0.9859806895256042, 0.011530335061252117)"
      ]
     },
     "execution_count": 102,
     "metadata": {},
     "output_type": "execute_result"
    },
    {
     "name": "stderr",
     "output_type": "stream",
     "text": [
      "/usr/local/Cellar/python3/3.6.2/Frameworks/Python.framework/Versions/3.6/lib/python3.6/json/encoder.py:199: DeprecationWarning: Interpreting naive datetime as local 2017-10-01 23:44:24.531133. Please add timezone info to timestamps.\n",
      "  chunks = self.iterencode(o, _one_shot=True)\n"
     ]
    }
   ],
   "source": [
    "shapiro(resid_df[0].values) # returns W_stat, p_value"
   ]
  },
  {
   "cell_type": "markdown",
   "metadata": {},
   "source": [
    "Гипотезу о нормальности мы не можем отвергнуть на уровне значимости 0.01"
   ]
  },
  {
   "cell_type": "markdown",
   "metadata": {},
   "source": [
    "Не очень понятно, зачем нужно перебирать больший интервал, если получим, скорее всего, тот же резултьат"
   ]
  },
  {
   "cell_type": "markdown",
   "metadata": {},
   "source": [
    "**II. Find the best parameters of ARIMA automaticaly** \n",
    "* 0) read data for TS under consideration and use the first 80% of all length of the TS as train TS.  \n",
    "* 1) plot the graph of the train TS, preprocess data (delete tail, make calendar transformation if needed)\n",
    "* 2) stabilize dispersion of train TS through box-cox transformation if needed.\n",
    "* 3) Run grid search for ARIMA parameters (use transformed train TS) according to AIC. Use at least 10 distinct values for $p,q,d$. How many time does it take?\n",
    "* 4) Build forecast for the initial TS with best ARIMA model selected automaticaly at step 2 (you need to transform it like in step 2).\n",
    "* 5) Build forecast interval for the last 20% of transformed TS. Calculate loss MACAPE of your forecast. Does the forecast look appropriate?"
   ]
  },
  {
   "cell_type": "code",
   "execution_count": 103,
   "metadata": {},
   "outputs": [
    {
     "name": "stderr",
     "output_type": "stream",
     "text": [
      "/usr/local/lib/python3.6/site-packages/jupyter_client/jsonutil.py:67: DeprecationWarning: Interpreting naive datetime as local 2017-10-01 23:44:26.121186. Please add timezone info to timestamps.\n",
      "  new_obj[k] = extract_dates(v)\n"
     ]
    },
    {
     "ename": "NameError",
     "evalue": "name 'ARMA' is not defined",
     "output_type": "error",
     "traceback": [
      "\u001b[0;31m---------------------------------------------------------------------------\u001b[0m",
      "\u001b[0;31mNameError\u001b[0m                                 Traceback (most recent call last)",
      "\u001b[0;32m<ipython-input-103-959058f58537>\u001b[0m in \u001b[0;36m<module>\u001b[0;34m()\u001b[0m\n\u001b[0;32m----> 1\u001b[0;31m \u001b[0mARMA\u001b[0m\u001b[0;34m(\u001b[0m\u001b[0;36m3\u001b[0m\u001b[0;34m,\u001b[0m \u001b[0;36m2\u001b[0m\u001b[0;34m)\u001b[0m\u001b[0;34m\u001b[0m\u001b[0m\n\u001b[0m",
      "\u001b[0;31mNameError\u001b[0m: name 'ARMA' is not defined"
     ]
    },
    {
     "name": "stderr",
     "output_type": "stream",
     "text": [
      "/usr/local/Cellar/python3/3.6.2/Frameworks/Python.framework/Versions/3.6/lib/python3.6/json/encoder.py:199: DeprecationWarning: Interpreting naive datetime as local 2017-10-01 23:44:26.122801. Please add timezone info to timestamps.\n",
      "  chunks = self.iterencode(o, _one_shot=True)\n"
     ]
    }
   ],
   "source": [
    "ARMA(3, 2) "
   ]
  },
  {
   "cell_type": "code",
   "execution_count": 104,
   "metadata": {},
   "outputs": [
    {
     "name": "stderr",
     "output_type": "stream",
     "text": [
      "/usr/local/lib/python3.6/site-packages/jupyter_client/jsonutil.py:67: DeprecationWarning: Interpreting naive datetime as local 2017-10-01 23:44:26.517125. Please add timezone info to timestamps.\n",
      "  new_obj[k] = extract_dates(v)\n"
     ]
    },
    {
     "data": {
      "text/html": [
       "<div>\n",
       "<table border=\"1\" class=\"dataframe\">\n",
       "  <thead>\n",
       "    <tr style=\"text-align: right;\">\n",
       "      <th></th>\n",
       "      <th>values</th>\n",
       "    </tr>\n",
       "    <tr>\n",
       "      <th>Timestamp</th>\n",
       "      <th></th>\n",
       "    </tr>\n",
       "  </thead>\n",
       "  <tbody>\n",
       "    <tr>\n",
       "      <th>2006-11-01</th>\n",
       "      <td>5.804</td>\n",
       "    </tr>\n",
       "    <tr>\n",
       "      <th>2006-11-02</th>\n",
       "      <td>1.732</td>\n",
       "    </tr>\n",
       "    <tr>\n",
       "      <th>2006-11-03</th>\n",
       "      <td>3.936</td>\n",
       "    </tr>\n",
       "    <tr>\n",
       "      <th>2006-11-04</th>\n",
       "      <td>5.420</td>\n",
       "    </tr>\n",
       "    <tr>\n",
       "      <th>2006-11-05</th>\n",
       "      <td>3.968</td>\n",
       "    </tr>\n",
       "    <tr>\n",
       "      <th>2006-11-06</th>\n",
       "      <td>4.822</td>\n",
       "    </tr>\n",
       "    <tr>\n",
       "      <th>2006-11-07</th>\n",
       "      <td>3.640</td>\n",
       "    </tr>\n",
       "    <tr>\n",
       "      <th>2006-11-08</th>\n",
       "      <td>1.464</td>\n",
       "    </tr>\n",
       "    <tr>\n",
       "      <th>2006-11-09</th>\n",
       "      <td>2.616</td>\n",
       "    </tr>\n",
       "    <tr>\n",
       "      <th>2006-11-10</th>\n",
       "      <td>5.050</td>\n",
       "    </tr>\n",
       "    <tr>\n",
       "      <th>2006-11-11</th>\n",
       "      <td>4.502</td>\n",
       "    </tr>\n",
       "    <tr>\n",
       "      <th>2006-11-12</th>\n",
       "      <td>3.476</td>\n",
       "    </tr>\n",
       "    <tr>\n",
       "      <th>2006-11-13</th>\n",
       "      <td>3.566</td>\n",
       "    </tr>\n",
       "    <tr>\n",
       "      <th>2006-11-14</th>\n",
       "      <td>3.938</td>\n",
       "    </tr>\n",
       "    <tr>\n",
       "      <th>2006-11-15</th>\n",
       "      <td>1.578</td>\n",
       "    </tr>\n",
       "    <tr>\n",
       "      <th>2006-11-16</th>\n",
       "      <td>4.574</td>\n",
       "    </tr>\n",
       "    <tr>\n",
       "      <th>2006-11-17</th>\n",
       "      <td>5.450</td>\n",
       "    </tr>\n",
       "    <tr>\n",
       "      <th>2006-11-18</th>\n",
       "      <td>4.022</td>\n",
       "    </tr>\n",
       "    <tr>\n",
       "      <th>2006-11-19</th>\n",
       "      <td>6.390</td>\n",
       "    </tr>\n",
       "    <tr>\n",
       "      <th>2006-11-20</th>\n",
       "      <td>4.942</td>\n",
       "    </tr>\n",
       "    <tr>\n",
       "      <th>2006-11-21</th>\n",
       "      <td>7.102</td>\n",
       "    </tr>\n",
       "    <tr>\n",
       "      <th>2006-11-22</th>\n",
       "      <td>7.750</td>\n",
       "    </tr>\n",
       "    <tr>\n",
       "      <th>2006-11-23</th>\n",
       "      <td>6.040</td>\n",
       "    </tr>\n",
       "    <tr>\n",
       "      <th>2006-11-24</th>\n",
       "      <td>4.846</td>\n",
       "    </tr>\n",
       "    <tr>\n",
       "      <th>2006-11-25</th>\n",
       "      <td>4.668</td>\n",
       "    </tr>\n",
       "    <tr>\n",
       "      <th>2006-11-26</th>\n",
       "      <td>4.026</td>\n",
       "    </tr>\n",
       "    <tr>\n",
       "      <th>2006-11-27</th>\n",
       "      <td>6.782</td>\n",
       "    </tr>\n",
       "    <tr>\n",
       "      <th>2006-11-28</th>\n",
       "      <td>4.072</td>\n",
       "    </tr>\n",
       "    <tr>\n",
       "      <th>2006-11-29</th>\n",
       "      <td>7.064</td>\n",
       "    </tr>\n",
       "    <tr>\n",
       "      <th>2006-11-30</th>\n",
       "      <td>5.410</td>\n",
       "    </tr>\n",
       "    <tr>\n",
       "      <th>...</th>\n",
       "      <td>...</td>\n",
       "    </tr>\n",
       "    <tr>\n",
       "      <th>2007-06-26</th>\n",
       "      <td>3.626</td>\n",
       "    </tr>\n",
       "    <tr>\n",
       "      <th>2007-06-27</th>\n",
       "      <td>2.120</td>\n",
       "    </tr>\n",
       "    <tr>\n",
       "      <th>2007-06-28</th>\n",
       "      <td>2.826</td>\n",
       "    </tr>\n",
       "    <tr>\n",
       "      <th>2007-06-29</th>\n",
       "      <td>2.698</td>\n",
       "    </tr>\n",
       "    <tr>\n",
       "      <th>2007-06-30</th>\n",
       "      <td>3.220</td>\n",
       "    </tr>\n",
       "    <tr>\n",
       "      <th>2007-07-01</th>\n",
       "      <td>2.514</td>\n",
       "    </tr>\n",
       "    <tr>\n",
       "      <th>2007-07-02</th>\n",
       "      <td>1.314</td>\n",
       "    </tr>\n",
       "    <tr>\n",
       "      <th>2007-07-03</th>\n",
       "      <td>1.000</td>\n",
       "    </tr>\n",
       "    <tr>\n",
       "      <th>2007-07-04</th>\n",
       "      <td>2.174</td>\n",
       "    </tr>\n",
       "    <tr>\n",
       "      <th>2007-07-05</th>\n",
       "      <td>2.550</td>\n",
       "    </tr>\n",
       "    <tr>\n",
       "      <th>2007-07-06</th>\n",
       "      <td>1.690</td>\n",
       "    </tr>\n",
       "    <tr>\n",
       "      <th>2007-07-07</th>\n",
       "      <td>1.668</td>\n",
       "    </tr>\n",
       "    <tr>\n",
       "      <th>2007-07-08</th>\n",
       "      <td>1.722</td>\n",
       "    </tr>\n",
       "    <tr>\n",
       "      <th>2007-07-09</th>\n",
       "      <td>1.408</td>\n",
       "    </tr>\n",
       "    <tr>\n",
       "      <th>2007-07-10</th>\n",
       "      <td>2.064</td>\n",
       "    </tr>\n",
       "    <tr>\n",
       "      <th>2007-07-11</th>\n",
       "      <td>2.000</td>\n",
       "    </tr>\n",
       "    <tr>\n",
       "      <th>2007-07-12</th>\n",
       "      <td>7.234</td>\n",
       "    </tr>\n",
       "    <tr>\n",
       "      <th>2007-07-13</th>\n",
       "      <td>2.148</td>\n",
       "    </tr>\n",
       "    <tr>\n",
       "      <th>2007-07-14</th>\n",
       "      <td>3.052</td>\n",
       "    </tr>\n",
       "    <tr>\n",
       "      <th>2007-07-15</th>\n",
       "      <td>1.000</td>\n",
       "    </tr>\n",
       "    <tr>\n",
       "      <th>2007-07-16</th>\n",
       "      <td>1.212</td>\n",
       "    </tr>\n",
       "    <tr>\n",
       "      <th>2007-07-17</th>\n",
       "      <td>4.336</td>\n",
       "    </tr>\n",
       "    <tr>\n",
       "      <th>2007-07-18</th>\n",
       "      <td>1.996</td>\n",
       "    </tr>\n",
       "    <tr>\n",
       "      <th>2007-07-19</th>\n",
       "      <td>2.048</td>\n",
       "    </tr>\n",
       "    <tr>\n",
       "      <th>2007-07-20</th>\n",
       "      <td>1.454</td>\n",
       "    </tr>\n",
       "    <tr>\n",
       "      <th>2007-07-21</th>\n",
       "      <td>2.892</td>\n",
       "    </tr>\n",
       "    <tr>\n",
       "      <th>2007-07-22</th>\n",
       "      <td>5.216</td>\n",
       "    </tr>\n",
       "    <tr>\n",
       "      <th>2007-07-23</th>\n",
       "      <td>1.378</td>\n",
       "    </tr>\n",
       "    <tr>\n",
       "      <th>2007-07-24</th>\n",
       "      <td>2.234</td>\n",
       "    </tr>\n",
       "    <tr>\n",
       "      <th>2007-07-25</th>\n",
       "      <td>2.116</td>\n",
       "    </tr>\n",
       "  </tbody>\n",
       "</table>\n",
       "<p>262 rows × 1 columns</p>\n",
       "</div>"
      ],
      "text/plain": [
       "            values\n",
       "Timestamp         \n",
       "2006-11-01   5.804\n",
       "2006-11-02   1.732\n",
       "2006-11-03   3.936\n",
       "2006-11-04   5.420\n",
       "2006-11-05   3.968\n",
       "2006-11-06   4.822\n",
       "2006-11-07   3.640\n",
       "2006-11-08   1.464\n",
       "2006-11-09   2.616\n",
       "2006-11-10   5.050\n",
       "2006-11-11   4.502\n",
       "2006-11-12   3.476\n",
       "2006-11-13   3.566\n",
       "2006-11-14   3.938\n",
       "2006-11-15   1.578\n",
       "2006-11-16   4.574\n",
       "2006-11-17   5.450\n",
       "2006-11-18   4.022\n",
       "2006-11-19   6.390\n",
       "2006-11-20   4.942\n",
       "2006-11-21   7.102\n",
       "2006-11-22   7.750\n",
       "2006-11-23   6.040\n",
       "2006-11-24   4.846\n",
       "2006-11-25   4.668\n",
       "2006-11-26   4.026\n",
       "2006-11-27   6.782\n",
       "2006-11-28   4.072\n",
       "2006-11-29   7.064\n",
       "2006-11-30   5.410\n",
       "...            ...\n",
       "2007-06-26   3.626\n",
       "2007-06-27   2.120\n",
       "2007-06-28   2.826\n",
       "2007-06-29   2.698\n",
       "2007-06-30   3.220\n",
       "2007-07-01   2.514\n",
       "2007-07-02   1.314\n",
       "2007-07-03   1.000\n",
       "2007-07-04   2.174\n",
       "2007-07-05   2.550\n",
       "2007-07-06   1.690\n",
       "2007-07-07   1.668\n",
       "2007-07-08   1.722\n",
       "2007-07-09   1.408\n",
       "2007-07-10   2.064\n",
       "2007-07-11   2.000\n",
       "2007-07-12   7.234\n",
       "2007-07-13   2.148\n",
       "2007-07-14   3.052\n",
       "2007-07-15   1.000\n",
       "2007-07-16   1.212\n",
       "2007-07-17   4.336\n",
       "2007-07-18   1.996\n",
       "2007-07-19   2.048\n",
       "2007-07-20   1.454\n",
       "2007-07-21   2.892\n",
       "2007-07-22   5.216\n",
       "2007-07-23   1.378\n",
       "2007-07-24   2.234\n",
       "2007-07-25   2.116\n",
       "\n",
       "[262 rows x 1 columns]"
      ]
     },
     "execution_count": 104,
     "metadata": {},
     "output_type": "execute_result"
    },
    {
     "name": "stderr",
     "output_type": "stream",
     "text": [
      "/usr/local/Cellar/python3/3.6.2/Frameworks/Python.framework/Versions/3.6/lib/python3.6/json/encoder.py:199: DeprecationWarning: Interpreting naive datetime as local 2017-10-01 23:44:26.521052. Please add timezone info to timestamps.\n",
      "  chunks = self.iterencode(o, _one_shot=True)\n"
     ]
    }
   ],
   "source": [
    "clear_train"
   ]
  },
  {
   "cell_type": "code",
   "execution_count": 105,
   "metadata": {},
   "outputs": [
    {
     "name": "stderr",
     "output_type": "stream",
     "text": [
      "/usr/local/lib/python3.6/site-packages/jupyter_client/jsonutil.py:67: DeprecationWarning: Interpreting naive datetime as local 2017-10-01 23:44:27.257269. Please add timezone info to timestamps.\n",
      "  new_obj[k] = extract_dates(v)\n",
      "/usr/local/Cellar/python3/3.6.2/Frameworks/Python.framework/Versions/3.6/lib/python3.6/json/encoder.py:199: DeprecationWarning: Interpreting naive datetime as local 2017-10-01 23:44:27.258972. Please add timezone info to timestamps.\n",
      "  chunks = self.iterencode(o, _one_shot=True)\n"
     ]
    }
   ],
   "source": [
    "clear_test = test6['values']"
   ]
  },
  {
   "cell_type": "code",
   "execution_count": 106,
   "metadata": {},
   "outputs": [
    {
     "name": "stderr",
     "output_type": "stream",
     "text": [
      "/usr/local/lib/python3.6/site-packages/jupyter_client/jsonutil.py:67: DeprecationWarning: Interpreting naive datetime as local 2017-10-01 23:44:27.890739. Please add timezone info to timestamps.\n",
      "  new_obj[k] = extract_dates(v)\n"
     ]
    },
    {
     "data": {
      "text/plain": [
       "(67,)"
      ]
     },
     "execution_count": 106,
     "metadata": {},
     "output_type": "execute_result"
    },
    {
     "name": "stderr",
     "output_type": "stream",
     "text": [
      "/usr/local/Cellar/python3/3.6.2/Frameworks/Python.framework/Versions/3.6/lib/python3.6/json/encoder.py:199: DeprecationWarning: Interpreting naive datetime as local 2017-10-01 23:44:27.892273. Please add timezone info to timestamps.\n",
      "  chunks = self.iterencode(o, _one_shot=True)\n"
     ]
    }
   ],
   "source": [
    "clear_test.shape"
   ]
  },
  {
   "cell_type": "code",
   "execution_count": 107,
   "metadata": {},
   "outputs": [
    {
     "name": "stderr",
     "output_type": "stream",
     "text": [
      "/usr/local/lib/python3.6/site-packages/jupyter_client/jsonutil.py:67: DeprecationWarning: Interpreting naive datetime as local 2017-10-01 23:44:28.449559. Please add timezone info to timestamps.\n",
      "  new_obj[k] = extract_dates(v)\n",
      "/usr/local/Cellar/python3/3.6.2/Frameworks/Python.framework/Versions/3.6/lib/python3.6/json/encoder.py:199: DeprecationWarning: Interpreting naive datetime as local 2017-10-01 23:44:28.451122. Please add timezone info to timestamps.\n",
      "  chunks = self.iterencode(o, _one_shot=True)\n"
     ]
    }
   ],
   "source": [
    "import datetime"
   ]
  },
  {
   "cell_type": "code",
   "execution_count": 108,
   "metadata": {},
   "outputs": [
    {
     "name": "stderr",
     "output_type": "stream",
     "text": [
      "/usr/local/lib/python3.6/site-packages/jupyter_client/jsonutil.py:67: DeprecationWarning: Interpreting naive datetime as local 2017-10-01 23:44:29.729725. Please add timezone info to timestamps.\n",
      "  new_obj[k] = extract_dates(v)\n",
      "/usr/local/Cellar/python3/3.6.2/Frameworks/Python.framework/Versions/3.6/lib/python3.6/json/encoder.py:199: DeprecationWarning: Interpreting naive datetime as local 2017-10-01 23:44:29.731465. Please add timezone info to timestamps.\n",
      "  chunks = self.iterencode(o, _one_shot=True)\n"
     ]
    }
   ],
   "source": [
    "start = clear_train.index[-1] + datetime.timedelta(days=1)"
   ]
  },
  {
   "cell_type": "code",
   "execution_count": 109,
   "metadata": {},
   "outputs": [
    {
     "name": "stderr",
     "output_type": "stream",
     "text": [
      "/usr/local/lib/python3.6/site-packages/jupyter_client/jsonutil.py:67: DeprecationWarning: Interpreting naive datetime as local 2017-10-01 23:44:29.985606. Please add timezone info to timestamps.\n",
      "  new_obj[k] = extract_dates(v)\n"
     ]
    },
    {
     "data": {
      "text/plain": [
       "Timestamp('2007-07-26 00:00:00')"
      ]
     },
     "execution_count": 109,
     "metadata": {},
     "output_type": "execute_result"
    },
    {
     "name": "stderr",
     "output_type": "stream",
     "text": [
      "/usr/local/Cellar/python3/3.6.2/Frameworks/Python.framework/Versions/3.6/lib/python3.6/json/encoder.py:199: DeprecationWarning: Interpreting naive datetime as local 2017-10-01 23:44:29.987371. Please add timezone info to timestamps.\n",
      "  chunks = self.iterencode(o, _one_shot=True)\n"
     ]
    }
   ],
   "source": [
    "start"
   ]
  },
  {
   "cell_type": "code",
   "execution_count": 110,
   "metadata": {},
   "outputs": [
    {
     "name": "stderr",
     "output_type": "stream",
     "text": [
      "/usr/local/lib/python3.6/site-packages/jupyter_client/jsonutil.py:67: DeprecationWarning: Interpreting naive datetime as local 2017-10-01 23:44:30.370842. Please add timezone info to timestamps.\n",
      "  new_obj[k] = extract_dates(v)\n",
      "/usr/local/Cellar/python3/3.6.2/Frameworks/Python.framework/Versions/3.6/lib/python3.6/json/encoder.py:199: DeprecationWarning: Interpreting naive datetime as local 2017-10-01 23:44:30.373504. Please add timezone info to timestamps.\n",
      "  chunks = self.iterencode(o, _one_shot=True)\n"
     ]
    }
   ],
   "source": [
    "end = test6.index[-1]"
   ]
  },
  {
   "cell_type": "code",
   "execution_count": 111,
   "metadata": {},
   "outputs": [
    {
     "name": "stderr",
     "output_type": "stream",
     "text": [
      "/usr/local/lib/python3.6/site-packages/jupyter_client/jsonutil.py:67: DeprecationWarning: Interpreting naive datetime as local 2017-10-01 23:44:31.402102. Please add timezone info to timestamps.\n",
      "  new_obj[k] = extract_dates(v)\n"
     ]
    },
    {
     "data": {
      "text/plain": [
       "Timestamp('2007-09-30 00:00:00')"
      ]
     },
     "execution_count": 111,
     "metadata": {},
     "output_type": "execute_result"
    },
    {
     "name": "stderr",
     "output_type": "stream",
     "text": [
      "/usr/local/Cellar/python3/3.6.2/Frameworks/Python.framework/Versions/3.6/lib/python3.6/json/encoder.py:199: DeprecationWarning: Interpreting naive datetime as local 2017-10-01 23:44:31.403676. Please add timezone info to timestamps.\n",
      "  chunks = self.iterencode(o, _one_shot=True)\n"
     ]
    }
   ],
   "source": [
    "end"
   ]
  },
  {
   "cell_type": "code",
   "execution_count": 121,
   "metadata": {},
   "outputs": [
    {
     "name": "stderr",
     "output_type": "stream",
     "text": [
      "/usr/local/lib/python3.6/site-packages/jupyter_client/jsonutil.py:67: DeprecationWarning: Interpreting naive datetime as local 2017-10-01 23:48:15.838675. Please add timezone info to timestamps.\n",
      "  new_obj[k] = extract_dates(v)\n",
      "/usr/local/Cellar/python3/3.6.2/Frameworks/Python.framework/Versions/3.6/lib/python3.6/json/encoder.py:199: DeprecationWarning: Interpreting naive datetime as local 2017-10-01 23:48:15.840477. Please add timezone info to timestamps.\n",
      "  chunks = self.iterencode(o, _one_shot=True)\n"
     ]
    }
   ],
   "source": [
    "forecast, _, _ = best_model.forecast(steps=67)"
   ]
  },
  {
   "cell_type": "code",
   "execution_count": 122,
   "metadata": {},
   "outputs": [
    {
     "name": "stderr",
     "output_type": "stream",
     "text": [
      "/usr/local/lib/python3.6/site-packages/jupyter_client/jsonutil.py:67: DeprecationWarning: Interpreting naive datetime as local 2017-10-01 23:48:20.254824. Please add timezone info to timestamps.\n",
      "  new_obj[k] = extract_dates(v)\n"
     ]
    },
    {
     "data": {
      "text/plain": [
       "array([ 3.02295999,  2.76031803,  3.02953268,  2.83605452,  3.08636158,\n",
       "        2.90022625,  3.13845299,  2.95889058,  3.18573187,  3.01257543,\n",
       "        3.22862767,  3.06171273,  3.2675365 ,  3.1066961 ,  3.30281909,\n",
       "        3.14788472,  3.33480396,  3.18560634,  3.36379023,  3.22016009,\n",
       "        3.39005025,  3.25181893,  3.413832  ,  3.28083203,  3.43536123,\n",
       "        3.30742678,  3.45484345,  3.33181077,  3.47246574,  3.35417349,\n",
       "        3.48839838,  3.37468793,  3.50279632,  3.39351204,  3.51580061,\n",
       "        3.41079001,  3.52753959,  3.42665354,  3.53813002,  3.44122286,\n",
       "        3.54767816,  3.45460781,  3.55628064,  3.4669087 ,  3.56402539,\n",
       "        3.47821715,  3.57099237,  3.48861688,  3.57725428,  3.49818434,\n",
       "        3.58287724,  3.50698944,  3.58792137,  3.51509601,  3.5924413 ,\n",
       "        3.52256244,  3.59648671,  3.52944205,  3.60010273,  3.53578363,\n",
       "        3.60333036,  3.54163176,  3.60620686,  3.54702722,  3.60876606,\n",
       "        3.55200729,  3.61103869])"
      ]
     },
     "execution_count": 122,
     "metadata": {},
     "output_type": "execute_result"
    },
    {
     "name": "stderr",
     "output_type": "stream",
     "text": [
      "/usr/local/Cellar/python3/3.6.2/Frameworks/Python.framework/Versions/3.6/lib/python3.6/json/encoder.py:199: DeprecationWarning: Interpreting naive datetime as local 2017-10-01 23:48:20.256640. Please add timezone info to timestamps.\n",
      "  chunks = self.iterencode(o, _one_shot=True)\n"
     ]
    }
   ],
   "source": [
    "forecast"
   ]
  },
  {
   "cell_type": "code",
   "execution_count": 126,
   "metadata": {},
   "outputs": [
    {
     "name": "stderr",
     "output_type": "stream",
     "text": [
      "/usr/local/lib/python3.6/site-packages/jupyter_client/jsonutil.py:67: DeprecationWarning: Interpreting naive datetime as local 2017-10-01 23:49:08.613582. Please add timezone info to timestamps.\n",
      "  new_obj[k] = extract_dates(v)\n",
      "/usr/local/lib/python3.6/site-packages/ipykernel_launcher.py:1: SettingWithCopyWarning: \n",
      "A value is trying to be set on a copy of a slice from a DataFrame.\n",
      "Try using .loc[row_indexer,col_indexer] = value instead\n",
      "\n",
      "See the caveats in the documentation: http://pandas.pydata.org/pandas-docs/stable/indexing.html#indexing-view-versus-copy\n",
      "  \"\"\"Entry point for launching an IPython kernel.\n",
      "/usr/local/Cellar/python3/3.6.2/Frameworks/Python.framework/Versions/3.6/lib/python3.6/json/encoder.py:199: DeprecationWarning: Interpreting naive datetime as local 2017-10-01 23:49:08.615125. Please add timezone info to timestamps.\n",
      "  chunks = self.iterencode(o, _one_shot=True)\n"
     ]
    }
   ],
   "source": [
    "test6['results'] = forecast"
   ]
  },
  {
   "cell_type": "code",
   "execution_count": 128,
   "metadata": {},
   "outputs": [
    {
     "name": "stderr",
     "output_type": "stream",
     "text": [
      "/usr/local/lib/python3.6/site-packages/jupyter_client/jsonutil.py:67: DeprecationWarning: Interpreting naive datetime as local 2017-10-01 23:49:34.300015. Please add timezone info to timestamps.\n",
      "  new_obj[k] = extract_dates(v)\n"
     ]
    },
    {
     "data": {
      "text/plain": [
       "<matplotlib.axes._subplots.AxesSubplot at 0x116897710>"
      ]
     },
     "execution_count": 128,
     "metadata": {},
     "output_type": "execute_result"
    },
    {
     "data": {
      "image/png": "[encoded data removed]",
      "text/plain": [
       "<matplotlib.figure.Figure at 0x1166ab320>"
      ]
     },
     "metadata": {},
     "output_type": "display_data"
    },
    {
     "name": "stderr",
     "output_type": "stream",
     "text": [
      "/usr/local/Cellar/python3/3.6.2/Frameworks/Python.framework/Versions/3.6/lib/python3.6/json/encoder.py:199: DeprecationWarning: Interpreting naive datetime as local 2017-10-01 23:49:34.302020. Please add timezone info to timestamps.\n",
      "  chunks = self.iterencode(o, _one_shot=True)\n"
     ]
    }
   ],
   "source": [
    "train6['values'].plot()\n",
    "test6['values'].plot()\n",
    "test6['results'].plot()"
   ]
  },
  {
   "cell_type": "markdown",
   "metadata": {},
   "source": [
    "ну так, более менее)))\n"
   ]
  },
  {
   "cell_type": "code",
   "execution_count": 129,
   "metadata": {},
   "outputs": [
    {
     "name": "stderr",
     "output_type": "stream",
     "text": [
      "/usr/local/lib/python3.6/site-packages/jupyter_client/jsonutil.py:67: DeprecationWarning: Interpreting naive datetime as local 2017-10-01 23:50:47.411071. Please add timezone info to timestamps.\n",
      "  new_obj[k] = extract_dates(v)\n",
      "/usr/local/Cellar/python3/3.6.2/Frameworks/Python.framework/Versions/3.6/lib/python3.6/json/encoder.py:199: DeprecationWarning: Interpreting naive datetime as local 2017-10-01 23:50:47.412631. Please add timezone info to timestamps.\n",
      "  chunks = self.iterencode(o, _one_shot=True)\n"
     ]
    }
   ],
   "source": [
    "from sklearn.metrics import mean_squared_error"
   ]
  },
  {
   "cell_type": "code",
   "execution_count": 131,
   "metadata": {},
   "outputs": [
    {
     "name": "stderr",
     "output_type": "stream",
     "text": [
      "/usr/local/lib/python3.6/site-packages/jupyter_client/jsonutil.py:67: DeprecationWarning: Interpreting naive datetime as local 2017-10-01 23:52:14.055468. Please add timezone info to timestamps.\n",
      "  new_obj[k] = extract_dates(v)\n"
     ]
    },
    {
     "data": {
      "text/plain": [
       "4.1846613106189281"
      ]
     },
     "execution_count": 131,
     "metadata": {},
     "output_type": "execute_result"
    },
    {
     "name": "stderr",
     "output_type": "stream",
     "text": [
      "/usr/local/Cellar/python3/3.6.2/Frameworks/Python.framework/Versions/3.6/lib/python3.6/json/encoder.py:199: DeprecationWarning: Interpreting naive datetime as local 2017-10-01 23:52:14.057396. Please add timezone info to timestamps.\n",
      "  chunks = self.iterencode(o, _one_shot=True)\n"
     ]
    }
   ],
   "source": [
    "mean_squared_error(test6['values'], test6['results']) # :()"
   ]
  },
  {
   "cell_type": "code",
   "execution_count": null,
   "metadata": {
    "collapsed": true
   },
   "outputs": [],
   "source": []
  }
 ],
 "metadata": {
  "anaconda-cloud": {},
  "kernelspec": {
   "display_name": "Python 3",
   "language": "python",
   "name": "python3"
  },
  "language_info": {
   "codemirror_mode": {
    "name": "ipython",
    "version": 3
   },
   "file_extension": ".py",
   "mimetype": "text/x-python",
   "name": "python",
   "nbconvert_exporter": "python",
   "pygments_lexer": "ipython3",
   "version": "3.6.2"
  }
 },
 "nbformat": 4,
 "nbformat_minor": 1
}
