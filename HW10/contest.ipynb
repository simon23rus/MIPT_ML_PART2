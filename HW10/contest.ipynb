{
 "cells": [
  {
   "cell_type": "code",
   "execution_count": 2,
   "metadata": {},
   "outputs": [
    {
     "name": "stderr",
     "output_type": "stream",
     "text": [
      "/usr/local/lib/python3.4/site-packages/sklearn/cross_validation.py:41: DeprecationWarning: This module was deprecated in version 0.18 in favor of the model_selection module into which all the refactored classes and functions are moved. Also note that the interface of the new CV iterators are different from that of this module. This module will be removed in 0.20.\n",
      "  \"This module will be removed in 0.20.\", DeprecationWarning)\n"
     ]
    }
   ],
   "source": [
    "import xgboost"
   ]
  },
  {
   "cell_type": "code",
   "execution_count": 4,
   "metadata": {
    "collapsed": true
   },
   "outputs": [],
   "source": [
    "from gensim.models.keyedvectors import KeyedVectors"
   ]
  },
  {
   "cell_type": "code",
   "execution_count": 6,
   "metadata": {
    "collapsed": true
   },
   "outputs": [],
   "source": [
    "word_vectors = KeyedVectors.load_word2vec_format('./GoogleNews-vectors-negative300.bin', binary=True)  # C binary format"
   ]
  },
  {
   "cell_type": "code",
   "execution_count": 85,
   "metadata": {
    "collapsed": true
   },
   "outputs": [],
   "source": [
    "def question2vec_advanced(questions, embeddings):\n",
    "    \"\"\"\n",
    "    Computes question embeddings by averaging word embeddings.\n",
    "\n",
    "    Args:\n",
    "      questions (list of strings): List of questions to be embedded.\n",
    "      embeddings (gensim object): Pre-trained word embeddings.\n",
    "\n",
    "    Returns:\n",
    "      ndarray of shape [num_questions, embed_size] with question embeddings.\n",
    "    \"\"\"\n",
    "    to_return = []\n",
    "    for question in (questions):\n",
    "        to_mean = []\n",
    "        for word in question.split():\n",
    "            try:\n",
    "                while word not in embeddings and len(word) > 0:\n",
    "                    word = word[:-1]\n",
    "                embed = embeddings[word]\n",
    "                to_mean.append(embed)\n",
    "            except:\n",
    "#                 embed = np.zeros(embeddings.vector_size)\n",
    "#                 to_mean.append(embed)\n",
    "                pass\n",
    "        if len(to_mean) == 0:\n",
    "            to_mean = [np.zeros(embeddings.vector_size)]\n",
    "\n",
    "        to_return.append(np.mean(to_mean, axis=0))\n",
    "    return np.array(to_return)"
   ]
  },
  {
   "cell_type": "code",
   "execution_count": 10,
   "metadata": {},
   "outputs": [
    {
     "data": {
      "text/plain": [
       "123"
      ]
     },
     "execution_count": 10,
     "metadata": {},
     "output_type": "execute_result"
    }
   ],
   "source": [
    "123"
   ]
  },
  {
   "cell_type": "code",
   "execution_count": 65,
   "metadata": {
    "collapsed": true
   },
   "outputs": [],
   "source": [
    "with open('/notebooks/ucheba/Documents.csv', 'r') as f:\n",
    "    docs = f.read()"
   ]
  },
  {
   "cell_type": "code",
   "execution_count": 66,
   "metadata": {
    "collapsed": true
   },
   "outputs": [],
   "source": [
    "import re"
   ]
  },
  {
   "cell_type": "code",
   "execution_count": 75,
   "metadata": {
    "collapsed": true
   },
   "outputs": [],
   "source": [
    "splitted_docs = re.split('\\n.Id \\d+', docs)"
   ]
  },
  {
   "cell_type": "code",
   "execution_count": 76,
   "metadata": {},
   "outputs": [
    {
     "data": {
      "text/plain": [
       "123123"
      ]
     },
     "execution_count": 76,
     "metadata": {},
     "output_type": "execute_result"
    }
   ],
   "source": [
    "123123"
   ]
  },
  {
   "cell_type": "code",
   "execution_count": 77,
   "metadata": {},
   "outputs": [
    {
     "data": {
      "text/plain": [
       "1400"
      ]
     },
     "execution_count": 77,
     "metadata": {},
     "output_type": "execute_result"
    }
   ],
   "source": [
    "len(splitted_docs)"
   ]
  },
  {
   "cell_type": "code",
   "execution_count": 89,
   "metadata": {
    "collapsed": true
   },
   "outputs": [],
   "source": [
    "def extract_text(doc):\n",
    "    start_pos = 2 + doc.find('.W')\n",
    "    text = doc[start_pos:].replace('\\n', ' ')\n",
    "    return text"
   ]
  },
  {
   "cell_type": "code",
   "execution_count": 92,
   "metadata": {
    "collapsed": true
   },
   "outputs": [],
   "source": [
    "texts = list(map(extract_text, splitted_docs))"
   ]
  },
  {
   "cell_type": "code",
   "execution_count": 93,
   "metadata": {},
   "outputs": [
    {
     "data": {
      "text/plain": [
       "1400"
      ]
     },
     "execution_count": 93,
     "metadata": {},
     "output_type": "execute_result"
    }
   ],
   "source": [
    "len(texts)"
   ]
  },
  {
   "cell_type": "code",
   "execution_count": 103,
   "metadata": {},
   "outputs": [
    {
     "data": {
      "text/plain": [
       "' similar solutions in compressible laminar free mixing problems . there are in supersonic aerodynamics many situations of practical interest wherein streams of different velocities and, in general, different stagnation pressures mix with one another . in the majority of these problems the interaction between the two streams takes place in the presence of an axial pressure gradient .  its effect on the characteristics of the mixing may influence significantly the performances of the devices wherein the phenomena cited above occur .  a theoretical and experimental program of research to study mixing in the presence of axial pressure gradients is being carried on at the polytechnic institute of brooklyn .'"
      ]
     },
     "execution_count": 103,
     "metadata": {},
     "output_type": "execute_result"
    }
   ],
   "source": [
    "texts[10]"
   ]
  },
  {
   "cell_type": "code",
   "execution_count": 88,
   "metadata": {},
   "outputs": [
    {
     "data": {
      "text/plain": [
       "'.W\\nthe buckling shear stress of simply-supported infinitely\\nlong plates with transverse stiffeners .\\n  this report is an extension of previous theoretical\\ninvestigations of the elastic buckling in shear of flat\\nplates reinforced by transverse stiffeners . the plates are treated\\nas infinitely long and simply-supported along the long\\nsides . stiffeners are spaced at regular intervals, dividing the plate\\ninto a number of panels of uniform size . the effect\\nob bending and torsional stiffnesses of the stiffener upon the buckling\\nshear stress is calculated for the complete range\\nof stiffnesses, for panels with ratios of width to stiffener spacing of\\ngraphical forms .'"
      ]
     },
     "execution_count": 88,
     "metadata": {},
     "output_type": "execute_result"
    }
   ],
   "source": [
    "splitted_docs[-1][143:]"
   ]
  },
  {
   "cell_type": "code",
   "execution_count": 87,
   "metadata": {},
   "outputs": [
    {
     "data": {
      "text/plain": [
       "143"
      ]
     },
     "execution_count": 87,
     "metadata": {},
     "output_type": "execute_result"
    }
   ],
   "source": [
    "splitted_docs[-1].find(\".W\")"
   ]
  },
  {
   "cell_type": "code",
   "execution_count": 84,
   "metadata": {},
   "outputs": [
    {
     "data": {
      "text/plain": [
       "['',\n",
       " '.T',\n",
       " 'approximate solutions of the incompressible laminar',\n",
       " 'boundary layer equations for a plate in shear flow .',\n",
       " '.A',\n",
       " 'yen,k.t.',\n",
       " '.B',\n",
       " 'j. ae. scs. 22, 1955, 728.',\n",
       " '.W',\n",
       " 'approximate solutions of the incompressible laminar',\n",
       " 'boundary layer equations for a plate in shear flow .',\n",
       " '  the two-dimensional steady boundary-layer',\n",
       " 'problem for a flat plate in a',\n",
       " 'shear flow of incompressible fluid is considered .',\n",
       " 'solutions for the boundary-',\n",
       " 'layer thickness, skin friction, and the velocity',\n",
       " 'distribution in the boundary',\n",
       " 'layer are obtained by the karman-pohlhausen',\n",
       " 'technique .  comparison with',\n",
       " 'the boundary layer of a uniform flow has also',\n",
       " 'been made to show the effect of',\n",
       " 'vorticity .']"
      ]
     },
     "execution_count": 84,
     "metadata": {},
     "output_type": "execute_result"
    }
   ],
   "source": [
    "splitted_docs[3].split('\\n')"
   ]
  },
  {
   "cell_type": "code",
   "execution_count": 34,
   "metadata": {},
   "outputs": [
    {
     "data": {
      "text/plain": [
       "1482"
      ]
     },
     "execution_count": 34,
     "metadata": {},
     "output_type": "execute_result"
    }
   ],
   "source": [
    "len(splitted_docs)"
   ]
  },
  {
   "cell_type": "code",
   "execution_count": 24,
   "metadata": {},
   "outputs": [
    {
     "data": {
      "text/plain": [
       "' 48\\n.T\\nsupersonic flow at the surface of a circular cone at\\nangle of attack .\\n.A\\nwillett,j.e.\\n.B\\nj. ae. scs. 27, 1960, 907.\\n.W\\nsupersonic flow at the surface of a circular cone at\\nangle of attack .\\n  formulas for the inviscid flow properties on the surface of a\\ncone at angle of attack are derived for use in conjunction with\\nthe m.i.t. cone tables .  these formulas are based upon an\\nentropy distribution on the cone surface which is uniform and\\nequal to that of the shocked fluid in the windward meridian\\nplane .  they predict values for the flow variables which may\\ndiffer significantly from the corresponding values obtained\\ndirectly from the cone tables .  the differences in the magnitudes\\nof the flow variables computed by the two methods tend to\\nincrease with increasing free-stream mach number, cone angle\\nand angle of attack .\\n'"
      ]
     },
     "execution_count": 24,
     "metadata": {},
     "output_type": "execute_result"
    }
   ],
   "source": [
    "splitted_docs[50]"
   ]
  },
  {
   "cell_type": "code",
   "execution_count": 14,
   "metadata": {},
   "outputs": [
    {
     "data": {
      "text/plain": [
       "1401"
      ]
     },
     "execution_count": 14,
     "metadata": {},
     "output_type": "execute_result"
    }
   ],
   "source": [
    "len(splitted_docs)"
   ]
  },
  {
   "cell_type": "code",
   "execution_count": 105,
   "metadata": {
    "collapsed": true
   },
   "outputs": [],
   "source": [
    "import numpy as np"
   ]
  },
  {
   "cell_type": "code",
   "execution_count": 106,
   "metadata": {
    "collapsed": true
   },
   "outputs": [],
   "source": [
    "docs_embedded = question2vec_advanced(splitted_docs, word_vectors)"
   ]
  },
  {
   "cell_type": "code",
   "execution_count": 107,
   "metadata": {},
   "outputs": [
    {
     "data": {
      "text/plain": [
       "1400"
      ]
     },
     "execution_count": 107,
     "metadata": {},
     "output_type": "execute_result"
    }
   ],
   "source": [
    "len(docs_embedded)"
   ]
  },
  {
   "cell_type": "code",
   "execution_count": 119,
   "metadata": {},
   "outputs": [
    {
     "data": {
      "text/plain": [
       "123"
      ]
     },
     "execution_count": 119,
     "metadata": {},
     "output_type": "execute_result"
    }
   ],
   "source": [
    "123"
   ]
  },
  {
   "cell_type": "code",
   "execution_count": 120,
   "metadata": {
    "collapsed": true
   },
   "outputs": [],
   "source": [
    "import pandas as pd"
   ]
  },
  {
   "cell_type": "code",
   "execution_count": 110,
   "metadata": {
    "collapsed": true
   },
   "outputs": [],
   "source": [
    "with open('./ucheba/queries.csv', 'r') as f:\n",
    "    queries = f.read().splitlines()[1:]"
   ]
  },
  {
   "cell_type": "code",
   "execution_count": 123,
   "metadata": {
    "collapsed": true
   },
   "outputs": [],
   "source": [
    "queries = pd.read_csv('./ucheba/queries.csv', sep='\\t', index_col=False)"
   ]
  },
  {
   "cell_type": "code",
   "execution_count": 124,
   "metadata": {},
   "outputs": [
    {
     "data": {
      "text/html": [
       "<div>\n",
       "<style scoped>\n",
       "    .dataframe tbody tr th:only-of-type {\n",
       "        vertical-align: middle;\n",
       "    }\n",
       "\n",
       "    .dataframe tbody tr th {\n",
       "        vertical-align: top;\n",
       "    }\n",
       "\n",
       "    .dataframe thead th {\n",
       "        text-align: right;\n",
       "    }\n",
       "</style>\n",
       "<table border=\"1\" class=\"dataframe\">\n",
       "  <thead>\n",
       "    <tr style=\"text-align: right;\">\n",
       "      <th></th>\n",
       "      <th>QueryId</th>\n",
       "      <th>Query</th>\n",
       "    </tr>\n",
       "  </thead>\n",
       "  <tbody>\n",
       "    <tr>\n",
       "      <th>0</th>\n",
       "      <td>1.0</td>\n",
       "      <td>what similarity laws must be obeyed when const...</td>\n",
       "    </tr>\n",
       "    <tr>\n",
       "      <th>1</th>\n",
       "      <td>2.0</td>\n",
       "      <td>what are the structural and aeroelastic proble...</td>\n",
       "    </tr>\n",
       "    <tr>\n",
       "      <th>2</th>\n",
       "      <td>4.0</td>\n",
       "      <td>what problems of heat conduction in composite ...</td>\n",
       "    </tr>\n",
       "    <tr>\n",
       "      <th>3</th>\n",
       "      <td>8.0</td>\n",
       "      <td>can a criterion be developed to show empirical...</td>\n",
       "    </tr>\n",
       "    <tr>\n",
       "      <th>4</th>\n",
       "      <td>9.0</td>\n",
       "      <td>what chemical kinetic system is applicable to ...</td>\n",
       "    </tr>\n",
       "  </tbody>\n",
       "</table>\n",
       "</div>"
      ],
      "text/plain": [
       "   QueryId                                              Query\n",
       "0      1.0  what similarity laws must be obeyed when const...\n",
       "1      2.0  what are the structural and aeroelastic proble...\n",
       "2      4.0  what problems of heat conduction in composite ...\n",
       "3      8.0  can a criterion be developed to show empirical...\n",
       "4      9.0  what chemical kinetic system is applicable to ..."
      ]
     },
     "execution_count": 124,
     "metadata": {},
     "output_type": "execute_result"
    }
   ],
   "source": [
    "queries.head()"
   ]
  },
  {
   "cell_type": "code",
   "execution_count": null,
   "metadata": {
    "collapsed": true
   },
   "outputs": [],
   "source": []
  },
  {
   "cell_type": "code",
   "execution_count": 182,
   "metadata": {
    "scrolled": true
   },
   "outputs": [
    {
     "name": "stderr",
     "output_type": "stream",
     "text": [
      "/usr/local/lib/python3.4/site-packages/ipykernel_launcher.py:1: ParserWarning: Falling back to the 'python' engine because the 'c' engine does not support regex separators (separators > 1 char and different from '\\s+' are interpreted as regex); you can avoid this warning by specifying engine='python'.\n",
      "  \"\"\"Entry point for launching an IPython kernel.\n"
     ]
    }
   ],
   "source": [
    "train_data = pd.read_csv(\"/notebooks/ucheba/relevance_train.csv\", sep=\"\\s+|\\t+|\\s+\\t+|\\t+\\s+\")"
   ]
  },
  {
   "cell_type": "code",
   "execution_count": 183,
   "metadata": {},
   "outputs": [
    {
     "data": {
      "text/html": [
       "<div>\n",
       "<style scoped>\n",
       "    .dataframe tbody tr th:only-of-type {\n",
       "        vertical-align: middle;\n",
       "    }\n",
       "\n",
       "    .dataframe tbody tr th {\n",
       "        vertical-align: top;\n",
       "    }\n",
       "\n",
       "    .dataframe thead th {\n",
       "        text-align: right;\n",
       "    }\n",
       "</style>\n",
       "<table border=\"1\" class=\"dataframe\">\n",
       "  <thead>\n",
       "    <tr style=\"text-align: right;\">\n",
       "      <th></th>\n",
       "      <th>QueryId</th>\n",
       "      <th>DocumentId</th>\n",
       "      <th>Relevance</th>\n",
       "    </tr>\n",
       "  </thead>\n",
       "  <tbody>\n",
       "    <tr>\n",
       "      <th>0</th>\n",
       "      <td>1</td>\n",
       "      <td>184</td>\n",
       "      <td>2</td>\n",
       "    </tr>\n",
       "    <tr>\n",
       "      <th>1</th>\n",
       "      <td>1</td>\n",
       "      <td>29</td>\n",
       "      <td>2</td>\n",
       "    </tr>\n",
       "    <tr>\n",
       "      <th>2</th>\n",
       "      <td>1</td>\n",
       "      <td>31</td>\n",
       "      <td>2</td>\n",
       "    </tr>\n",
       "    <tr>\n",
       "      <th>3</th>\n",
       "      <td>1</td>\n",
       "      <td>12</td>\n",
       "      <td>3</td>\n",
       "    </tr>\n",
       "    <tr>\n",
       "      <th>4</th>\n",
       "      <td>1</td>\n",
       "      <td>51</td>\n",
       "      <td>3</td>\n",
       "    </tr>\n",
       "  </tbody>\n",
       "</table>\n",
       "</div>"
      ],
      "text/plain": [
       "   QueryId  DocumentId  Relevance\n",
       "0        1         184          2\n",
       "1        1          29          2\n",
       "2        1          31          2\n",
       "3        1          12          3\n",
       "4        1          51          3"
      ]
     },
     "execution_count": 183,
     "metadata": {},
     "output_type": "execute_result"
    }
   ],
   "source": [
    "train_data.head()"
   ]
  },
  {
   "cell_type": "code",
   "execution_count": 184,
   "metadata": {
    "collapsed": true
   },
   "outputs": [],
   "source": [
    "from collections import defaultdict"
   ]
  },
  {
   "cell_type": "code",
   "execution_count": 206,
   "metadata": {
    "collapsed": true
   },
   "outputs": [],
   "source": [
    "docs_ratings = defaultdict(int)\n",
    "for elem in train_data[['DocumentId', 'Relevance']].values:\n",
    "    if elem[1] == -1:\n",
    "        continue\n",
    "    docs_ratings[elem[0]] += elem[1]"
   ]
  },
  {
   "cell_type": "code",
   "execution_count": 207,
   "metadata": {},
   "outputs": [
    {
     "data": {
      "text/plain": [
       "225"
      ]
     },
     "execution_count": 207,
     "metadata": {},
     "output_type": "execute_result"
    }
   ],
   "source": [
    "len(queries)"
   ]
  },
  {
   "cell_type": "code",
   "execution_count": 130,
   "metadata": {
    "collapsed": true
   },
   "outputs": [],
   "source": [
    "queries.drop(225, axis=0, inplace=True)"
   ]
  },
  {
   "cell_type": "code",
   "execution_count": 134,
   "metadata": {},
   "outputs": [
    {
     "data": {
      "text/html": [
       "<div>\n",
       "<style scoped>\n",
       "    .dataframe tbody tr th:only-of-type {\n",
       "        vertical-align: middle;\n",
       "    }\n",
       "\n",
       "    .dataframe tbody tr th {\n",
       "        vertical-align: top;\n",
       "    }\n",
       "\n",
       "    .dataframe thead th {\n",
       "        text-align: right;\n",
       "    }\n",
       "</style>\n",
       "<table border=\"1\" class=\"dataframe\">\n",
       "  <thead>\n",
       "    <tr style=\"text-align: right;\">\n",
       "      <th></th>\n",
       "      <th>QueryId</th>\n",
       "      <th>Query</th>\n",
       "    </tr>\n",
       "  </thead>\n",
       "  <tbody>\n",
       "    <tr>\n",
       "      <th>220</th>\n",
       "      <td>353</td>\n",
       "      <td>papers applicable to this problem (calculation...</td>\n",
       "    </tr>\n",
       "    <tr>\n",
       "      <th>221</th>\n",
       "      <td>355</td>\n",
       "      <td>has anyone investigated the shear buckling of ...</td>\n",
       "    </tr>\n",
       "    <tr>\n",
       "      <th>222</th>\n",
       "      <td>356</td>\n",
       "      <td>papers on shear buckling of unstiffened rectan...</td>\n",
       "    </tr>\n",
       "    <tr>\n",
       "      <th>223</th>\n",
       "      <td>360</td>\n",
       "      <td>in practice, how close to reality are the assu...</td>\n",
       "    </tr>\n",
       "    <tr>\n",
       "      <th>224</th>\n",
       "      <td>365</td>\n",
       "      <td>what design factors can be used to control lif...</td>\n",
       "    </tr>\n",
       "  </tbody>\n",
       "</table>\n",
       "</div>"
      ],
      "text/plain": [
       "     QueryId                                              Query\n",
       "220      353  papers applicable to this problem (calculation...\n",
       "221      355  has anyone investigated the shear buckling of ...\n",
       "222      356  papers on shear buckling of unstiffened rectan...\n",
       "223      360  in practice, how close to reality are the assu...\n",
       "224      365  what design factors can be used to control lif..."
      ]
     },
     "execution_count": 134,
     "metadata": {},
     "output_type": "execute_result"
    }
   ],
   "source": [
    "queries.tail()"
   ]
  },
  {
   "cell_type": "code",
   "execution_count": 132,
   "metadata": {
    "collapsed": true
   },
   "outputs": [],
   "source": [
    "queries['QueryId'] = queries['QueryId'].astype(int)"
   ]
  },
  {
   "cell_type": "code",
   "execution_count": 133,
   "metadata": {
    "collapsed": true
   },
   "outputs": [],
   "source": [
    "from tqdm import tqdm"
   ]
  },
  {
   "cell_type": "code",
   "execution_count": 139,
   "metadata": {},
   "outputs": [
    {
     "name": "stderr",
     "output_type": "stream",
     "text": [
      "100%|██████████| 225/225 [00:00<00:00, 8500.05it/s]\n"
     ]
    }
   ],
   "source": [
    "query_to_embed = {}\n",
    "for idd, quer in tqdm(queries.values):\n",
    "    query_to_embed[idd] = question2vec_advanced([quer], word_vectors)[0]"
   ]
  },
  {
   "cell_type": "code",
   "execution_count": 140,
   "metadata": {
    "collapsed": true
   },
   "outputs": [
    {
     "data": {
      "text/plain": [
       "array([  3.85579430e-02,   6.68431595e-02,   1.34025067e-01,\n",
       "         6.53686523e-02,  -4.89908867e-02,  -4.85229492e-02,\n",
       "         3.24503593e-02,  -4.71842438e-02,   7.09065720e-02,\n",
       "         9.90109742e-02,   3.07189934e-02,  -1.28312171e-01,\n",
       "        -6.21419288e-02,   2.63061514e-03,  -1.29801437e-01,\n",
       "         4.96358238e-02,  -1.61946611e-03,   5.14404289e-02,\n",
       "        -5.79956062e-02,  -8.82812515e-02,  -2.10367832e-02,\n",
       "        -1.51163735e-03,  -1.91243496e-02,   5.07695526e-02,\n",
       "         3.88387032e-02,  -4.12433632e-02,  -1.18787892e-01,\n",
       "         7.02270493e-02,   4.16361503e-02,  -5.93587235e-02,\n",
       "        -3.13161202e-02,  -6.97753876e-02,  -1.77042652e-02,\n",
       "         9.18985996e-03,   3.40199806e-02,  -5.46020493e-02,\n",
       "         3.55794281e-02,   1.72932949e-02,   6.48081452e-02,\n",
       "         6.35681152e-02,   9.24194306e-02,   8.46354174e-04,\n",
       "         1.00972496e-01,  -5.83902991e-04,  -3.26497406e-02,\n",
       "        -8.61490890e-02,  -1.64347328e-02,   4.13312279e-02,\n",
       "        -8.54034442e-03,  -4.30852249e-02,  -6.62109405e-02,\n",
       "         4.72086594e-02,  -5.04720062e-02,  -3.67370620e-02,\n",
       "        -1.16333012e-02,   4.63963822e-02,  -3.13476548e-02,\n",
       "        -8.23465958e-02,   7.48697901e-04,  -7.84200057e-02,\n",
       "        -2.35677082e-02,   1.39943445e-02,  -7.69856796e-02,\n",
       "        -9.13199708e-02,   1.46586099e-03,   2.65085865e-02,\n",
       "        -3.88671868e-02,   1.54671222e-01,  -6.56728074e-02,\n",
       "         4.38741036e-02,   1.39770508e-02,  -6.64143860e-02,\n",
       "         7.55533874e-02,   7.79622374e-03,  -1.03558347e-01,\n",
       "        -3.92578132e-02,   9.89908874e-02,   6.80786148e-02,\n",
       "         3.63769522e-03,   1.15816310e-01,   4.64467369e-02,\n",
       "         3.91520187e-02,   5.58268232e-03,  -4.42728661e-02,\n",
       "        -1.53767904e-02,  -9.41568986e-03,  -6.34785965e-02,\n",
       "         1.80387363e-01,  -1.81284584e-02,   6.92321807e-02,\n",
       "         5.77006005e-02,  -8.83789081e-03,  -9.05558243e-02,\n",
       "         2.52250675e-02,   2.41943356e-02,  -6.87601715e-02,\n",
       "        -4.94791660e-03,  -9.66369659e-02,   4.97233085e-02,\n",
       "        -2.76529957e-02,   1.00504560e-02,  -7.37976059e-02,\n",
       "         3.56445322e-03,  -1.14636738e-02,   3.00659183e-02,\n",
       "        -9.57438163e-03,  -7.90913925e-02,   7.06990575e-03,\n",
       "         6.09781891e-02,   3.56262214e-02,  -4.30175774e-02,\n",
       "         3.54410801e-03,  -9.16147903e-02,   2.51464844e-02,\n",
       "         6.90775588e-02,  -4.87894677e-02,   8.22448730e-02,\n",
       "        -1.06608076e-02,   6.26932783e-03,  -2.79988609e-02,\n",
       "        -8.56302902e-02,  -6.59179699e-04,   9.04744491e-03,\n",
       "        -1.02686565e-02,  -4.96134423e-02,   4.69828285e-02,\n",
       "        -7.53092468e-02,  -4.79115807e-02,   6.73019439e-02,\n",
       "         9.28423554e-02,   1.22192381e-02,  -1.58915203e-02,\n",
       "        -5.67403175e-02,  -5.72713204e-02,   2.14965828e-02,\n",
       "        -3.33516449e-02,   3.95566002e-02,  -9.48649123e-02,\n",
       "         1.07218430e-03,   2.24731453e-02,   1.89636238e-02,\n",
       "        -1.18611651e-02,  -3.41471359e-02,   4.49707024e-02,\n",
       "         3.95914726e-02,  -1.79361980e-02,  -1.17635094e-02,\n",
       "        -5.30660003e-02,  -1.07065840e-02,  -5.57128899e-02,\n",
       "         5.57779931e-02,   6.70572929e-03,  -8.32682326e-02,\n",
       "        -1.68375652e-02,  -3.79882827e-02,  -3.88671868e-02,\n",
       "        -7.35432953e-02,  -3.64339203e-02,   2.06603995e-03,\n",
       "        -4.12801094e-02,  -7.36490870e-03,   5.66406269e-03,\n",
       "         2.91346237e-02,  -4.05822769e-02,  -8.00221786e-02,\n",
       "        -3.51359062e-02,   2.43611652e-02,  -4.33227532e-02,\n",
       "         1.86767580e-03,  -5.96333817e-02,  -1.38382971e-01,\n",
       "        -6.69108108e-02,  -6.37329072e-02,  -4.71964516e-02,\n",
       "         1.73990894e-02,   6.23779278e-03,  -2.55330410e-02,\n",
       "        -1.42317712e-01,  -8.25276673e-02,   4.53491230e-03,\n",
       "        -3.42264809e-02,  -7.38281235e-02,  -4.06901054e-05,\n",
       "        -2.57033035e-02,   6.16821274e-02,  -4.98006195e-02,\n",
       "         4.16463204e-02,  -1.93277989e-02,  -3.05745434e-02,\n",
       "         6.65466338e-02,   6.47176104e-03,   1.02421060e-01,\n",
       "         7.55208312e-03,   4.16585281e-02,  -2.68391930e-02,\n",
       "         7.36024231e-02,   2.02738447e-03,  -5.99019378e-02,\n",
       "         3.99169931e-03,  -6.57099411e-02,   4.79634590e-02,\n",
       "         3.50179039e-02,  -8.38948563e-02,  -8.92740861e-03,\n",
       "        -6.79524755e-03,  -2.70172115e-02,  -1.00463871e-02,\n",
       "        -7.46215805e-02,   3.67350243e-02,  -3.58276372e-03,\n",
       "        -5.12735993e-02,  -1.70979816e-02,   3.93066406e-02,\n",
       "         3.08430986e-03,  -1.21036783e-01,   2.74454746e-02,\n",
       "         9.37154144e-02,   1.84448250e-02,  -1.06976315e-01,\n",
       "         4.77701835e-02,  -1.22161862e-02,  -4.37825499e-03,\n",
       "        -1.97509769e-02,  -9.23182163e-03,   4.10476066e-02,\n",
       "        -5.64117432e-02,   7.25911483e-02,   7.65360519e-02,\n",
       "         3.30909714e-02,   1.49648031e-02,   9.28548165e-03,\n",
       "        -3.63850929e-02,  -3.11543774e-02,  -1.73675530e-02,\n",
       "         4.54597473e-02,  -1.53401690e-02,  -1.11409510e-02,\n",
       "        -6.91009536e-02,   8.60514343e-02,   1.12263998e-02,\n",
       "         5.69808967e-02,  -2.98736580e-02,   1.95312500e-03,\n",
       "        -1.35786951e-01,  -3.41186523e-02,  -4.08650711e-02,\n",
       "        -9.60611999e-02,   7.02311173e-02,   3.95100899e-02,\n",
       "        -6.32232651e-02,   7.86234532e-03,   1.07316084e-01,\n",
       "         7.26684555e-02,   3.42203788e-02,   9.18294266e-02,\n",
       "        -7.04452544e-02,   5.69580086e-02,   4.16035987e-02,\n",
       "        -1.24186194e-02,  -1.48030603e-02,   1.06866457e-01,\n",
       "        -2.97444668e-02,  -5.94156906e-02,   6.44694045e-02,\n",
       "         7.06380233e-02,   1.16389975e-01,   1.04146320e-02,\n",
       "        -6.31407425e-02,  -7.14752227e-02,   2.22656243e-02,\n",
       "         2.92154937e-03,   7.22127259e-02,   6.70369491e-02,\n",
       "         8.07596818e-02,   2.11674999e-02,  -6.46565780e-02,\n",
       "        -9.87874344e-02,  -7.72460923e-02,  -6.97347000e-02,\n",
       "         2.35921219e-02,  -2.88736988e-02,   4.32779938e-02,\n",
       "         3.78420502e-02,  -1.19679766e-02,   6.79911301e-02,\n",
       "        -6.13647476e-02,  -2.95084640e-02,   1.82759594e-02,\n",
       "         7.04101548e-02,   5.60831688e-02,  -9.96294692e-02,\n",
       "        -2.62695309e-02,  -1.12976078e-02,   2.25809738e-02,\n",
       "         2.68229172e-02,   4.17175284e-03,  -2.62502045e-03,\n",
       "        -4.94537354e-02,  -1.00936890e-02,  -6.28499314e-02], dtype=float32)"
      ]
     },
     "execution_count": 140,
     "metadata": {},
     "output_type": "execute_result"
    }
   ],
   "source": [
    "query_to_embed[min(query_to_embed)]"
   ]
  },
  {
   "cell_type": "code",
   "execution_count": 141,
   "metadata": {
    "collapsed": true
   },
   "outputs": [],
   "source": [
    "from scipy.linalg import norm"
   ]
  },
  {
   "cell_type": "code",
   "execution_count": 208,
   "metadata": {
    "collapsed": true
   },
   "outputs": [],
   "source": [
    "to_send = pd.read_csv('/notebooks/ucheba/relevance_test.csv')\n"
   ]
  },
  {
   "cell_type": "code",
   "execution_count": null,
   "metadata": {
    "collapsed": true
   },
   "outputs": [],
   "source": []
  },
  {
   "cell_type": "code",
   "execution_count": 188,
   "metadata": {
    "collapsed": true
   },
   "outputs": [
    {
     "data": {
      "text/html": [
       "<div>\n",
       "<style scoped>\n",
       "    .dataframe tbody tr th:only-of-type {\n",
       "        vertical-align: middle;\n",
       "    }\n",
       "\n",
       "    .dataframe tbody tr th {\n",
       "        vertical-align: top;\n",
       "    }\n",
       "\n",
       "    .dataframe thead th {\n",
       "        text-align: right;\n",
       "    }\n",
       "</style>\n",
       "<table border=\"1\" class=\"dataframe\">\n",
       "  <thead>\n",
       "    <tr style=\"text-align: right;\">\n",
       "      <th></th>\n",
       "      <th>QueryId</th>\n",
       "      <th>DocumentId</th>\n",
       "    </tr>\n",
       "  </thead>\n",
       "  <tbody>\n",
       "    <tr>\n",
       "      <th>0</th>\n",
       "      <td>126</td>\n",
       "      <td>974</td>\n",
       "    </tr>\n",
       "    <tr>\n",
       "      <th>1</th>\n",
       "      <td>126</td>\n",
       "      <td>1326</td>\n",
       "    </tr>\n",
       "    <tr>\n",
       "      <th>2</th>\n",
       "      <td>126</td>\n",
       "      <td>187</td>\n",
       "    </tr>\n",
       "    <tr>\n",
       "      <th>3</th>\n",
       "      <td>126</td>\n",
       "      <td>969</td>\n",
       "    </tr>\n",
       "    <tr>\n",
       "      <th>4</th>\n",
       "      <td>126</td>\n",
       "      <td>970</td>\n",
       "    </tr>\n",
       "    <tr>\n",
       "      <th>5</th>\n",
       "      <td>126</td>\n",
       "      <td>971</td>\n",
       "    </tr>\n",
       "    <tr>\n",
       "      <th>6</th>\n",
       "      <td>126</td>\n",
       "      <td>972</td>\n",
       "    </tr>\n",
       "    <tr>\n",
       "      <th>7</th>\n",
       "      <td>126</td>\n",
       "      <td>973</td>\n",
       "    </tr>\n",
       "    <tr>\n",
       "      <th>8</th>\n",
       "      <td>126</td>\n",
       "      <td>942</td>\n",
       "    </tr>\n",
       "    <tr>\n",
       "      <th>9</th>\n",
       "      <td>127</td>\n",
       "      <td>101</td>\n",
       "    </tr>\n",
       "    <tr>\n",
       "      <th>10</th>\n",
       "      <td>127</td>\n",
       "      <td>164</td>\n",
       "    </tr>\n",
       "    <tr>\n",
       "      <th>11</th>\n",
       "      <td>127</td>\n",
       "      <td>981</td>\n",
       "    </tr>\n",
       "    <tr>\n",
       "      <th>12</th>\n",
       "      <td>127</td>\n",
       "      <td>982</td>\n",
       "    </tr>\n",
       "    <tr>\n",
       "      <th>13</th>\n",
       "      <td>127</td>\n",
       "      <td>983</td>\n",
       "    </tr>\n",
       "    <tr>\n",
       "      <th>14</th>\n",
       "      <td>127</td>\n",
       "      <td>944</td>\n",
       "    </tr>\n",
       "    <tr>\n",
       "      <th>15</th>\n",
       "      <td>128</td>\n",
       "      <td>985</td>\n",
       "    </tr>\n",
       "    <tr>\n",
       "      <th>16</th>\n",
       "      <td>128</td>\n",
       "      <td>990</td>\n",
       "    </tr>\n",
       "    <tr>\n",
       "      <th>17</th>\n",
       "      <td>128</td>\n",
       "      <td>945</td>\n",
       "    </tr>\n",
       "    <tr>\n",
       "      <th>18</th>\n",
       "      <td>129</td>\n",
       "      <td>985</td>\n",
       "    </tr>\n",
       "    <tr>\n",
       "      <th>19</th>\n",
       "      <td>129</td>\n",
       "      <td>987</td>\n",
       "    </tr>\n",
       "    <tr>\n",
       "      <th>20</th>\n",
       "      <td>129</td>\n",
       "      <td>984</td>\n",
       "    </tr>\n",
       "    <tr>\n",
       "      <th>21</th>\n",
       "      <td>129</td>\n",
       "      <td>988</td>\n",
       "    </tr>\n",
       "    <tr>\n",
       "      <th>22</th>\n",
       "      <td>129</td>\n",
       "      <td>989</td>\n",
       "    </tr>\n",
       "    <tr>\n",
       "      <th>23</th>\n",
       "      <td>129</td>\n",
       "      <td>986</td>\n",
       "    </tr>\n",
       "    <tr>\n",
       "      <th>24</th>\n",
       "      <td>129</td>\n",
       "      <td>990</td>\n",
       "    </tr>\n",
       "    <tr>\n",
       "      <th>25</th>\n",
       "      <td>129</td>\n",
       "      <td>945</td>\n",
       "    </tr>\n",
       "    <tr>\n",
       "      <th>26</th>\n",
       "      <td>130</td>\n",
       "      <td>766</td>\n",
       "    </tr>\n",
       "    <tr>\n",
       "      <th>27</th>\n",
       "      <td>130</td>\n",
       "      <td>858</td>\n",
       "    </tr>\n",
       "    <tr>\n",
       "      <th>28</th>\n",
       "      <td>130</td>\n",
       "      <td>859</td>\n",
       "    </tr>\n",
       "    <tr>\n",
       "      <th>29</th>\n",
       "      <td>130</td>\n",
       "      <td>1008</td>\n",
       "    </tr>\n",
       "    <tr>\n",
       "      <th>...</th>\n",
       "      <td>...</td>\n",
       "      <td>...</td>\n",
       "    </tr>\n",
       "    <tr>\n",
       "      <th>817</th>\n",
       "      <td>224</td>\n",
       "      <td>1318</td>\n",
       "    </tr>\n",
       "    <tr>\n",
       "      <th>818</th>\n",
       "      <td>224</td>\n",
       "      <td>1319</td>\n",
       "    </tr>\n",
       "    <tr>\n",
       "      <th>819</th>\n",
       "      <td>224</td>\n",
       "      <td>1157</td>\n",
       "    </tr>\n",
       "    <tr>\n",
       "      <th>820</th>\n",
       "      <td>224</td>\n",
       "      <td>1274</td>\n",
       "    </tr>\n",
       "    <tr>\n",
       "      <th>821</th>\n",
       "      <td>224</td>\n",
       "      <td>1286</td>\n",
       "    </tr>\n",
       "    <tr>\n",
       "      <th>822</th>\n",
       "      <td>225</td>\n",
       "      <td>1379</td>\n",
       "    </tr>\n",
       "    <tr>\n",
       "      <th>823</th>\n",
       "      <td>225</td>\n",
       "      <td>1305</td>\n",
       "    </tr>\n",
       "    <tr>\n",
       "      <th>824</th>\n",
       "      <td>225</td>\n",
       "      <td>1304</td>\n",
       "    </tr>\n",
       "    <tr>\n",
       "      <th>825</th>\n",
       "      <td>225</td>\n",
       "      <td>40</td>\n",
       "    </tr>\n",
       "    <tr>\n",
       "      <th>826</th>\n",
       "      <td>225</td>\n",
       "      <td>293</td>\n",
       "    </tr>\n",
       "    <tr>\n",
       "      <th>827</th>\n",
       "      <td>225</td>\n",
       "      <td>1309</td>\n",
       "    </tr>\n",
       "    <tr>\n",
       "      <th>828</th>\n",
       "      <td>225</td>\n",
       "      <td>161</td>\n",
       "    </tr>\n",
       "    <tr>\n",
       "      <th>829</th>\n",
       "      <td>225</td>\n",
       "      <td>421</td>\n",
       "    </tr>\n",
       "    <tr>\n",
       "      <th>830</th>\n",
       "      <td>225</td>\n",
       "      <td>1377</td>\n",
       "    </tr>\n",
       "    <tr>\n",
       "      <th>831</th>\n",
       "      <td>225</td>\n",
       "      <td>1378</td>\n",
       "    </tr>\n",
       "    <tr>\n",
       "      <th>832</th>\n",
       "      <td>225</td>\n",
       "      <td>1381</td>\n",
       "    </tr>\n",
       "    <tr>\n",
       "      <th>833</th>\n",
       "      <td>225</td>\n",
       "      <td>225</td>\n",
       "    </tr>\n",
       "    <tr>\n",
       "      <th>834</th>\n",
       "      <td>225</td>\n",
       "      <td>1380</td>\n",
       "    </tr>\n",
       "    <tr>\n",
       "      <th>835</th>\n",
       "      <td>225</td>\n",
       "      <td>448</td>\n",
       "    </tr>\n",
       "    <tr>\n",
       "      <th>836</th>\n",
       "      <td>225</td>\n",
       "      <td>449</td>\n",
       "    </tr>\n",
       "    <tr>\n",
       "      <th>837</th>\n",
       "      <td>225</td>\n",
       "      <td>1124</td>\n",
       "    </tr>\n",
       "    <tr>\n",
       "      <th>838</th>\n",
       "      <td>225</td>\n",
       "      <td>1280</td>\n",
       "    </tr>\n",
       "    <tr>\n",
       "      <th>839</th>\n",
       "      <td>225</td>\n",
       "      <td>433</td>\n",
       "    </tr>\n",
       "    <tr>\n",
       "      <th>840</th>\n",
       "      <td>225</td>\n",
       "      <td>923</td>\n",
       "    </tr>\n",
       "    <tr>\n",
       "      <th>841</th>\n",
       "      <td>225</td>\n",
       "      <td>924</td>\n",
       "    </tr>\n",
       "    <tr>\n",
       "      <th>842</th>\n",
       "      <td>225</td>\n",
       "      <td>1062</td>\n",
       "    </tr>\n",
       "    <tr>\n",
       "      <th>843</th>\n",
       "      <td>225</td>\n",
       "      <td>1074</td>\n",
       "    </tr>\n",
       "    <tr>\n",
       "      <th>844</th>\n",
       "      <td>225</td>\n",
       "      <td>1075</td>\n",
       "    </tr>\n",
       "    <tr>\n",
       "      <th>845</th>\n",
       "      <td>225</td>\n",
       "      <td>1213</td>\n",
       "    </tr>\n",
       "    <tr>\n",
       "      <th>846</th>\n",
       "      <td>225</td>\n",
       "      <td>1188</td>\n",
       "    </tr>\n",
       "  </tbody>\n",
       "</table>\n",
       "<p>847 rows × 2 columns</p>\n",
       "</div>"
      ],
      "text/plain": [
       "     QueryId  DocumentId\n",
       "0        126         974\n",
       "1        126        1326\n",
       "2        126         187\n",
       "3        126         969\n",
       "4        126         970\n",
       "5        126         971\n",
       "6        126         972\n",
       "7        126         973\n",
       "8        126         942\n",
       "9        127         101\n",
       "10       127         164\n",
       "11       127         981\n",
       "12       127         982\n",
       "13       127         983\n",
       "14       127         944\n",
       "15       128         985\n",
       "16       128         990\n",
       "17       128         945\n",
       "18       129         985\n",
       "19       129         987\n",
       "20       129         984\n",
       "21       129         988\n",
       "22       129         989\n",
       "23       129         986\n",
       "24       129         990\n",
       "25       129         945\n",
       "26       130         766\n",
       "27       130         858\n",
       "28       130         859\n",
       "29       130        1008\n",
       "..       ...         ...\n",
       "817      224        1318\n",
       "818      224        1319\n",
       "819      224        1157\n",
       "820      224        1274\n",
       "821      224        1286\n",
       "822      225        1379\n",
       "823      225        1305\n",
       "824      225        1304\n",
       "825      225          40\n",
       "826      225         293\n",
       "827      225        1309\n",
       "828      225         161\n",
       "829      225         421\n",
       "830      225        1377\n",
       "831      225        1378\n",
       "832      225        1381\n",
       "833      225         225\n",
       "834      225        1380\n",
       "835      225         448\n",
       "836      225         449\n",
       "837      225        1124\n",
       "838      225        1280\n",
       "839      225         433\n",
       "840      225         923\n",
       "841      225         924\n",
       "842      225        1062\n",
       "843      225        1074\n",
       "844      225        1075\n",
       "845      225        1213\n",
       "846      225        1188\n",
       "\n",
       "[847 rows x 2 columns]"
      ]
     },
     "execution_count": 188,
     "metadata": {},
     "output_type": "execute_result"
    }
   ],
   "source": [
    "to_send"
   ]
  },
  {
   "cell_type": "code",
   "execution_count": 146,
   "metadata": {},
   "outputs": [
    {
     "ename": "KeyError",
     "evalue": "'127'",
     "output_type": "error",
     "traceback": [
      "\u001b[0;31m---------------------------------------------------------------------------\u001b[0m",
      "\u001b[0;31mKeyError\u001b[0m                                  Traceback (most recent call last)",
      "\u001b[0;32m<ipython-input-146-46fc633aff55>\u001b[0m in \u001b[0;36m<module>\u001b[0;34m()\u001b[0m\n\u001b[0;32m----> 1\u001b[0;31m \u001b[0mquery_to_embed\u001b[0m\u001b[0;34m[\u001b[0m\u001b[0;34m'127'\u001b[0m\u001b[0;34m]\u001b[0m\u001b[0;34m\u001b[0m\u001b[0m\n\u001b[0m",
      "\u001b[0;31mKeyError\u001b[0m: '127'"
     ]
    }
   ],
   "source": [
    "query_to_embed['127']"
   ]
  },
  {
   "cell_type": "code",
   "execution_count": 153,
   "metadata": {},
   "outputs": [
    {
     "data": {
      "text/plain": [
       "dict_keys([1, 2, 4, 8, 9, 10, 12, 13, 15, 18, 22, 23, 26, 27, 29, 31, 32, 33, 34, 35, 39, 40, 41, 49, 50, 51, 52, 53, 54, 55, 56, 57, 58, 59, 61, 62, 66, 67, 68, 69, 71, 72, 74, 79, 80, 81, 82, 83, 84, 85, 86, 87, 93, 94, 95, 97, 98, 99, 100, 101, 102, 103, 104, 105, 106, 107, 108, 109, 110, 111, 112, 113, 114, 116, 118, 119, 120, 121, 122, 123, 126, 128, 130, 131, 132, 133, 135, 136, 137, 138, 139, 140, 141, 142, 143, 145, 146, 147, 148, 149, 150, 152, 153, 154, 155, 156, 157, 158, 160, 161, 163, 164, 165, 167, 168, 169, 170, 171, 173, 175, 176, 177, 181, 182, 183, 184, 187, 189, 190, 196, 200, 201, 202, 203, 204, 205, 206, 208, 209, 210, 211, 212, 213, 214, 215, 216, 217, 218, 219, 223, 224, 225, 226, 227, 230, 231, 232, 233, 234, 241, 245, 246, 247, 250, 251, 252, 253, 254, 255, 257, 259, 261, 264, 265, 266, 267, 268, 269, 272, 273, 274, 275, 277, 283, 284, 285, 288, 291, 292, 293, 294, 295, 296, 297, 298, 299, 300, 301, 303, 304, 306, 314, 315, 316, 317, 321, 323, 327, 331, 332, 333, 335, 336, 338, 339, 340, 347, 348, 349, 352, 353, 355, 356, 360, 365])"
      ]
     },
     "execution_count": 153,
     "metadata": {},
     "output_type": "execute_result"
    }
   ],
   "source": [
    "query_to_embed.keys()"
   ]
  },
  {
   "cell_type": "code",
   "execution_count": 166,
   "metadata": {
    "collapsed": true
   },
   "outputs": [],
   "source": [
    "import numpy as np"
   ]
  },
  {
   "cell_type": "code",
   "execution_count": 169,
   "metadata": {},
   "outputs": [
    {
     "data": {
      "text/plain": [
       "0.38941566065350786"
      ]
     },
     "execution_count": 169,
     "metadata": {},
     "output_type": "execute_result"
    }
   ],
   "source": [
    "np.random.rand()"
   ]
  },
  {
   "cell_type": "code",
   "execution_count": 209,
   "metadata": {},
   "outputs": [
    {
     "name": "stderr",
     "output_type": "stream",
     "text": [
      "100%|██████████| 847/847 [00:00<00:00, 34363.91it/s]\n"
     ]
    }
   ],
   "source": [
    "ratings = []\n",
    "c = 0\n",
    "for queryid, docid in tqdm(to_send.values):\n",
    "    try:\n",
    "        cur_norm = norm(query_to_embed[queryid] - docs_embedded[docid - 1], 2)\n",
    "        ratings.append(cur_norm)\n",
    "    except:\n",
    "        if docid not in docs_ratings:\n",
    "            ratings.append(1000. + np.random.rand())\n",
    "        else:\n",
    "            ratings.append(-docs_ratings[docid])\n",
    "        c += 1"
   ]
  },
  {
   "cell_type": "code",
   "execution_count": 149,
   "metadata": {},
   "outputs": [
    {
     "data": {
      "text/plain": [
       "238"
      ]
     },
     "execution_count": 149,
     "metadata": {},
     "output_type": "execute_result"
    }
   ],
   "source": [
    "c"
   ]
  },
  {
   "cell_type": "code",
   "execution_count": 154,
   "metadata": {},
   "outputs": [
    {
     "data": {
      "text/plain": [
       "0"
      ]
     },
     "execution_count": 154,
     "metadata": {},
     "output_type": "execute_result"
    }
   ],
   "source": [
    "len(ratings)"
   ]
  },
  {
   "cell_type": "code",
   "execution_count": 210,
   "metadata": {
    "collapsed": true
   },
   "outputs": [],
   "source": [
    "to_send['relevance'] = ratings"
   ]
  },
  {
   "cell_type": "code",
   "execution_count": 159,
   "metadata": {
    "collapsed": true
   },
   "outputs": [],
   "source": [
    "with open('ucheba/relevance_train.csv', 'r') as f:\n",
    "    nqew = f.read()"
   ]
  },
  {
   "cell_type": "code",
   "execution_count": 160,
   "metadata": {},
   "outputs": [
    {
     "data": {
      "text/plain": [
       "-1"
      ]
     },
     "execution_count": 160,
     "metadata": {},
     "output_type": "execute_result"
    }
   ],
   "source": [
    "nqew.find('\\t127\\t')"
   ]
  },
  {
   "cell_type": "code",
   "execution_count": 178,
   "metadata": {
    "collapsed": true
   },
   "outputs": [],
   "source": [
    "to_send['rel2'] = np.random.rand(len(to_send))"
   ]
  },
  {
   "cell_type": "code",
   "execution_count": 211,
   "metadata": {
    "scrolled": true
   },
   "outputs": [
    {
     "data": {
      "text/html": [
       "<div>\n",
       "<style scoped>\n",
       "    .dataframe tbody tr th:only-of-type {\n",
       "        vertical-align: middle;\n",
       "    }\n",
       "\n",
       "    .dataframe tbody tr th {\n",
       "        vertical-align: top;\n",
       "    }\n",
       "\n",
       "    .dataframe thead th {\n",
       "        text-align: right;\n",
       "    }\n",
       "</style>\n",
       "<table border=\"1\" class=\"dataframe\">\n",
       "  <thead>\n",
       "    <tr style=\"text-align: right;\">\n",
       "      <th></th>\n",
       "      <th>QueryId</th>\n",
       "      <th>DocumentId</th>\n",
       "      <th>relevance</th>\n",
       "    </tr>\n",
       "  </thead>\n",
       "  <tbody>\n",
       "    <tr>\n",
       "      <th>0</th>\n",
       "      <td>126</td>\n",
       "      <td>974</td>\n",
       "      <td>0.772774</td>\n",
       "    </tr>\n",
       "    <tr>\n",
       "      <th>1</th>\n",
       "      <td>126</td>\n",
       "      <td>1326</td>\n",
       "      <td>0.780790</td>\n",
       "    </tr>\n",
       "    <tr>\n",
       "      <th>2</th>\n",
       "      <td>126</td>\n",
       "      <td>187</td>\n",
       "      <td>0.794849</td>\n",
       "    </tr>\n",
       "    <tr>\n",
       "      <th>3</th>\n",
       "      <td>126</td>\n",
       "      <td>969</td>\n",
       "      <td>0.764251</td>\n",
       "    </tr>\n",
       "    <tr>\n",
       "      <th>4</th>\n",
       "      <td>126</td>\n",
       "      <td>970</td>\n",
       "      <td>0.789947</td>\n",
       "    </tr>\n",
       "    <tr>\n",
       "      <th>5</th>\n",
       "      <td>126</td>\n",
       "      <td>971</td>\n",
       "      <td>0.817192</td>\n",
       "    </tr>\n",
       "    <tr>\n",
       "      <th>6</th>\n",
       "      <td>126</td>\n",
       "      <td>972</td>\n",
       "      <td>0.787602</td>\n",
       "    </tr>\n",
       "    <tr>\n",
       "      <th>7</th>\n",
       "      <td>126</td>\n",
       "      <td>973</td>\n",
       "      <td>0.872448</td>\n",
       "    </tr>\n",
       "    <tr>\n",
       "      <th>8</th>\n",
       "      <td>126</td>\n",
       "      <td>942</td>\n",
       "      <td>0.791183</td>\n",
       "    </tr>\n",
       "    <tr>\n",
       "      <th>9</th>\n",
       "      <td>127</td>\n",
       "      <td>101</td>\n",
       "      <td>-16.000000</td>\n",
       "    </tr>\n",
       "    <tr>\n",
       "      <th>10</th>\n",
       "      <td>127</td>\n",
       "      <td>164</td>\n",
       "      <td>-2.000000</td>\n",
       "    </tr>\n",
       "    <tr>\n",
       "      <th>11</th>\n",
       "      <td>127</td>\n",
       "      <td>981</td>\n",
       "      <td>1000.698665</td>\n",
       "    </tr>\n",
       "    <tr>\n",
       "      <th>12</th>\n",
       "      <td>127</td>\n",
       "      <td>982</td>\n",
       "      <td>1000.041893</td>\n",
       "    </tr>\n",
       "    <tr>\n",
       "      <th>13</th>\n",
       "      <td>127</td>\n",
       "      <td>983</td>\n",
       "      <td>1000.427971</td>\n",
       "    </tr>\n",
       "    <tr>\n",
       "      <th>14</th>\n",
       "      <td>127</td>\n",
       "      <td>944</td>\n",
       "      <td>1000.051294</td>\n",
       "    </tr>\n",
       "    <tr>\n",
       "      <th>15</th>\n",
       "      <td>128</td>\n",
       "      <td>985</td>\n",
       "      <td>0.611794</td>\n",
       "    </tr>\n",
       "    <tr>\n",
       "      <th>16</th>\n",
       "      <td>128</td>\n",
       "      <td>990</td>\n",
       "      <td>0.622179</td>\n",
       "    </tr>\n",
       "    <tr>\n",
       "      <th>17</th>\n",
       "      <td>128</td>\n",
       "      <td>945</td>\n",
       "      <td>0.601913</td>\n",
       "    </tr>\n",
       "    <tr>\n",
       "      <th>18</th>\n",
       "      <td>129</td>\n",
       "      <td>985</td>\n",
       "      <td>1000.979981</td>\n",
       "    </tr>\n",
       "    <tr>\n",
       "      <th>19</th>\n",
       "      <td>129</td>\n",
       "      <td>987</td>\n",
       "      <td>1000.515040</td>\n",
       "    </tr>\n",
       "    <tr>\n",
       "      <th>20</th>\n",
       "      <td>129</td>\n",
       "      <td>984</td>\n",
       "      <td>1000.481385</td>\n",
       "    </tr>\n",
       "    <tr>\n",
       "      <th>21</th>\n",
       "      <td>129</td>\n",
       "      <td>988</td>\n",
       "      <td>1000.305647</td>\n",
       "    </tr>\n",
       "    <tr>\n",
       "      <th>22</th>\n",
       "      <td>129</td>\n",
       "      <td>989</td>\n",
       "      <td>1000.417667</td>\n",
       "    </tr>\n",
       "    <tr>\n",
       "      <th>23</th>\n",
       "      <td>129</td>\n",
       "      <td>986</td>\n",
       "      <td>1000.893358</td>\n",
       "    </tr>\n",
       "    <tr>\n",
       "      <th>24</th>\n",
       "      <td>129</td>\n",
       "      <td>990</td>\n",
       "      <td>1000.652560</td>\n",
       "    </tr>\n",
       "    <tr>\n",
       "      <th>25</th>\n",
       "      <td>129</td>\n",
       "      <td>945</td>\n",
       "      <td>1000.030738</td>\n",
       "    </tr>\n",
       "    <tr>\n",
       "      <th>26</th>\n",
       "      <td>130</td>\n",
       "      <td>766</td>\n",
       "      <td>0.720328</td>\n",
       "    </tr>\n",
       "    <tr>\n",
       "      <th>27</th>\n",
       "      <td>130</td>\n",
       "      <td>858</td>\n",
       "      <td>0.701298</td>\n",
       "    </tr>\n",
       "    <tr>\n",
       "      <th>28</th>\n",
       "      <td>130</td>\n",
       "      <td>859</td>\n",
       "      <td>0.757961</td>\n",
       "    </tr>\n",
       "    <tr>\n",
       "      <th>29</th>\n",
       "      <td>130</td>\n",
       "      <td>1008</td>\n",
       "      <td>0.710945</td>\n",
       "    </tr>\n",
       "    <tr>\n",
       "      <th>...</th>\n",
       "      <td>...</td>\n",
       "      <td>...</td>\n",
       "      <td>...</td>\n",
       "    </tr>\n",
       "    <tr>\n",
       "      <th>817</th>\n",
       "      <td>224</td>\n",
       "      <td>1318</td>\n",
       "      <td>0.692088</td>\n",
       "    </tr>\n",
       "    <tr>\n",
       "      <th>818</th>\n",
       "      <td>224</td>\n",
       "      <td>1319</td>\n",
       "      <td>0.604497</td>\n",
       "    </tr>\n",
       "    <tr>\n",
       "      <th>819</th>\n",
       "      <td>224</td>\n",
       "      <td>1157</td>\n",
       "      <td>0.617420</td>\n",
       "    </tr>\n",
       "    <tr>\n",
       "      <th>820</th>\n",
       "      <td>224</td>\n",
       "      <td>1274</td>\n",
       "      <td>0.606127</td>\n",
       "    </tr>\n",
       "    <tr>\n",
       "      <th>821</th>\n",
       "      <td>224</td>\n",
       "      <td>1286</td>\n",
       "      <td>0.604949</td>\n",
       "    </tr>\n",
       "    <tr>\n",
       "      <th>822</th>\n",
       "      <td>225</td>\n",
       "      <td>1379</td>\n",
       "      <td>0.620813</td>\n",
       "    </tr>\n",
       "    <tr>\n",
       "      <th>823</th>\n",
       "      <td>225</td>\n",
       "      <td>1305</td>\n",
       "      <td>0.699450</td>\n",
       "    </tr>\n",
       "    <tr>\n",
       "      <th>824</th>\n",
       "      <td>225</td>\n",
       "      <td>1304</td>\n",
       "      <td>0.567758</td>\n",
       "    </tr>\n",
       "    <tr>\n",
       "      <th>825</th>\n",
       "      <td>225</td>\n",
       "      <td>40</td>\n",
       "      <td>0.645415</td>\n",
       "    </tr>\n",
       "    <tr>\n",
       "      <th>826</th>\n",
       "      <td>225</td>\n",
       "      <td>293</td>\n",
       "      <td>0.589396</td>\n",
       "    </tr>\n",
       "    <tr>\n",
       "      <th>827</th>\n",
       "      <td>225</td>\n",
       "      <td>1309</td>\n",
       "      <td>0.577400</td>\n",
       "    </tr>\n",
       "    <tr>\n",
       "      <th>828</th>\n",
       "      <td>225</td>\n",
       "      <td>161</td>\n",
       "      <td>0.675620</td>\n",
       "    </tr>\n",
       "    <tr>\n",
       "      <th>829</th>\n",
       "      <td>225</td>\n",
       "      <td>421</td>\n",
       "      <td>0.634516</td>\n",
       "    </tr>\n",
       "    <tr>\n",
       "      <th>830</th>\n",
       "      <td>225</td>\n",
       "      <td>1377</td>\n",
       "      <td>0.592831</td>\n",
       "    </tr>\n",
       "    <tr>\n",
       "      <th>831</th>\n",
       "      <td>225</td>\n",
       "      <td>1378</td>\n",
       "      <td>0.700648</td>\n",
       "    </tr>\n",
       "    <tr>\n",
       "      <th>832</th>\n",
       "      <td>225</td>\n",
       "      <td>1381</td>\n",
       "      <td>0.547989</td>\n",
       "    </tr>\n",
       "    <tr>\n",
       "      <th>833</th>\n",
       "      <td>225</td>\n",
       "      <td>225</td>\n",
       "      <td>0.598458</td>\n",
       "    </tr>\n",
       "    <tr>\n",
       "      <th>834</th>\n",
       "      <td>225</td>\n",
       "      <td>1380</td>\n",
       "      <td>0.557241</td>\n",
       "    </tr>\n",
       "    <tr>\n",
       "      <th>835</th>\n",
       "      <td>225</td>\n",
       "      <td>448</td>\n",
       "      <td>0.574508</td>\n",
       "    </tr>\n",
       "    <tr>\n",
       "      <th>836</th>\n",
       "      <td>225</td>\n",
       "      <td>449</td>\n",
       "      <td>0.625330</td>\n",
       "    </tr>\n",
       "    <tr>\n",
       "      <th>837</th>\n",
       "      <td>225</td>\n",
       "      <td>1124</td>\n",
       "      <td>0.602558</td>\n",
       "    </tr>\n",
       "    <tr>\n",
       "      <th>838</th>\n",
       "      <td>225</td>\n",
       "      <td>1280</td>\n",
       "      <td>0.558799</td>\n",
       "    </tr>\n",
       "    <tr>\n",
       "      <th>839</th>\n",
       "      <td>225</td>\n",
       "      <td>433</td>\n",
       "      <td>0.581711</td>\n",
       "    </tr>\n",
       "    <tr>\n",
       "      <th>840</th>\n",
       "      <td>225</td>\n",
       "      <td>923</td>\n",
       "      <td>0.567383</td>\n",
       "    </tr>\n",
       "    <tr>\n",
       "      <th>841</th>\n",
       "      <td>225</td>\n",
       "      <td>924</td>\n",
       "      <td>0.577445</td>\n",
       "    </tr>\n",
       "    <tr>\n",
       "      <th>842</th>\n",
       "      <td>225</td>\n",
       "      <td>1062</td>\n",
       "      <td>0.571289</td>\n",
       "    </tr>\n",
       "    <tr>\n",
       "      <th>843</th>\n",
       "      <td>225</td>\n",
       "      <td>1074</td>\n",
       "      <td>0.565775</td>\n",
       "    </tr>\n",
       "    <tr>\n",
       "      <th>844</th>\n",
       "      <td>225</td>\n",
       "      <td>1075</td>\n",
       "      <td>0.575994</td>\n",
       "    </tr>\n",
       "    <tr>\n",
       "      <th>845</th>\n",
       "      <td>225</td>\n",
       "      <td>1213</td>\n",
       "      <td>0.626277</td>\n",
       "    </tr>\n",
       "    <tr>\n",
       "      <th>846</th>\n",
       "      <td>225</td>\n",
       "      <td>1188</td>\n",
       "      <td>0.565596</td>\n",
       "    </tr>\n",
       "  </tbody>\n",
       "</table>\n",
       "<p>847 rows × 3 columns</p>\n",
       "</div>"
      ],
      "text/plain": [
       "     QueryId  DocumentId    relevance\n",
       "0        126         974     0.772774\n",
       "1        126        1326     0.780790\n",
       "2        126         187     0.794849\n",
       "3        126         969     0.764251\n",
       "4        126         970     0.789947\n",
       "5        126         971     0.817192\n",
       "6        126         972     0.787602\n",
       "7        126         973     0.872448\n",
       "8        126         942     0.791183\n",
       "9        127         101   -16.000000\n",
       "10       127         164    -2.000000\n",
       "11       127         981  1000.698665\n",
       "12       127         982  1000.041893\n",
       "13       127         983  1000.427971\n",
       "14       127         944  1000.051294\n",
       "15       128         985     0.611794\n",
       "16       128         990     0.622179\n",
       "17       128         945     0.601913\n",
       "18       129         985  1000.979981\n",
       "19       129         987  1000.515040\n",
       "20       129         984  1000.481385\n",
       "21       129         988  1000.305647\n",
       "22       129         989  1000.417667\n",
       "23       129         986  1000.893358\n",
       "24       129         990  1000.652560\n",
       "25       129         945  1000.030738\n",
       "26       130         766     0.720328\n",
       "27       130         858     0.701298\n",
       "28       130         859     0.757961\n",
       "29       130        1008     0.710945\n",
       "..       ...         ...          ...\n",
       "817      224        1318     0.692088\n",
       "818      224        1319     0.604497\n",
       "819      224        1157     0.617420\n",
       "820      224        1274     0.606127\n",
       "821      224        1286     0.604949\n",
       "822      225        1379     0.620813\n",
       "823      225        1305     0.699450\n",
       "824      225        1304     0.567758\n",
       "825      225          40     0.645415\n",
       "826      225         293     0.589396\n",
       "827      225        1309     0.577400\n",
       "828      225         161     0.675620\n",
       "829      225         421     0.634516\n",
       "830      225        1377     0.592831\n",
       "831      225        1378     0.700648\n",
       "832      225        1381     0.547989\n",
       "833      225         225     0.598458\n",
       "834      225        1380     0.557241\n",
       "835      225         448     0.574508\n",
       "836      225         449     0.625330\n",
       "837      225        1124     0.602558\n",
       "838      225        1280     0.558799\n",
       "839      225         433     0.581711\n",
       "840      225         923     0.567383\n",
       "841      225         924     0.577445\n",
       "842      225        1062     0.571289\n",
       "843      225        1074     0.565775\n",
       "844      225        1075     0.575994\n",
       "845      225        1213     0.626277\n",
       "846      225        1188     0.565596\n",
       "\n",
       "[847 rows x 3 columns]"
      ]
     },
     "execution_count": 211,
     "metadata": {},
     "output_type": "execute_result"
    }
   ],
   "source": [
    "to_send"
   ]
  },
  {
   "cell_type": "code",
   "execution_count": 205,
   "metadata": {},
   "outputs": [
    {
     "data": {
      "text/plain": [
       "False"
      ]
     },
     "execution_count": 205,
     "metadata": {},
     "output_type": "execute_result"
    }
   ],
   "source": [
    "1237512 in docs_ratings"
   ]
  },
  {
   "cell_type": "code",
   "execution_count": 212,
   "metadata": {
    "collapsed": true
   },
   "outputs": [],
   "source": [
    "srted = to_send.sort_values(by=['QueryId', 'relevance'])"
   ]
  },
  {
   "cell_type": "code",
   "execution_count": 214,
   "metadata": {
    "collapsed": true
   },
   "outputs": [],
   "source": [
    "srted[['QueryId', 'DocumentId']].to_csv('to_send_res_mew.csv', index=None)"
   ]
  },
  {
   "cell_type": "code",
   "execution_count": null,
   "metadata": {
    "collapsed": true
   },
   "outputs": [],
   "source": []
  }
 ],
 "metadata": {
  "kernelspec": {
   "display_name": "Python 3",
   "language": "python",
   "name": "python3"
  },
  "language_info": {
   "codemirror_mode": {
    "name": "ipython",
    "version": 3
   },
   "file_extension": ".py",
   "mimetype": "text/x-python",
   "name": "python",
   "nbconvert_exporter": "python",
   "pygments_lexer": "ipython3",
   "version": "3.6.3"
  }
 },
 "nbformat": 4,
 "nbformat_minor": 2
}
