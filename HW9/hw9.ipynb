{
 "cells": [
  {
   "cell_type": "markdown",
   "metadata": {},
   "source": [
    "<span style=\"font-size: 14pt\">MIPT, Advanced ML, Autumn 2017</span>\n",
    "\n",
    "<span style=\"font-size: 16pt\"> HW #9: Recommendation System\n",
    "\n",
    "<span style=\"color:blue; font-size: 12pt\">Andrey Saitgalin </span>\n",
    "<span style=\"color:blue; font-size: 12pt; font-family: 'Verdana'\">andrey.saitgalin@gmail.com</span>, \n",
    "\n",
    "<span style=\"color:blue; font-size: 12pt\">Alexey Dral </span>,\n",
    "<span style=\"color:blue; font-size: 12pt; font-family: 'Verdana'\">aadral@gmail.com</span>"
   ]
  },
  {
   "cell_type": "markdown",
   "metadata": {},
   "source": [
    "<h1 align=\"center\">Organization Info</h1> "
   ]
  },
  {
   "cell_type": "markdown",
   "metadata": {},
   "source": [
    "**Дополнительный материал для выполнения дз**:\n",
    "<a href= \"https://github.com/ml-mipt/ml-mipt-part2/tree/master/2017/lectures\">Лекции по курсу</a>\n",
    "\n",
    "**Оформление дз**: \n",
    "- Присылайте выполненное задание на почту ``ml.course.mipt@gmail.com``\n",
    "- Укажите тему письма в следующем формате ``ML2017_Aut_fall <номер_группы> <фамилия>``, к примеру -- ``ML2017_Aut_fall 401 ivanov``\n",
    "- Выполненное дз сохраните в файл ``<фамилия>_<группа>_task<номер>.ipnb``, к примеру -- ``ivanov_491_task9.ipnb``\n",
    "\n",
    "**Вопросы**:\n",
    "- Присылайте вопросы на почту ``ml.course.mipt@gmail.com``\n",
    "- Укажите тему письма в следующем формате ``ML2017_Aut_fall Question <Содержание вопроса>``\n",
    "\n",
    "** Дедлайн**:\n",
    "<span style=\"color:red; font-size: 12pt\">16.12.2017 23:59 </span>\n",
    "\n",
    "--------\n",
    "- **PS1**: Мы используем автоматические фильтры, и просто не найдем ваше дз, если вы не аккуратно его подпишите.\n",
    "- **PS2**: Напоминаем, что дедлайны жесткие, письма пришедшие после автоматически удаляются =( чтобы соблазна не было."
   ]
  },
  {
   "cell_type": "markdown",
   "metadata": {},
   "source": [
    "<h1 align=\"center\">Check Questions (0%)</h1> \n",
    "Вопросы отсутствуют"
   ]
  },
  {
   "cell_type": "markdown",
   "metadata": {},
   "source": [
    "<h1 align=\"center\"> Practical tasks (100%)</h1>\n",
    "\n",
    "\n",
    "# Построение content-based рекомендательной системы\n",
    "## Part 1\n",
    "Для каждого фильма получите описание в текстовом виде с IMDB или (и) The movie database (у них есть открытое API). https://www.themoviedb.org/?language=ru. Вывести описание фильма под id 778. Также можно использовать рецензии."
   ]
  },
  {
   "cell_type": "code",
   "execution_count": 1,
   "metadata": {
    "collapsed": true
   },
   "outputs": [],
   "source": [
    "api_key=\"b182f780a94479784568b6e3e0eb4718\""
   ]
  },
  {
   "cell_type": "code",
   "execution_count": 6,
   "metadata": {
    "collapsed": true
   },
   "outputs": [],
   "source": [
    "import json"
   ]
  },
  {
   "cell_type": "code",
   "execution_count": 7,
   "metadata": {
    "collapsed": true
   },
   "outputs": [],
   "source": [
    "import requests"
   ]
  },
  {
   "cell_type": "code",
   "execution_count": 8,
   "metadata": {
    "collapsed": true
   },
   "outputs": [],
   "source": [
    "got = requests.get(\"https://api.themoviedb.org/3/movie/latest?api_key={}\".format(api_key))"
   ]
  },
  {
   "cell_type": "code",
   "execution_count": 9,
   "metadata": {},
   "outputs": [
    {
     "data": {
      "text/plain": [
       "<Response [200]>"
      ]
     },
     "execution_count": 9,
     "metadata": {},
     "output_type": "execute_result"
    }
   ],
   "source": [
    "got"
   ]
  },
  {
   "cell_type": "code",
   "execution_count": 10,
   "metadata": {},
   "outputs": [
    {
     "data": {
      "text/plain": [
       "{'adult': False,\n",
       " 'backdrop_path': None,\n",
       " 'belongs_to_collection': None,\n",
       " 'budget': 0,\n",
       " 'genres': [],\n",
       " 'homepage': '',\n",
       " 'id': 492933,\n",
       " 'imdb_id': None,\n",
       " 'original_language': 'es',\n",
       " 'original_title': 'RIP - Punkaren 25 Urteko Historia Bizia / Historia Viva Del Punk',\n",
       " 'overview': '',\n",
       " 'popularity': 0.0,\n",
       " 'poster_path': None,\n",
       " 'production_companies': [],\n",
       " 'production_countries': [],\n",
       " 'release_date': '',\n",
       " 'revenue': 0,\n",
       " 'runtime': None,\n",
       " 'spoken_languages': [],\n",
       " 'status': 'Released',\n",
       " 'tagline': '',\n",
       " 'title': 'RIP - Punkaren 25 Urteko Historia Bizia / Historia Viva Del Punk',\n",
       " 'video': False,\n",
       " 'vote_average': 0.0,\n",
       " 'vote_count': 0}"
      ]
     },
     "execution_count": 10,
     "metadata": {},
     "output_type": "execute_result"
    }
   ],
   "source": [
    "json.loads(got.content)"
   ]
  },
  {
   "cell_type": "code",
   "execution_count": 11,
   "metadata": {},
   "outputs": [
    {
     "data": {
      "text/plain": [
       "492933"
      ]
     },
     "execution_count": 11,
     "metadata": {},
     "output_type": "execute_result"
    }
   ],
   "source": [
    "json.loads(got.content)['id']"
   ]
  },
  {
   "cell_type": "markdown",
   "metadata": {},
   "source": [
    "492710 - максимальный айди"
   ]
  },
  {
   "cell_type": "code",
   "execution_count": 12,
   "metadata": {},
   "outputs": [
    {
     "data": {
      "text/plain": [
       "<Response [200]>"
      ]
     },
     "execution_count": 12,
     "metadata": {},
     "output_type": "execute_result"
    }
   ],
   "source": [
    "got"
   ]
  },
  {
   "cell_type": "code",
   "execution_count": 13,
   "metadata": {
    "collapsed": true
   },
   "outputs": [],
   "source": [
    "got = requests.get(\"https://api.themoviedb.org/3/movie/492710,1231?api_key={}\".format(api_key))"
   ]
  },
  {
   "cell_type": "code",
   "execution_count": 14,
   "metadata": {
    "collapsed": true
   },
   "outputs": [],
   "source": [
    "\n",
    "from tqdm import tqdm"
   ]
  },
  {
   "cell_type": "code",
   "execution_count": 15,
   "metadata": {},
   "outputs": [
    {
     "data": {
      "text/plain": [
       "200"
      ]
     },
     "execution_count": 15,
     "metadata": {},
     "output_type": "execute_result"
    }
   ],
   "source": [
    "got.status_code"
   ]
  },
  {
   "cell_type": "code",
   "execution_count": 16,
   "metadata": {
    "collapsed": true
   },
   "outputs": [],
   "source": [
    "with open('/Users/semenfedotov/Downloads/movie_ids_04_28_2017.json', 'r')as f:\n",
    "    idyuki = f.read()"
   ]
  },
  {
   "cell_type": "code",
   "execution_count": 17,
   "metadata": {},
   "outputs": [
    {
     "data": {
      "text/plain": [
       "34215926"
      ]
     },
     "execution_count": 17,
     "metadata": {},
     "output_type": "execute_result"
    }
   ],
   "source": [
    "len(idyuki)"
   ]
  },
  {
   "cell_type": "code",
   "execution_count": 18,
   "metadata": {},
   "outputs": [
    {
     "data": {
      "text/plain": [
       "'l'"
      ]
     },
     "execution_count": 18,
     "metadata": {},
     "output_type": "execute_result"
    }
   ],
   "source": [
    "idyuki[100]"
   ]
  },
  {
   "cell_type": "code",
   "execution_count": 78,
   "metadata": {},
   "outputs": [
    {
     "data": {
      "text/plain": [
       "22.916666666666668"
      ]
     },
     "execution_count": 78,
     "metadata": {},
     "output_type": "execute_result"
    }
   ],
   "source": [
    "330000 / 4. / 60. / 60."
   ]
  },
  {
   "cell_type": "code",
   "execution_count": 83,
   "metadata": {
    "collapsed": true
   },
   "outputs": [
    {
     "data": {
      "text/plain": [
       "['{\"adult\":false,\"id\":3924,\"original_title\":\"Blondie\",\"popularity\":0.007887,\"video\":false}',\n",
       " '{\"adult\":false,\"id\":6124,\"original_title\":\"Der Mann ohne Namen\",\"popularity\":0.000148,\"video\":false}',\n",
       " '{\"adult\":true,\"id\":26228,\"original_title\":\"Rocco - Perfect Girls 5\",\"popularity\":1e-06,\"video\":false}',\n",
       " '{\"adult\":false,\"id\":8,\"original_title\":\"Life in Loops (A Megacities RMX)\",\"popularity\":0.002341,\"video\":false}',\n",
       " '{\"adult\":false,\"id\":12,\"original_title\":\"Finding Nemo\",\"popularity\":3.70387,\"video\":false}',\n",
       " '{\"adult\":false,\"id\":16,\"original_title\":\"Dancer in the Dark\",\"popularity\":1.036447,\"video\":false}',\n",
       " '{\"adult\":false,\"id\":20,\"original_title\":\"My Life Without Me\",\"popularity\":0.386226,\"video\":false}',\n",
       " '{\"adult\":false,\"id\":24,\"original_title\":\"Kill Bill: Vol. 1\",\"popularity\":3.315225,\"video\":false}',\n",
       " '{\"adult\":false,\"id\":28,\"original_title\":\"Apocalypse Now\",\"popularity\":2.720825,\"video\":false}',\n",
       " '{\"adult\":false,\"id\":32,\"original_title\":\"大砲の街\",\"popularity\":0.067536,\"video\":false}',\n",
       " '{\"adult\":false,\"id\":64,\"original_title\":\"Hable con Ella\",\"popularity\":0.337588,\"video\":false}',\n",
       " '{\"adult\":false,\"id\":68,\"original_title\":\"Brazil\",\"popularity\":1.346437,\"video\":false}',\n",
       " '{\"adult\":false,\"id\":76,\"original_title\":\"Before Sunrise\",\"popularity\":1.120124,\"video\":false}',\n",
       " '{\"adult\":false,\"id\":80,\"original_title\":\"Before Sunset\",\"popularity\":1.45449,\"video\":false}',\n",
       " '{\"adult\":false,\"id\":88,\"original_title\":\"Dirty Dancing\",\"popularity\":1.796395,\"video\":false}',\n",
       " '{\"adult\":false,\"id\":92,\"original_title\":\"Megacities\",\"popularity\":0.01512,\"video\":false}',\n",
       " '{\"adult\":false,\"id\":96,\"original_title\":\"Beverly Hills Cop II\",\"popularity\":1.495421,\"video\":false}',\n",
       " '{\"adult\":false,\"id\":100,\"original_title\":\"Lock, Stock and Two Smoking Barrels\",\"popularity\":0.446304,\"video\":false}',\n",
       " '{\"adult\":false,\"id\":104,\"original_title\":\"Lola rennt\",\"popularity\":1.226945,\"video\":false}',\n",
       " '{\"adult\":false,\"id\":108,\"original_title\":\"Trois couleurs : Bleu\",\"popularity\":0.479669,\"video\":false}',\n",
       " '{\"adult\":false,\"id\":112,\"original_title\":\"Italiensk for begyndere\",\"popularity\":0.291895,\"video\":false}',\n",
       " '{\"adult\":false,\"id\":116,\"original_title\":\"Match Point\",\"popularity\":1.180983,\"video\":false}',\n",
       " '{\"adult\":false,\"id\":120,\"original_title\":\"The Lord of the Rings: The Fellowship of the Ring\",\"popularity\":6.314831,\"video\":false}',\n",
       " '{\"adult\":false,\"id\":124,\"original_title\":\"Bez Konca\",\"popularity\":0.300705,\"video\":false}',\n",
       " '{\"adult\":false,\"id\":128,\"original_title\":\"もののけ姫\",\"popularity\":1.662646,\"video\":false}',\n",
       " '{\"adult\":false,\"id\":132,\"original_title\":\"Gimme Shelter\",\"popularity\":0.019408,\"video\":false}',\n",
       " '{\"adult\":false,\"id\":136,\"original_title\":\"Freaks\",\"popularity\":0.867463,\"video\":false}',\n",
       " '{\"adult\":false,\"id\":140,\"original_title\":\"La mala educación\",\"popularity\":0.46452,\"video\":false}',\n",
       " '{\"adult\":false,\"id\":144,\"original_title\":\"Der Himmel über Berlin\",\"popularity\":0.422968,\"video\":false}',\n",
       " '{\"adult\":false,\"id\":148,\"original_title\":\"The Secret Life of Words\",\"popularity\":0.403019,\"video\":false}',\n",
       " '{\"adult\":false,\"id\":152,\"original_title\":\"Star Trek: The Motion Picture\",\"popularity\":1.203231,\"video\":false}',\n",
       " '{\"adult\":false,\"id\":156,\"original_title\":\"Wilbur begår selvmord\",\"popularity\":0.1423,\"video\":false}',\n",
       " '{\"adult\":false,\"id\":160,\"original_title\":\"L\\'arrivée d\\'un train en gare de La Ciotat\",\"popularity\":0.326275,\"video\":false}',\n",
       " '{\"adult\":false,\"id\":164,\"original_title\":\"Breakfast at Tiffany\\'s\",\"popularity\":2.27315,\"video\":false}',\n",
       " '{\"adult\":false,\"id\":168,\"original_title\":\"Star Trek IV: The Voyage Home\",\"popularity\":0.721403,\"video\":false}',\n",
       " '{\"adult\":false,\"id\":172,\"original_title\":\"Star Trek V: The Final Frontier\",\"popularity\":0.923463,\"video\":false}',\n",
       " '{\"adult\":false,\"id\":176,\"original_title\":\"Saw\",\"popularity\":2.514102,\"video\":false}',\n",
       " '{\"adult\":false,\"id\":180,\"original_title\":\"Minority Report\",\"popularity\":2.461821,\"video\":false}',\n",
       " '{\"adult\":false,\"id\":184,\"original_title\":\"Jackie Brown\",\"popularity\":1.059198,\"video\":false}',\n",
       " '{\"adult\":false,\"id\":192,\"original_title\":\"The Name of the Rose\",\"popularity\":1.094595,\"video\":false}',\n",
       " '{\"adult\":false,\"id\":196,\"original_title\":\"Back to the Future Part III\",\"popularity\":1.936688,\"video\":false}',\n",
       " '{\"adult\":false,\"id\":200,\"original_title\":\"Star Trek: Insurrection\",\"popularity\":0.686485,\"video\":false}',\n",
       " '{\"adult\":false,\"id\":204,\"original_title\":\"Le salaire de la peur\",\"popularity\":0.539926,\"video\":false}',\n",
       " '{\"adult\":false,\"id\":212,\"original_title\":\"Arsenic and Old Lace\",\"popularity\":0.61283,\"video\":false}',\n",
       " '{\"adult\":false,\"id\":216,\"original_title\":\"Angst essen Seele auf\",\"popularity\":0.161699,\"video\":false}',\n",
       " '{\"adult\":false,\"id\":220,\"original_title\":\"East of Eden\",\"popularity\":1.001922,\"video\":false}',\n",
       " '{\"adult\":false,\"id\":224,\"original_title\":\"Człowiek z marmuru\",\"popularity\":0.252221,\"video\":false}',\n",
       " '{\"adult\":false,\"id\":228,\"original_title\":\"Der blaue Engel\",\"popularity\":0.414633,\"video\":false}',\n",
       " '{\"adult\":false,\"id\":232,\"original_title\":\"Rumble Fish\",\"popularity\":0.392594,\"video\":false}',\n",
       " '{\"adult\":false,\"id\":236,\"original_title\":\"Muriel\\'s Wedding\",\"popularity\":0.469896,\"video\":false}',\n",
       " '{\"adult\":false,\"id\":240,\"original_title\":\"The Godfather: Part II\",\"popularity\":3.55439,\"video\":false}',\n",
       " '{\"adult\":false,\"id\":244,\"original_title\":\"King Kong\",\"popularity\":0.773396,\"video\":false}',\n",
       " '{\"adult\":false,\"id\":248,\"original_title\":\"Pocketful of Miracles\",\"popularity\":0.081187,\"video\":false}',\n",
       " '{\"adult\":false,\"id\":252,\"original_title\":\"Willy Wonka & the Chocolate Factory\",\"popularity\":0.796911,\"video\":false}',\n",
       " '{\"adult\":false,\"id\":256,\"original_title\":\"Antoine et Colette\",\"popularity\":0.10359,\"video\":false}',\n",
       " '{\"adult\":false,\"id\":260,\"original_title\":\"The 39 Steps\",\"popularity\":0.382511,\"video\":false}',\n",
       " '{\"adult\":false,\"id\":268,\"original_title\":\"Batman\",\"popularity\":2.418779,\"video\":false}',\n",
       " '{\"adult\":false,\"id\":272,\"original_title\":\"Batman Begins\",\"popularity\":6.455126,\"video\":false}',\n",
       " '{\"adult\":false,\"id\":276,\"original_title\":\"Die fetten Jahre sind vorbei\",\"popularity\":0.313083,\"video\":false}',\n",
       " '{\"adult\":false,\"id\":280,\"original_title\":\"Terminator 2: Judgment Day\",\"popularity\":5.043438,\"video\":false}',\n",
       " '{\"adult\":false,\"id\":284,\"original_title\":\"The Apartment\",\"popularity\":0.804183,\"video\":false}',\n",
       " '{\"adult\":false,\"id\":288,\"original_title\":\"High Noon\",\"popularity\":0.605799,\"video\":false}',\n",
       " '{\"adult\":false,\"id\":292,\"original_title\":\"Dave Chappelle\\'s Block Party\",\"popularity\":0.056902,\"video\":false}',\n",
       " '{\"adult\":false,\"id\":296,\"original_title\":\"Terminator 3: Rise of the Machines\",\"popularity\":4.041142,\"video\":false}',\n",
       " '{\"adult\":false,\"id\":300,\"original_title\":\"La science des rêves\",\"popularity\":0.238933,\"video\":false}',\n",
       " '{\"adult\":false,\"id\":308,\"original_title\":\"Broken Flowers\",\"popularity\":0.367628,\"video\":false}',\n",
       " '{\"adult\":false,\"id\":312,\"original_title\":\"Jenseits der Stille\",\"popularity\":0.079095,\"video\":false}',\n",
       " '{\"adult\":false,\"id\":316,\"original_title\":\"Halbe Treppe\",\"popularity\":0.060791,\"video\":false}',\n",
       " '{\"adult\":false,\"id\":320,\"original_title\":\"Insomnia\",\"popularity\":1.443791,\"video\":false}',\n",
       " '{\"adult\":false,\"id\":332,\"original_title\":\"Inspector Gadget\",\"popularity\":0.354172,\"video\":false}',\n",
       " '{\"adult\":false,\"id\":336,\"original_title\":\"Giù la testa\",\"popularity\":0.346583,\"video\":false}',\n",
       " '{\"adult\":false,\"id\":340,\"original_title\":\"Everything is Illuminated\",\"popularity\":0.368267,\"video\":false}',\n",
       " '{\"adult\":false,\"id\":344,\"original_title\":\"Bang Boom Bang - Ein todsicheres Ding\",\"popularity\":0.168494,\"video\":false}',\n",
       " '{\"adult\":false,\"id\":348,\"original_title\":\"Alien\",\"popularity\":4.695676,\"video\":false}',\n",
       " '{\"adult\":false,\"id\":364,\"original_title\":\"Batman Returns\",\"popularity\":2.579937,\"video\":false}',\n",
       " '{\"adult\":false,\"id\":380,\"original_title\":\"Rain Man\",\"popularity\":1.260585,\"video\":false}',\n",
       " '{\"adult\":false,\"id\":388,\"original_title\":\"Inside Man\",\"popularity\":2.255715,\"video\":false}',\n",
       " '{\"adult\":false,\"id\":392,\"original_title\":\"Chocolat\",\"popularity\":1.534577,\"video\":false}',\n",
       " '{\"adult\":false,\"id\":396,\"original_title\":\"Who\\'s Afraid of Virginia Woolf?\",\"popularity\":0.154167,\"video\":false}',\n",
       " '{\"adult\":false,\"id\":400,\"original_title\":\"Things to Do in Denver When You\\'re Dead\",\"popularity\":0.404358,\"video\":false}',\n",
       " '{\"adult\":false,\"id\":404,\"original_title\":\"The Straight Story\",\"popularity\":0.267242,\"video\":false}',\n",
       " '{\"adult\":false,\"id\":408,\"original_title\":\"Snow White and the Seven Dwarfs\",\"popularity\":3.639582,\"video\":false}',\n",
       " '{\"adult\":false,\"id\":424,\"original_title\":\"Schindler\\'s List\",\"popularity\":4.567221,\"video\":false}',\n",
       " '{\"adult\":false,\"id\":428,\"original_title\":\"Sommer \\'04\",\"popularity\":0.271527,\"video\":false}',\n",
       " '{\"adult\":false,\"id\":436,\"original_title\":\"María, llena eres de gracia\",\"popularity\":0.138546,\"video\":false}',\n",
       " '{\"adult\":false,\"id\":440,\"original_title\":\"Aliens vs Predator: Requiem\",\"popularity\":1.119931,\"video\":false}',\n",
       " '{\"adult\":false,\"id\":452,\"original_title\":\"Idioterne\",\"popularity\":0.760361,\"video\":false}',\n",
       " '{\"adult\":false,\"id\":460,\"original_title\":\"Alles auf Zucker!\",\"popularity\":0.049602,\"video\":false}',\n",
       " '{\"adult\":false,\"id\":464,\"original_title\":\"Så som i himmelen\",\"popularity\":0.35576,\"video\":false}',\n",
       " '{\"adult\":false,\"id\":468,\"original_title\":\"My Own Private Idaho\",\"popularity\":0.320591,\"video\":false}',\n",
       " '{\"adult\":false,\"id\":476,\"original_title\":\"Drugstore Cowboy\",\"popularity\":0.135177,\"video\":false}',\n",
       " '{\"adult\":false,\"id\":480,\"original_title\":\"Monsoon Wedding\",\"popularity\":0.035,\"video\":false}',\n",
       " '{\"adult\":false,\"id\":488,\"original_title\":\"The African Queen\",\"popularity\":0.229743,\"video\":false}',\n",
       " '{\"adult\":false,\"id\":492,\"original_title\":\"Being John Malkovich\",\"popularity\":0.728706,\"video\":false}',\n",
       " '{\"adult\":false,\"id\":496,\"original_title\":\"Borat: Cultural Learnings of America for Make Benefit Glorious Nation of Kazakhstan\",\"popularity\":1.251126,\"video\":false}',\n",
       " '{\"adult\":false,\"id\":500,\"original_title\":\"Reservoir Dogs\",\"popularity\":3.843371,\"video\":false}',\n",
       " '{\"adult\":false,\"id\":504,\"original_title\":\"Monster\",\"popularity\":0.651755,\"video\":false}',\n",
       " '{\"adult\":false,\"id\":508,\"original_title\":\"Love Actually\",\"popularity\":1.242028,\"video\":false}',\n",
       " '{\"adult\":false,\"id\":512,\"original_title\":\"Scoop\",\"popularity\":0.413679,\"video\":false}',\n",
       " '{\"adult\":false,\"id\":524,\"original_title\":\"Casino\",\"popularity\":2.414061,\"video\":false}',\n",
       " '{\"adult\":false,\"id\":532,\"original_title\":\"A Close Shave\",\"popularity\":0.779914,\"video\":false}',\n",
       " '{\"adult\":false,\"id\":536,\"original_title\":\"Stuttgart Shanghai\",\"popularity\":0.000431,\"video\":false}',\n",
       " '{\"adult\":false,\"id\":540,\"original_title\":\"D.E.B.S.\",\"popularity\":0.479533,\"video\":false}',\n",
       " '{\"adult\":false,\"id\":544,\"original_title\":\"There\\'s Something About Mary\",\"popularity\":1.049444,\"video\":false}',\n",
       " '{\"adult\":false,\"id\":548,\"original_title\":\"羅生門\",\"popularity\":0.378353,\"video\":false}',\n",
       " '{\"adult\":false,\"id\":552,\"original_title\":\"Pane e Tulipani\",\"popularity\":0.319328,\"video\":false}',\n",
       " '{\"adult\":false,\"id\":560,\"original_title\":\"Secret Beyond the Door\",\"popularity\":0.149472,\"video\":false}',\n",
       " '{\"adult\":false,\"id\":564,\"original_title\":\"The Mummy\",\"popularity\":3.164537,\"video\":false}',\n",
       " '{\"adult\":false,\"id\":568,\"original_title\":\"Apollo 13\",\"popularity\":1.04375,\"video\":false}',\n",
       " '{\"adult\":false,\"id\":572,\"original_title\":\"Naboer\",\"popularity\":0.145659,\"video\":false}',\n",
       " '{\"adult\":false,\"id\":576,\"original_title\":\"The Wild Bunch\",\"popularity\":0.516207,\"video\":false}',\n",
       " '{\"adult\":false,\"id\":580,\"original_title\":\"Jaws: The Revenge\",\"popularity\":1.236663,\"video\":false}',\n",
       " '{\"adult\":false,\"id\":584,\"original_title\":\"2 Fast 2 Furious\",\"popularity\":0.717028,\"video\":false}',\n",
       " '{\"adult\":false,\"id\":588,\"original_title\":\"Silent Hill\",\"popularity\":1.13233,\"video\":false}',\n",
       " '{\"adult\":false,\"id\":592,\"original_title\":\"The Conversation\",\"popularity\":0.683878,\"video\":false}',\n",
       " '{\"adult\":false,\"id\":596,\"original_title\":\"The Grapes of Wrath\",\"popularity\":0.965998,\"video\":false}',\n",
       " '{\"adult\":false,\"id\":600,\"original_title\":\"Full Metal Jacket\",\"popularity\":2.891981,\"video\":false}',\n",
       " '{\"adult\":false,\"id\":604,\"original_title\":\"The Matrix Reloaded\",\"popularity\":2.278243,\"video\":false}',\n",
       " '{\"adult\":false,\"id\":608,\"original_title\":\"Men in Black II\",\"popularity\":2.683644,\"video\":false}',\n",
       " '{\"adult\":false,\"id\":612,\"original_title\":\"Munich\",\"popularity\":0.912009,\"video\":false}',\n",
       " '{\"adult\":false,\"id\":616,\"original_title\":\"The Last Samurai\",\"popularity\":2.490574,\"video\":false}',\n",
       " '{\"adult\":false,\"id\":620,\"original_title\":\"Ghostbusters\",\"popularity\":2.190044,\"video\":false}',\n",
       " '{\"adult\":false,\"id\":624,\"original_title\":\"Easy Rider\",\"popularity\":0.701495,\"video\":false}',\n",
       " '{\"adult\":false,\"id\":628,\"original_title\":\"Interview with the Vampire\",\"popularity\":1.661432,\"video\":false}',\n",
       " '{\"adult\":false,\"id\":632,\"original_title\":\"Stalag 17\",\"popularity\":0.347148,\"video\":false}',\n",
       " '{\"adult\":false,\"id\":636,\"original_title\":\"THX 1138\",\"popularity\":0.678138,\"video\":false}',\n",
       " '{\"adult\":false,\"id\":640,\"original_title\":\"Catch Me If You Can\",\"popularity\":3.359049,\"video\":false}',\n",
       " '{\"adult\":false,\"id\":644,\"original_title\":\"A.I. Artificial Intelligence\",\"popularity\":2.065731,\"video\":false}',\n",
       " '{\"adult\":false,\"id\":648,\"original_title\":\"La belle et la bête\",\"popularity\":0.411095,\"video\":false}',\n",
       " '{\"adult\":false,\"id\":652,\"original_title\":\"Troy\",\"popularity\":3.405579,\"video\":false}',\n",
       " '{\"adult\":false,\"id\":660,\"original_title\":\"Thunderball\",\"popularity\":2.202953,\"video\":false}',\n",
       " '{\"adult\":false,\"id\":664,\"original_title\":\"Twister\",\"popularity\":1.21637,\"video\":false}',\n",
       " '{\"adult\":false,\"id\":668,\"original_title\":\"On Her Majesty\\'s Secret Service\",\"popularity\":1.784317,\"video\":false}',\n",
       " '{\"adult\":false,\"id\":672,\"original_title\":\"Harry Potter and the Chamber of Secrets\",\"popularity\":4.450172,\"video\":false}',\n",
       " '{\"adult\":false,\"id\":676,\"original_title\":\"Pearl Harbor\",\"popularity\":0.956383,\"video\":false}',\n",
       " '{\"adult\":false,\"id\":680,\"original_title\":\"Pulp Fiction\",\"popularity\":6.560417,\"video\":false}',\n",
       " '{\"adult\":false,\"id\":688,\"original_title\":\"The Bridges of Madison County\",\"popularity\":0.679551,\"video\":false}',\n",
       " '{\"adult\":false,\"id\":692,\"original_title\":\"Pink Flamingos\",\"popularity\":0.209084,\"video\":false}',\n",
       " '{\"adult\":false,\"id\":696,\"original_title\":\"Manhattan\",\"popularity\":1.387066,\"video\":false}',\n",
       " '{\"adult\":false,\"id\":700,\"original_title\":\"Octopussy\",\"popularity\":1.903962,\"video\":false}',\n",
       " '{\"adult\":false,\"id\":704,\"original_title\":\"A Hard Day\\'s Night\",\"popularity\":0.449578,\"video\":false}',\n",
       " '{\"adult\":false,\"id\":708,\"original_title\":\"The Living Daylights\",\"popularity\":1.645128,\"video\":false}',\n",
       " '{\"adult\":false,\"id\":712,\"original_title\":\"Four Weddings and a Funeral\",\"popularity\":0.696423,\"video\":false}',\n",
       " '{\"adult\":false,\"id\":744,\"original_title\":\"Top Gun\",\"popularity\":1.562174,\"video\":false}',\n",
       " '{\"adult\":false,\"id\":752,\"original_title\":\"V for Vendetta\",\"popularity\":5.010921,\"video\":false}',\n",
       " '{\"adult\":false,\"id\":756,\"original_title\":\"Fantasia\",\"popularity\":1.930998,\"video\":false}',\n",
       " '{\"adult\":false,\"id\":760,\"original_title\":\"Les aventures de Rabbi Jacob\",\"popularity\":0.431109,\"video\":false}',\n",
       " '{\"adult\":false,\"id\":764,\"original_title\":\"The Evil Dead\",\"popularity\":1.319727,\"video\":false}',\n",
       " '{\"adult\":false,\"id\":768,\"original_title\":\"From Hell\",\"popularity\":1.119537,\"video\":false}',\n",
       " '{\"adult\":false,\"id\":772,\"original_title\":\"Home Alone 2: Lost In New York\",\"popularity\":2.364515,\"video\":false}',\n",
       " '{\"adult\":false,\"id\":776,\"original_title\":\"La Règle du jeu\",\"popularity\":0.818342,\"video\":false}',\n",
       " '{\"adult\":false,\"id\":780,\"original_title\":\"La passion de Jeanne d\\'Arc\",\"popularity\":0.213683,\"video\":false}',\n",
       " '{\"adult\":false,\"id\":784,\"original_title\":\"Kolja\",\"popularity\":0.146523,\"video\":false}',\n",
       " '{\"adult\":false,\"id\":788,\"original_title\":\"Mrs. Doubtfire\",\"popularity\":2.501934,\"video\":false}',\n",
       " '{\"adult\":false,\"id\":792,\"original_title\":\"Platoon\",\"popularity\":1.390516,\"video\":false}',\n",
       " '{\"adult\":false,\"id\":796,\"original_title\":\"Cruel Intentions\",\"popularity\":1.919296,\"video\":false}',\n",
       " '{\"adult\":false,\"id\":800,\"original_title\":\"Los Olvidados\",\"popularity\":0.301634,\"video\":false}',\n",
       " '{\"adult\":false,\"id\":804,\"original_title\":\"Roman Holiday\",\"popularity\":0.829104,\"video\":false}',\n",
       " '{\"adult\":false,\"id\":808,\"original_title\":\"Shrek\",\"popularity\":3.707561,\"video\":false}',\n",
       " '{\"adult\":false,\"id\":812,\"original_title\":\"Aladdin\",\"popularity\":3.360267,\"video\":false}',\n",
       " '{\"adult\":false,\"id\":816,\"original_title\":\"Austin Powers: International Man of Mystery\",\"popularity\":0.88509,\"video\":false}',\n",
       " '{\"adult\":false,\"id\":820,\"original_title\":\"JFK\",\"popularity\":0.894079,\"video\":false}',\n",
       " '{\"adult\":false,\"id\":824,\"original_title\":\"Moulin Rouge!\",\"popularity\":1.349346,\"video\":false}',\n",
       " '{\"adult\":false,\"id\":828,\"original_title\":\"The Day the Earth Stood Still\",\"popularity\":0.290584,\"video\":false}',\n",
       " '{\"adult\":false,\"id\":832,\"original_title\":\"M\",\"popularity\":0.916237,\"video\":false}',\n",
       " '{\"adult\":false,\"id\":836,\"original_title\":\"Vidas secas\",\"popularity\":0.088809,\"video\":false}',\n",
       " '{\"adult\":false,\"id\":840,\"original_title\":\"Close Encounters of the Third Kind\",\"popularity\":1.0783,\"video\":false}',\n",
       " '{\"adult\":false,\"id\":844,\"original_title\":\"2046\",\"popularity\":0.508661,\"video\":false}',\n",
       " '{\"adult\":false,\"id\":848,\"original_title\":\"Dragonslayer\",\"popularity\":0.622571,\"video\":false}',\n",
       " '{\"adult\":false,\"id\":852,\"original_title\":\"Es geschah am hellichten Tag\",\"popularity\":0.091158,\"video\":false}',\n",
       " '{\"adult\":false,\"id\":856,\"original_title\":\"Who Framed Roger Rabbit\",\"popularity\":1.896444,\"video\":false}',\n",
       " '{\"adult\":false,\"id\":860,\"original_title\":\"WarGames\",\"popularity\":0.496711,\"video\":false}',\n",
       " '{\"adult\":false,\"id\":864,\"original_title\":\"Cool Runnings\",\"popularity\":1.489055,\"video\":false}',\n",
       " '{\"adult\":false,\"id\":868,\"original_title\":\"Tsotsi\",\"popularity\":0.229802,\"video\":false}',\n",
       " '{\"adult\":false,\"id\":872,\"original_title\":\"Singin\\' in the Rain\",\"popularity\":1.477293,\"video\":false}',\n",
       " '{\"adult\":false,\"id\":876,\"original_title\":\"Frank Herbert\\'s Dune\",\"popularity\":0.453539,\"video\":false}',\n",
       " '{\"adult\":false,\"id\":880,\"original_title\":\"Antonia\",\"popularity\":0.325913,\"video\":false}',\n",
       " '{\"adult\":false,\"id\":884,\"original_title\":\"Crash\",\"popularity\":0.619893,\"video\":false}',\n",
       " '{\"adult\":false,\"id\":888,\"original_title\":\"The Flintstones\",\"popularity\":0.8207140000000001,\"video\":false}',\n",
       " '{\"adult\":false,\"id\":892,\"original_title\":\"Delicatessen\",\"popularity\":0.866238,\"video\":false}',\n",
       " '{\"adult\":false,\"id\":896,\"original_title\":\"অপুর সংসার\",\"popularity\":0.361698,\"video\":false}',\n",
       " '{\"adult\":false,\"id\":900,\"original_title\":\"Bringing Up Baby\",\"popularity\":0.518402,\"video\":false}',\n",
       " '{\"adult\":false,\"id\":904,\"original_title\":\"Der Stolz der Firma\",\"popularity\":0.00015,\"video\":false}',\n",
       " '{\"adult\":false,\"id\":908,\"original_title\":\"Het Schnitzelparadijs\",\"popularity\":0.01134,\"video\":false}',\n",
       " '{\"adult\":false,\"id\":912,\"original_title\":\"The Thomas Crown Affair\",\"popularity\":0.907263,\"video\":false}',\n",
       " '{\"adult\":false,\"id\":916,\"original_title\":\"Bullitt\",\"popularity\":0.859381,\"video\":false}',\n",
       " '{\"adult\":false,\"id\":920,\"original_title\":\"Cars\",\"popularity\":4.021236,\"video\":false}',\n",
       " '{\"adult\":false,\"id\":924,\"original_title\":\"Dawn of the Dead\",\"popularity\":1.848006,\"video\":false}',\n",
       " '{\"adult\":false,\"id\":928,\"original_title\":\"Gremlins 2: The New Batch\",\"popularity\":1.743695,\"video\":false}',\n",
       " '{\"adult\":false,\"id\":932,\"original_title\":\"Die Mörder sind unter uns\",\"popularity\":0.025008,\"video\":false}',\n",
       " '{\"adult\":false,\"id\":936,\"original_title\":\"The Pink Panther\",\"popularity\":0.567544,\"video\":false}',\n",
       " '{\"adult\":false,\"id\":940,\"original_title\":\"The Lady Vanishes\",\"popularity\":0.205616,\"video\":false}',\n",
       " '{\"adult\":false,\"id\":944,\"original_title\":\"Lethal Weapon 4\",\"popularity\":1.533553,\"video\":false}',\n",
       " '{\"adult\":false,\"id\":948,\"original_title\":\"Halloween\",\"popularity\":1.142443,\"video\":false}',\n",
       " '{\"adult\":false,\"id\":956,\"original_title\":\"Mission: Impossible III\",\"popularity\":2.977642,\"video\":false}',\n",
       " '{\"adult\":false,\"id\":964,\"original_title\":\"The Phantom of the Opera\",\"popularity\":0.157393,\"video\":false}',\n",
       " '{\"adult\":false,\"id\":968,\"original_title\":\"Dog Day Afternoon\",\"popularity\":1.091161,\"video\":false}',\n",
       " '{\"adult\":false,\"id\":976,\"original_title\":\"Sweet Smell of Success\",\"popularity\":0.216233,\"video\":false}',\n",
       " '{\"adult\":false,\"id\":980,\"original_title\":\"The Ox-Bow Incident\",\"popularity\":1.201495,\"video\":false}',\n",
       " '{\"adult\":false,\"id\":984,\"original_title\":\"Dirty Harry\",\"popularity\":0.849006,\"video\":false}',\n",
       " '{\"adult\":false,\"id\":988,\"original_title\":\"The China Syndrome\",\"popularity\":0.368763,\"video\":false}',\n",
       " '{\"adult\":false,\"id\":992,\"original_title\":\"Sherlock, Jr.\",\"popularity\":0.322306,\"video\":false}',\n",
       " '{\"adult\":false,\"id\":996,\"original_title\":\"Double Indemnity\",\"popularity\":1.213262,\"video\":false}',\n",
       " '{\"adult\":false,\"id\":1024,\"original_title\":\"Heavenly Creatures\",\"popularity\":0.424829,\"video\":false}',\n",
       " '{\"adult\":false,\"id\":1040,\"original_title\":\"Il gattopardo\",\"popularity\":0.371721,\"video\":false}',\n",
       " '{\"adult\":false,\"id\":1052,\"original_title\":\"Blow-Up\",\"popularity\":0.504701,\"video\":false}',\n",
       " '{\"adult\":false,\"id\":1088,\"original_title\":\"Whale Rider\",\"popularity\":0.935217,\"video\":false}',\n",
       " '{\"adult\":false,\"id\":1092,\"original_title\":\"The Third Man\",\"popularity\":1.011874,\"video\":false}',\n",
       " '{\"adult\":false,\"id\":1116,\"original_title\":\"The Wind That Shakes the Barley\",\"popularity\":0.316734,\"video\":false}',\n",
       " '{\"adult\":false,\"id\":1124,\"original_title\":\"The Prestige\",\"popularity\":4.619304,\"video\":false}',\n",
       " '{\"adult\":false,\"id\":1164,\"original_title\":\"Babel\",\"popularity\":1.378308,\"video\":false}',\n",
       " '{\"adult\":false,\"id\":1244,\"original_title\":\"Das wilde Leben\",\"popularity\":0.066389,\"video\":false}',\n",
       " '{\"adult\":false,\"id\":1248,\"original_title\":\"Hannibal Rising\",\"popularity\":0.314736,\"video\":false}',\n",
       " '{\"adult\":false,\"id\":1252,\"original_title\":\"Lonely Hearts\",\"popularity\":0.5274489999999999,\"video\":false}',\n",
       " '{\"adult\":false,\"id\":1256,\"original_title\":\"In 3 Tagen bist du tot\",\"popularity\":0.287961,\"video\":false}',\n",
       " '{\"adult\":false,\"id\":1260,\"original_title\":\"Leiutajateküla Lotte\",\"popularity\":0.000837,\"video\":false}',\n",
       " '{\"adult\":false,\"id\":1264,\"original_title\":\"Die Wilden Kerle 4\",\"popularity\":0.060788,\"video\":false}',\n",
       " '{\"adult\":false,\"id\":1268,\"original_title\":\"Mr. Bean\\'s Holiday\",\"popularity\":1.021793,\"video\":false}',\n",
       " '{\"adult\":false,\"id\":1272,\"original_title\":\"Sunshine\",\"popularity\":2.174632,\"video\":false}',\n",
       " '{\"adult\":false,\"id\":1280,\"original_title\":\"빈집\",\"popularity\":0.91186,\"video\":false}',\n",
       " '{\"adult\":false,\"id\":1284,\"original_title\":\"Torrente 2: Misión en Marbella\",\"popularity\":0.046713,\"video\":false}',\n",
       " '{\"adult\":false,\"id\":1360,\"original_title\":\"Frida\",\"popularity\":0.50143,\"video\":false}',\n",
       " '{\"adult\":false,\"id\":1364,\"original_title\":\"Lucía y el sexo\",\"popularity\":0.875252,\"video\":false}',\n",
       " '{\"adult\":false,\"id\":1368,\"original_title\":\"First Blood\",\"popularity\":2.490561,\"video\":false}',\n",
       " '{\"adult\":false,\"id\":1372,\"original_title\":\"Blood Diamond\",\"popularity\":1.735325,\"video\":false}',\n",
       " '{\"adult\":false,\"id\":1376,\"original_title\":\"Sweet Sixteen\",\"popularity\":0.18868,\"video\":false}',\n",
       " '{\"adult\":false,\"id\":1380,\"original_title\":\"Gleaming the Cube\",\"popularity\":0.973669,\"video\":false}',\n",
       " '{\"adult\":false,\"id\":1388,\"original_title\":\"Der Lauf der Dinge\",\"popularity\":1e-06,\"video\":false}',\n",
       " '{\"adult\":false,\"id\":1392,\"original_title\":\"Born into Brothels\",\"popularity\":0.00365,\"video\":false}',\n",
       " '{\"adult\":false,\"id\":1396,\"original_title\":\"Зеркало\",\"popularity\":0.377119,\"video\":false}',\n",
       " '{\"adult\":false,\"id\":1404,\"original_title\":\"Ae Fond Kiss...\",\"popularity\":0.50205,\"video\":false}',\n",
       " '{\"adult\":false,\"id\":1408,\"original_title\":\"Cutthroat Island\",\"popularity\":0.492902,\"video\":false}',\n",
       " '{\"adult\":false,\"id\":1412,\"original_title\":\"Sex, Lies, and Videotape\",\"popularity\":0.623584,\"video\":false}',\n",
       " '{\"adult\":false,\"id\":1416,\"original_title\":\"해안선\",\"popularity\":0.225704,\"video\":false}',\n",
       " '{\"adult\":false,\"id\":1420,\"original_title\":\"Breakfast on Pluto\",\"popularity\":0.901698,\"video\":false}',\n",
       " '{\"adult\":false,\"id\":1424,\"original_title\":\"November\",\"popularity\":0.145569,\"video\":false}',\n",
       " '{\"adult\":false,\"id\":1428,\"original_title\":\"Once Upon a Time in Mexico\",\"popularity\":1.17891,\"video\":false}',\n",
       " '{\"adult\":false,\"id\":1436,\"original_title\":\"무사\",\"popularity\":0.298091,\"video\":false}',\n",
       " '{\"adult\":false,\"id\":1440,\"original_title\":\"Little Children\",\"popularity\":0.398973,\"video\":false}',\n",
       " '{\"adult\":false,\"id\":1444,\"original_title\":\"Junebug\",\"popularity\":0.221772,\"video\":false}',\n",
       " '{\"adult\":false,\"id\":1448,\"original_title\":\"The Wisdom of Crocodiles\",\"popularity\":0.067178,\"video\":false}',\n",
       " '{\"adult\":false,\"id\":1452,\"original_title\":\"Superman Returns\",\"popularity\":1.71938,\"video\":false}',\n",
       " '{\"adult\":false,\"id\":1480,\"original_title\":\"Touch of Evil\",\"popularity\":0.894615,\"video\":false}',\n",
       " '{\"adult\":false,\"id\":1484,\"original_title\":\"Der Totmacher\",\"popularity\":0.035064,\"video\":false}',\n",
       " '{\"adult\":false,\"id\":1488,\"original_title\":\"綠草地\",\"popularity\":0.0009829999999999999,\"video\":false}',\n",
       " '{\"adult\":false,\"id\":1492,\"original_title\":\"1492: Conquest of Paradise\",\"popularity\":0.812646,\"video\":false}',\n",
       " '{\"adult\":false,\"id\":1496,\"original_title\":\"Cool as Ice\",\"popularity\":0.114774,\"video\":false}',\n",
       " '{\"adult\":false,\"id\":1540,\"original_title\":\"Vers le sud\",\"popularity\":0.472181,\"video\":false}',\n",
       " '{\"adult\":false,\"id\":1544,\"original_title\":\"Imagine Me & You\",\"popularity\":0.901095,\"video\":false}',\n",
       " '{\"adult\":false,\"id\":1548,\"original_title\":\"Ghost World\",\"popularity\":0.462633,\"video\":false}',\n",
       " '{\"adult\":false,\"id\":1552,\"original_title\":\"Parenthood\",\"popularity\":0.235633,\"video\":false}',\n",
       " '{\"adult\":false,\"id\":1556,\"original_title\":\"薔薇の葬列\",\"popularity\":0.13565,\"video\":false}',\n",
       " '{\"adult\":false,\"id\":1560,\"original_title\":\"Singapore sling\",\"popularity\":0.034722,\"video\":false}',\n",
       " '{\"adult\":false,\"id\":1564,\"original_title\":\"Daybreak Express\",\"popularity\":0.000147,\"video\":false}',\n",
       " '{\"adult\":false,\"id\":1568,\"original_title\":\"Carne\",\"popularity\":0.37592,\"video\":false}',\n",
       " '{\"adult\":false,\"id\":1572,\"original_title\":\"Die Hard: With a Vengeance\",\"popularity\":4.976561,\"video\":false}',\n",
       " '{\"adult\":false,\"id\":1576,\"original_title\":\"Resident Evil\",\"popularity\":2.227901,\"video\":false}',\n",
       " '{\"adult\":false,\"id\":1580,\"original_title\":\"Rope\",\"popularity\":1.13724,\"video\":false}',\n",
       " '{\"adult\":false,\"id\":1584,\"original_title\":\"School of Rock\",\"popularity\":1.529994,\"video\":false}',\n",
       " '{\"adult\":false,\"id\":1588,\"original_title\":\"Bring It On\",\"popularity\":0.907317,\"video\":false}',\n",
       " '{\"adult\":false,\"id\":1592,\"original_title\":\"Primal Fear\",\"popularity\":0.917385,\"video\":false}',\n",
       " '{\"adult\":false,\"id\":1596,\"original_title\":\"Population 436\",\"popularity\":0.091012,\"video\":false}',\n",
       " '{\"adult\":false,\"id\":1600,\"original_title\":\"La double vie de Véronique\",\"popularity\":0.453526,\"video\":false}',\n",
       " '{\"adult\":false,\"id\":1608,\"original_title\":\"When Saturday Comes\",\"popularity\":0.084762,\"video\":false}',\n",
       " '{\"adult\":false,\"id\":1612,\"original_title\":\"Fussball ist unser Leben\",\"popularity\":0.000169,\"video\":false}',\n",
       " '{\"adult\":false,\"id\":1616,\"original_title\":\"Erkan & Stefan in Der Tod kommt krass\",\"popularity\":0.000463,\"video\":false}',\n",
       " '{\"adult\":false,\"id\":1620,\"original_title\":\"Hitman\",\"popularity\":0.988379,\"video\":false}',\n",
       " '{\"adult\":false,\"id\":1624,\"original_title\":\"Liar Liar\",\"popularity\":1.363936,\"video\":false}',\n",
       " '{\"adult\":false,\"id\":1628,\"original_title\":\"Jules et Jim\",\"popularity\":0.196546,\"video\":false}',\n",
       " '{\"adult\":false,\"id\":1632,\"original_title\":\"Mississippi Burning\",\"popularity\":0.41172,\"video\":false}',\n",
       " '{\"adult\":false,\"id\":1636,\"original_title\":\"Bedazzled\",\"popularity\":0.611611,\"video\":false}',\n",
       " '{\"adult\":false,\"id\":1640,\"original_title\":\"Crash\",\"popularity\":1.169764,\"video\":false}',\n",
       " '{\"adult\":false,\"id\":1644,\"original_title\":\"The Vanishing\",\"popularity\":0.290689,\"video\":false}',\n",
       " '{\"adult\":false,\"id\":1648,\"original_title\":\"Bill & Ted\\'s Excellent Adventure\",\"popularity\":0.405807,\"video\":false}',\n",
       " '{\"adult\":false,\"id\":1652,\"original_title\":\"00 Schneider - Jagd auf Nihil Baxter\",\"popularity\":0.079915,\"video\":false}',\n",
       " '{\"adult\":false,\"id\":1656,\"original_title\":\"The Legend of Zorro\",\"popularity\":0.78432,\"video\":false}',\n",
       " '{\"adult\":false,\"id\":1660,\"original_title\":\"L\\'argent de poche\",\"popularity\":0.135675,\"video\":false}',\n",
       " '{\"adult\":false,\"id\":1672,\"original_title\":\"Le Professionnel\",\"popularity\":0.299285,\"video\":false}',\n",
       " '{\"adult\":false,\"id\":1676,\"original_title\":\"Will Penny\",\"popularity\":0.074196,\"video\":false}',\n",
       " '{\"adult\":false,\"id\":1680,\"original_title\":\"Kingu Kongu tai Gojira\",\"popularity\":0.196494,\"video\":false}',\n",
       " '{\"adult\":false,\"id\":1684,\"original_title\":\"Prinzessinnenbad\",\"popularity\":0.001944,\"video\":false}',\n",
       " '{\"adult\":false,\"id\":1688,\"original_title\":\"Conquest of the Planet of the Apes\",\"popularity\":0.821445,\"video\":false}',\n",
       " '{\"adult\":false,\"id\":1696,\"original_title\":\"The Devil\\'s Rejects\",\"popularity\":0.962116,\"video\":false}',\n",
       " '{\"adult\":false,\"id\":1700,\"original_title\":\"Misery\",\"popularity\":0.724828,\"video\":false}',\n",
       " '{\"adult\":false,\"id\":1712,\"original_title\":\"Giant\",\"popularity\":0.644243,\"video\":false}',\n",
       " '{\"adult\":false,\"id\":1716,\"original_title\":\"Le Dernier Métro\",\"popularity\":0.313834,\"video\":false}',\n",
       " '{\"adult\":false,\"id\":1720,\"original_title\":\"Nói albínói\",\"popularity\":0.146117,\"video\":false}',\n",
       " '{\"adult\":false,\"id\":1724,\"original_title\":\"The Incredible Hulk\",\"popularity\":3.437432,\"video\":false}',\n",
       " '{\"adult\":false,\"id\":1732,\"original_title\":\"The Prisoner of Zenda\",\"popularity\":0.134549,\"video\":false}',\n",
       " '{\"adult\":false,\"id\":1736,\"original_title\":\"Shoppen\",\"popularity\":0.072551,\"video\":false}',\n",
       " '{\"adult\":false,\"id\":1740,\"original_title\":\"Nackt\",\"popularity\":0.057957,\"video\":false}',\n",
       " '{\"adult\":false,\"id\":1772,\"original_title\":\"City of Hope\",\"popularity\":0.117741,\"video\":false}',\n",
       " '{\"adult\":false,\"id\":1776,\"original_title\":\"Jesus Camp\",\"popularity\":0.357871,\"video\":false}',\n",
       " '{\"adult\":false,\"id\":1788,\"original_title\":\"Footloose\",\"popularity\":1.094642,\"video\":false}',\n",
       " '{\"adult\":false,\"id\":1792,\"original_title\":\"Stuck on You\",\"popularity\":0.464015,\"video\":false}',\n",
       " '{\"adult\":false,\"id\":1808,\"original_title\":\"Velvet Goldmine\",\"popularity\":0.267249,\"video\":false}',\n",
       " '{\"adult\":false,\"id\":1812,\"original_title\":\"Trick\",\"popularity\":0.140891,\"video\":false}',\n",
       " '{\"adult\":false,\"id\":1816,\"original_title\":\"A Chorus Line\",\"popularity\":0.185531,\"video\":false}',\n",
       " '{\"adult\":false,\"id\":1824,\"original_title\":\"50 First Dates\",\"popularity\":1.419682,\"video\":false}',\n",
       " '{\"adult\":false,\"id\":1832,\"original_title\":\"Dogma\",\"popularity\":1.459388,\"video\":false}',\n",
       " '{\"adult\":false,\"id\":1836,\"original_title\":\"Dans ma peau\",\"popularity\":0.071663,\"video\":false}',\n",
       " '{\"adult\":false,\"id\":1840,\"original_title\":\"The Brasher Doubloon\",\"popularity\":0.009892,\"video\":false}',\n",
       " '{\"adult\":false,\"id\":1844,\"original_title\":\"Entrapment\",\"popularity\":1.411429,\"video\":false}',\n",
       " '{\"adult\":false,\"id\":1848,\"original_title\":\"Poodle Springs\",\"popularity\":0.050807,\"video\":false}',\n",
       " '{\"adult\":false,\"id\":1852,\"original_title\":\"World Trade Center\",\"popularity\":2.165175,\"video\":false}',\n",
       " '{\"adult\":false,\"id\":1860,\"original_title\":\"I skrzypce przestaly grac\",\"popularity\":1.2e-05,\"video\":false}',\n",
       " '{\"adult\":false,\"id\":1864,\"original_title\":\"Hello-Goodbye\",\"popularity\":0.004994,\"video\":false}',\n",
       " '{\"adult\":false,\"id\":1868,\"original_title\":\"L\\'Astragale\",\"popularity\":0.023892,\"video\":false}',\n",
       " '{\"adult\":false,\"id\":1872,\"original_title\":\"Rise: Blood Hunter\",\"popularity\":0.13826,\"video\":false}',\n",
       " '{\"adult\":false,\"id\":1876,\"original_title\":\"The Penalty King\",\"popularity\":0.000855,\"video\":false}',\n",
       " '{\"adult\":false,\"id\":1880,\"original_title\":\"Red Dawn\",\"popularity\":0.792793,\"video\":false}',\n",
       " '{\"adult\":false,\"id\":1884,\"original_title\":\"The Ewok Adventure\",\"popularity\":0.282864,\"video\":false}',\n",
       " '{\"adult\":false,\"id\":1888,\"original_title\":\"The Fortune Cookie\",\"popularity\":1.162229,\"video\":false}',\n",
       " '{\"adult\":false,\"id\":1892,\"original_title\":\"Return of the Jedi\",\"popularity\":2.399413,\"video\":false}',\n",
       " '{\"adult\":false,\"id\":1896,\"original_title\":\"Salvador (Puig Antich)\",\"popularity\":0.660181,\"video\":false}',\n",
       " '{\"adult\":false,\"id\":1900,\"original_title\":\"Traffic\",\"popularity\":0.669496,\"video\":false}',\n",
       " '{\"adult\":false,\"id\":1904,\"original_title\":\"Memoirs of a Geisha\",\"popularity\":0.784784,\"video\":false}',\n",
       " '{\"adult\":false,\"id\":1908,\"original_title\":\"Inherit the Wind\",\"popularity\":0.145977,\"video\":false}',\n",
       " '{\"adult\":false,\"id\":1912,\"original_title\":\"Free Rainer - Dein Fernseher lügt\",\"popularity\":0.198394,\"video\":false}',\n",
       " '{\"adult\":false,\"id\":1920,\"original_title\":\"Crime of Passion\",\"popularity\":0.09338399999999999,\"video\":false}',\n",
       " '{\"adult\":false,\"id\":1924,\"original_title\":\"Superman\",\"popularity\":2.301967,\"video\":false}',\n",
       " '{\"adult\":false,\"id\":1936,\"original_title\":\"River of No Return\",\"popularity\":0.327599,\"video\":false}',\n",
       " '{\"adult\":false,\"id\":1940,\"original_title\":\"Porgy and Bess\",\"popularity\":0.037815,\"video\":false}',\n",
       " '{\"adult\":false,\"id\":1944,\"original_title\":\"The Door in the Floor\",\"popularity\":0.210921,\"video\":false}',\n",
       " '{\"adult\":false,\"id\":1948,\"original_title\":\"Crank\",\"popularity\":1.321803,\"video\":false}',\n",
       " '{\"adult\":false,\"id\":1956,\"original_title\":\"Gerry\",\"popularity\":0.258914,\"video\":false}',\n",
       " '{\"adult\":false,\"id\":1964,\"original_title\":\"Ein Freund von mir\",\"popularity\":0.126072,\"video\":false}',\n",
       " '{\"adult\":false,\"id\":1968,\"original_title\":\"Fools Rush In\",\"popularity\":0.712831,\"video\":false}',\n",
       " '{\"adult\":false,\"id\":1976,\"original_title\":\"Jezebel\",\"popularity\":0.124325,\"video\":false}',\n",
       " '{\"adult\":false,\"id\":1980,\"original_title\":\"Bra Boys\",\"popularity\":0.066011,\"video\":false}',\n",
       " '{\"adult\":false,\"id\":1984,\"original_title\":\"1984\",\"popularity\":0.748481,\"video\":false}',\n",
       " '{\"adult\":false,\"id\":1988,\"original_title\":\"A Mighty Heart\",\"popularity\":0.387951,\"video\":false}',\n",
       " '{\"adult\":false,\"id\":1992,\"original_title\":\"Planet Terror\",\"popularity\":1.016587,\"video\":false}',\n",
       " '{\"adult\":false,\"id\":1996,\"original_title\":\"Lara Croft Tomb Raider: The Cradle of Life\",\"popularity\":2.179403,\"video\":false}',\n",
       " '{\"adult\":false,\"id\":2000,\"original_title\":\"Aguirre, der Zorn Gottes\",\"popularity\":0.428682,\"video\":false}',\n",
       " '{\"adult\":false,\"id\":2004,\"original_title\":\"Kebab Connection\",\"popularity\":0.68132,\"video\":false}',\n",
       " '{\"adult\":false,\"id\":2008,\"original_title\":\"Wu Ji\",\"popularity\":0.281177,\"video\":false}',\n",
       " '{\"adult\":false,\"id\":2012,\"original_title\":\"Stellet Licht\",\"popularity\":0.035298,\"video\":false}',\n",
       " '{\"adult\":false,\"id\":2016,\"original_title\":\"Indigènes\",\"popularity\":0.374958,\"video\":false}',\n",
       " '{\"adult\":false,\"id\":2020,\"original_title\":\"The Bachelor\",\"popularity\":1.401009,\"video\":false}',\n",
       " '{\"adult\":false,\"id\":2024,\"original_title\":\"The Patriot\",\"popularity\":2.901423,\"video\":false}',\n",
       " '{\"adult\":false,\"id\":2028,\"original_title\":\"Say Anything...\",\"popularity\":0.494149,\"video\":false}',\n",
       " '{\"adult\":false,\"id\":2032,\"original_title\":\"Peregon\",\"popularity\":0.07295,\"video\":false}',\n",
       " '{\"adult\":false,\"id\":2036,\"original_title\":\"Avalanche Express\",\"popularity\":0.007830999999999999,\"video\":false}',\n",
       " '{\"adult\":false,\"id\":2044,\"original_title\":\"The Lake House\",\"popularity\":0.802043,\"video\":false}',\n",
       " '{\"adult\":false,\"id\":2048,\"original_title\":\"I, Robot\",\"popularity\":3.58411,\"video\":false}',\n",
       " '{\"adult\":false,\"id\":2056,\"original_title\":\"The Station Agent\",\"popularity\":0.31416,\"video\":false}',\n",
       " '{\"adult\":false,\"id\":2060,\"original_title\":\"Des enfants gâtés\",\"popularity\":0.016884,\"video\":false}',\n",
       " '{\"adult\":false,\"id\":2064,\"original_title\":\"While You Were Sleeping\",\"popularity\":0.69033,\"video\":false}',\n",
       " '{\"adult\":false,\"id\":2072,\"original_title\":\"Cyberjack\",\"popularity\":0.07603699999999999,\"video\":false}',\n",
       " '{\"adult\":false,\"id\":2076,\"original_title\":\"Swindle\",\"popularity\":0.160479,\"video\":false}',\n",
       " '{\"adult\":false,\"id\":2080,\"original_title\":\"X-Men Origins: Wolverine\",\"popularity\":0.1699,\"video\":false}',\n",
       " '{\"adult\":false,\"id\":2084,\"original_title\":\"Birthday Girl\",\"popularity\":0.418004,\"video\":false}',\n",
       " '{\"adult\":false,\"id\":2088,\"original_title\":\"Romeo Is Bleeding\",\"popularity\":1.803927,\"video\":false}',\n",
       " '{\"adult\":false,\"id\":2092,\"original_title\":\"Wish You Were Here\",\"popularity\":0.00069,\"video\":false}',\n",
       " '{\"adult\":false,\"id\":2096,\"original_title\":\"Tycus\",\"popularity\":0.017956,\"video\":false}',\n",
       " '{\"adult\":false,\"id\":2100,\"original_title\":\"The Last Castle\",\"popularity\":0.921501,\"video\":false}',\n",
       " '{\"adult\":false,\"id\":2104,\"original_title\":\"Requiem\",\"popularity\":0.09476900000000001,\"video\":false}',\n",
       " '{\"adult\":false,\"id\":2108,\"original_title\":\"The Breakfast Club\",\"popularity\":1.489424,\"video\":false}',\n",
       " '{\"adult\":false,\"id\":2112,\"original_title\":\"Payback\",\"popularity\":1.084917,\"video\":false}',\n",
       " '{\"adult\":false,\"id\":2116,\"original_title\":\"Out of Time\",\"popularity\":0.901072,\"video\":false}',\n",
       " '{\"adult\":false,\"id\":2120,\"original_title\":\"Cédric\",\"popularity\":0.000432,\"video\":false}',\n",
       " '{\"adult\":false,\"id\":2124,\"original_title\":\"Color of Night\",\"popularity\":0.444839,\"video\":false}',\n",
       " '{\"adult\":false,\"id\":2132,\"original_title\":\"Totally Blonde\",\"popularity\":0.00125,\"video\":false}',\n",
       " '{\"adult\":false,\"id\":2136,\"original_title\":\"Gib Gas - Ich will Spaß\",\"popularity\":0.018742,\"video\":false}',\n",
       " '{\"adult\":false,\"id\":2140,\"original_title\":\"Kiss of the Dragon\",\"popularity\":0.500656,\"video\":false}',\n",
       " '{\"adult\":false,\"id\":2144,\"original_title\":\"One Night at McCool\\'s\",\"popularity\":0.126485,\"video\":false}',\n",
       " '{\"adult\":false,\"id\":2148,\"original_title\":\"The Cotton Club\",\"popularity\":0.238645,\"video\":false}',\n",
       " '{\"adult\":false,\"id\":2152,\"original_title\":\"Dixie Chicks: Shut Up and Sing\",\"popularity\":0.195897,\"video\":false}',\n",
       " '{\"adult\":false,\"id\":2156,\"original_title\":\"Net Games\",\"popularity\":0.349887,\"video\":false}',\n",
       " '{\"adult\":false,\"id\":2160,\"original_title\":\"Voyage to the Bottom of the Sea\",\"popularity\":0.201165,\"video\":false}',\n",
       " '{\"adult\":false,\"id\":2164,\"original_title\":\"Stargate\",\"popularity\":1.464619,\"video\":false}',\n",
       " '{\"adult\":false,\"id\":2168,\"original_title\":\"2:37\",\"popularity\":0.365638,\"video\":false}',\n",
       " '{\"adult\":false,\"id\":2172,\"original_title\":\"Ofelas\",\"popularity\":0.232673,\"video\":false}',\n",
       " '{\"adult\":false,\"id\":2176,\"original_title\":\"The Glass House\",\"popularity\":0.54811,\"video\":false}',\n",
       " '{\"adult\":false,\"id\":2180,\"original_title\":\"Heartbreak Hotel\",\"popularity\":0.13053,\"video\":false}',\n",
       " '{\"adult\":false,\"id\":2184,\"original_title\":\"Maus und Katz\",\"popularity\":0.000284,\"video\":false}',\n",
       " '{\"adult\":false,\"id\":2188,\"original_title\":\"The Corrs Live at Lansdowne Road\",\"popularity\":0.001914,\"video\":false}',\n",
       " '{\"adult\":false,\"id\":2192,\"original_title\":\"Sandok, il Maciste della giungla\",\"popularity\":0.022429,\"video\":false}',\n",
       " '{\"adult\":false,\"id\":2196,\"original_title\":\"Death at a Funeral\",\"popularity\":1.17524,\"video\":false}',\n",
       " '{\"adult\":false,\"id\":2200,\"original_title\":\"Jakob der Lügner\",\"popularity\":0.29643,\"video\":false}',\n",
       " '{\"adult\":false,\"id\":2204,\"original_title\":\"Alice in den Städten\",\"popularity\":0.024715,\"video\":false}',\n",
       " '{\"adult\":false,\"id\":2212,\"original_title\":\"Nightwatch\",\"popularity\":0.541117,\"video\":false}',\n",
       " '{\"adult\":false,\"id\":2216,\"original_title\":\"Fünf Patronenhülsen\",\"popularity\":0.007163,\"video\":false}',\n",
       " '{\"adult\":false,\"id\":2220,\"original_title\":\"Januskopf\",\"popularity\":0.05,\"video\":false}',\n",
       " '{\"adult\":false,\"id\":2228,\"original_title\":\"Nelken in Aspik\",\"popularity\":0.009648,\"video\":false}',\n",
       " '{\"adult\":false,\"id\":2232,\"original_title\":\"Die Legende von Paul und Paula\",\"popularity\":0.097482,\"video\":false}',\n",
       " '{\"adult\":false,\"id\":2236,\"original_title\":\"Bob Dylan - TV Live & Rear 1963 - 1975\",\"popularity\":0.000305,\"video\":false}',\n",
       " '{\"adult\":false,\"id\":2240,\"original_title\":\"Unterm Birnbaum\",\"popularity\":0.001746,\"video\":false}',\n",
       " '{\"adult\":false,\"id\":2244,\"original_title\":\"The Beach Boys - California Surfin\",\"popularity\":0.000292,\"video\":true}',\n",
       " '{\"adult\":false,\"id\":2252,\"original_title\":\"Eastern Promises\",\"popularity\":0.735747,\"video\":false}',\n",
       " '{\"adult\":false,\"id\":2260,\"original_title\":\"Capturing the Friedmans\",\"popularity\":0.309564,\"video\":false}',\n",
       " '{\"adult\":false,\"id\":2264,\"original_title\":\"Lola\",\"popularity\":0.193255,\"video\":false}',\n",
       " '{\"adult\":false,\"id\":2268,\"original_title\":\"The Golden Compass\",\"popularity\":1.071118,\"video\":false}',\n",
       " '{\"adult\":false,\"id\":2280,\"original_title\":\"Big\",\"popularity\":1.02356,\"video\":false}',\n",
       " '{\"adult\":false,\"id\":2284,\"original_title\":\"Mr. Magorium\\'s Wonder Emporium\",\"popularity\":0.725947,\"video\":false}',\n",
       " '{\"adult\":false,\"id\":2288,\"original_title\":\"Closer\",\"popularity\":1.382512,\"video\":false}',\n",
       " '{\"adult\":false,\"id\":2292,\"original_title\":\"Clerks\",\"popularity\":0.908125,\"video\":false}',\n",
       " '{\"adult\":false,\"id\":2296,\"original_title\":\"Kein Mann für Camp Detrick\",\"popularity\":2e-06,\"video\":false}',\n",
       " '{\"adult\":false,\"id\":2300,\"original_title\":\"Space Jam\",\"popularity\":1.443935,\"video\":false}',\n",
       " '{\"adult\":false,\"id\":2304,\"original_title\":\"L\\'homme blessé\",\"popularity\":0.10116,\"video\":false}',\n",
       " '{\"adult\":false,\"id\":2312,\"original_title\":\"In the Name of the King: A Dungeon Siege Tale\",\"popularity\":0.941069,\"video\":false}',\n",
       " '{\"adult\":false,\"id\":2316,\"original_title\":\"The Story of an African Farm\",\"popularity\":0.028034,\"video\":false}',\n",
       " '{\"adult\":false,\"id\":2320,\"original_title\":\"Executive Decision\",\"popularity\":0.985741,\"video\":false}',\n",
       " '{\"adult\":false,\"id\":2324,\"original_title\":\"Local Color\",\"popularity\":0.048678,\"video\":false}',\n",
       " '{\"adult\":false,\"id\":2332,\"original_title\":\"Taxi 2\",\"popularity\":0.6020180000000001,\"video\":false}',\n",
       " '{\"adult\":false,\"id\":2336,\"original_title\":\"King Kongs Faust\",\"popularity\":1.8e-05,\"video\":false}',\n",
       " '{\"adult\":false,\"id\":2348,\"original_title\":\"Holy Matrimony\",\"popularity\":0.208917,\"video\":false}',\n",
       " '{\"adult\":false,\"id\":2360,\"original_title\":\"Saving Grace\",\"popularity\":0.262607,\"video\":false}',\n",
       " '{\"adult\":false,\"id\":2376,\"original_title\":\"Le pion\",\"popularity\":0.044291,\"video\":false}',\n",
       " '{\"adult\":false,\"id\":2380,\"original_title\":\"Home Sweet Home\",\"popularity\":0.0,\"video\":false}',\n",
       " '{\"adult\":false,\"id\":2388,\"original_title\":\"À San Remo\",\"popularity\":0.000451,\"video\":false}',\n",
       " '{\"adult\":false,\"id\":2392,\"original_title\":\"La ragazza di via Condotti\",\"popularity\":0.001479,\"video\":false}',\n",
       " '{\"adult\":false,\"id\":2400,\"original_title\":\"Eugénie Grandet\",\"popularity\":0.000315,\"video\":false}',\n",
       " '{\"adult\":false,\"id\":2412,\"original_title\":\"Célimène et le cardinal\",\"popularity\":0.001137,\"video\":true}',\n",
       " '{\"adult\":false,\"id\":2416,\"original_title\":\"Amours sous la révolution: André Chénier et la jeune captive\",\"popularity\":1e-06,\"video\":false}',\n",
       " '{\"adult\":false,\"id\":2428,\"original_title\":\"The Greatest Story Ever Told\",\"popularity\":0.322715,\"video\":false}',\n",
       " '{\"adult\":false,\"id\":2436,\"original_title\":\"Double Dragon\",\"popularity\":0.596193,\"video\":false}',\n",
       " '{\"adult\":false,\"id\":2440,\"original_title\":\"공동경비구역 JSA\",\"popularity\":0.598471,\"video\":false}',\n",
       " '{\"adult\":false,\"id\":2444,\"original_title\":\"La ardilla roja\",\"popularity\":0.15028,\"video\":false}',\n",
       " '{\"adult\":false,\"id\":2448,\"original_title\":\"Le bonheur des autres\",\"popularity\":0.008133,\"video\":false}',\n",
       " '{\"adult\":false,\"id\":2452,\"original_title\":\"Mamie Rose\",\"popularity\":1.1e-05,\"video\":false}',\n",
       " '{\"adult\":false,\"id\":2456,\"original_title\":\"La Mandragore\",\"popularity\":0.006974,\"video\":false}',\n",
       " '{\"adult\":false,\"id\":2460,\"original_title\":\"Tierra\",\"popularity\":0.21219,\"video\":false}',\n",
       " '{\"adult\":false,\"id\":2464,\"original_title\":\"Firetrap\",\"popularity\":0.059097,\"video\":false}',\n",
       " '{\"adult\":false,\"id\":2516,\"original_title\":\"Our Mother\\'s House\",\"popularity\":0.058646,\"video\":false}',\n",
       " '{\"adult\":false,\"id\":2528,\"original_title\":\"Madame Bovary\",\"popularity\":0.365862,\"video\":false}',\n",
       " '{\"adult\":false,\"id\":2536,\"original_title\":\"Adolphe ou l\\'âge tendre\",\"popularity\":0.009324000000000001,\"video\":false}',\n",
       " '{\"adult\":false,\"id\":2576,\"original_title\":\"The Diary of Anne Frank\",\"popularity\":0.912315,\"video\":false}',\n",
       " '{\"adult\":false,\"id\":2588,\"original_title\":\"Caótica Ana\",\"popularity\":0.111054,\"video\":false}',\n",
       " '{\"adult\":false,\"id\":2604,\"original_title\":\"Born on the Fourth of July\",\"popularity\":0.886981,\"video\":false}',\n",
       " '{\"adult\":false,\"id\":2608,\"original_title\":\"Maid to Order\",\"popularity\":0.021522,\"video\":false}',\n",
       " '{\"adult\":false,\"id\":2612,\"original_title\":\"Mr. Destiny\",\"popularity\":0.176343,\"video\":false}',\n",
       " '{\"adult\":false,\"id\":2616,\"original_title\":\"Uncle Buck\",\"popularity\":0.974114,\"video\":false}',\n",
       " '{\"adult\":false,\"id\":2620,\"original_title\":\"Armed and Dangerous\",\"popularity\":0.264097,\"video\":false}',\n",
       " '{\"adult\":false,\"id\":2636,\"original_title\":\"The Specialist\",\"popularity\":0.573381,\"video\":false}',\n",
       " '{\"adult\":false,\"id\":2640,\"original_title\":\"Heathers\",\"popularity\":0.714576,\"video\":false}',\n",
       " '{\"adult\":false,\"id\":2644,\"original_title\":\"最佳拍檔\",\"popularity\":0.252514,\"video\":false}',\n",
       " '{\"adult\":false,\"id\":2648,\"original_title\":\"Xin zuijia paidang\",\"popularity\":0.120588,\"video\":false}',\n",
       " '{\"adult\":false,\"id\":2652,\"original_title\":\"Hard Candy\",\"popularity\":0.806643,\"video\":false}',\n",
       " '{\"adult\":false,\"id\":2668,\"original_title\":\"Sleepy Hollow\",\"popularity\":1.650541,\"video\":false}',\n",
       " '{\"adult\":false,\"id\":2672,\"original_title\":\"Il y a longtemps que je t\\'aime\",\"popularity\":7.7e-05,\"video\":false}',\n",
       " '{\"adult\":false,\"id\":2692,\"original_title\":\"Der rote Elvis\",\"popularity\":0.011528,\"video\":false}',\n",
       " '{\"adult\":false,\"id\":2696,\"original_title\":\"Guča!\",\"popularity\":0.002602,\"video\":false}',\n",
       " '{\"adult\":false,\"id\":2700,\"original_title\":\"Esther\",\"popularity\":0.150357,\"video\":false}',\n",
       " '{\"adult\":false,\"id\":2712,\"original_title\":\"Jacob\",\"popularity\":0.040608,\"video\":false}',\n",
       " '{\"adult\":false,\"id\":2728,\"original_title\":\"Postal\",\"popularity\":0.598349,\"video\":false}',\n",
       " '{\"adult\":false,\"id\":2732,\"original_title\":\"Nemesis\",\"popularity\":0.002672,\"video\":false}',\n",
       " '{\"adult\":false,\"id\":2740,\"original_title\":\"Opération lune\",\"popularity\":0.012818,\"video\":false}',\n",
       " '{\"adult\":false,\"id\":2748,\"original_title\":\"Viaggio in Italia\",\"popularity\":0.149008,\"video\":false}',\n",
       " '{\"adult\":false,\"id\":2752,\"original_title\":\"40 Days and 40 Nights\",\"popularity\":0.6270210000000001,\"video\":false}',\n",
       " '{\"adult\":false,\"id\":2756,\"original_title\":\"The Abyss\",\"popularity\":1.095064,\"video\":false}',\n",
       " '{\"adult\":false,\"id\":2760,\"original_title\":\"The Lodger: A Story of the London Fog\",\"popularity\":0.197257,\"video\":false}',\n",
       " '{\"adult\":false,\"id\":2764,\"original_title\":\"All Stars\",\"popularity\":0.00599,\"video\":false}',\n",
       " '{\"adult\":false,\"id\":2768,\"original_title\":\"American Gigolo\",\"popularity\":1.315391,\"video\":false}',\n",
       " '{\"adult\":false,\"id\":2772,\"original_title\":\"Florida - Der Sonnenstaat\",\"popularity\":0.000287,\"video\":false}',\n",
       " '{\"adult\":false,\"id\":2776,\"original_title\":\"Die Inseln Hawaii\",\"popularity\":0.000522,\"video\":false}',\n",
       " '{\"adult\":false,\"id\":2784,\"original_title\":\"Ein toller Einfall\",\"popularity\":0.000213,\"video\":false}',\n",
       " '{\"adult\":false,\"id\":2788,\"original_title\":\"Reality Bites\",\"popularity\":0.048108,\"video\":false}',\n",
       " '{\"adult\":false,\"id\":2792,\"original_title\":\"Das Testament des Cornelius Gulden\",\"popularity\":0.000221,\"video\":false}',\n",
       " '{\"adult\":false,\"id\":2796,\"original_title\":\"Le Songe d\\'une nuit d\\'été\",\"popularity\":0.005409,\"video\":false}',\n",
       " '{\"adult\":false,\"id\":2800,\"original_title\":\"Rumor Has It...\",\"popularity\":0.6099560000000001,\"video\":false}',\n",
       " '{\"adult\":true,\"id\":2804,\"original_title\":\"De IJzeren Hond\",\"popularity\":0.000435,\"video\":false}',\n",
       " '{\"adult\":false,\"id\":2820,\"original_title\":\"Deed Poll\",\"popularity\":0.248333,\"video\":false}',\n",
       " '{\"adult\":false,\"id\":2824,\"original_title\":\"Die Mondvögel\",\"popularity\":0.000177,\"video\":false}',\n",
       " '{\"adult\":false,\"id\":2832,\"original_title\":\"Identity\",\"popularity\":2.137678,\"video\":false}',\n",
       " '{\"adult\":false,\"id\":2840,\"original_title\":\"La grotte aux loups\",\"popularity\":0.010265,\"video\":false}',\n",
       " '{\"adult\":false,\"id\":2844,\"original_title\":\"Riot at the Rite\",\"popularity\":0.000529,\"video\":false}',\n",
       " '{\"adult\":false,\"id\":2848,\"original_title\":\"Coda\",\"popularity\":0.000288,\"video\":false}',\n",
       " '{\"adult\":false,\"id\":2852,\"original_title\":\"Stuart Dee\",\"popularity\":0.000431,\"video\":false}',\n",
       " '{\"adult\":false,\"id\":2856,\"original_title\":\"Half Past Ten\",\"popularity\":0.001247,\"video\":false}',\n",
       " '{\"adult\":false,\"id\":2860,\"original_title\":\"Le genou de Claire\",\"popularity\":0.12647,\"video\":false}',\n",
       " '{\"adult\":false,\"id\":2892,\"original_title\":\"Angel Baby\",\"popularity\":0.017405,\"video\":false}',\n",
       " '{\"adult\":false,\"id\":2896,\"original_title\":\"Araburu tamashii-tachi\",\"popularity\":0.011089,\"video\":false}',\n",
       " '{\"adult\":false,\"id\":2900,\"original_title\":\"The Astronaut\\'s Wife\",\"popularity\":0.902054,\"video\":false}',\n",
       " '{\"adult\":false,\"id\":2904,\"original_title\":\"Colgado de la luna\",\"popularity\":0.0009210000000000001,\"video\":false}',\n",
       " '{\"adult\":false,\"id\":2908,\"original_title\":\"Besuch bei Van Gogh\",\"popularity\":0.000232,\"video\":false}',\n",
       " '{\"adult\":false,\"id\":2912,\"original_title\":\"Le Boucher\",\"popularity\":0.03363,\"video\":false}',\n",
       " '{\"adult\":false,\"id\":2924,\"original_title\":\"Backdraft\",\"popularity\":1.562741,\"video\":false}',\n",
       " '{\"adult\":false,\"id\":2928,\"original_title\":\"Michael\",\"popularity\":0.094261,\"video\":false}',\n",
       " '{\"adult\":false,\"id\":2956,\"original_title\":\"Homunculus, 1. Teil\",\"popularity\":0.001058,\"video\":false}',\n",
       " '{\"adult\":false,\"id\":2960,\"original_title\":\"Die Rache des Homunculus\",\"popularity\":0.000175,\"video\":false}',\n",
       " '{\"adult\":false,\"id\":2964,\"original_title\":\"Himmelskibet\",\"popularity\":0.019041,\"video\":false}',\n",
       " '{\"adult\":false,\"id\":2968,\"original_title\":\"Alraune, die Henkerstochter, genannt die rote Hanne\",\"popularity\":0.000215,\"video\":false}',\n",
       " '{\"adult\":false,\"id\":2972,\"original_title\":\"Der Golem, wie er in die Welt kam\",\"popularity\":0.038956,\"video\":false}',\n",
       " '{\"adult\":false,\"id\":2976,\"original_title\":\"Hairspray\",\"popularity\":1.872796,\"video\":false}',\n",
       " '{\"adult\":false,\"id\":2984,\"original_title\":\"A Countess from Hong Kong\",\"popularity\":0.27285,\"video\":false}',\n",
       " '{\"adult\":false,\"id\":2988,\"original_title\":\"The Harrad Experiment\",\"popularity\":0.018342,\"video\":false}',\n",
       " '{\"adult\":false,\"id\":2992,\"original_title\":\"Appetite\",\"popularity\":0.000203,\"video\":false}',\n",
       " '{\"adult\":false,\"id\":2996,\"original_title\":\"The Lost World\",\"popularity\":0.102596,\"video\":false}',\n",
       " '{\"adult\":false,\"id\":3004,\"original_title\":\"12 + 1\",\"popularity\":0.077691,\"video\":false}',\n",
       " '{\"adult\":false,\"id\":3008,\"original_title\":\"10:30 P.M. Summer\",\"popularity\":0.070268,\"video\":false}',\n",
       " '{\"adult\":false,\"id\":3012,\"original_title\":\"The Victors\",\"popularity\":0.087894,\"video\":false}',\n",
       " '{\"adult\":false,\"id\":3016,\"original_title\":\"Dr. Jekyll and Mr. Hyde\",\"popularity\":0.02912,\"video\":false}',\n",
       " '{\"adult\":false,\"id\":3024,\"original_title\":\"The Strange Case of Dr. Jekyll and Mr. Hyde\",\"popularity\":0.001367,\"video\":false}',\n",
       " '{\"adult\":false,\"id\":3028,\"original_title\":\"Jekyll and Hyde ... Together Again\",\"popularity\":0.060488,\"video\":false}',\n",
       " '{\"adult\":false,\"id\":3032,\"original_title\":\"Angel in Green\",\"popularity\":0.000687,\"video\":false}',\n",
       " '{\"adult\":false,\"id\":3036,\"original_title\":\"Frankenstein\",\"popularity\":1.386083,\"video\":false}',\n",
       " '{\"adult\":false,\"id\":3040,\"original_title\":\"Ночной дозор\",\"popularity\":0.557854,\"video\":false}',\n",
       " '{\"adult\":false,\"id\":3048,\"original_title\":\"The Great Global Warming Swindle\",\"popularity\":0.019439,\"video\":false}',\n",
       " '{\"adult\":false,\"id\":3052,\"original_title\":\"Don\\'t Make Waves\",\"popularity\":0.116329,\"video\":false}',\n",
       " '{\"adult\":false,\"id\":3056,\"original_title\":\"Frankenstein\",\"popularity\":0.065691,\"video\":false}',\n",
       " '{\"adult\":false,\"id\":3060,\"original_title\":\"The Big Parade\",\"popularity\":0.102014,\"video\":false}',\n",
       " '{\"adult\":false,\"id\":3064,\"original_title\":\"Chances Are\",\"popularity\":0.380658,\"video\":false}',\n",
       " '{\"adult\":false,\"id\":3068,\"original_title\":\"The Wide World of Mystery: Frankenstein\",\"popularity\":2e-06,\"video\":false}',\n",
       " '{\"adult\":false,\"id\":3072,\"original_title\":\"Frankenstein Unbound\",\"popularity\":0.830278,\"video\":false}',\n",
       " '{\"adult\":false,\"id\":3076,\"original_title\":\"Frankenstein Meets the Wolf Man\",\"popularity\":0.298607,\"video\":false}',\n",
       " '{\"adult\":false,\"id\":3080,\"original_title\":\"Top Hat\",\"popularity\":0.432506,\"video\":false}',\n",
       " '{\"adult\":false,\"id\":3084,\"original_title\":\"Wuthering Heights\",\"popularity\":0.144416,\"video\":false}',\n",
       " '{\"adult\":false,\"id\":3088,\"original_title\":\"My Darling Clementine\",\"popularity\":0.091599,\"video\":false}',\n",
       " '{\"adult\":false,\"id\":3092,\"original_title\":\"Seance on a Wet Afternoon\",\"popularity\":0.035231,\"video\":false}',\n",
       " '{\"adult\":false,\"id\":3096,\"original_title\":\"Dos billetes\",\"popularity\":0.000451,\"video\":false}',\n",
       " '{\"adult\":false,\"id\":3100,\"original_title\":\"A Life in Suitcases\",\"popularity\":0.001019,\"video\":false}',\n",
       " '{\"adult\":false,\"id\":3104,\"original_title\":\"Frankenstein Created Woman\",\"popularity\":0.538855,\"video\":false}',\n",
       " '{\"adult\":false,\"id\":3108,\"original_title\":\"House of Frankenstein\",\"popularity\":0.132754,\"video\":false}',\n",
       " '{\"adult\":false,\"id\":3112,\"original_title\":\"The Night of the Hunter\",\"popularity\":0.621474,\"video\":false}',\n",
       " '{\"adult\":false,\"id\":3116,\"original_title\":\"Midnight Cowboy\",\"popularity\":0.253679,\"video\":false}',\n",
       " '{\"adult\":false,\"id\":3124,\"original_title\":\"The Evil of Frankenstein\",\"popularity\":0.106727,\"video\":false}',\n",
       " '{\"adult\":false,\"id\":3132,\"original_title\":\"Bad Company\",\"popularity\":0.725546,\"video\":false}',\n",
       " '{\"adult\":false,\"id\":3144,\"original_title\":\"Rock \\'n\\' Roll Frankenstein\",\"popularity\":0.000218,\"video\":false}',\n",
       " '{\"adult\":false,\"id\":3148,\"original_title\":\"Un Dollaro per 7 vigliacchi\",\"popularity\":0.026868,\"video\":false}',\n",
       " '{\"adult\":false,\"id\":3152,\"original_title\":\"Big Monster on Campus\",\"popularity\":0.015291,\"video\":false}',\n",
       " '{\"adult\":true,\"id\":3156,\"original_title\":\"Tu vas rire mais je vais te tuer\",\"popularity\":0.000447,\"video\":false}',\n",
       " '{\"adult\":false,\"id\":3160,\"original_title\":\"Furankenshutain Tai Chitei Kaijū Baragon\",\"popularity\":0.08892799999999999,\"video\":false}',\n",
       " '{\"adult\":false,\"id\":3164,\"original_title\":\"Frankenstein 1970\",\"popularity\":0.00432,\"video\":false}',\n",
       " '{\"adult\":false,\"id\":3168,\"original_title\":\"Ballo a tre passi\",\"popularity\":0.039975,\"video\":false}',\n",
       " '{\"adult\":false,\"id\":3172,\"original_title\":\"Bandits\",\"popularity\":0.556667,\"video\":false}',\n",
       " '{\"adult\":false,\"id\":3176,\"original_title\":\"バトル・ロワイアル\",\"popularity\":1.596836,\"video\":false}',\n",
       " '{\"adult\":false,\"id\":3200,\"original_title\":\"Billy Frankenstein\",\"popularity\":0.000148,\"video\":false}',\n",
       " '{\"adult\":false,\"id\":3204,\"original_title\":\"She\\'s Alive! Creating the Bride of Frankenstein\",\"popularity\":0.000639,\"video\":false}',\n",
       " '{\"adult\":false,\"id\":3208,\"original_title\":\"I Was a Teenage Frankenstein\",\"popularity\":0.012987,\"video\":false}',\n",
       " '{\"adult\":false,\"id\":3212,\"original_title\":\"100 Years of Horror: The Frankenstein Family\",\"popularity\":0.009424,\"video\":false}',\n",
       " '{\"adult\":false,\"id\":3216,\"original_title\":\"Los Monstruos del terror\",\"popularity\":0.030791,\"video\":false}',\n",
       " '{\"adult\":false,\"id\":3288,\"original_title\":\"Frankenstein: The College Years\",\"popularity\":0.000203,\"video\":false}',\n",
       " '{\"adult\":false,\"id\":3344,\"original_title\":\"Atomic Samurai\",\"popularity\":0.003998,\"video\":false}',\n",
       " '{\"adult\":false,\"id\":3348,\"original_title\":\"The Making of Frankenstein vs. the Creature from Blood Cove\",\"popularity\":0.000307,\"video\":false}',\n",
       " '{\"adult\":false,\"id\":3396,\"original_title\":\"The Yes Men\",\"popularity\":0.003795,\"video\":false}',\n",
       " '{\"adult\":false,\"id\":3400,\"original_title\":\"Heißes Blut oder Vivienne del Vargos\\' letzter Vorhang\",\"popularity\":0.000459,\"video\":false}',\n",
       " '{\"adult\":false,\"id\":3404,\"original_title\":\"Historia de una traición\",\"popularity\":0.000581,\"video\":false}',\n",
       " '{\"adult\":false,\"id\":3408,\"original_title\":\"Boy Frankenstein\",\"popularity\":0.000144,\"video\":false}',\n",
       " '{\"adult\":false,\"id\":3412,\"original_title\":\"Ritorno dalla morte\",\"popularity\":0.001799,\"video\":false}',\n",
       " '{\"adult\":false,\"id\":3416,\"original_title\":\"Il Mostro di Frankenstein\",\"popularity\":0.000154,\"video\":false}',\n",
       " '{\"adult\":false,\"id\":3420,\"original_title\":\"Frankenstein JR.\",\"popularity\":0.000438,\"video\":false}',\n",
       " '{\"adult\":false,\"id\":3424,\"original_title\":\"Mado\",\"popularity\":0.001971,\"video\":false}',\n",
       " '{\"adult\":false,\"id\":3432,\"original_title\":\"Mr. Brooks\",\"popularity\":0.868951,\"video\":false}',\n",
       " '{\"adult\":false,\"id\":3472,\"original_title\":\"Dirty Pretty Things\",\"popularity\":0.28949,\"video\":false}',\n",
       " '{\"adult\":false,\"id\":3476,\"original_title\":\"L\\'important c\\'est d\\'aimer\",\"popularity\":0.097273,\"video\":false}',\n",
       " '{\"adult\":false,\"id\":3480,\"original_title\":\"Le vieux fusil\",\"popularity\":0.263883,\"video\":false}',\n",
       " '{\"adult\":false,\"id\":3484,\"original_title\":\"The Mask of Fu Manchu\",\"popularity\":0.114192,\"video\":false}',\n",
       " '{\"adult\":false,\"id\":3488,\"original_title\":\"Drums of Fu Manchu\",\"popularity\":0.00081,\"video\":false}',\n",
       " '{\"adult\":false,\"id\":3508,\"original_title\":\"Candy Boy\",\"popularity\":0.001412,\"video\":false}',\n",
       " '{\"adult\":false,\"id\":3512,\"original_title\":\"Under Siege 2: Dark Territory\",\"popularity\":0.921401,\"video\":false}',\n",
       " '{\"adult\":false,\"id\":3516,\"original_title\":\"largo e mesto\",\"popularity\":0.000292,\"video\":false}',\n",
       " '{\"adult\":false,\"id\":3520,\"original_title\":\"Casanova \\'70\",\"popularity\":0.01483,\"video\":false}',\n",
       " '{\"adult\":false,\"id\":3524,\"original_title\":\"Lebensborn\",\"popularity\":0.000151,\"video\":false}',\n",
       " '{\"adult\":false,\"id\":3528,\"original_title\":\"Ein göttlicher Job\",\"popularity\":0.000306,\"video\":false}',\n",
       " '{\"adult\":false,\"id\":3536,\"original_title\":\"U-571\",\"popularity\":0.698451,\"video\":false}',\n",
       " '{\"adult\":false,\"id\":3540,\"original_title\":\"Das letzte Stück Himmel\",\"popularity\":0.000729,\"video\":false}',\n",
       " '{\"adult\":false,\"id\":3544,\"original_title\":\"Lebensborn\",\"popularity\":0.059717,\"video\":false}',\n",
       " '{\"adult\":false,\"id\":3548,\"original_title\":\"The Proposal\",\"popularity\":0.007787,\"video\":false}',\n",
       " '{\"adult\":false,\"id\":3556,\"original_title\":\"Mad Dog Coll\",\"popularity\":0.021619,\"video\":false}',\n",
       " '{\"adult\":false,\"id\":3560,\"original_title\":\"Un ombra nell\\'ombra\",\"popularity\":0.071371,\"video\":false}',\n",
       " '{\"adult\":false,\"id\":3564,\"original_title\":\"Le Dernier Tunnel\",\"popularity\":0.046664,\"video\":false}',\n",
       " '{\"adult\":false,\"id\":3572,\"original_title\":\"Heldentod - Der Tunnel und die Lüge\",\"popularity\":0.000289,\"video\":true}',\n",
       " '{\"adult\":false,\"id\":3576,\"original_title\":\"Calling Dr. Gillespie\",\"popularity\":0.000207,\"video\":false}',\n",
       " '{\"adult\":false,\"id\":3580,\"original_title\":\"Changeling\",\"popularity\":1.672788,\"video\":false}',\n",
       " '{\"adult\":false,\"id\":3584,\"original_title\":\"海峡\",\"popularity\":0.032645,\"video\":false}',\n",
       " '{\"adult\":false,\"id\":3588,\"original_title\":\"A River Made to Drown in\",\"popularity\":0.000274,\"video\":false}',\n",
       " '{\"adult\":false,\"id\":3592,\"original_title\":\"One Million B.C.\",\"popularity\":0.022403,\"video\":false}',\n",
       " '{\"adult\":false,\"id\":3596,\"original_title\":\"Things to Come\",\"popularity\":0.101203,\"video\":false}',\n",
       " '{\"adult\":false,\"id\":3600,\"original_title\":\"I Still Know What You Did Last Summer\",\"popularity\":0.939866,\"video\":false}',\n",
       " '{\"adult\":false,\"id\":3604,\"original_title\":\"Flash Gordon\",\"popularity\":1.067182,\"video\":false}',\n",
       " '{\"adult\":false,\"id\":3632,\"original_title\":\"Flash Gordon\",\"popularity\":0.00183,\"video\":false}',\n",
       " '{\"adult\":false,\"id\":3640,\"original_title\":\"Bella Martha\",\"popularity\":0.332357,\"video\":false}',\n",
       " '{\"adult\":false,\"id\":3684,\"original_title\":\"Baytekin fezada carpisanlar\",\"popularity\":0.000302,\"video\":false}',\n",
       " '{\"adult\":false,\"id\":3688,\"original_title\":\"Flesh Gordon meets the Cosmic Cheerleaders\",\"popularity\":0.193722,\"video\":false}',\n",
       " '{\"adult\":false,\"id\":3692,\"original_title\":\"New York chiama Superdrago\",\"popularity\":0.01047,\"video\":false}',\n",
       " '{\"adult\":false,\"id\":3696,\"original_title\":\"Les belles au bois dormantes\",\"popularity\":0.001336,\"video\":false}',\n",
       " '{\"adult\":false,\"id\":3700,\"original_title\":\"Pena de muerte\",\"popularity\":2e-06,\"video\":false}',\n",
       " '{\"adult\":false,\"id\":3716,\"original_title\":\"Im Juli\",\"popularity\":0.121442,\"video\":false}',\n",
       " '{\"adult\":false,\"id\":3764,\"original_title\":\"裸の島\",\"popularity\":0.06293,\"video\":false}',\n",
       " '{\"adult\":false,\"id\":3780,\"original_title\":\"赤ひげ\",\"popularity\":0.163728,\"video\":false}',\n",
       " '{\"adult\":false,\"id\":3784,\"original_title\":\"Frankie and Johnny\",\"popularity\":0.573584,\"video\":false}',\n",
       " '{\"adult\":false,\"id\":3920,\"original_title\":\"Primavera\",\"popularity\":0.000277,\"video\":false}',\n",
       " '{\"adult\":false,\"id\":3936,\"original_title\":\"Blondie Has Servant Trouble\",\"popularity\":0.0482,\"video\":false}',\n",
       " '{\"adult\":false,\"id\":3940,\"original_title\":\"Blondie for Victory\",\"popularity\":0.000311,\"video\":false}',\n",
       " '{\"adult\":false,\"id\":3944,\"original_title\":\"Footlight Glamour\",\"popularity\":0.000148,\"video\":false}',\n",
       " '{\"adult\":false,\"id\":3960,\"original_title\":\"Weißt was geil wär...?!\",\"popularity\":0.018192,\"video\":false}',\n",
       " '{\"adult\":false,\"id\":3968,\"original_title\":\"Life with Blondie\",\"popularity\":0.000193,\"video\":false}',\n",
       " '{\"adult\":false,\"id\":3976,\"original_title\":\"Blondie\\'s Big Moment\",\"popularity\":0.000564,\"video\":false}',\n",
       " '{\"adult\":false,\"id\":3980,\"original_title\":\"Critters\",\"popularity\":0.606,\"video\":false}',\n",
       " '{\"adult\":false,\"id\":3984,\"original_title\":\"Riparo\",\"popularity\":0.002992,\"video\":false}',\n",
       " '{\"adult\":false,\"id\":3988,\"original_title\":\"Blondie\\'s Hero\",\"popularity\":0.000144,\"video\":false}',\n",
       " '{\"adult\":false,\"id\":4012,\"original_title\":\"The Believer\",\"popularity\":0.378466,\"video\":false}',\n",
       " '{\"adult\":false,\"id\":4024,\"original_title\":\"L\\'Année dernière à Marienbad\",\"popularity\":0.159001,\"video\":false}',\n",
       " '{\"adult\":false,\"id\":4032,\"original_title\":\"My Girl\",\"popularity\":1.319609,\"video\":false}',\n",
       " '{\"adult\":false,\"id\":4044,\"original_title\":\"Le Club: Claude Jade\",\"popularity\":0.000152,\"video\":true}',\n",
       " '{\"adult\":false,\"id\":4104,\"original_title\":\"Benny & Joon\",\"popularity\":0.79591,\"video\":false}',\n",
       " '{\"adult\":false,\"id\":4108,\"original_title\":\"The Transporter\",\"popularity\":2.374299,\"video\":false}',\n",
       " '{\"adult\":false,\"id\":4112,\"original_title\":\"Blondie Johnson\",\"popularity\":0.068652,\"video\":false}',\n",
       " '{\"adult\":false,\"id\":4132,\"original_title\":\"Le château perdu\",\"popularity\":1e-06,\"video\":false}',\n",
       " '{\"adult\":false,\"id\":4140,\"original_title\":\"Blindsight\",\"popularity\":0.082577,\"video\":false}',\n",
       " '{\"adult\":false,\"id\":4148,\"original_title\":\"Revolutionary Road\",\"popularity\":0.783722,\"video\":false}',\n",
       " '{\"adult\":false,\"id\":4156,\"original_title\":\"Friends\",\"popularity\":0.168789,\"video\":false}',\n",
       " '{\"adult\":false,\"id\":4176,\"original_title\":\"Murder on the Orient Express\",\"popularity\":0.975679,\"video\":false}',\n",
       " '{\"adult\":false,\"id\":4180,\"original_title\":\"3 hommes et un couffin\",\"popularity\":0.169049,\"video\":false}',\n",
       " '{\"adult\":false,\"id\":4192,\"original_title\":\"Death on the Nile\",\"popularity\":0.85118,\"video\":false}',\n",
       " '{\"adult\":false,\"id\":4196,\"original_title\":\"Lenin: The Train\",\"popularity\":0.2273,\"video\":false}',\n",
       " '{\"adult\":false,\"id\":4204,\"original_title\":\"$5 a Day\",\"popularity\":0.040872,\"video\":false}',\n",
       " '{\"adult\":false,\"id\":4208,\"original_title\":\"Martin et Léa\",\"popularity\":0.0,\"video\":false}',\n",
       " '{\"adult\":false,\"id\":4228,\"original_title\":\"La révolution française\",\"popularity\":0.026953,\"video\":false}',\n",
       " '{\"adult\":false,\"id\":4232,\"original_title\":\"Scream\",\"popularity\":1.93229,\"video\":false}',\n",
       " '{\"adult\":false,\"id\":4240,\"original_title\":\"Titanic 2000\",\"popularity\":0.363479,\"video\":false}',\n",
       " '{\"adult\":false,\"id\":4244,\"original_title\":\"The Kid\",\"popularity\":0.463997,\"video\":false}',\n",
       " '{\"adult\":false,\"id\":4248,\"original_title\":\"Scary Movie 2\",\"popularity\":1.634557,\"video\":false}',\n",
       " '{\"adult\":false,\"id\":4252,\"original_title\":\"Chalte Chalte\",\"popularity\":0.147671,\"video\":false}',\n",
       " '{\"adult\":false,\"id\":4256,\"original_title\":\"Scary Movie 3\",\"popularity\":0.905126,\"video\":false}',\n",
       " '{\"adult\":false,\"id\":4260,\"original_title\":\"The Perfect Scary Movie\",\"popularity\":0.003149,\"video\":false}',\n",
       " '{\"adult\":false,\"id\":4268,\"original_title\":\"La Gueule de l\\'autre\",\"popularity\":0.000203,\"video\":false}',\n",
       " '{\"adult\":false,\"id\":4272,\"original_title\":\"Ma vie est un enfer\",\"popularity\":0.000285,\"video\":false}',\n",
       " '{\"adult\":false,\"id\":4284,\"original_title\":\"Sasquatch Hunters\",\"popularity\":0.001079,\"video\":false}',\n",
       " '{\"adult\":false,\"id\":4288,\"original_title\":\"The Final Terror\",\"popularity\":0.024023,\"video\":false}',\n",
       " '{\"adult\":false,\"id\":4292,\"original_title\":\"Eat the Rich\",\"popularity\":0.014547,\"video\":false}',\n",
       " '{\"adult\":false,\"id\":4296,\"original_title\":\"Millennium\",\"popularity\":0.453388,\"video\":false}',\n",
       " '{\"adult\":false,\"id\":4300,\"original_title\":\"Les Sorcières de Salem\",\"popularity\":0.001839,\"video\":false}',\n",
       " '{\"adult\":false,\"id\":4324,\"original_title\":\"Venusberg\",\"popularity\":0.000225,\"video\":false}',\n",
       " '{\"adult\":false,\"id\":4344,\"original_title\":\"Hotel Very Welcome\",\"popularity\":0.012553,\"video\":false}',\n",
       " '{\"adult\":false,\"id\":4348,\"original_title\":\"Pride & Prejudice\",\"popularity\":1.847751,\"video\":false}',\n",
       " '{\"adult\":false,\"id\":4352,\"original_title\":\"Klopka\",\"popularity\":0.233741,\"video\":false}',\n",
       " '{\"adult\":false,\"id\":4364,\"original_title\":\"Vera Brühne\",\"popularity\":0.000155,\"video\":false}',\n",
       " '{\"adult\":false,\"id\":4368,\"original_title\":\"Dark Wolf\",\"popularity\":0.071982,\"video\":false}',\n",
       " '{\"adult\":false,\"id\":4376,\"original_title\":\"Dallas Doll\",\"popularity\":0.111381,\"video\":false}',\n",
       " '{\"adult\":false,\"id\":4380,\"original_title\":\"Shall We Dance?\",\"popularity\":0.335887,\"video\":false}',\n",
       " '{\"adult\":false,\"id\":4384,\"original_title\":\"Rosemaries Tochter\",\"popularity\":0.000125,\"video\":false}',\n",
       " '{\"adult\":false,\"id\":4396,\"original_title\":\"Die Halbzarte\",\"popularity\":0.006456,\"video\":false}',\n",
       " '{\"adult\":false,\"id\":4408,\"original_title\":\"Der Hammermörder\",\"popularity\":3e-06,\"video\":false}',\n",
       " '{\"adult\":false,\"id\":4412,\"original_title\":\"Les Misérables\",\"popularity\":0.167722,\"video\":false}',\n",
       " '{\"adult\":false,\"id\":4416,\"original_title\":\"Les Misérables\",\"popularity\":0.1242,\"video\":false}',\n",
       " '{\"adult\":false,\"id\":4436,\"original_title\":\"Kein Bund für\\'s Leben\",\"popularity\":0.027972,\"video\":false}',\n",
       " '{\"adult\":false,\"id\":4440,\"original_title\":\"Herzensschrei\",\"popularity\":0.000865,\"video\":false}',\n",
       " '{\"adult\":false,\"id\":4452,\"original_title\":\"Al Capone im deutschen Wald\",\"popularity\":0.000144,\"video\":false}',\n",
       " '{\"adult\":false,\"id\":4456,\"original_title\":\"La fille de Hambourg\",\"popularity\":0.000633,\"video\":false}',\n",
       " '{\"adult\":false,\"id\":4460,\"original_title\":\"The Snows of Kilimanjaro\",\"popularity\":0.38915,\"video\":false}',\n",
       " '{\"adult\":false,\"id\":4464,\"original_title\":\"Seabiscuit\",\"popularity\":0.424296,\"video\":false}',\n",
       " '{\"adult\":false,\"id\":4476,\"original_title\":\"Legends of the Fall\",\"popularity\":0.939199,\"video\":false}',\n",
       " '{\"adult\":false,\"id\":4480,\"original_title\":\"Jean de Florette\",\"popularity\":0.512339,\"video\":false}',\n",
       " '{\"adult\":false,\"id\":4484,\"original_title\":\"La Cage aux Folles\",\"popularity\":0.132296,\"video\":false}',\n",
       " '{\"adult\":false,\"id\":4488,\"original_title\":\"Friday the 13th\",\"popularity\":0.734743,\"video\":false}',\n",
       " '{\"adult\":false,\"id\":4496,\"original_title\":\"El desencanto\",\"popularity\":0.000123,\"video\":false}',\n",
       " '{\"adult\":false,\"id\":4500,\"original_title\":\"Ópera prima\",\"popularity\":4.1e-05,\"video\":false}',\n",
       " '{\"adult\":false,\"id\":4512,\"original_title\":\"The Assassination of Jesse James by the Coward Robert Ford\",\"popularity\":1.103929,\"video\":false}',\n",
       " '{\"adult\":false,\"id\":4516,\"original_title\":\"Mon Meilleur Ami\",\"popularity\":0.908315,\"video\":false}',\n",
       " '{\"adult\":false,\"id\":4520,\"original_title\":\"Sleuth\",\"popularity\":0.577464,\"video\":false}',\n",
       " '{\"adult\":false,\"id\":4528,\"original_title\":\"Le Comte de Monte Cristo\",\"popularity\":0.075249,\"video\":false}',\n",
       " '{\"adult\":false,\"id\":4532,\"original_title\":\"Kommissar X - In den Klauen des goldenen Drachen\",\"popularity\":0.009813000000000001,\"video\":false}',\n",
       " '{\"adult\":false,\"id\":4536,\"original_title\":\"World\\'s Biggest Penis\",\"popularity\":0.027881,\"video\":false}',\n",
       " '{\"adult\":false,\"id\":4540,\"original_title\":\"Emil und die Detektive\",\"popularity\":0.024645,\"video\":false}',\n",
       " '{\"adult\":false,\"id\":4544,\"original_title\":\"Emil und die Detektive\",\"popularity\":0.002724,\"video\":false}',\n",
       " '{\"adult\":false,\"id\":4548,\"original_title\":\"Le Comte de Monte-Cristo\",\"popularity\":0.26735,\"video\":false}',\n",
       " '{\"adult\":false,\"id\":4552,\"original_title\":\"장화, 홍련\",\"popularity\":1.142982,\"video\":false}',\n",
       " '{\"adult\":false,\"id\":4556,\"original_title\":\"Nightwatching\",\"popularity\":0.125248,\"video\":false}',\n",
       " '{\"adult\":false,\"id\":4560,\"original_title\":\"Lepota poroka\",\"popularity\":0.107437,\"video\":false}',\n",
       " '{\"adult\":false,\"id\":4564,\"original_title\":\"Sex and the City\",\"popularity\":0.778541,\"video\":false}',\n",
       " '{\"adult\":true,\"id\":4568,\"original_title\":\"Sex Power\",\"popularity\":5e-05,\"video\":false}',\n",
       " '{\"adult\":false,\"id\":4572,\"original_title\":\"Jerry Cotton: Dynamit in grüner Seide\",\"popularity\":0.002484,\"video\":false}',\n",
       " '{\"adult\":false,\"id\":4580,\"original_title\":\"Je t\\'aime moi non plus\",\"popularity\":0.056262,\"video\":false}',\n",
       " '{\"adult\":false,\"id\":4584,\"original_title\":\"Sense and Sensibility\",\"popularity\":0.423207,\"video\":false}',\n",
       " '{\"adult\":false,\"id\":4588,\"original_title\":\"色‧戒\",\"popularity\":0.566986,\"video\":false}',\n",
       " '{\"adult\":false,\"id\":4592,\"original_title\":\"Carolina\",\"popularity\":0.150819,\"video\":false}',\n",
       " '{\"adult\":false,\"id\":4612,\"original_title\":\"Absolon\",\"popularity\":0.129617,\"video\":false}',\n",
       " '{\"adult\":false,\"id\":4616,\"original_title\":\"La dottoressa preferisce i marinai\",\"popularity\":0.012107,\"video\":false}',\n",
       " '{\"adult\":false,\"id\":4628,\"original_title\":\"Enigma\",\"popularity\":0.098413,\"video\":false}',\n",
       " '{\"adult\":false,\"id\":4644,\"original_title\":\"The Year of Getting to Know Us\",\"popularity\":0.007653,\"video\":false}',\n",
       " '{\"adult\":false,\"id\":4652,\"original_title\":\"Die goldene Gans\",\"popularity\":0.001002,\"video\":false}',\n",
       " '{\"adult\":false,\"id\":4656,\"original_title\":\"Mörderischer Frieden\",\"popularity\":0.00085,\"video\":false}',\n",
       " '{\"adult\":false,\"id\":4660,\"original_title\":\"Kolp\",\"popularity\":2.1e-05,\"video\":false}',\n",
       " '{\"adult\":false,\"id\":4676,\"original_title\":\"Grande école\",\"popularity\":0.08017299999999999,\"video\":false}',\n",
       " '{\"adult\":false,\"id\":4680,\"original_title\":\"Deux hommes dans la ville\",\"popularity\":0.115746,\"video\":false}',\n",
       " '{\"adult\":false,\"id\":4684,\"original_title\":\"Bolero\",\"popularity\":5.3e-05,\"video\":false}',\n",
       " '{\"adult\":false,\"id\":4688,\"original_title\":\"Across the Universe\",\"popularity\":0.869737,\"video\":false}',\n",
       " '{\"adult\":false,\"id\":4700,\"original_title\":\"Im Himmel ist die Hölle los\",\"popularity\":9.7e-05,\"video\":false}',\n",
       " '{\"adult\":false,\"id\":4704,\"original_title\":\"At Long Last Love\",\"popularity\":0.000273,\"video\":false}',\n",
       " '{\"adult\":false,\"id\":4708,\"original_title\":\"Paris brûle-t-il?\",\"popularity\":0.487754,\"video\":false}',\n",
       " '{\"adult\":false,\"id\":4728,\"original_title\":\"Le Gendarme à New York\",\"popularity\":0.322221,\"video\":false}',\n",
       " '{\"adult\":false,\"id\":4732,\"original_title\":\"Le capitaine Fracasse\",\"popularity\":0.10874,\"video\":false}',\n",
       " '{\"adult\":false,\"id\":4736,\"original_title\":\"L\\'Idiot\",\"popularity\":0.000275,\"video\":false}',\n",
       " '{\"adult\":false,\"id\":4764,\"original_title\":\"L\\'horoscope\",\"popularity\":1e-06,\"video\":false}',\n",
       " '{\"adult\":false,\"id\":4772,\"original_title\":\"Cul-de-sac\",\"popularity\":0.109822,\"video\":false}',\n",
       " '{\"adult\":false,\"id\":4780,\"original_title\":\"Obsession\",\"popularity\":0.208493,\"video\":false}',\n",
       " '{\"adult\":false,\"id\":4788,\"original_title\":\"Revolver\",\"popularity\":0.031962,\"video\":false}',\n",
       " '{\"adult\":false,\"id\":4792,\"original_title\":\"Le tueur\",\"popularity\":0.07886600000000001,\"video\":false}',\n",
       " '{\"adult\":false,\"id\":4800,\"original_title\":\"Charles et Lucie\",\"popularity\":3e-06,\"video\":false}',\n",
       " '{\"adult\":false,\"id\":4808,\"original_title\":\"Charade\",\"popularity\":0.753854,\"video\":false}',\n",
       " '{\"adult\":false,\"id\":4816,\"original_title\":\"Ghost Dog: The Way of the Samurai\",\"popularity\":1.132985,\"video\":false}',\n",
       " '{\"adult\":false,\"id\":4820,\"original_title\":\"Never So Few\",\"popularity\":0.052691,\"video\":false}',\n",
       " '{\"adult\":false,\"id\":4824,\"original_title\":\"The Jackal\",\"popularity\":1.119132,\"video\":false}',\n",
       " '{\"adult\":false,\"id\":4832,\"original_title\":\"The 11th Hour\",\"popularity\":0.337308,\"video\":false}',\n",
       " '{\"adult\":false,\"id\":4836,\"original_title\":\"Layer Cake\",\"popularity\":1.223976,\"video\":false}',\n",
       " '{\"adult\":false,\"id\":4840,\"original_title\":\"Ein Prachtexemplar\",\"popularity\":0.0,\"video\":false}',\n",
       " '{\"adult\":false,\"id\":4868,\"original_title\":\"Genghis Khan\",\"popularity\":0.036634,\"video\":false}',\n",
       " '{\"adult\":false,\"id\":4880,\"original_title\":\"Nichts als Gespenster\",\"popularity\":0.001082,\"video\":false}',\n",
       " '{\"adult\":false,\"id\":4888,\"original_title\":\"Der Mann von der Botschaft\",\"popularity\":0.002113,\"video\":false}',\n",
       " '{\"adult\":false,\"id\":4896,\"original_title\":\"Muxmäuschenstill\",\"popularity\":0.057033,\"video\":false}',\n",
       " '{\"adult\":false,\"id\":4900,\"original_title\":\"Les loups dans la bergerie\",\"popularity\":0.000218,\"video\":false}',\n",
       " '{\"adult\":false,\"id\":4912,\"original_title\":\"Confessions of a Dangerous Mind\",\"popularity\":0.235068,\"video\":false}',\n",
       " '{\"adult\":false,\"id\":4916,\"original_title\":\"Guilty as Sin\",\"popularity\":1.190578,\"video\":false}',\n",
       " '{\"adult\":false,\"id\":4924,\"original_title\":\"Soul Hustler\",\"popularity\":0.00221,\"video\":false}',\n",
       " '{\"adult\":false,\"id\":4928,\"original_title\":\"The World, the Flesh and the Devil\",\"popularity\":0.038495,\"video\":false}',\n",
       " '{\"adult\":false,\"id\":4932,\"original_title\":\"A Guide for the Married Man\",\"popularity\":0.151214,\"video\":false}',\n",
       " '{\"adult\":false,\"id\":4936,\"original_title\":\"Route 66 - ein amerikanischer albTraum\",\"popularity\":0.000455,\"video\":false}',\n",
       " '{\"adult\":false,\"id\":4940,\"original_title\":\"The Night of the Grizzly\",\"popularity\":0.074223,\"video\":false}',\n",
       " '{\"adult\":false,\"id\":4944,\"original_title\":\"Burn After Reading\",\"popularity\":1.789779,\"video\":false}',\n",
       " '{\"adult\":false,\"id\":4948,\"original_title\":\"Clair de femme\",\"popularity\":0.011113,\"video\":false}',\n",
       " '{\"adult\":false,\"id\":4952,\"original_title\":\"Pillow Talk\",\"popularity\":0.317364,\"video\":false}',\n",
       " '{\"adult\":false,\"id\":4956,\"original_title\":\"Christine\",\"popularity\":0.003333,\"video\":false}',\n",
       " '{\"adult\":false,\"id\":4960,\"original_title\":\"Synecdoche, New York\",\"popularity\":0.497748,\"video\":false}',\n",
       " '{\"adult\":false,\"id\":4964,\"original_title\":\"Knocked Up\",\"popularity\":0.994511,\"video\":false}',\n",
       " '{\"adult\":false,\"id\":4968,\"original_title\":\"The Piano Player\",\"popularity\":0.077181,\"video\":false}',\n",
       " '{\"adult\":false,\"id\":4972,\"original_title\":\"De grønne slagtere\",\"popularity\":0.629615,\"video\":false}',\n",
       " '{\"adult\":false,\"id\":4976,\"original_title\":\"L\\'homme sur les quais\",\"popularity\":1.6e-05,\"video\":false}',\n",
       " '{\"adult\":false,\"id\":4984,\"original_title\":\"White Lightning\",\"popularity\":0.591411,\"video\":false}',\n",
       " '{\"adult\":false,\"id\":4988,\"original_title\":\"Semi-Tough\",\"popularity\":0.192638,\"video\":false}',\n",
       " '{\"adult\":false,\"id\":4992,\"original_title\":\"Shark!\",\"popularity\":0.001,\"video\":false}',\n",
       " '{\"adult\":false,\"id\":4996,\"original_title\":\"Nachmittag\",\"popularity\":0.000527,\"video\":false}',\n",
       " '{\"adult\":false,\"id\":5000,\"original_title\":\"Jeux interdits\",\"popularity\":0.120175,\"video\":false}',\n",
       " '{\"adult\":false,\"id\":5004,\"original_title\":\"Siegfried und das sagenhafte Liebesleben der Nibelungen\",\"popularity\":0.07793899999999999,\"video\":false}',\n",
       " '{\"adult\":false,\"id\":5036,\"original_title\":\"Weisse Wölfe\",\"popularity\":0.094664,\"video\":false}',\n",
       " '{\"adult\":false,\"id\":5040,\"original_title\":\"Faraon\",\"popularity\":0.09074599999999999,\"video\":false}',\n",
       " '{\"adult\":false,\"id\":5048,\"original_title\":\"Prospero\\'s Books\",\"popularity\":0.067138,\"video\":false}',\n",
       " '{\"adult\":false,\"id\":5052,\"original_title\":\"Topkapi\",\"popularity\":0.106417,\"video\":false}',\n",
       " '{\"adult\":false,\"id\":5056,\"original_title\":\"Deadlier Than the Male\",\"popularity\":0.016564,\"video\":false}',\n",
       " '{\"adult\":false,\"id\":5060,\"original_title\":\"Carry On Screaming\",\"popularity\":0.204603,\"video\":false}',\n",
       " '{\"adult\":false,\"id\":5064,\"original_title\":\"Carry On Doctor\",\"popularity\":0.115027,\"video\":false}',\n",
       " '{\"adult\":false,\"id\":5068,\"original_title\":\"Estambul 65\",\"popularity\":0.024696,\"video\":false}',\n",
       " '{\"adult\":false,\"id\":5072,\"original_title\":\"Severance\",\"popularity\":1.228691,\"video\":false}',\n",
       " '{\"adult\":false,\"id\":5076,\"original_title\":\"Combat de fauves\",\"popularity\":0.00074,\"video\":false}',\n",
       " '{\"adult\":false,\"id\":5080,\"original_title\":\"Peccati a Venezia\",\"popularity\":0.0,\"video\":false}',\n",
       " '{\"adult\":false,\"id\":5084,\"original_title\":\"Seifenblasen\",\"popularity\":0.003998,\"video\":false}',\n",
       " '{\"adult\":false,\"id\":5124,\"original_title\":\"Comrades in Dreams\",\"popularity\":0.000459,\"video\":false}',\n",
       " '{\"adult\":false,\"id\":5128,\"original_title\":\"Beretta\\'s Island\",\"popularity\":0.019373,\"video\":false}',\n",
       " '{\"adult\":false,\"id\":5144,\"original_title\":\"Marquise\",\"popularity\":0.046668,\"video\":false}',\n",
       " '{\"adult\":false,\"id\":5152,\"original_title\":\"Schulz & Schulz IV: Neue Welten, alte Lasten\",\"popularity\":0.0,\"video\":false}',\n",
       " '{\"adult\":false,\"id\":5156,\"original_title\":\"Ladri di biciclette\",\"popularity\":0.9460769999999999,\"video\":false}',\n",
       " '{\"adult\":false,\"id\":5168,\"original_title\":\"Être et avoir\",\"popularity\":0.109616,\"video\":false}',\n",
       " '{\"adult\":false,\"id\":5172,\"original_title\":\"The Astronaut Farmer\",\"popularity\":0.333113,\"video\":false}',\n",
       " '{\"adult\":false,\"id\":5176,\"original_title\":\"3:10 to Yuma\",\"popularity\":1.869233,\"video\":false}',\n",
       " '{\"adult\":false,\"id\":5184,\"original_title\":\"Contergan\",\"popularity\":0.041562,\"video\":false}',\n",
       " '{\"adult\":false,\"id\":5188,\"original_title\":\"Ocean of Dreams\",\"popularity\":0.000887,\"video\":false}',\n",
       " '{\"adult\":false,\"id\":5204,\"original_title\":\"Kontroll\",\"popularity\":0.036978,\"video\":false}',\n",
       " '{\"adult\":false,\"id\":5228,\"original_title\":\"Stay Hungry\",\"popularity\":0.383024,\"video\":false}',\n",
       " '{\"adult\":false,\"id\":5232,\"original_title\":\"Scandal:  Lawful Entry\",\"popularity\":0.031109,\"video\":false}',\n",
       " '{\"adult\":false,\"id\":5236,\"original_title\":\"Kiss Kiss Bang Bang\",\"popularity\":1.731573,\"video\":false}',\n",
       " '{\"adult\":false,\"id\":5244,\"original_title\":\"Pleasurecraft\",\"popularity\":0.003672,\"video\":false}',\n",
       " '{\"adult\":false,\"id\":5248,\"original_title\":\"Virtual Sexuality\",\"popularity\":0.011134,\"video\":false}',\n",
       " '{\"adult\":false,\"id\":5252,\"original_title\":\"밀애\",\"popularity\":0.082111,\"video\":false}',\n",
       " '{\"adult\":false,\"id\":5256,\"original_title\":\"Momentum\",\"popularity\":0.119452,\"video\":false}',\n",
       " '{\"adult\":false,\"id\":5284,\"original_title\":\"The Safe House\",\"popularity\":0.000462,\"video\":false}',\n",
       " '{\"adult\":false,\"id\":5332,\"original_title\":\"Dancing at Lughnasa\",\"popularity\":0.103956,\"video\":false}',\n",
       " '{\"adult\":false,\"id\":5336,\"original_title\":\"Salò o le 120 giornate di Sodoma\",\"popularity\":1.165659,\"video\":false}',\n",
       " '{\"adult\":false,\"id\":5424,\"original_title\":\"Antropophagus\",\"popularity\":0.227069,\"video\":false}',\n",
       " '{\"adult\":false,\"id\":5460,\"original_title\":\"Cruel Intentions 3\",\"popularity\":0.43182,\"video\":false}',\n",
       " '{\"adult\":false,\"id\":5464,\"original_title\":\"Das Inferno - Flammen über Berlin\",\"popularity\":0.138596,\"video\":false}',\n",
       " '{\"adult\":false,\"id\":5472,\"original_title\":\"Animated Epics: Beowulf\",\"popularity\":0.000272,\"video\":false}',\n",
       " '{\"adult\":false,\"id\":5484,\"original_title\":\"Quante volte... quella notte\",\"popularity\":0.00615,\"video\":false}',\n",
       " '{\"adult\":false,\"id\":5488,\"original_title\":\"싸이보그지만 괜찮아\",\"popularity\":0.419836,\"video\":false}',\n",
       " '{\"adult\":false,\"id\":5492,\"original_title\":\"Battlefield Earth: Evolution & Creation\",\"popularity\":0.000794,\"video\":true}',\n",
       " '{\"adult\":false,\"id\":5508,\"original_title\":\"Finders Keepers\",\"popularity\":0.065175,\"video\":false}',\n",
       " '{\"adult\":false,\"id\":5516,\"original_title\":\"The Ladykillers\",\"popularity\":0.961309,\"video\":false}',\n",
       " '{\"adult\":false,\"id\":5520,\"original_title\":\"My Sister\\'s Keeper\",\"popularity\":0.002772,\"video\":false}',\n",
       " '{\"adult\":false,\"id\":5524,\"original_title\":\"Sister\\'s Keeper\",\"popularity\":0.00065,\"video\":false}',\n",
       " '{\"adult\":false,\"id\":5528,\"original_title\":\"Les Choristes\",\"popularity\":0.888256,\"video\":false}',\n",
       " '{\"adult\":false,\"id\":5544,\"original_title\":\"Hiroshima mon amour\",\"popularity\":0.29818,\"video\":false}',\n",
       " '{\"adult\":false,\"id\":5548,\"original_title\":\"RoboCop\",\"popularity\":1.394359,\"video\":false}',\n",
       " '{\"adult\":false,\"id\":5552,\"original_title\":\"Immortel (ad vitam)\",\"popularity\":0.679625,\"video\":false}',\n",
       " '{\"adult\":false,\"id\":5592,\"original_title\":\"La Fille coupée en deux\",\"popularity\":0.160966,\"video\":false}',\n",
       " '{\"adult\":false,\"id\":5596,\"original_title\":\"Das blaue Licht\",\"popularity\":2e-06,\"video\":false}',\n",
       " '{\"adult\":false,\"id\":5600,\"original_title\":\"Die Schauspielerin\",\"popularity\":0.009743,\"video\":false}',\n",
       " '{\"adult\":false,\"id\":5608,\"original_title\":\"Die Nibelungen, Teil 1: Siegfried\",\"popularity\":0.07857699999999999,\"video\":false}',\n",
       " '{\"adult\":false,\"id\":5620,\"original_title\":\"Nachts, wenn Dracula erwacht\",\"popularity\":0.019233,\"video\":false}',\n",
       " '{\"adult\":false,\"id\":5624,\"original_title\":\"Der Todesrächer von Soho\",\"popularity\":2.3e-05,\"video\":false}',\n",
       " '{\"adult\":false,\"id\":5632,\"original_title\":\"Edgar Wallace - Der Fälscher von London\",\"popularity\":0.274978,\"video\":false}',\n",
       " '{\"adult\":false,\"id\":5636,\"original_title\":\"Der Schatz im Silbersee\",\"popularity\":0.193882,\"video\":false}',\n",
       " '{\"adult\":false,\"id\":5640,\"original_title\":\"Ich bin die Andere\",\"popularity\":0.071909,\"video\":false}',\n",
       " '{\"adult\":false,\"id\":5644,\"original_title\":\"Die Schatzinsel\",\"popularity\":0.141391,\"video\":false}',\n",
       " '{\"adult\":false,\"id\":5648,\"original_title\":\"The Immoral Mr. Teas\",\"popularity\":0.011147,\"video\":false}',\n",
       " '{\"adult\":false,\"id\":5652,\"original_title\":\"The James Dean Story\",\"popularity\":0.034073,\"video\":false}',\n",
       " '{\"adult\":false,\"id\":5656,\"original_title\":\"Black Snake\",\"popularity\":0.062326,\"video\":false}',\n",
       " '{\"adult\":false,\"id\":5660,\"original_title\":\"Mystery Mansion\",\"popularity\":3e-06,\"video\":false}',\n",
       " '{\"adult\":false,\"id\":5676,\"original_title\":\"Playboy: Voluptuous Vixens\",\"popularity\":0.002207,\"video\":false}',\n",
       " '{\"adult\":false,\"id\":5680,\"original_title\":\"Elvira, Mistress of the Dark\",\"popularity\":0.215351,\"video\":false}',\n",
       " '{\"adult\":false,\"id\":5684,\"original_title\":\"Secret Weapons\",\"popularity\":0.041555,\"video\":false}',\n",
       " '{\"adult\":false,\"id\":5688,\"original_title\":\"Wet and Wild Summer\",\"popularity\":0.000137,\"video\":false}',\n",
       " '{\"adult\":false,\"id\":5692,\"original_title\":\"Hunks in Hedonism\",\"popularity\":0.000389,\"video\":false}',\n",
       " '{\"adult\":false,\"id\":5700,\"original_title\":\"Land Raiders\",\"popularity\":0.033177,\"video\":false}',\n",
       " '{\"adult\":false,\"id\":5704,\"original_title\":\"Playboy: The Story of X\",\"popularity\":0.03748,\"video\":false}',\n",
       " '{\"adult\":false,\"id\":5708,\"original_title\":\"Control\",\"popularity\":0.393257,\"video\":false}',\n",
       " '{\"adult\":false,\"id\":5716,\"original_title\":\"Smog\",\"popularity\":0.071255,\"video\":false}',\n",
       " '{\"adult\":false,\"id\":5720,\"original_title\":\"Motor Psycho\",\"popularity\":0.023213,\"video\":false}',\n",
       " '{\"adult\":false,\"id\":5724,\"original_title\":\"Madonnen\",\"popularity\":0.060167,\"video\":false}',\n",
       " '{\"adult\":false,\"id\":5728,\"original_title\":\"Tag der Idioten\",\"popularity\":0.002653,\"video\":false}',\n",
       " '{\"adult\":false,\"id\":5732,\"original_title\":\"Sher Mountain Killings Mystery\",\"popularity\":4e-06,\"video\":false}',\n",
       " '{\"adult\":true,\"id\":5740,\"original_title\":\"King of the Nudies\",\"popularity\":0.013163,\"video\":false}',\n",
       " '{\"adult\":false,\"id\":5744,\"original_title\":\"Fanny Hill\",\"popularity\":0.000255,\"video\":false}',\n",
       " '{\"adult\":false,\"id\":5748,\"original_title\":\"Good Morning... and Goodbye!\",\"popularity\":0.048618,\"video\":false}',\n",
       " '{\"adult\":false,\"id\":5752,\"original_title\":\"Killer Workout\",\"popularity\":0.009851,\"video\":false}',\n",
       " '{\"adult\":false,\"id\":5756,\"original_title\":\"Center of the Web\",\"popularity\":2e-06,\"video\":false}',\n",
       " '{\"adult\":false,\"id\":5760,\"original_title\":\"The Circuit\",\"popularity\":0.01771,\"video\":false}',\n",
       " '{\"adult\":false,\"id\":5764,\"original_title\":\"Princess of Thieves\",\"popularity\":0.324208,\"video\":false}',\n",
       " '{\"adult\":false,\"id\":5768,\"original_title\":\"The Best of Sex and Violence\",\"popularity\":0.024642,\"video\":false}',\n",
       " '{\"adult\":true,\"id\":5772,\"original_title\":\"Pornography in Hollywood\",\"popularity\":0.00081,\"video\":false}',\n",
       " '{\"adult\":false,\"id\":5776,\"original_title\":\"Trader Hornee\",\"popularity\":0.003569,\"video\":false}',\n",
       " '{\"adult\":false,\"id\":5780,\"original_title\":\"Torn Curtain\",\"popularity\":0.484208,\"video\":false}',\n",
       " '{\"adult\":false,\"id\":5796,\"original_title\":\"After Death - Oltre la morte\",\"popularity\":0.012826,\"video\":false}',\n",
       " '{\"adult\":false,\"id\":5800,\"original_title\":\"Can I Do It Till I Need Glasses?\",\"popularity\":0.07188799999999999,\"video\":false}',\n",
       " '{\"adult\":false,\"id\":5804,\"original_title\":\"The Key to Reserva\",\"popularity\":0.370696,\"video\":false}',\n",
       " '{\"adult\":false,\"id\":5816,\"original_title\":\"Ober\",\"popularity\":0.064169,\"video\":false}',\n",
       " '{\"adult\":false,\"id\":5820,\"original_title\":\"The Sentinel\",\"popularity\":0.612756,\"video\":false}',\n",
       " '{\"adult\":false,\"id\":5828,\"original_title\":\"Bettis Bescherung\",\"popularity\":0.001011,\"video\":false}',\n",
       " '{\"adult\":false,\"id\":5832,\"original_title\":\"Vier Meerjungfrauen II - Liebe à la carte\",\"popularity\":0.000433,\"video\":false}',\n",
       " '{\"adult\":false,\"id\":5840,\"original_title\":\"St. Pauli Nacht\",\"popularity\":0.022099,\"video\":false}',\n",
       " '{\"adult\":false,\"id\":5844,\"original_title\":\"アライヴ\",\"popularity\":0.029171,\"video\":false}',\n",
       " '{\"adult\":false,\"id\":5848,\"original_title\":\"Polizeirevier Davidswache\",\"popularity\":0.000222,\"video\":false}',\n",
       " '{\"adult\":false,\"id\":5852,\"original_title\":\"Angel Eyes\",\"popularity\":0.356558,\"video\":false}',\n",
       " '{\"adult\":false,\"id\":5856,\"original_title\":\"Hotel St. Pauli\",\"popularity\":0.335573,\"video\":false}',\n",
       " '{\"adult\":false,\"id\":5868,\"original_title\":\"Der Geist von St. Pauli\",\"popularity\":0.000288,\"video\":false}',\n",
       " '{\"adult\":false,\"id\":5876,\"original_title\":\"The Mist\",\"popularity\":1.180498,\"video\":false}',\n",
       " '{\"adult\":false,\"id\":5888,\"original_title\":\"Razzia in St. Pauli\",\"popularity\":0.000231,\"video\":false}',\n",
       " '{\"adult\":false,\"id\":5892,\"original_title\":\"Kokain - Das Tagebuch der Inga L.\",\"popularity\":0.0,\"video\":false}',\n",
       " '{\"adult\":false,\"id\":5896,\"original_title\":\"Bolero\",\"popularity\":0.424127,\"video\":false}',\n",
       " '{\"adult\":false,\"id\":5900,\"original_title\":\"De jurk\",\"popularity\":0.131972,\"video\":false}',\n",
       " '{\"adult\":false,\"id\":5904,\"original_title\":\"Das Geheimnis von St. Pauli\",\"popularity\":0.000148,\"video\":false}',\n",
       " '{\"adult\":false,\"id\":5912,\"original_title\":\"Zwei Bayern in St. Pauli\",\"popularity\":0.000144,\"video\":false}',\n",
       " '{\"adult\":false,\"id\":5916,\"original_title\":\"The Getaway\",\"popularity\":1.37547,\"video\":false}',\n",
       " '{\"adult\":false,\"id\":5920,\"original_title\":\"Le Mans\",\"popularity\":0.220411,\"video\":false}',\n",
       " '{\"adult\":false,\"id\":5924,\"original_title\":\"Papillon\",\"popularity\":0.857722,\"video\":false}',\n",
       " '{\"adult\":false,\"id\":5928,\"original_title\":\"The Reivers\",\"popularity\":0.076919,\"video\":false}',\n",
       " '{\"adult\":false,\"id\":5932,\"original_title\":\"St. Pauli zwischen Nacht und Morgen\",\"popularity\":0.000284,\"video\":false}',\n",
       " '{\"adult\":false,\"id\":5936,\"original_title\":\"St. Pauli Herbertstraße\",\"popularity\":0.0003,\"video\":false}',\n",
       " '{\"adult\":false,\"id\":5952,\"original_title\":\"Märzmelodie\",\"popularity\":0.019387,\"video\":false}',\n",
       " '{\"adult\":false,\"id\":5956,\"original_title\":\"Joshua\",\"popularity\":0.076234,\"video\":false}',\n",
       " '{\"adult\":false,\"id\":5960,\"original_title\":\"Seres queridos\",\"popularity\":0.005992,\"video\":false}',\n",
       " '{\"adult\":false,\"id\":5968,\"original_title\":\"The Woman in Red\",\"popularity\":0.147702,\"video\":false}',\n",
       " '{\"adult\":false,\"id\":5972,\"original_title\":\"Witness for the Prosecution\",\"popularity\":0.103521,\"video\":false}',\n",
       " '{\"adult\":false,\"id\":5992,\"original_title\":\"Das kann doch unsren Willi nicht erschüttern\",\"popularity\":3.2e-05,\"video\":false}',\n",
       " '{\"adult\":false,\"id\":5996,\"original_title\":\"We\\'re No Angels\",\"popularity\":0.210287,\"video\":false}',\n",
       " '{\"adult\":false,\"id\":6000,\"original_title\":\"Kiss of Life\",\"popularity\":0.000337,\"video\":false}',\n",
       " '{\"adult\":false,\"id\":6004,\"original_title\":\"Gefangen\",\"popularity\":0.000561,\"video\":false}',\n",
       " '{\"adult\":false,\"id\":6008,\"original_title\":\"Charleys Tante\",\"popularity\":2.7e-05,\"video\":false}',\n",
       " '{\"adult\":false,\"id\":6012,\"original_title\":\"Der Haustyrann\",\"popularity\":0.000338,\"video\":false}',\n",
       " '{\"adult\":false,\"id\":6016,\"original_title\":\"The Good Thief\",\"popularity\":0.100086,\"video\":false}',\n",
       " '{\"adult\":false,\"id\":6020,\"original_title\":\"Sorority Boys\",\"popularity\":0.162383,\"video\":false}',\n",
       " '{\"adult\":false,\"id\":6024,\"original_title\":\"A Murder is Announced\",\"popularity\":0.000184,\"video\":false}',\n",
       " '{\"adult\":false,\"id\":6028,\"original_title\":\"The Mirror Crack\\'d\",\"popularity\":0.205064,\"video\":false}',\n",
       " '{\"adult\":false,\"id\":6032,\"original_title\":\"Murder with Mirrors\",\"popularity\":0.002211,\"video\":false}',\n",
       " '{\"adult\":false,\"id\":6056,\"original_title\":\"Lord Edgware Dies\",\"popularity\":0.000647,\"video\":false}',\n",
       " '{\"adult\":false,\"id\":6060,\"original_title\":\"Black Coffee\",\"popularity\":0.000375,\"video\":false}',\n",
       " '{\"adult\":false,\"id\":6068,\"original_title\":\"Six Days Seven Nights\",\"popularity\":0.420776,\"video\":false}',\n",
       " '{\"adult\":false,\"id\":6072,\"original_title\":\"One Eight Seven\",\"popularity\":0.161336,\"video\":false}',\n",
       " '{\"adult\":false,\"id\":6076,\"original_title\":\"Keinohrhasen\",\"popularity\":0.413948,\"video\":false}',\n",
       " '{\"adult\":false,\"id\":6080,\"original_title\":\"Death on the Nile: Making of Featurette\",\"popularity\":3e-06,\"video\":false}',\n",
       " '{\"adult\":false,\"id\":6104,\"original_title\":\"Murder by the Book\",\"popularity\":0.00214,\"video\":false}',\n",
       " '{\"adult\":false,\"id\":6108,\"original_title\":\"Le Coffret de laque\",\"popularity\":0.000285,\"video\":false}',\n",
       " '{\"adult\":false,\"id\":6112,\"original_title\":\"Agatha Christie: A Life in Pictures\",\"popularity\":0.07022399999999999,\"video\":false}',\n",
       " '{\"adult\":false,\"id\":6116,\"original_title\":\"Spice World\",\"popularity\":0.34221,\"video\":false}',\n",
       " '{\"adult\":false,\"id\":6148,\"original_title\":\"Liebestod\",\"popularity\":0.000249,\"video\":false}',\n",
       " '{\"adult\":false,\"id\":6156,\"original_title\":\"Sehnsucht nach Rimini\",\"popularity\":0.00043,\"video\":false}',\n",
       " '{\"adult\":false,\"id\":6160,\"original_title\":\"Les granges brûlées\",\"popularity\":0.09446400000000001,\"video\":false}',\n",
       " '{\"adult\":false,\"id\":6168,\"original_title\":\"Was heißt hier Oma!\",\"popularity\":0.000432,\"video\":false}',\n",
       " '{\"adult\":false,\"id\":6172,\"original_title\":\"Mein Führer - Die wirklich wahrste Wahrheit über Adolf Hitler\",\"popularity\":0.023378,\"video\":false}',\n",
       " '{\"adult\":false,\"id\":6176,\"original_title\":\"Die Venusfalle\",\"popularity\":1e-06,\"video\":false}',\n",
       " '{\"adult\":false,\"id\":6180,\"original_title\":\"Ich werde dich auf Händen tragen\",\"popularity\":0.000338,\"video\":false}',\n",
       " '{\"adult\":false,\"id\":6196,\"original_title\":\"Utopia\",\"popularity\":0.00056,\"video\":false}',\n",
       " '{\"adult\":false,\"id\":6200,\"original_title\":\"Die Eisblumen Farm\",\"popularity\":0.000288,\"video\":false}',\n",
       " '{\"adult\":false,\"id\":6204,\"original_title\":\"Bis dass dein Tod uns scheidet\",\"popularity\":0.00029,\"video\":false}',\n",
       " '{\"adult\":false,\"id\":6208,\"original_title\":\"Es muss Liebe sein\",\"popularity\":0.000222,\"video\":false}',\n",
       " '{\"adult\":false,\"id\":6216,\"original_title\":\"Hurensohn\",\"popularity\":0.005066,\"video\":false}',\n",
       " '{\"adult\":false,\"id\":6224,\"original_title\":\"Bühne frei für Marika\",\"popularity\":0.000201,\"video\":false}',\n",
       " '{\"adult\":false,\"id\":6228,\"original_title\":\"Räuber und Gendarm\",\"popularity\":5e-06,\"video\":false}',\n",
       " '{\"adult\":false,\"id\":6232,\"original_title\":\"Polterabend\",\"popularity\":0.000785,\"video\":false}',\n",
       " '{\"adult\":false,\"id\":6236,\"original_title\":\"Polterabend\",\"popularity\":0.000435,\"video\":false}',\n",
       " '{\"adult\":false,\"id\":6264,\"original_title\":\"Prince Valiant\",\"popularity\":0.077157,\"video\":false}',\n",
       " '{\"adult\":false,\"id\":6280,\"original_title\":\"Junior\",\"popularity\":0.82324,\"video\":false}',\n",
       " '{\"adult\":false,\"id\":6296,\"original_title\":\"L\\'assassinat du Père Noël\",\"popularity\":0.147322,\"video\":false}',\n",
       " '{\"adult\":false,\"id\":6304,\"original_title\":\"Meine Tochter darf es nie erfahren\",\"popularity\":0.000153,\"video\":false}',\n",
       " '{\"adult\":false,\"id\":6312,\"original_title\":\"Le Pacte des loups\",\"popularity\":0.471695,\"video\":false}',\n",
       " '{\"adult\":false,\"id\":6320,\"original_title\":\"Police\",\"popularity\":0.054534,\"video\":false}',\n",
       " '{\"adult\":false,\"id\":6360,\"original_title\":\"Actrices\",\"popularity\":0.021819,\"video\":false}',\n",
       " '{\"adult\":false,\"id\":6364,\"original_title\":\"Die Geierwally\",\"popularity\":0.000153,\"video\":false}',\n",
       " '{\"adult\":false,\"id\":6368,\"original_title\":\"Ferien in Tirol\",\"popularity\":0.001747,\"video\":false}',\n",
       " '{\"adult\":false,\"id\":6372,\"original_title\":\"Hilfe, ich liebe Zwillinge!\",\"popularity\":0.000401,\"video\":false}',\n",
       " '{\"adult\":false,\"id\":6384,\"original_title\":\"Rounds\",\"popularity\":0.007461,\"video\":false}',\n",
       " '{\"adult\":false,\"id\":6396,\"original_title\":\"SLC Punk\",\"popularity\":0.333953,\"video\":false}',\n",
       " '{\"adult\":false,\"id\":6400,\"original_title\":\"Heute fängt mein Leben an\",\"popularity\":0.000479,\"video\":false}',\n",
       " '{\"adult\":false,\"id\":6404,\"original_title\":\"Nosferatu: Phantom der Nacht\",\"popularity\":0.512145,\"video\":false}',\n",
       " '{\"adult\":false,\"id\":6416,\"original_title\":\"Ein fliehendes Pferd\",\"popularity\":0.001835,\"video\":false}',\n",
       " '{\"adult\":false,\"id\":6420,\"original_title\":\"Die Ratte\",\"popularity\":2e-06,\"video\":false}',\n",
       " '{\"adult\":false,\"id\":6436,\"original_title\":\"Star Command\",\"popularity\":0.214153,\"video\":false}',\n",
       " '{\"adult\":false,\"id\":6440,\"original_title\":\"The Shipping News\",\"popularity\":0.284374,\"video\":false}',\n",
       " '{\"adult\":false,\"id\":6444,\"original_title\":\"Tatie Danielle\",\"popularity\":0.019506,\"video\":false}',\n",
       " '{\"adult\":false,\"id\":6460,\"original_title\":\"Die Datsche\",\"popularity\":0.002327,\"video\":false}',\n",
       " '{\"adult\":false,\"id\":6464,\"original_title\":\"Ohne einander\",\"popularity\":0.001577,\"video\":false}',\n",
       " '{\"adult\":false,\"id\":6468,\"original_title\":\"Premières neiges\",\"popularity\":0.000145,\"video\":false}',\n",
       " '{\"adult\":false,\"id\":6472,\"original_title\":\"Guarding Tess\",\"popularity\":0.242206,\"video\":false}',\n",
       " '{\"adult\":false,\"id\":6476,\"original_title\":\"From Noon Till Three\",\"popularity\":0.15106,\"video\":false}',\n",
       " '{\"adult\":false,\"id\":6480,\"original_title\":\"Melissa\",\"popularity\":0.000513,\"video\":false}',\n",
       " '{\"adult\":false,\"id\":6488,\"original_title\":\"Arachnophobia\",\"popularity\":0.309512,\"video\":false}',\n",
       " '{\"adult\":false,\"id\":6500,\"original_title\":\"Mein Freund der Scheich\",\"popularity\":0.0,\"video\":false}',\n",
       " '{\"adult\":false,\"id\":6512,\"original_title\":\"Lebenslügen\",\"popularity\":0.000144,\"video\":false}',\n",
       " '{\"adult\":false,\"id\":6520,\"original_title\":\"First Knight\",\"popularity\":1.104724,\"video\":false}',\n",
       " '{\"adult\":false,\"id\":6524,\"original_title\":\"Life Stinks\",\"popularity\":0.574884,\"video\":false}',\n",
       " '{\"adult\":false,\"id\":6528,\"original_title\":\"Der Novembermann\",\"popularity\":0.006258,\"video\":false}',\n",
       " '{\"adult\":false,\"id\":6536,\"original_title\":\"Show de Bola\",\"popularity\":0.000454,\"video\":false}',\n",
       " '{\"adult\":false,\"id\":6548,\"original_title\":\"Fahrschule\",\"popularity\":0.000222,\"video\":false}',\n",
       " '{\"adult\":false,\"id\":6552,\"original_title\":\"Idle Hands\",\"popularity\":0.611194,\"video\":false}',\n",
       " '{\"adult\":false,\"id\":6556,\"original_title\":\"Edgar Wallace - Der schwarze Abt\",\"popularity\":0.002342,\"video\":false}',\n",
       " '{\"adult\":false,\"id\":6580,\"original_title\":\"Der Butler und die Prinzessin\",\"popularity\":0.002248,\"video\":false}',\n",
       " '{\"adult\":false,\"id\":6584,\"original_title\":\"Die goldene Göttin vom Rio Beni\",\"popularity\":0.004592,\"video\":false}',\n",
       " '{\"adult\":false,\"id\":6588,\"original_title\":\"Der Eiserne Gustav\",\"popularity\":0.000214,\"video\":false}',\n",
       " '{\"adult\":false,\"id\":6592,\"original_title\":\"Im singenden Rössel am Königssee\",\"popularity\":0.000662,\"video\":false}',\n",
       " '{\"adult\":false,\"id\":6608,\"original_title\":\"Rotlicht!\",\"popularity\":0.000615,\"video\":false}',\n",
       " '{\"adult\":false,\"id\":6620,\"original_title\":\"Sabrina\",\"popularity\":0.60588,\"video\":false}',\n",
       " '{\"adult\":false,\"id\":6624,\"original_title\":\"Mord am Meer\",\"popularity\":0.001811,\"video\":false}',\n",
       " '{\"adult\":false,\"id\":6628,\"original_title\":\"Gegenschuss - Aufbruch der Filmemacher\",\"popularity\":0.002941,\"video\":false}',\n",
       " '{\"adult\":false,\"id\":6632,\"original_title\":\"Die blonde Christl\",\"popularity\":0.000144,\"video\":false}',\n",
       " '{\"adult\":false,\"id\":6636,\"original_title\":\"El asaltante\",\"popularity\":0.000448,\"video\":false}',\n",
       " '{\"adult\":false,\"id\":6644,\"original_title\":\"El Dorado\",\"popularity\":0.820878,\"video\":false}',\n",
       " '{\"adult\":false,\"id\":6656,\"original_title\":\"Wenn am Sonntagabend die Dorfmusik spielt\",\"popularity\":0.000218,\"video\":false}',\n",
       " '{\"adult\":false,\"id\":6688,\"original_title\":\"Der Edelweißkönig\",\"popularity\":0.000462,\"video\":false}',\n",
       " '{\"adult\":false,\"id\":6692,\"original_title\":\"Der Schandfleck\",\"popularity\":0.000338,\"video\":false}',\n",
       " '{\"adult\":false,\"id\":6696,\"original_title\":\"UFOria\",\"popularity\":1e-06,\"video\":false}',\n",
       " '{\"adult\":false,\"id\":6720,\"original_title\":\"Verdammt die jungen Sünder nicht\",\"popularity\":0.000234,\"video\":false}',\n",
       " '{\"adult\":false,\"id\":6792,\"original_title\":\"Im weißen Rössl\",\"popularity\":0.008952,\"video\":false}',\n",
       " '{\"adult\":false,\"id\":6844,\"original_title\":\"The Ten Commandments\",\"popularity\":0.738474,\"video\":false}',\n",
       " '{\"adult\":false,\"id\":6884,\"original_title\":\"Evil Alien Conquerors\",\"popularity\":0.000486,\"video\":false}',\n",
       " '{\"adult\":false,\"id\":6916,\"original_title\":\"...altrimenti ci arrabbiamo!\",\"popularity\":0.166116,\"video\":false}',\n",
       " '{\"adult\":false,\"id\":6932,\"original_title\":\"Zwölf Mädchen und ein Mann\",\"popularity\":0.000347,\"video\":false}',\n",
       " '{\"adult\":false,\"id\":6936,\"original_title\":\"Ben X\",\"popularity\":0.178113,\"video\":false}',\n",
       " '{\"adult\":false,\"id\":6948,\"original_title\":\"The Woods\",\"popularity\":0.229333,\"video\":false}',\n",
       " '{\"adult\":false,\"id\":6956,\"original_title\":\"Waldrausch\",\"popularity\":3.7e-05,\"video\":false}',\n",
       " '{\"adult\":false,\"id\":6960,\"original_title\":\"Was ist denn bloß mit Willi los?\",\"popularity\":0.015188,\"video\":false}',\n",
       " '{\"adult\":false,\"id\":6964,\"original_title\":\"Something\\'s Gotta Give\",\"popularity\":0.784439,\"video\":false}',\n",
       " '{\"adult\":false,\"id\":6968,\"original_title\":\"Der Baader Meinhof Komplex\",\"popularity\":0.383715,\"video\":false}',\n",
       " '{\"adult\":false,\"id\":6972,\"original_title\":\"Australia\",\"popularity\":0.663503,\"video\":false}',\n",
       " '{\"adult\":false,\"id\":6976,\"original_title\":\"Whoever Slew Auntie Roo?\",\"popularity\":0.001747,\"video\":false}',\n",
       " '{\"adult\":false,\"id\":6980,\"original_title\":\"Horse Sense\",\"popularity\":0.142033,\"video\":false}',\n",
       " '{\"adult\":false,\"id\":6984,\"original_title\":\"Home Movies\",\"popularity\":5.5e-05,\"video\":false}',\n",
       " '{\"adult\":false,\"id\":7008,\"original_title\":\"The Wilby Conspiracy\",\"popularity\":0.076774,\"video\":false}',\n",
       " '{\"adult\":false,\"id\":7012,\"original_title\":\"The Day After\",\"popularity\":0.310454,\"video\":false}',\n",
       " '{\"adult\":false,\"id\":7088,\"original_title\":\"Christmas in Boston\",\"popularity\":0.010917,\"video\":false}',\n",
       " '{\"adult\":false,\"id\":7092,\"original_title\":\"Van Helsing: The London Assignment\",\"popularity\":0.115324,\"video\":false}',\n",
       " '{\"adult\":false,\"id\":7096,\"original_title\":\"Merlin\",\"popularity\":1.055679,\"video\":false}',\n",
       " '{\"adult\":false,\"id\":7180,\"original_title\":\"RISEN\",\"popularity\":0.000575,\"video\":false}',\n",
       " '{\"adult\":false,\"id\":7216,\"original_title\":\"Zombi Holocaust\",\"popularity\":0.115998,\"video\":false}',\n",
       " '{\"adult\":false,\"id\":7220,\"original_title\":\"The Punisher\",\"popularity\":1.016186,\"video\":false}',\n",
       " '{\"adult\":false,\"id\":7228,\"original_title\":\"Vienna\",\"popularity\":0.000554,\"video\":false}',\n",
       " '{\"adult\":false,\"id\":7268,\"original_title\":\"Nabonga\",\"popularity\":0.000149,\"video\":false}',\n",
       " '{\"adult\":false,\"id\":7272,\"original_title\":\"Space Raiders\",\"popularity\":0.000773,\"video\":false}',\n",
       " '{\"adult\":false,\"id\":7276,\"original_title\":\"Nordeste\",\"popularity\":0.0008,\"video\":false}',\n",
       " '{\"adult\":false,\"id\":7280,\"original_title\":\"The Last Lear\",\"popularity\":0.000693,\"video\":false}',\n",
       " '{\"adult\":false,\"id\":7288,\"original_title\":\"Duplex\",\"popularity\":0.67588,\"video\":false}',\n",
       " '{\"adult\":false,\"id\":7292,\"original_title\":\"Seven Mummies\",\"popularity\":0.030109,\"video\":false}',\n",
       " '{\"adult\":false,\"id\":7296,\"original_title\":\"Germanikus\",\"popularity\":0.010136,\"video\":false}',\n",
       " '{\"adult\":false,\"id\":7300,\"original_title\":\"One Fine Day\",\"popularity\":0.249818,\"video\":false}',\n",
       " '{\"adult\":false,\"id\":7304,\"original_title\":\"Running Scared\",\"popularity\":0.905112,\"video\":false}',\n",
       " '{\"adult\":false,\"id\":7340,\"original_title\":\"Carrie\",\"popularity\":1.458134,\"video\":false}',\n",
       " '{\"adult\":false,\"id\":7344,\"original_title\":\"Absurdistan\",\"popularity\":0.080636,\"video\":false}',\n",
       " '{\"adult\":false,\"id\":7348,\"original_title\":\"Robinson Crusoe on Mars\",\"popularity\":0.152778,\"video\":false}',\n",
       " '{\"adult\":false,\"id\":7364,\"original_title\":\"Sahara\",\"popularity\":1.074256,\"video\":false}',\n",
       " '{\"adult\":false,\"id\":7392,\"original_title\":\"Ilsa, Harem Keeper of the Oil Sheiks\",\"popularity\":0.168363,\"video\":false}',\n",
       " '{\"adult\":false,\"id\":7448,\"original_title\":\"Quiet Type\",\"popularity\":0.018251,\"video\":false}',\n",
       " '{\"adult\":false,\"id\":7452,\"original_title\":\"The Cook, the Thief, His Wife & Her Lover\",\"popularity\":0.311251,\"video\":false}',\n",
       " '{\"adult\":false,\"id\":7456,\"original_title\":\"Die Wolke\",\"popularity\":0.090333,\"video\":false}',\n",
       " '{\"adult\":false,\"id\":7460,\"original_title\":\"Die Anruferin\",\"popularity\":0.036531,\"video\":false}',\n",
       " '{\"adult\":false,\"id\":7484,\"original_title\":\"Open Season\",\"popularity\":1.068638,\"video\":false}',\n",
       " '{\"adult\":false,\"id\":7500,\"original_title\":\"Sonatine\",\"popularity\":0.383516,\"video\":false}',\n",
       " '{\"adult\":false,\"id\":7504,\"original_title\":\"1947: Earth\",\"popularity\":0.024659,\"video\":false}',\n",
       " '{\"adult\":false,\"id\":7508,\"original_title\":\"Taare Zameen Par\",\"popularity\":0.615399,\"video\":false}',\n",
       " '{\"adult\":false,\"id\":7512,\"original_title\":\"Idiocracy\",\"popularity\":0.7538899999999999,\"video\":false}',\n",
       " '{\"adult\":false,\"id\":7516,\"original_title\":\"Smokin\\' Aces\",\"popularity\":1.404774,\"video\":false}',\n",
       " '{\"adult\":false,\"id\":7520,\"original_title\":\"Cocktail\",\"popularity\":1.241312,\"video\":false}',\n",
       " '{\"adult\":false,\"id\":7548,\"original_title\":\"The Libertine\",\"popularity\":0.409976,\"video\":false}',\n",
       " '{\"adult\":false,\"id\":7552,\"original_title\":\"Fun with Dick and Jane\",\"popularity\":1.926329,\"video\":false}',\n",
       " '{\"adult\":false,\"id\":7736,\"original_title\":\"Katzelmacher\",\"popularity\":0.055385,\"video\":false}',\n",
       " '{\"adult\":false,\"id\":7840,\"original_title\":\"10,000 BC\",\"popularity\":1.465413,\"video\":false}',\n",
       " '{\"adult\":false,\"id\":7860,\"original_title\":\"Lemon Tree\",\"popularity\":0.021077,\"video\":false}',\n",
       " '{\"adult\":false,\"id\":7864,\"original_title\":\"Wiedersehen in Verona\",\"popularity\":0.000593,\"video\":false}',\n",
       " '{\"adult\":false,\"id\":7868,\"original_title\":\"Nur ein Kuss\",\"popularity\":0.000651,\"video\":false}',\n",
       " '{\"adult\":false,\"id\":7872,\"original_title\":\"The Road to Guantanamo\",\"popularity\":0.062222,\"video\":false}',\n",
       " '{\"adult\":false,\"id\":7916,\"original_title\":\"Far Cry\",\"popularity\":0.395826,\"video\":false}',\n",
       " '{\"adult\":false,\"id\":7944,\"original_title\":\"Shine a Light\",\"popularity\":0.155739,\"video\":false}',\n",
       " '{\"adult\":false,\"id\":7972,\"original_title\":\"Before the Devil Knows You\\'re Dead\",\"popularity\":0.433113,\"video\":false}',\n",
       " '{\"adult\":false,\"id\":7980,\"original_title\":\"The Lovely Bones\",\"popularity\":1.227582,\"video\":false}',\n",
       " '{\"adult\":false,\"id\":7984,\"original_title\":\"In the Name of the Father\",\"popularity\":0.49133,\"video\":false}',\n",
       " '{\"adult\":false,\"id\":7988,\"original_title\":\"The Island\",\"popularity\":0.204363,\"video\":false}',\n",
       " '{\"adult\":false,\"id\":7992,\"original_title\":\"It\\'s a Free World...\",\"popularity\":0.148593,\"video\":false}',\n",
       " '{\"adult\":false,\"id\":8008,\"original_title\":\"Mouth to Mouth\",\"popularity\":0.147688,\"video\":false}',\n",
       " '{\"adult\":false,\"id\":8012,\"original_title\":\"Get Shorty\",\"popularity\":0.494413,\"video\":false}',\n",
       " '{\"adult\":false,\"id\":8016,\"original_title\":\"Germania anno zero\",\"popularity\":0.219639,\"video\":false}',\n",
       " '{\"adult\":false,\"id\":8044,\"original_title\":\"The last night of Pompeii\",\"popularity\":0.000866,\"video\":false}',\n",
       " '{\"adult\":false,\"id\":8048,\"original_title\":\"Quando le donne persero la coda\",\"popularity\":0.012251,\"video\":false}']"
      ]
     },
     "execution_count": 83,
     "metadata": {},
     "output_type": "execute_result"
    }
   ],
   "source": [
    "idyuki[:1000]"
   ]
  },
  {
   "cell_type": "code",
   "execution_count": 28,
   "metadata": {
    "collapsed": true
   },
   "outputs": [],
   "source": [
    "def parser(cur_json):\n",
    "    try:\n",
    "        return json.loads(cur_json)\n",
    "    except:\n",
    "        raise Exception(cur_json)"
   ]
  },
  {
   "cell_type": "code",
   "execution_count": 29,
   "metadata": {
    "collapsed": true
   },
   "outputs": [],
   "source": [
    "import re"
   ]
  },
  {
   "cell_type": "code",
   "execution_count": 30,
   "metadata": {
    "collapsed": true
   },
   "outputs": [],
   "source": [
    "finditer = re.finditer(r'\"id\":(\\d+)', idyuki)"
   ]
  },
  {
   "cell_type": "code",
   "execution_count": 31,
   "metadata": {
    "collapsed": true
   },
   "outputs": [],
   "source": [
    "different_ids = set()\n",
    "for cur_match in finditer:\n",
    "    different_ids.add(int(cur_match.group(1)))"
   ]
  },
  {
   "cell_type": "code",
   "execution_count": 32,
   "metadata": {},
   "outputs": [
    {
     "data": {
      "text/plain": [
       "333228"
      ]
     },
     "execution_count": 32,
     "metadata": {},
     "output_type": "execute_result"
    }
   ],
   "source": [
    "len(different_ids)"
   ]
  },
  {
   "cell_type": "code",
   "execution_count": 33,
   "metadata": {
    "collapsed": true
   },
   "outputs": [],
   "source": [
    "import numpy as np"
   ]
  },
  {
   "cell_type": "code",
   "execution_count": 34,
   "metadata": {},
   "outputs": [],
   "source": [
    "to_parse = np.random.choice(list(different_ids), size=3000, replace=False)"
   ]
  },
  {
   "cell_type": "code",
   "execution_count": 35,
   "metadata": {
    "collapsed": true
   },
   "outputs": [],
   "source": [
    "from multiprocessing.pool import ThreadPool"
   ]
  },
  {
   "cell_type": "code",
   "execution_count": 163,
   "metadata": {
    "collapsed": true
   },
   "outputs": [],
   "source": [
    "our_pool = ThreadPool(processes=4)"
   ]
  },
  {
   "cell_type": "code",
   "execution_count": 165,
   "metadata": {
    "collapsed": true
   },
   "outputs": [],
   "source": [
    "import concurrent.futures "
   ]
  },
  {
   "cell_type": "code",
   "execution_count": 166,
   "metadata": {
    "collapsed": true
   },
   "outputs": [],
   "source": [
    "from concurrent.futures import ThreadPoolExecutor"
   ]
  },
  {
   "cell_type": "code",
   "execution_count": 36,
   "metadata": {},
   "outputs": [],
   "source": [
    "to_parse = np.random.choice(list(different_ids), size=3000, replace=False)"
   ]
  },
  {
   "cell_type": "code",
   "execution_count": 37,
   "metadata": {
    "collapsed": true
   },
   "outputs": [],
   "source": [
    "import json"
   ]
  },
  {
   "cell_type": "code",
   "execution_count": 38,
   "metadata": {},
   "outputs": [
    {
     "data": {
      "text/plain": [
       "123"
      ]
     },
     "execution_count": 38,
     "metadata": {},
     "output_type": "execute_result"
    }
   ],
   "source": [
    "123"
   ]
  },
  {
   "cell_type": "code",
   "execution_count": null,
   "metadata": {},
   "outputs": [
    {
     "name": "stderr",
     "output_type": "stream",
     "text": [
      "100%|██████████| 3000/3000 [31:32<00:00,  1.09it/s]\n"
     ]
    }
   ],
   "source": [
    "results = {}\n",
    "for id_ in tqdm(to_parse):\n",
    "    got = requests.get(\"https://api.themoviedb.org/3/movie/{}?api_key={}\".format(id_, api_key))\n",
    "    if got.status_code == 200:\n",
    "        results[id_] = json.loads(got.content)"
   ]
  },
  {
   "cell_type": "code",
   "execution_count": 40,
   "metadata": {},
   "outputs": [
    {
     "data": {
      "text/plain": [
       "2984"
      ]
     },
     "execution_count": 40,
     "metadata": {},
     "output_type": "execute_result"
    }
   ],
   "source": [
    "len(results)"
   ]
  },
  {
   "cell_type": "code",
   "execution_count": null,
   "metadata": {
    "collapsed": true
   },
   "outputs": [],
   "source": []
  },
  {
   "cell_type": "code",
   "execution_count": 42,
   "metadata": {},
   "outputs": [],
   "source": [
    "with open(\"ska4l_keno2.txt\", 'w') as f:\n",
    "    for k in results:\n",
    "        f.write(str(k) + '~~~~' + json.dumps(results[k])+ '\\n')"
   ]
  },
  {
   "cell_type": "code",
   "execution_count": 30,
   "metadata": {
    "collapsed": true
   },
   "outputs": [],
   "source": [
    "# results = {}\n",
    "# with ThreadPoolExecutor(max_workers=4) as tpex:\n",
    "#     for id_ in tqdm(to_parse):\n",
    "#         future = tpex.submit(get_info, id_)\n",
    "#         results[id_] = future.result()"
   ]
  },
  {
   "cell_type": "code",
   "execution_count": 172,
   "metadata": {
    "collapsed": true
   },
   "outputs": [
    {
     "data": {
      "text/plain": [
       "{'adult': False,\n",
       " 'backdrop_path': '/MBfvIrsH23DeGUXLptAIj1ELXJ.jpg',\n",
       " 'belongs_to_collection': None,\n",
       " 'budget': 0,\n",
       " 'genres': [{'id': 18, 'name': 'Drama'}],\n",
       " 'homepage': '',\n",
       " 'id': 4561,\n",
       " 'imdb_id': 'tt0073115',\n",
       " 'original_language': 'fr',\n",
       " 'original_title': \"Histoire d'O\",\n",
       " 'overview': 'The beautiful O is taken by her boyfriend, Rene, to a bizarre retreat, where she is trained in bondage and sexual perversion...',\n",
       " 'popularity': 4.974733,\n",
       " 'poster_path': '/5flWyu0Ze1dsyFkANeyTQJXISjQ.jpg',\n",
       " 'production_companies': [{'id': 619, 'name': 'Terra-Filmkunst GmbH'},\n",
       "  {'id': 1137, 'name': 'S.N. Prodis'}],\n",
       " 'production_countries': [{'iso_3166_1': 'CA', 'name': 'Canada'},\n",
       "  {'iso_3166_1': 'FR', 'name': 'France'},\n",
       "  {'iso_3166_1': 'DE', 'name': 'Germany'}],\n",
       " 'release_date': '1975-08-28',\n",
       " 'revenue': 0,\n",
       " 'runtime': 97,\n",
       " 'spoken_languages': [{'iso_639_1': 'fr', 'name': 'Français'}],\n",
       " 'status': 'Released',\n",
       " 'tagline': '\"O\" is the mistress of all mistresses.',\n",
       " 'title': 'The Story of O',\n",
       " 'video': False,\n",
       " 'vote_average': 5.7,\n",
       " 'vote_count': 40}"
      ]
     },
     "execution_count": 172,
     "metadata": {},
     "output_type": "execute_result"
    }
   ],
   "source": [
    "results[min(results)]"
   ]
  },
  {
   "cell_type": "code",
   "execution_count": 168,
   "metadata": {
    "collapsed": true
   },
   "outputs": [],
   "source": [
    "def get_info(id_):\n",
    "    got = requests.get(\"https://api.themoviedb.org/3/movie/{}?api_key={}\".format(id_, api_key))\n",
    "    if got.status_code == 200:\n",
    "        return json.loads(got.content)"
   ]
  },
  {
   "cell_type": "code",
   "execution_count": 158,
   "metadata": {
    "collapsed": true
   },
   "outputs": [],
   "source": []
  },
  {
   "cell_type": "code",
   "execution_count": 159,
   "metadata": {
    "scrolled": true
   },
   "outputs": [
    {
     "data": {
      "text/plain": [
       "70417"
      ]
     },
     "execution_count": 159,
     "metadata": {},
     "output_type": "execute_result"
    }
   ],
   "source": [
    "to_parse[0]"
   ]
  },
  {
   "cell_type": "code",
   "execution_count": 160,
   "metadata": {},
   "outputs": [
    {
     "data": {
      "text/plain": [
       "<generator object get_info at 0x10e6b2468>"
      ]
     },
     "execution_count": 160,
     "metadata": {},
     "output_type": "execute_result"
    }
   ],
   "source": [
    "get_info(to_parse[0])"
   ]
  },
  {
   "cell_type": "code",
   "execution_count": 161,
   "metadata": {},
   "outputs": [
    {
     "name": "stderr",
     "output_type": "stream",
     "text": [
      "\n",
      "  0%|          | 0/30 [00:00<?, ?it/s]\u001b[A\n",
      "100%|██████████| 30/30 [00:00<00:00, 15051.33it/s]\u001b[A"
     ]
    }
   ],
   "source": [
    "result = our_pool.map(get_info, tqdm(to_parse))"
   ]
  },
  {
   "cell_type": "code",
   "execution_count": null,
   "metadata": {
    "collapsed": true
   },
   "outputs": [],
   "source": []
  },
  {
   "cell_type": "code",
   "execution_count": 162,
   "metadata": {},
   "outputs": [
    {
     "data": {
      "text/plain": [
       "[70417, 269032]"
      ]
     },
     "execution_count": 162,
     "metadata": {},
     "output_type": "execute_result"
    }
   ],
   "source": [
    "list(map(lambda elem: next(elem)['id'], result))"
   ]
  },
  {
   "cell_type": "code",
   "execution_count": 143,
   "metadata": {
    "collapsed": true
   },
   "outputs": [],
   "source": [
    "a=result[0]"
   ]
  },
  {
   "cell_type": "code",
   "execution_count": 145,
   "metadata": {
    "collapsed": true
   },
   "outputs": [],
   "source": [
    "jq = next(a)"
   ]
  },
  {
   "cell_type": "code",
   "execution_count": 146,
   "metadata": {
    "collapsed": true
   },
   "outputs": [
    {
     "data": {
      "text/plain": [
       "{'adult': False,\n",
       " 'backdrop_path': None,\n",
       " 'belongs_to_collection': None,\n",
       " 'budget': 0,\n",
       " 'genres': [{'id': 16, 'name': 'Animation'}],\n",
       " 'homepage': '',\n",
       " 'id': 319157,\n",
       " 'imdb_id': 'tt0418964',\n",
       " 'original_language': 'ja',\n",
       " 'original_title': 'Norakuro nitôhei: Kyôren no maki',\n",
       " 'overview': 'Norakuro keeps getting his allies and enemies mixed up during training.',\n",
       " 'popularity': 0.00679,\n",
       " 'poster_path': '/2YirxJqLtM9zzJ9W4BAIfJsdCRG.jpg',\n",
       " 'production_companies': [],\n",
       " 'production_countries': [{'iso_3166_1': 'JP', 'name': 'Japan'}],\n",
       " 'release_date': '1933-06-13',\n",
       " 'revenue': 0,\n",
       " 'runtime': 9,\n",
       " 'spoken_languages': [{'iso_639_1': 'ja', 'name': '日本語'}],\n",
       " 'status': 'Released',\n",
       " 'tagline': '',\n",
       " 'title': 'Private 2nd Class Norakuro: The Drill',\n",
       " 'video': False,\n",
       " 'vote_average': 0.0,\n",
       " 'vote_count': 0}"
      ]
     },
     "execution_count": 146,
     "metadata": {},
     "output_type": "execute_result"
    }
   ],
   "source": [
    "jq"
   ]
  },
  {
   "cell_type": "code",
   "execution_count": 100,
   "metadata": {
    "collapsed": true
   },
   "outputs": [
    {
     "name": "stderr",
     "output_type": "stream",
     "text": [
      "\n",
      "  0%|          | 0/3000 [00:00<?, ?it/s]\u001b[A\n",
      "  0%|          | 1/3000 [00:00<34:51,  1.43it/s]\u001b[A\n",
      "  0%|          | 2/3000 [00:01<33:01,  1.51it/s]\u001b[A\n",
      "  0%|          | 3/3000 [00:01<31:38,  1.58it/s]\u001b[A\n",
      "  0%|          | 4/3000 [00:02<30:37,  1.63it/s]\u001b[A\n",
      "  0%|          | 5/3000 [00:03<30:24,  1.64it/s]\u001b[A\n",
      "  1%|          | 33/3000 [00:19<29:51,  1.66it/s]"
     ]
    },
    {
     "ename": "KeyboardInterrupt",
     "evalue": "",
     "output_type": "error",
     "traceback": [
      "\u001b[0;31m---------------------------------------------------------------------------\u001b[0m",
      "\u001b[0;31mKeyboardInterrupt\u001b[0m                         Traceback (most recent call last)",
      "\u001b[0;32m<ipython-input-100-d626425782b5>\u001b[0m in \u001b[0;36m<module>\u001b[0;34m()\u001b[0m\n\u001b[1;32m      2\u001b[0m \u001b[0mid_to_data\u001b[0m \u001b[0;34m=\u001b[0m \u001b[0;34m{\u001b[0m\u001b[0;34m}\u001b[0m\u001b[0;34m\u001b[0m\u001b[0m\n\u001b[1;32m      3\u001b[0m \u001b[0;32mfor\u001b[0m \u001b[0mid_\u001b[0m \u001b[0;32min\u001b[0m \u001b[0mtqdm\u001b[0m\u001b[0;34m(\u001b[0m\u001b[0mto_parse\u001b[0m\u001b[0;34m)\u001b[0m\u001b[0;34m:\u001b[0m\u001b[0;34m\u001b[0m\u001b[0m\n\u001b[0;32m----> 4\u001b[0;31m     \u001b[0mgot\u001b[0m \u001b[0;34m=\u001b[0m \u001b[0mrequests\u001b[0m\u001b[0;34m.\u001b[0m\u001b[0mget\u001b[0m\u001b[0;34m(\u001b[0m\u001b[0;34m\"https://api.themoviedb.org/3/movie/{}?api_key={}\"\u001b[0m\u001b[0;34m.\u001b[0m\u001b[0mformat\u001b[0m\u001b[0;34m(\u001b[0m\u001b[0mid_\u001b[0m\u001b[0;34m,\u001b[0m \u001b[0mapi_key\u001b[0m\u001b[0;34m)\u001b[0m\u001b[0;34m)\u001b[0m\u001b[0;34m\u001b[0m\u001b[0m\n\u001b[0m\u001b[1;32m      5\u001b[0m     \u001b[0;32mif\u001b[0m \u001b[0mgot\u001b[0m\u001b[0;34m.\u001b[0m\u001b[0mstatus_code\u001b[0m \u001b[0;34m==\u001b[0m \u001b[0;36m200\u001b[0m\u001b[0;34m:\u001b[0m\u001b[0;34m\u001b[0m\u001b[0m\n\u001b[1;32m      6\u001b[0m         \u001b[0mid_to_data\u001b[0m \u001b[0;34m=\u001b[0m \u001b[0mjson\u001b[0m\u001b[0;34m.\u001b[0m\u001b[0mloads\u001b[0m\u001b[0;34m(\u001b[0m\u001b[0mgot\u001b[0m\u001b[0;34m.\u001b[0m\u001b[0mcontent\u001b[0m\u001b[0;34m)\u001b[0m\u001b[0;34m\u001b[0m\u001b[0m\n",
      "\u001b[0;32m~/Library/Python/3.6/lib/python/site-packages/requests/api.py\u001b[0m in \u001b[0;36mget\u001b[0;34m(url, params, **kwargs)\u001b[0m\n\u001b[1;32m     70\u001b[0m \u001b[0;34m\u001b[0m\u001b[0m\n\u001b[1;32m     71\u001b[0m     \u001b[0mkwargs\u001b[0m\u001b[0;34m.\u001b[0m\u001b[0msetdefault\u001b[0m\u001b[0;34m(\u001b[0m\u001b[0;34m'allow_redirects'\u001b[0m\u001b[0;34m,\u001b[0m \u001b[0;32mTrue\u001b[0m\u001b[0;34m)\u001b[0m\u001b[0;34m\u001b[0m\u001b[0m\n\u001b[0;32m---> 72\u001b[0;31m     \u001b[0;32mreturn\u001b[0m \u001b[0mrequest\u001b[0m\u001b[0;34m(\u001b[0m\u001b[0;34m'get'\u001b[0m\u001b[0;34m,\u001b[0m \u001b[0murl\u001b[0m\u001b[0;34m,\u001b[0m \u001b[0mparams\u001b[0m\u001b[0;34m=\u001b[0m\u001b[0mparams\u001b[0m\u001b[0;34m,\u001b[0m \u001b[0;34m**\u001b[0m\u001b[0mkwargs\u001b[0m\u001b[0;34m)\u001b[0m\u001b[0;34m\u001b[0m\u001b[0m\n\u001b[0m\u001b[1;32m     73\u001b[0m \u001b[0;34m\u001b[0m\u001b[0m\n\u001b[1;32m     74\u001b[0m \u001b[0;34m\u001b[0m\u001b[0m\n",
      "\u001b[0;32m~/Library/Python/3.6/lib/python/site-packages/requests/api.py\u001b[0m in \u001b[0;36mrequest\u001b[0;34m(method, url, **kwargs)\u001b[0m\n\u001b[1;32m     56\u001b[0m     \u001b[0;31m# cases, and look like a memory leak in others.\u001b[0m\u001b[0;34m\u001b[0m\u001b[0;34m\u001b[0m\u001b[0m\n\u001b[1;32m     57\u001b[0m     \u001b[0;32mwith\u001b[0m \u001b[0msessions\u001b[0m\u001b[0;34m.\u001b[0m\u001b[0mSession\u001b[0m\u001b[0;34m(\u001b[0m\u001b[0;34m)\u001b[0m \u001b[0;32mas\u001b[0m \u001b[0msession\u001b[0m\u001b[0;34m:\u001b[0m\u001b[0;34m\u001b[0m\u001b[0m\n\u001b[0;32m---> 58\u001b[0;31m         \u001b[0;32mreturn\u001b[0m \u001b[0msession\u001b[0m\u001b[0;34m.\u001b[0m\u001b[0mrequest\u001b[0m\u001b[0;34m(\u001b[0m\u001b[0mmethod\u001b[0m\u001b[0;34m=\u001b[0m\u001b[0mmethod\u001b[0m\u001b[0;34m,\u001b[0m \u001b[0murl\u001b[0m\u001b[0;34m=\u001b[0m\u001b[0murl\u001b[0m\u001b[0;34m,\u001b[0m \u001b[0;34m**\u001b[0m\u001b[0mkwargs\u001b[0m\u001b[0;34m)\u001b[0m\u001b[0;34m\u001b[0m\u001b[0m\n\u001b[0m\u001b[1;32m     59\u001b[0m \u001b[0;34m\u001b[0m\u001b[0m\n\u001b[1;32m     60\u001b[0m \u001b[0;34m\u001b[0m\u001b[0m\n",
      "\u001b[0;32m~/Library/Python/3.6/lib/python/site-packages/requests/sessions.py\u001b[0m in \u001b[0;36mrequest\u001b[0;34m(self, method, url, params, data, headers, cookies, files, auth, timeout, allow_redirects, proxies, hooks, stream, verify, cert, json)\u001b[0m\n\u001b[1;32m    506\u001b[0m         }\n\u001b[1;32m    507\u001b[0m         \u001b[0msend_kwargs\u001b[0m\u001b[0;34m.\u001b[0m\u001b[0mupdate\u001b[0m\u001b[0;34m(\u001b[0m\u001b[0msettings\u001b[0m\u001b[0;34m)\u001b[0m\u001b[0;34m\u001b[0m\u001b[0m\n\u001b[0;32m--> 508\u001b[0;31m         \u001b[0mresp\u001b[0m \u001b[0;34m=\u001b[0m \u001b[0mself\u001b[0m\u001b[0;34m.\u001b[0m\u001b[0msend\u001b[0m\u001b[0;34m(\u001b[0m\u001b[0mprep\u001b[0m\u001b[0;34m,\u001b[0m \u001b[0;34m**\u001b[0m\u001b[0msend_kwargs\u001b[0m\u001b[0;34m)\u001b[0m\u001b[0;34m\u001b[0m\u001b[0m\n\u001b[0m\u001b[1;32m    509\u001b[0m \u001b[0;34m\u001b[0m\u001b[0m\n\u001b[1;32m    510\u001b[0m         \u001b[0;32mreturn\u001b[0m \u001b[0mresp\u001b[0m\u001b[0;34m\u001b[0m\u001b[0m\n",
      "\u001b[0;32m~/Library/Python/3.6/lib/python/site-packages/requests/sessions.py\u001b[0m in \u001b[0;36msend\u001b[0;34m(self, request, **kwargs)\u001b[0m\n\u001b[1;32m    616\u001b[0m \u001b[0;34m\u001b[0m\u001b[0m\n\u001b[1;32m    617\u001b[0m         \u001b[0;31m# Send the request\u001b[0m\u001b[0;34m\u001b[0m\u001b[0;34m\u001b[0m\u001b[0m\n\u001b[0;32m--> 618\u001b[0;31m         \u001b[0mr\u001b[0m \u001b[0;34m=\u001b[0m \u001b[0madapter\u001b[0m\u001b[0;34m.\u001b[0m\u001b[0msend\u001b[0m\u001b[0;34m(\u001b[0m\u001b[0mrequest\u001b[0m\u001b[0;34m,\u001b[0m \u001b[0;34m**\u001b[0m\u001b[0mkwargs\u001b[0m\u001b[0;34m)\u001b[0m\u001b[0;34m\u001b[0m\u001b[0m\n\u001b[0m\u001b[1;32m    619\u001b[0m \u001b[0;34m\u001b[0m\u001b[0m\n\u001b[1;32m    620\u001b[0m         \u001b[0;31m# Total elapsed time of the request (approximately)\u001b[0m\u001b[0;34m\u001b[0m\u001b[0;34m\u001b[0m\u001b[0m\n",
      "\u001b[0;32m~/Library/Python/3.6/lib/python/site-packages/requests/adapters.py\u001b[0m in \u001b[0;36msend\u001b[0;34m(self, request, stream, timeout, verify, cert, proxies)\u001b[0m\n\u001b[1;32m    438\u001b[0m                     \u001b[0mdecode_content\u001b[0m\u001b[0;34m=\u001b[0m\u001b[0;32mFalse\u001b[0m\u001b[0;34m,\u001b[0m\u001b[0;34m\u001b[0m\u001b[0m\n\u001b[1;32m    439\u001b[0m                     \u001b[0mretries\u001b[0m\u001b[0;34m=\u001b[0m\u001b[0mself\u001b[0m\u001b[0;34m.\u001b[0m\u001b[0mmax_retries\u001b[0m\u001b[0;34m,\u001b[0m\u001b[0;34m\u001b[0m\u001b[0m\n\u001b[0;32m--> 440\u001b[0;31m                     \u001b[0mtimeout\u001b[0m\u001b[0;34m=\u001b[0m\u001b[0mtimeout\u001b[0m\u001b[0;34m\u001b[0m\u001b[0m\n\u001b[0m\u001b[1;32m    441\u001b[0m                 )\n\u001b[1;32m    442\u001b[0m \u001b[0;34m\u001b[0m\u001b[0m\n",
      "\u001b[0;32m~/Library/Python/3.6/lib/python/site-packages/urllib3/connectionpool.py\u001b[0m in \u001b[0;36murlopen\u001b[0;34m(self, method, url, body, headers, retries, redirect, assert_same_host, timeout, pool_timeout, release_conn, chunked, body_pos, **response_kw)\u001b[0m\n\u001b[1;32m    599\u001b[0m                                                   \u001b[0mtimeout\u001b[0m\u001b[0;34m=\u001b[0m\u001b[0mtimeout_obj\u001b[0m\u001b[0;34m,\u001b[0m\u001b[0;34m\u001b[0m\u001b[0m\n\u001b[1;32m    600\u001b[0m                                                   \u001b[0mbody\u001b[0m\u001b[0;34m=\u001b[0m\u001b[0mbody\u001b[0m\u001b[0;34m,\u001b[0m \u001b[0mheaders\u001b[0m\u001b[0;34m=\u001b[0m\u001b[0mheaders\u001b[0m\u001b[0;34m,\u001b[0m\u001b[0;34m\u001b[0m\u001b[0m\n\u001b[0;32m--> 601\u001b[0;31m                                                   chunked=chunked)\n\u001b[0m\u001b[1;32m    602\u001b[0m \u001b[0;34m\u001b[0m\u001b[0m\n\u001b[1;32m    603\u001b[0m             \u001b[0;31m# If we're going to release the connection in ``finally:``, then\u001b[0m\u001b[0;34m\u001b[0m\u001b[0;34m\u001b[0m\u001b[0m\n",
      "\u001b[0;32m~/Library/Python/3.6/lib/python/site-packages/urllib3/connectionpool.py\u001b[0m in \u001b[0;36m_make_request\u001b[0;34m(self, conn, method, url, timeout, chunked, **httplib_request_kw)\u001b[0m\n\u001b[1;32m    344\u001b[0m         \u001b[0;31m# Trigger any extra validation we need to do.\u001b[0m\u001b[0;34m\u001b[0m\u001b[0;34m\u001b[0m\u001b[0m\n\u001b[1;32m    345\u001b[0m         \u001b[0;32mtry\u001b[0m\u001b[0;34m:\u001b[0m\u001b[0;34m\u001b[0m\u001b[0m\n\u001b[0;32m--> 346\u001b[0;31m             \u001b[0mself\u001b[0m\u001b[0;34m.\u001b[0m\u001b[0m_validate_conn\u001b[0m\u001b[0;34m(\u001b[0m\u001b[0mconn\u001b[0m\u001b[0;34m)\u001b[0m\u001b[0;34m\u001b[0m\u001b[0m\n\u001b[0m\u001b[1;32m    347\u001b[0m         \u001b[0;32mexcept\u001b[0m \u001b[0;34m(\u001b[0m\u001b[0mSocketTimeout\u001b[0m\u001b[0;34m,\u001b[0m \u001b[0mBaseSSLError\u001b[0m\u001b[0;34m)\u001b[0m \u001b[0;32mas\u001b[0m \u001b[0me\u001b[0m\u001b[0;34m:\u001b[0m\u001b[0;34m\u001b[0m\u001b[0m\n\u001b[1;32m    348\u001b[0m             \u001b[0;31m# Py2 raises this as a BaseSSLError, Py3 raises it as socket timeout.\u001b[0m\u001b[0;34m\u001b[0m\u001b[0;34m\u001b[0m\u001b[0m\n",
      "\u001b[0;32m~/Library/Python/3.6/lib/python/site-packages/urllib3/connectionpool.py\u001b[0m in \u001b[0;36m_validate_conn\u001b[0;34m(self, conn)\u001b[0m\n\u001b[1;32m    848\u001b[0m         \u001b[0;31m# Force connect early to allow us to validate the connection.\u001b[0m\u001b[0;34m\u001b[0m\u001b[0;34m\u001b[0m\u001b[0m\n\u001b[1;32m    849\u001b[0m         \u001b[0;32mif\u001b[0m \u001b[0;32mnot\u001b[0m \u001b[0mgetattr\u001b[0m\u001b[0;34m(\u001b[0m\u001b[0mconn\u001b[0m\u001b[0;34m,\u001b[0m \u001b[0;34m'sock'\u001b[0m\u001b[0;34m,\u001b[0m \u001b[0;32mNone\u001b[0m\u001b[0;34m)\u001b[0m\u001b[0;34m:\u001b[0m  \u001b[0;31m# AppEngine might not have  `.sock`\u001b[0m\u001b[0;34m\u001b[0m\u001b[0m\n\u001b[0;32m--> 850\u001b[0;31m             \u001b[0mconn\u001b[0m\u001b[0;34m.\u001b[0m\u001b[0mconnect\u001b[0m\u001b[0;34m(\u001b[0m\u001b[0;34m)\u001b[0m\u001b[0;34m\u001b[0m\u001b[0m\n\u001b[0m\u001b[1;32m    851\u001b[0m \u001b[0;34m\u001b[0m\u001b[0m\n\u001b[1;32m    852\u001b[0m         \u001b[0;32mif\u001b[0m \u001b[0;32mnot\u001b[0m \u001b[0mconn\u001b[0m\u001b[0;34m.\u001b[0m\u001b[0mis_verified\u001b[0m\u001b[0;34m:\u001b[0m\u001b[0;34m\u001b[0m\u001b[0m\n",
      "\u001b[0;32m~/Library/Python/3.6/lib/python/site-packages/urllib3/connection.py\u001b[0m in \u001b[0;36mconnect\u001b[0;34m(self)\u001b[0m\n\u001b[1;32m    282\u001b[0m     \u001b[0;32mdef\u001b[0m \u001b[0mconnect\u001b[0m\u001b[0;34m(\u001b[0m\u001b[0mself\u001b[0m\u001b[0;34m)\u001b[0m\u001b[0;34m:\u001b[0m\u001b[0;34m\u001b[0m\u001b[0m\n\u001b[1;32m    283\u001b[0m         \u001b[0;31m# Add certificate verification\u001b[0m\u001b[0;34m\u001b[0m\u001b[0;34m\u001b[0m\u001b[0m\n\u001b[0;32m--> 284\u001b[0;31m         \u001b[0mconn\u001b[0m \u001b[0;34m=\u001b[0m \u001b[0mself\u001b[0m\u001b[0;34m.\u001b[0m\u001b[0m_new_conn\u001b[0m\u001b[0;34m(\u001b[0m\u001b[0;34m)\u001b[0m\u001b[0;34m\u001b[0m\u001b[0m\n\u001b[0m\u001b[1;32m    285\u001b[0m \u001b[0;34m\u001b[0m\u001b[0m\n\u001b[1;32m    286\u001b[0m         \u001b[0mhostname\u001b[0m \u001b[0;34m=\u001b[0m \u001b[0mself\u001b[0m\u001b[0;34m.\u001b[0m\u001b[0mhost\u001b[0m\u001b[0;34m\u001b[0m\u001b[0m\n",
      "\u001b[0;32m~/Library/Python/3.6/lib/python/site-packages/urllib3/connection.py\u001b[0m in \u001b[0;36m_new_conn\u001b[0;34m(self)\u001b[0m\n\u001b[1;32m    139\u001b[0m         \u001b[0;32mtry\u001b[0m\u001b[0;34m:\u001b[0m\u001b[0;34m\u001b[0m\u001b[0m\n\u001b[1;32m    140\u001b[0m             conn = connection.create_connection(\n\u001b[0;32m--> 141\u001b[0;31m                 (self.host, self.port), self.timeout, **extra_kw)\n\u001b[0m\u001b[1;32m    142\u001b[0m \u001b[0;34m\u001b[0m\u001b[0m\n\u001b[1;32m    143\u001b[0m         \u001b[0;32mexcept\u001b[0m \u001b[0mSocketTimeout\u001b[0m \u001b[0;32mas\u001b[0m \u001b[0me\u001b[0m\u001b[0;34m:\u001b[0m\u001b[0;34m\u001b[0m\u001b[0m\n",
      "\u001b[0;32m~/Library/Python/3.6/lib/python/site-packages/urllib3/util/connection.py\u001b[0m in \u001b[0;36mcreate_connection\u001b[0;34m(address, timeout, source_address, socket_options)\u001b[0m\n\u001b[1;32m     71\u001b[0m             \u001b[0;32mif\u001b[0m \u001b[0msource_address\u001b[0m\u001b[0;34m:\u001b[0m\u001b[0;34m\u001b[0m\u001b[0m\n\u001b[1;32m     72\u001b[0m                 \u001b[0msock\u001b[0m\u001b[0;34m.\u001b[0m\u001b[0mbind\u001b[0m\u001b[0;34m(\u001b[0m\u001b[0msource_address\u001b[0m\u001b[0;34m)\u001b[0m\u001b[0;34m\u001b[0m\u001b[0m\n\u001b[0;32m---> 73\u001b[0;31m             \u001b[0msock\u001b[0m\u001b[0;34m.\u001b[0m\u001b[0mconnect\u001b[0m\u001b[0;34m(\u001b[0m\u001b[0msa\u001b[0m\u001b[0;34m)\u001b[0m\u001b[0;34m\u001b[0m\u001b[0m\n\u001b[0m\u001b[1;32m     74\u001b[0m             \u001b[0;32mreturn\u001b[0m \u001b[0msock\u001b[0m\u001b[0;34m\u001b[0m\u001b[0m\n\u001b[1;32m     75\u001b[0m \u001b[0;34m\u001b[0m\u001b[0m\n",
      "\u001b[0;31mKeyboardInterrupt\u001b[0m: "
     ]
    }
   ],
   "source": [
    "for id_ in tqdm(to_parse):\n",
    "    got = requests.get(\"https://api.themoviedb.org/3/movie/{}?api_key={}\".format(id_, api_key))\n",
    "    if got.status_code == 200:\n",
    "        id_to_data = json.loads(got.content)"
   ]
  },
  {
   "cell_type": "code",
   "execution_count": 63,
   "metadata": {
    "scrolled": true
   },
   "outputs": [
    {
     "data": {
      "text/plain": [
       "<Response [200]>"
      ]
     },
     "execution_count": 63,
     "metadata": {},
     "output_type": "execute_result"
    }
   ],
   "source": [
    "got"
   ]
  },
  {
   "cell_type": "code",
   "execution_count": 60,
   "metadata": {},
   "outputs": [
    {
     "data": {
      "text/plain": [
       "b'{\"adult\":false,\"backdrop_path\":null,\"belongs_to_collection\":null,\"budget\":0,\"genres\":[{\"id\":16,\"name\":\"Animation\"}],\"homepage\":\"https://www.nfb.ca/film/feather_tale/\",\"id\":492710,\"imdb_id\":null,\"original_language\":\"en\",\"original_title\":\"La basse cour\",\"overview\":\"In this animated short, a woman, taking on her lover\\'s fantasies, adorns herself in her finest feathers and assumes a seductive but demeaning role. Caught up in his own game, the man plays on to the bitter end--a cruel game in which love is stripped of its golden glow, leaving only the naked reality of dependency and desperation.\",\"popularity\":0.0,\"poster_path\":null,\"production_companies\":[{\"name\":\"National Film Board of Canada (NFB)\",\"id\":17027}],\"production_countries\":[{\"iso_3166_1\":\"CA\",\"name\":\"Canada\"}],\"release_date\":\"1992-12-31\",\"revenue\":0,\"runtime\":6,\"spoken_languages\":[{\"iso_639_1\":\"xx\",\"name\":\"No Language\"}],\"status\":\"Released\",\"tagline\":\"\",\"title\":\"A Feather Tale\",\"video\":false,\"vote_average\":0.0,\"vote_count\":0}'"
      ]
     },
     "execution_count": 60,
     "metadata": {},
     "output_type": "execute_result"
    }
   ],
   "source": [
    "got.content"
   ]
  },
  {
   "cell_type": "code",
   "execution_count": 17,
   "metadata": {},
   "outputs": [
    {
     "ename": "AssertionError",
     "evalue": "",
     "output_type": "error",
     "traceback": [
      "\u001b[0;31m---------------------------------------------------------------------------\u001b[0m",
      "\u001b[0;31mAssertionError\u001b[0m                            Traceback (most recent call last)",
      "\u001b[0;32m<ipython-input-17-59acbfbd6eb5>\u001b[0m in \u001b[0;36m<module>\u001b[0;34m()\u001b[0m\n\u001b[0;32m----> 1\u001b[0;31m \u001b[0;32massert\u001b[0m \u001b[0mgot\u001b[0m\u001b[0;34m.\u001b[0m\u001b[0mstatus_code\u001b[0m \u001b[0;34m==\u001b[0m \u001b[0;36m200\u001b[0m\u001b[0;34m\u001b[0m\u001b[0m\n\u001b[0m",
      "\u001b[0;31mAssertionError\u001b[0m: "
     ]
    }
   ],
   "source": [
    "assert got.status_code == 200"
   ]
  },
  {
   "cell_type": "code",
   "execution_count": 10,
   "metadata": {
    "collapsed": true
   },
   "outputs": [],
   "source": [
    "import json"
   ]
  },
  {
   "cell_type": "code",
   "execution_count": 12,
   "metadata": {
    "collapsed": true
   },
   "outputs": [],
   "source": [
    "content = json.loads(got.content)"
   ]
  },
  {
   "cell_type": "code",
   "execution_count": 15,
   "metadata": {},
   "outputs": [
    {
     "data": {
      "text/plain": [
       "{'adult': False,\n",
       " 'backdrop_path': '/zF95knRgouUrBNbUh5oqRI5NIcE.jpg',\n",
       " 'belongs_to_collection': None,\n",
       " 'budget': 0,\n",
       " 'genres': [{'id': 35, 'name': 'Comedy'}, {'id': 10751, 'name': 'Family'}],\n",
       " 'homepage': '',\n",
       " 'id': 778,\n",
       " 'imdb_id': 'tt0046487',\n",
       " 'original_language': 'fr',\n",
       " 'original_title': 'Les vacances de Monsieur Hulot',\n",
       " 'overview': 'Monsieur Hulot, Jacques Tati’s endearing clown, takes a holiday at a seaside resort, where his presence provokes one catastrophe after another. Tati’s masterpiece of gentle slapstick is a series of effortlessly well-choreographed sight gags involving dogs, boats, and firecrackers; it was the first entry in the Hulot series and the film that launched its maker to international stardom.',\n",
       " 'popularity': 3.629595,\n",
       " 'poster_path': '/r4F4tsU0Ajeh9ZYUkWOJSYmioj7.jpg',\n",
       " 'production_companies': [{'id': 478, 'name': 'Cady'},\n",
       "  {'id': 479, 'name': 'Discina'}],\n",
       " 'production_countries': [{'iso_3166_1': 'FR', 'name': 'France'}],\n",
       " 'release_date': '1953-02-26',\n",
       " 'revenue': 0,\n",
       " 'runtime': 87,\n",
       " 'spoken_languages': [{'iso_639_1': 'fr', 'name': 'Français'}],\n",
       " 'status': 'Released',\n",
       " 'tagline': \"It's laugh-vacation time as Jacques Tati romps through the most gloriously mad lark ever to tickle the ribs of young and old alike!\",\n",
       " 'title': \"Monsieur  Hulot's Holiday\",\n",
       " 'video': False,\n",
       " 'vote_average': 7.3,\n",
       " 'vote_count': 83}"
      ]
     },
     "execution_count": 15,
     "metadata": {},
     "output_type": "execute_result"
    }
   ],
   "source": [
    "content"
   ]
  },
  {
   "cell_type": "code",
   "execution_count": 13,
   "metadata": {
    "collapsed": true
   },
   "outputs": [],
   "source": [
    "overview = content['overview']"
   ]
  },
  {
   "cell_type": "code",
   "execution_count": 14,
   "metadata": {},
   "outputs": [
    {
     "name": "stdout",
     "output_type": "stream",
     "text": [
      "Monsieur Hulot, Jacques Tati’s endearing clown, takes a holiday at a seaside resort, where his presence provokes one catastrophe after another. Tati’s masterpiece of gentle slapstick is a series of effortlessly well-choreographed sight gags involving dogs, boats, and firecrackers; it was the first entry in the Hulot series and the film that launched its maker to international stardom.\n"
     ]
    }
   ],
   "source": [
    "print(overview)"
   ]
  },
  {
   "cell_type": "code",
   "execution_count": null,
   "metadata": {
    "collapsed": true
   },
   "outputs": [],
   "source": []
  },
  {
   "cell_type": "code",
   "execution_count": 43,
   "metadata": {
    "collapsed": true
   },
   "outputs": [],
   "source": [
    "with open(\"ska4l_keno2.txt\", 'r') as f:\n",
    "    filmi = f.read().splitlines()"
   ]
  },
  {
   "cell_type": "code",
   "execution_count": 44,
   "metadata": {},
   "outputs": [
    {
     "data": {
      "text/plain": [
       "2984"
      ]
     },
     "execution_count": 44,
     "metadata": {},
     "output_type": "execute_result"
    }
   ],
   "source": [
    "len(filmi)"
   ]
  },
  {
   "cell_type": "code",
   "execution_count": 46,
   "metadata": {},
   "outputs": [
    {
     "data": {
      "text/plain": [
       "'44160~~~~{\"adult\": false, \"backdrop_path\": \"/3qWqRnLA6EFSetqJO0gWfKXTIqk.jpg\", \"belongs_to_collection\": null, \"budget\": 0, \"genres\": [{\"id\": 18, \"name\": \"Drama\"}], \"homepage\": \"\", \"id\": 44160, \"imdb_id\": \"tt1571724\", \"original_language\": \"en\", \"original_title\": \"Bal\", \"overview\": \"In the remote and undeveloped eastern Black Sea region, a six-year-old boy (Yusuf) wanders through the woods searching for his lost father, trying to make sense of his life.His father is a beekeeper whose bees have disappeared unexpectedly, threatening his livelihood. A bizarre accident kills the father.There is little dialogue or music in the film. The three main characters (Yusuf and his parents) are all fairly taciturn, and the soundtrack is filled out with the sounds of the forest and the creatures that live there.The environment is a recurring theme.\", \"popularity\": 1.796402, \"poster_path\": \"/6RzMinSthKwZUNrMFzNM6wN8TXa.jpg\", \"production_companies\": [{\"name\": \"Filmstiftung Nordrhein-Westfalen\", \"id\": 315}, {\"name\": \"Eurimages\", \"id\": 850}, {\"name\": \"MEDIA Programme of the European Union\", \"id\": 851}, {\"name\": \"ZDF/Arte\", \"id\": 11237}, {\"name\": \"Heimatfilm\", \"id\": 23406}, {\"name\": \"Kaplan Film\", \"id\": 74992}], \"production_countries\": [{\"iso_3166_1\": \"FR\", \"name\": \"France\"}, {\"iso_3166_1\": \"DE\", \"name\": \"Germany\"}, {\"iso_3166_1\": \"TR\", \"name\": \"Turkey\"}], \"release_date\": \"2010-04-09\", \"revenue\": 0, \"runtime\": 103, \"spoken_languages\": [{\"iso_639_1\": \"tr\", \"name\": \"T\\\\u00fcrk\\\\u00e7e\"}], \"status\": \"Released\", \"tagline\": \"\", \"title\": \"Honey\", \"video\": false, \"vote_average\": 7.0, \"vote_count\": 28}'"
      ]
     },
     "execution_count": 46,
     "metadata": {},
     "output_type": "execute_result"
    }
   ],
   "source": [
    "filmi[100]"
   ]
  },
  {
   "cell_type": "code",
   "execution_count": null,
   "metadata": {
    "collapsed": true
   },
   "outputs": [],
   "source": []
  },
  {
   "cell_type": "code",
   "execution_count": null,
   "metadata": {
    "collapsed": true
   },
   "outputs": [],
   "source": []
  },
  {
   "cell_type": "code",
   "execution_count": null,
   "metadata": {
    "collapsed": true
   },
   "outputs": [],
   "source": []
  },
  {
   "cell_type": "markdown",
   "metadata": {},
   "source": [
    "## Part 2 \n",
    "Извлеките текстовые признаки у фильмов: tf idf, биграммы (может какие-то еще). Биграммы - статистика по биграммам, сколько какая биграмма встречается. Формулы для TF-IDF смотреть тут: https://en.wikipedia.org/wiki/Tf%E2%80%93idf \n",
    "    1. Используйте TF с double 0.5 normalization\n",
    "    2. Используйте стандартный IDF: \n",
    "$$idf(t, D) = \\frac{log N}{(1 + |d in D : t in d|)}$$"
   ]
  },
  {
   "cell_type": "code",
   "execution_count": 48,
   "metadata": {
    "collapsed": true
   },
   "outputs": [],
   "source": [
    "from collections import defaultdict, Counter"
   ]
  },
  {
   "cell_type": "code",
   "execution_count": 49,
   "metadata": {
    "collapsed": true
   },
   "outputs": [],
   "source": [
    "import pandas as pd"
   ]
  },
  {
   "cell_type": "code",
   "execution_count": 52,
   "metadata": {},
   "outputs": [
    {
     "name": "stderr",
     "output_type": "stream",
     "text": [
      "/usr/local/lib/python3.6/site-packages/ipykernel_launcher.py:1: ParserWarning: Falling back to the 'python' engine because the 'c' engine does not support regex separators (separators > 1 char and different from '\\s+' are interpreted as regex); you can avoid this warning by specifying engine='python'.\n",
      "  \"\"\"Entry point for launching an IPython kernel.\n"
     ]
    }
   ],
   "source": [
    "filmeci = pd.read_csv(\"ska4l_keno2.txt\", sep='~~~~', header=None)"
   ]
  },
  {
   "cell_type": "code",
   "execution_count": 54,
   "metadata": {},
   "outputs": [
    {
     "data": {
      "text/html": [
       "<div>\n",
       "<style>\n",
       "    .dataframe thead tr:only-child th {\n",
       "        text-align: right;\n",
       "    }\n",
       "\n",
       "    .dataframe thead th {\n",
       "        text-align: left;\n",
       "    }\n",
       "\n",
       "    .dataframe tbody tr th {\n",
       "        vertical-align: top;\n",
       "    }\n",
       "</style>\n",
       "<table border=\"1\" class=\"dataframe\">\n",
       "  <thead>\n",
       "    <tr style=\"text-align: right;\">\n",
       "      <th></th>\n",
       "      <th>0</th>\n",
       "      <th>1</th>\n",
       "    </tr>\n",
       "  </thead>\n",
       "  <tbody>\n",
       "    <tr>\n",
       "      <th>0</th>\n",
       "      <td>26805</td>\n",
       "      <td>{\"adult\": false, \"backdrop_path\": \"/dv4Tq2iX4X...</td>\n",
       "    </tr>\n",
       "    <tr>\n",
       "      <th>1</th>\n",
       "      <td>76171</td>\n",
       "      <td>{\"adult\": false, \"backdrop_path\": \"/vhJtiLp7fD...</td>\n",
       "    </tr>\n",
       "    <tr>\n",
       "      <th>2</th>\n",
       "      <td>288886</td>\n",
       "      <td>{\"adult\": false, \"backdrop_path\": null, \"belon...</td>\n",
       "    </tr>\n",
       "    <tr>\n",
       "      <th>3</th>\n",
       "      <td>425852</td>\n",
       "      <td>{\"adult\": false, \"backdrop_path\": null, \"belon...</td>\n",
       "    </tr>\n",
       "    <tr>\n",
       "      <th>4</th>\n",
       "      <td>199784</td>\n",
       "      <td>{\"adult\": false, \"backdrop_path\": null, \"belon...</td>\n",
       "    </tr>\n",
       "  </tbody>\n",
       "</table>\n",
       "</div>"
      ],
      "text/plain": [
       "        0                                                  1\n",
       "0   26805  {\"adult\": false, \"backdrop_path\": \"/dv4Tq2iX4X...\n",
       "1   76171  {\"adult\": false, \"backdrop_path\": \"/vhJtiLp7fD...\n",
       "2  288886  {\"adult\": false, \"backdrop_path\": null, \"belon...\n",
       "3  425852  {\"adult\": false, \"backdrop_path\": null, \"belon...\n",
       "4  199784  {\"adult\": false, \"backdrop_path\": null, \"belon..."
      ]
     },
     "execution_count": 54,
     "metadata": {},
     "output_type": "execute_result"
    }
   ],
   "source": [
    "filmeci.head()"
   ]
  },
  {
   "cell_type": "code",
   "execution_count": 116,
   "metadata": {
    "collapsed": true
   },
   "outputs": [],
   "source": [
    "movie_to_description_as_str = {id_: json.loads(json_)['overview'].lower() for id_, json_ in filmeci.values}"
   ]
  },
  {
   "cell_type": "code",
   "execution_count": 103,
   "metadata": {},
   "outputs": [],
   "source": [
    "movie_to_description = {id_: re.split('[!\"#$%&\\'()*+,-./:;<=>?@[\\\\]^_`{|}~\\s]', json.loads(json_)['overview'].lower()) for id_, json_ in filmeci.values}"
   ]
  },
  {
   "cell_type": "code",
   "execution_count": 119,
   "metadata": {
    "collapsed": true
   },
   "outputs": [],
   "source": [
    "movie_itemiki_as_str = list(movie_to_description_as_str.items())"
   ]
  },
  {
   "cell_type": "code",
   "execution_count": 123,
   "metadata": {},
   "outputs": [],
   "source": [
    "movie_itemiki = list(movie_to_description.items())"
   ]
  },
  {
   "cell_type": "code",
   "execution_count": 127,
   "metadata": {
    "collapsed": true
   },
   "outputs": [],
   "source": [
    "from tqdm import tqdm"
   ]
  },
  {
   "cell_type": "code",
   "execution_count": 129,
   "metadata": {},
   "outputs": [
    {
     "name": "stderr",
     "output_type": "stream",
     "text": [
      "100%|██████████| 2984/2984 [00:00<00:00, 15399.46it/s]\n"
     ]
    }
   ],
   "source": [
    "tfs = defaultdict(lambda: defaultdict(float))\n",
    "dfs = defaultdict(int)\n",
    "for id_, text in tqdm(movie_itemiki):\n",
    "    different_words = set()\n",
    "    terms_freqs = defaultdict(int)\n",
    "    for word in text:\n",
    "        terms_freqs[word] += 1\n",
    "        different_words.add(word)\n",
    "    for word in different_words:\n",
    "        dfs[word] += 1\n",
    "    \n",
    "#     dfs[id_] = {cur_:1 for cur_ in different_words}\n",
    "    max_tf = max(terms_freqs.values())\n",
    "    terms_freqs = {term_: 0.5 + 0.5 * (cur_tf / max_tf) for term_, cur_tf in terms_freqs.items()}\n",
    "    tfs[id_] = terms_freqs"
   ]
  },
  {
   "cell_type": "code",
   "execution_count": 120,
   "metadata": {},
   "outputs": [],
   "source": [
    "bigrams = CountVectorizer(ngram_range=(2,2)).fit_transform(map(lambda elem: elem[1], movie_itemiki_as_str))"
   ]
  },
  {
   "cell_type": "markdown",
   "metadata": {},
   "source": [
    "${\\displaystyle 0.5+0.5\\cdot {\\frac {f_{t,d}}{\\max _{\\{t'\\in d\\}}{f_{t',d}}}}}$"
   ]
  },
  {
   "cell_type": "markdown",
   "metadata": {},
   "source": [
    "$idf(t, D) = log (N / (1 + |d \\in D : t \\in d|)) = log (n_d / (1 + df(d, t))$"
   ]
  },
  {
   "cell_type": "code",
   "execution_count": 130,
   "metadata": {},
   "outputs": [
    {
     "name": "stderr",
     "output_type": "stream",
     "text": [
      "100%|██████████| 18765/18765 [00:00<00:00, 377762.76it/s]\n"
     ]
    }
   ],
   "source": [
    "idfs = defaultdict(float)\n",
    "for term_, doc_freq in tqdm(dfs.items()):\n",
    "    idfs[term_] = np.log(len(movie_itemiki) / (1. + doc_freq))"
   ]
  },
  {
   "cell_type": "code",
   "execution_count": 131,
   "metadata": {
    "collapsed": true
   },
   "outputs": [],
   "source": [
    "sorted_vocab = sorted(list(dfs.keys()))"
   ]
  },
  {
   "cell_type": "code",
   "execution_count": 134,
   "metadata": {},
   "outputs": [],
   "source": [
    "word_to_ind = {word_:ind for ind,word_ in enumerate(sorted_vocab)}"
   ]
  },
  {
   "cell_type": "code",
   "execution_count": 135,
   "metadata": {},
   "outputs": [
    {
     "data": {
      "text/plain": [
       "<2984x82513 sparse matrix of type '<class 'numpy.int64'>'\n",
       "\twith 121172 stored elements in Compressed Sparse Row format>"
      ]
     },
     "execution_count": 135,
     "metadata": {},
     "output_type": "execute_result"
    }
   ],
   "source": [
    "bigrams"
   ]
  },
  {
   "cell_type": "code",
   "execution_count": 136,
   "metadata": {
    "collapsed": true
   },
   "outputs": [],
   "source": [
    "from scipy.sparse import csr_matrix, hstack"
   ]
  },
  {
   "cell_type": "code",
   "execution_count": 138,
   "metadata": {
    "collapsed": true
   },
   "outputs": [
    {
     "data": {
      "text/plain": [
       "(26805,\n",
       " ['',\n",
       "  'night',\n",
       "  'editor',\n",
       "  '',\n",
       "  'was',\n",
       "  'based',\n",
       "  'on',\n",
       "  'the',\n",
       "  'already',\n",
       "  'existing',\n",
       "  'radio',\n",
       "  'program',\n",
       "  'in',\n",
       "  'which',\n",
       "  'a',\n",
       "  'newspaper',\n",
       "  'editor',\n",
       "  'would',\n",
       "  'recount',\n",
       "  'the',\n",
       "  '',\n",
       "  'inside',\n",
       "  'story',\n",
       "  '',\n",
       "  'of',\n",
       "  'some',\n",
       "  'bit',\n",
       "  'newspaper',\n",
       "  'story',\n",
       "  '',\n",
       "  'and',\n",
       "  'later',\n",
       "  'became',\n",
       "  'a',\n",
       "  'television',\n",
       "  'series',\n",
       "  ''])"
      ]
     },
     "execution_count": 138,
     "metadata": {},
     "output_type": "execute_result"
    }
   ],
   "source": [
    "movie_itemiki[0]"
   ]
  },
  {
   "cell_type": "code",
   "execution_count": 139,
   "metadata": {},
   "outputs": [
    {
     "name": "stderr",
     "output_type": "stream",
     "text": [
      "100%|██████████| 2984/2984 [00:00<00:00, 7355.57it/s]\n"
     ]
    }
   ],
   "source": [
    "tfidfs = []\n",
    "for doc_id, _ in tqdm(movie_itemiki):\n",
    "    cur_tfidf = np.zeros(len(sorted_vocab))\n",
    "    cur_tf = tfs[doc_id]\n",
    "    for word_, freq in cur_tf.items():\n",
    "        cur_tfidf[word_to_ind[word_]] = freq * idfs[word_]\n",
    "    tfidfs.append(cur_tfidf)\n",
    "tfidfs = csr_matrix(tfidfs)"
   ]
  },
  {
   "cell_type": "code",
   "execution_count": 140,
   "metadata": {},
   "outputs": [
    {
     "data": {
      "text/plain": [
       "<2984x18765 sparse matrix of type '<class 'numpy.float64'>'\n",
       "\twith 105824 stored elements in Compressed Sparse Row format>"
      ]
     },
     "execution_count": 140,
     "metadata": {},
     "output_type": "execute_result"
    }
   ],
   "source": [
    "tfidfs"
   ]
  },
  {
   "cell_type": "code",
   "execution_count": 141,
   "metadata": {
    "scrolled": false
   },
   "outputs": [
    {
     "data": {
      "text/plain": [
       "<2984x82513 sparse matrix of type '<class 'numpy.int64'>'\n",
       "\twith 121172 stored elements in Compressed Sparse Row format>"
      ]
     },
     "execution_count": 141,
     "metadata": {},
     "output_type": "execute_result"
    }
   ],
   "source": [
    "bigrams"
   ]
  },
  {
   "cell_type": "code",
   "execution_count": 142,
   "metadata": {
    "collapsed": true
   },
   "outputs": [],
   "source": [
    "fenal_matricca = hstack((tfidfs, bigrams))"
   ]
  },
  {
   "cell_type": "code",
   "execution_count": 143,
   "metadata": {},
   "outputs": [
    {
     "data": {
      "text/plain": [
       "<2984x101278 sparse matrix of type '<class 'numpy.float64'>'\n",
       "\twith 226996 stored elements in COOrdinate format>"
      ]
     },
     "execution_count": 143,
     "metadata": {},
     "output_type": "execute_result"
    }
   ],
   "source": [
    "fenal_matricca"
   ]
  },
  {
   "cell_type": "code",
   "execution_count": 144,
   "metadata": {
    "collapsed": true
   },
   "outputs": [],
   "source": [
    "from scipy.spatial.distance import cosine"
   ]
  },
  {
   "cell_type": "markdown",
   "metadata": {},
   "source": [
    "## Part 3 \n",
    "Выведите подсчитанные признаки из пункта 2 для фильма с id 26805."
   ]
  },
  {
   "cell_type": "code",
   "execution_count": 149,
   "metadata": {},
   "outputs": [
    {
     "data": {
      "text/plain": [
       "True"
      ]
     },
     "execution_count": 149,
     "metadata": {},
     "output_type": "execute_result"
    }
   ],
   "source": [
    "26805 in movie_to_description"
   ]
  },
  {
   "cell_type": "code",
   "execution_count": 150,
   "metadata": {
    "collapsed": true
   },
   "outputs": [],
   "source": [
    "row_to_ind = {row:ind for ind,(row, _) in enumerate(movie_itemiki)}"
   ]
  },
  {
   "cell_type": "code",
   "execution_count": 151,
   "metadata": {},
   "outputs": [
    {
     "data": {
      "text/plain": [
       "0"
      ]
     },
     "execution_count": 151,
     "metadata": {},
     "output_type": "execute_result"
    }
   ],
   "source": [
    "row_to_ind[26805]"
   ]
  },
  {
   "cell_type": "code",
   "execution_count": 154,
   "metadata": {},
   "outputs": [],
   "source": [
    "fi4i_26805 = fenal_matricca.getrow(0)"
   ]
  },
  {
   "cell_type": "code",
   "execution_count": 156,
   "metadata": {},
   "outputs": [
    {
     "data": {
      "text/plain": [
       "<1x101278 sparse matrix of type '<class 'numpy.float64'>'\n",
       "\twith 55 stored elements in Compressed Sparse Row format>"
      ]
     },
     "execution_count": 156,
     "metadata": {},
     "output_type": "execute_result"
    }
   ],
   "source": [
    "fi4i_26805"
   ]
  },
  {
   "cell_type": "code",
   "execution_count": 158,
   "metadata": {},
   "outputs": [
    {
     "data": {
      "text/plain": [
       "matrix([[ 0.02236623,  0.        ,  0.        , ...,  0.        ,\n",
       "          0.        ,  0.        ]])"
      ]
     },
     "execution_count": 158,
     "metadata": {},
     "output_type": "execute_result"
    }
   ],
   "source": [
    "fi4i_26805.todense()"
   ]
  },
  {
   "cell_type": "markdown",
   "metadata": {},
   "source": [
    "## Part 4\n",
    "Для каждого пользователя найдите топ жанров, которые нравятся пользователю (можно делать как на семинаре top 5, top 3 и top 2) и порекомендуйте таким пользователя фильмы близкие по текстовому описанию (см. пункт 2). Для оценки результатов пункта 3 используйте метрику HitRate и метрики ранжирования (N)DCG. Формулу для подсчета HitRate можно взять на семинаре,  (N)DCG: https://en.wikipedia.org/wiki/Discounted_cumulative_gain\n",
    "\n"
   ]
  },
  {
   "cell_type": "code",
   "execution_count": 169,
   "metadata": {
    "collapsed": true
   },
   "outputs": [],
   "source": [
    "def dcg_at_k(r, k, method=0):\n",
    "    \"\"\"Score is discounted cumulative gain (dcg)\n",
    "    Relevance is positive real values.  Can use binary\n",
    "    as the previous methods.\n",
    "    Example from\n",
    "    http://www.stanford.edu/class/cs276/handouts/EvaluationNew-handout-6-per.pdf\n",
    "    >>> r = [3, 2, 3, 0, 0, 1, 2, 2, 3, 0]\n",
    "    >>> dcg_at_k(r, 1)\n",
    "    3.0\n",
    "    >>> dcg_at_k(r, 1, method=1)\n",
    "    3.0\n",
    "    >>> dcg_at_k(r, 2)\n",
    "    5.0\n",
    "    >>> dcg_at_k(r, 2, method=1)\n",
    "    4.2618595071429155\n",
    "    >>> dcg_at_k(r, 10)\n",
    "    9.6051177391888114\n",
    "    >>> dcg_at_k(r, 11)\n",
    "    9.6051177391888114\n",
    "    Args:\n",
    "        r: Relevance scores (list or numpy) in rank order\n",
    "            (first element is the first item)\n",
    "        k: Number of results to consider\n",
    "        method: If 0 then weights are [1.0, 1.0, 0.6309, 0.5, 0.4307, ...]\n",
    "                If 1 then weights are [1.0, 0.6309, 0.5, 0.4307, ...]\n",
    "    Returns:\n",
    "        Discounted cumulative gain\n",
    "    \"\"\"\n",
    "    r = np.asfarray(r)[:k]\n",
    "    if r.size:\n",
    "        if method == 0:\n",
    "            return r[0] + np.sum(r[1:] / np.log2(np.arange(2, r.size + 1)))\n",
    "        elif method == 1:\n",
    "            return np.sum(r / np.log2(np.arange(2, r.size + 2)))\n",
    "        else:\n",
    "            raise ValueError('method must be 0 or 1.')\n",
    "    return 0.\n",
    "\n",
    "\n",
    "def ndcg_at_k(r, k, method=0):\n",
    "    \"\"\"Score is normalized discounted cumulative gain (ndcg)\n",
    "    Relevance is positive real values.  Can use binary\n",
    "    as the previous methods.\n",
    "    Example from\n",
    "    http://www.stanford.edu/class/cs276/handouts/EvaluationNew-handout-6-per.pdf\n",
    "    >>> r = [3, 2, 3, 0, 0, 1, 2, 2, 3, 0]\n",
    "    >>> ndcg_at_k(r, 1)\n",
    "    1.0\n",
    "    >>> r = [2, 1, 2, 0]\n",
    "    >>> ndcg_at_k(r, 4)\n",
    "    0.9203032077642922\n",
    "    >>> ndcg_at_k(r, 4, method=1)\n",
    "    0.96519546960144276\n",
    "    >>> ndcg_at_k([0], 1)\n",
    "    0.0\n",
    "    >>> ndcg_at_k([1], 2)\n",
    "    1.0\n",
    "    Args:\n",
    "        r: Relevance scores (list or numpy) in rank order\n",
    "            (first element is the first item)\n",
    "        k: Number of results to consider\n",
    "        method: If 0 then weights are [1.0, 1.0, 0.6309, 0.5, 0.4307, ...]\n",
    "                If 1 then weights are [1.0, 0.6309, 0.5, 0.4307, ...]\n",
    "    Returns:\n",
    "        Normalized discounted cumulative gain\n",
    "    \"\"\"\n",
    "    dcg_max = dcg_at_k(sorted(r, reverse=True), k, method)\n",
    "    if not dcg_max:\n",
    "        return 0.\n",
    "    return dcg_at_k(r, k, method) / dcg_max\n"
   ]
  },
  {
   "cell_type": "code",
   "execution_count": 159,
   "metadata": {
    "collapsed": true
   },
   "outputs": [],
   "source": [
    "from sklearn.metrics.pairwise import cosine_similarity"
   ]
  },
  {
   "cell_type": "code",
   "execution_count": 160,
   "metadata": {
    "collapsed": true
   },
   "outputs": [],
   "source": [
    "cs = cosine_similarity(fenal_matricca)"
   ]
  },
  {
   "cell_type": "code",
   "execution_count": 162,
   "metadata": {},
   "outputs": [
    {
     "data": {
      "text/plain": [
       "(2984, 2984)"
      ]
     },
     "execution_count": 162,
     "metadata": {},
     "output_type": "execute_result"
    }
   ],
   "source": [
    "cs.shape"
   ]
  },
  {
   "cell_type": "code",
   "execution_count": 170,
   "metadata": {
    "collapsed": true
   },
   "outputs": [],
   "source": [
    "df_ratingi = pd.read_csv(\"ml-20m/ratings.csv\")"
   ]
  },
  {
   "cell_type": "code",
   "execution_count": 164,
   "metadata": {
    "collapsed": true
   },
   "outputs": [],
   "source": [
    "df_movies = pd.read_csv(\"ml-20m/movies.csv\")"
   ]
  },
  {
   "cell_type": "code",
   "execution_count": 165,
   "metadata": {},
   "outputs": [
    {
     "data": {
      "text/html": [
       "<div>\n",
       "<style>\n",
       "    .dataframe thead tr:only-child th {\n",
       "        text-align: right;\n",
       "    }\n",
       "\n",
       "    .dataframe thead th {\n",
       "        text-align: left;\n",
       "    }\n",
       "\n",
       "    .dataframe tbody tr th {\n",
       "        vertical-align: top;\n",
       "    }\n",
       "</style>\n",
       "<table border=\"1\" class=\"dataframe\">\n",
       "  <thead>\n",
       "    <tr style=\"text-align: right;\">\n",
       "      <th></th>\n",
       "      <th>movieId</th>\n",
       "      <th>title</th>\n",
       "      <th>genres</th>\n",
       "    </tr>\n",
       "  </thead>\n",
       "  <tbody>\n",
       "    <tr>\n",
       "      <th>0</th>\n",
       "      <td>1</td>\n",
       "      <td>Toy Story (1995)</td>\n",
       "      <td>Adventure|Animation|Children|Comedy|Fantasy</td>\n",
       "    </tr>\n",
       "    <tr>\n",
       "      <th>1</th>\n",
       "      <td>2</td>\n",
       "      <td>Jumanji (1995)</td>\n",
       "      <td>Adventure|Children|Fantasy</td>\n",
       "    </tr>\n",
       "    <tr>\n",
       "      <th>2</th>\n",
       "      <td>3</td>\n",
       "      <td>Grumpier Old Men (1995)</td>\n",
       "      <td>Comedy|Romance</td>\n",
       "    </tr>\n",
       "    <tr>\n",
       "      <th>3</th>\n",
       "      <td>4</td>\n",
       "      <td>Waiting to Exhale (1995)</td>\n",
       "      <td>Comedy|Drama|Romance</td>\n",
       "    </tr>\n",
       "    <tr>\n",
       "      <th>4</th>\n",
       "      <td>5</td>\n",
       "      <td>Father of the Bride Part II (1995)</td>\n",
       "      <td>Comedy</td>\n",
       "    </tr>\n",
       "  </tbody>\n",
       "</table>\n",
       "</div>"
      ],
      "text/plain": [
       "   movieId                               title  \\\n",
       "0        1                    Toy Story (1995)   \n",
       "1        2                      Jumanji (1995)   \n",
       "2        3             Grumpier Old Men (1995)   \n",
       "3        4            Waiting to Exhale (1995)   \n",
       "4        5  Father of the Bride Part II (1995)   \n",
       "\n",
       "                                        genres  \n",
       "0  Adventure|Animation|Children|Comedy|Fantasy  \n",
       "1                   Adventure|Children|Fantasy  \n",
       "2                               Comedy|Romance  \n",
       "3                         Comedy|Drama|Romance  \n",
       "4                                       Comedy  "
      ]
     },
     "execution_count": 165,
     "metadata": {},
     "output_type": "execute_result"
    }
   ],
   "source": [
    "df_movies.head()"
   ]
  },
  {
   "cell_type": "code",
   "execution_count": 166,
   "metadata": {
    "collapsed": true
   },
   "outputs": [],
   "source": [
    "df_links = pd.read_csv(\"ml-20m/links.csv\")\n",
    "df_movies_joined = pd.merge(df_movies, df_links, on=\"movieId\")"
   ]
  },
  {
   "cell_type": "code",
   "execution_count": 168,
   "metadata": {},
   "outputs": [
    {
     "data": {
      "text/html": [
       "<div>\n",
       "<style>\n",
       "    .dataframe thead tr:only-child th {\n",
       "        text-align: right;\n",
       "    }\n",
       "\n",
       "    .dataframe thead th {\n",
       "        text-align: left;\n",
       "    }\n",
       "\n",
       "    .dataframe tbody tr th {\n",
       "        vertical-align: top;\n",
       "    }\n",
       "</style>\n",
       "<table border=\"1\" class=\"dataframe\">\n",
       "  <thead>\n",
       "    <tr style=\"text-align: right;\">\n",
       "      <th></th>\n",
       "      <th>movieId</th>\n",
       "      <th>title</th>\n",
       "      <th>genres</th>\n",
       "      <th>imdbId</th>\n",
       "      <th>tmdbId</th>\n",
       "    </tr>\n",
       "  </thead>\n",
       "  <tbody>\n",
       "    <tr>\n",
       "      <th>0</th>\n",
       "      <td>1</td>\n",
       "      <td>Toy Story (1995)</td>\n",
       "      <td>Adventure|Animation|Children|Comedy|Fantasy</td>\n",
       "      <td>114709</td>\n",
       "      <td>862.0</td>\n",
       "    </tr>\n",
       "    <tr>\n",
       "      <th>1</th>\n",
       "      <td>2</td>\n",
       "      <td>Jumanji (1995)</td>\n",
       "      <td>Adventure|Children|Fantasy</td>\n",
       "      <td>113497</td>\n",
       "      <td>8844.0</td>\n",
       "    </tr>\n",
       "    <tr>\n",
       "      <th>2</th>\n",
       "      <td>3</td>\n",
       "      <td>Grumpier Old Men (1995)</td>\n",
       "      <td>Comedy|Romance</td>\n",
       "      <td>113228</td>\n",
       "      <td>15602.0</td>\n",
       "    </tr>\n",
       "    <tr>\n",
       "      <th>3</th>\n",
       "      <td>4</td>\n",
       "      <td>Waiting to Exhale (1995)</td>\n",
       "      <td>Comedy|Drama|Romance</td>\n",
       "      <td>114885</td>\n",
       "      <td>31357.0</td>\n",
       "    </tr>\n",
       "    <tr>\n",
       "      <th>4</th>\n",
       "      <td>5</td>\n",
       "      <td>Father of the Bride Part II (1995)</td>\n",
       "      <td>Comedy</td>\n",
       "      <td>113041</td>\n",
       "      <td>11862.0</td>\n",
       "    </tr>\n",
       "  </tbody>\n",
       "</table>\n",
       "</div>"
      ],
      "text/plain": [
       "   movieId                               title  \\\n",
       "0        1                    Toy Story (1995)   \n",
       "1        2                      Jumanji (1995)   \n",
       "2        3             Grumpier Old Men (1995)   \n",
       "3        4            Waiting to Exhale (1995)   \n",
       "4        5  Father of the Bride Part II (1995)   \n",
       "\n",
       "                                        genres  imdbId   tmdbId  \n",
       "0  Adventure|Animation|Children|Comedy|Fantasy  114709    862.0  \n",
       "1                   Adventure|Children|Fantasy  113497   8844.0  \n",
       "2                               Comedy|Romance  113228  15602.0  \n",
       "3                         Comedy|Drama|Romance  114885  31357.0  \n",
       "4                                       Comedy  113041  11862.0  "
      ]
     },
     "execution_count": 168,
     "metadata": {},
     "output_type": "execute_result"
    }
   ],
   "source": [
    "df_movies_joined.head()"
   ]
  },
  {
   "cell_type": "code",
   "execution_count": 171,
   "metadata": {},
   "outputs": [
    {
     "data": {
      "text/html": [
       "<div>\n",
       "<style>\n",
       "    .dataframe thead tr:only-child th {\n",
       "        text-align: right;\n",
       "    }\n",
       "\n",
       "    .dataframe thead th {\n",
       "        text-align: left;\n",
       "    }\n",
       "\n",
       "    .dataframe tbody tr th {\n",
       "        vertical-align: top;\n",
       "    }\n",
       "</style>\n",
       "<table border=\"1\" class=\"dataframe\">\n",
       "  <thead>\n",
       "    <tr style=\"text-align: right;\">\n",
       "      <th></th>\n",
       "      <th>userId</th>\n",
       "      <th>movieId</th>\n",
       "      <th>rating</th>\n",
       "      <th>timestamp</th>\n",
       "    </tr>\n",
       "  </thead>\n",
       "  <tbody>\n",
       "    <tr>\n",
       "      <th>0</th>\n",
       "      <td>1</td>\n",
       "      <td>2</td>\n",
       "      <td>3.5</td>\n",
       "      <td>1112486027</td>\n",
       "    </tr>\n",
       "    <tr>\n",
       "      <th>1</th>\n",
       "      <td>1</td>\n",
       "      <td>29</td>\n",
       "      <td>3.5</td>\n",
       "      <td>1112484676</td>\n",
       "    </tr>\n",
       "    <tr>\n",
       "      <th>2</th>\n",
       "      <td>1</td>\n",
       "      <td>32</td>\n",
       "      <td>3.5</td>\n",
       "      <td>1112484819</td>\n",
       "    </tr>\n",
       "    <tr>\n",
       "      <th>3</th>\n",
       "      <td>1</td>\n",
       "      <td>47</td>\n",
       "      <td>3.5</td>\n",
       "      <td>1112484727</td>\n",
       "    </tr>\n",
       "    <tr>\n",
       "      <th>4</th>\n",
       "      <td>1</td>\n",
       "      <td>50</td>\n",
       "      <td>3.5</td>\n",
       "      <td>1112484580</td>\n",
       "    </tr>\n",
       "  </tbody>\n",
       "</table>\n",
       "</div>"
      ],
      "text/plain": [
       "   userId  movieId  rating   timestamp\n",
       "0       1        2     3.5  1112486027\n",
       "1       1       29     3.5  1112484676\n",
       "2       1       32     3.5  1112484819\n",
       "3       1       47     3.5  1112484727\n",
       "4       1       50     3.5  1112484580"
      ]
     },
     "execution_count": 171,
     "metadata": {},
     "output_type": "execute_result"
    }
   ],
   "source": [
    "df_ratingi.head()"
   ]
  },
  {
   "cell_type": "code",
   "execution_count": 173,
   "metadata": {},
   "outputs": [
    {
     "name": "stderr",
     "output_type": "stream",
     "text": [
      "100%|██████████| 20000263/20000263 [00:44<00:00, 447832.57it/s]\n"
     ]
    }
   ],
   "source": [
    "viewed_ids_by_user = defaultdict(set)\n",
    "for uid, oid in tqdm(df_ratingi[['userId', 'movieId']].values):\n",
    "    viewed_ids_by_user[uid].add(oid)"
   ]
  },
  {
   "cell_type": "code",
   "execution_count": 174,
   "metadata": {
    "collapsed": true
   },
   "outputs": [],
   "source": [
    "def run_cv(predictor_class, fold_count=5, top_size=10):\n",
    "    users = list(range(len(df[\"userId\"].unique())))\n",
    "    fold_size = len(users) // fold_count\n",
    "\n",
    "    results = []\n",
    "\n",
    "    for fold_start in range(fold_count):\n",
    "        fold = users[fold_start:fold_start+fold_size]\n",
    "\n",
    "        df[\"random\"] = np.random.random(size=(df.shape[0], 1))\n",
    "        idx = df.sort_values(by=\"random\") \\\n",
    "            .reset_index() \\\n",
    "            .groupby(\"userId\") \\\n",
    "            .last()[\"index\"]\n",
    "\n",
    "        mask = df.index.isin(idx) & df[\"userId\"].isin(fold)\n",
    "        train_df = df[~mask]\n",
    "        test_df = df[mask]\n",
    "\n",
    "        predictor = predictor_class(train_df, test_df)\n",
    "        \n",
    "        sum_ = 0.0\n",
    "        for row in test_df.itertuples():\n",
    "            prediction = predictor.predict(row)\n",
    "            if prediction is None:\n",
    "                continue\n",
    "                \n",
    "            sum_ += float(row.movieId in prediction)\n",
    "\n",
    "        results.append(sum_ / test_df.shape[0])\n",
    "    \n",
    "    return np.mean(results)"
   ]
  },
  {
   "cell_type": "code",
   "execution_count": 178,
   "metadata": {
    "collapsed": true
   },
   "outputs": [],
   "source": [
    "def get_top_k_by_cossim(film_id, cs_matrix, k=5):\n",
    "    return np.argsort(cs_matrix[film_id][1:])[:k]"
   ]
  },
  {
   "cell_type": "code",
   "execution_count": 179,
   "metadata": {
    "collapsed": true
   },
   "outputs": [],
   "source": [
    "nqjw = get_top_k_by_cossim(0, cs)"
   ]
  },
  {
   "cell_type": "code",
   "execution_count": 180,
   "metadata": {},
   "outputs": [
    {
     "data": {
      "text/plain": [
       "array([2888,  406,  372, 1634,  751])"
      ]
     },
     "execution_count": 180,
     "metadata": {},
     "output_type": "execute_result"
    }
   ],
   "source": [
    "nqjw"
   ]
  },
  {
   "cell_type": "markdown",
   "metadata": {},
   "source": [
    "Считать метрику не стал, т.к. у нас в датасете есть рейтинги не для всех пар user, item и при предикте для пользователя объекта, которого нет в базе(он не смотрел) мы не сможем проскорить,"
   ]
  },
  {
   "cell_type": "code",
   "execution_count": null,
   "metadata": {
    "collapsed": true
   },
   "outputs": [],
   "source": []
  }
 ],
 "metadata": {
  "kernelspec": {
   "display_name": "Python 3",
   "language": "python",
   "name": "python3"
  },
  "language_info": {
   "codemirror_mode": {
    "name": "ipython",
    "version": 3
   },
   "file_extension": ".py",
   "mimetype": "text/x-python",
   "name": "python",
   "nbconvert_exporter": "python",
   "pygments_lexer": "ipython3",
   "version": "3.6.3"
  }
 },
 "nbformat": 4,
 "nbformat_minor": 1
}
